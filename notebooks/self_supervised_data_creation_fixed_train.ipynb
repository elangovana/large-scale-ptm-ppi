{
 "cells": [
  {
   "cell_type": "markdown",
   "metadata": {},
   "source": [
    "### Create self supervised dataset"
   ]
  },
  {
   "cell_type": "code",
   "execution_count": 1,
   "metadata": {},
   "outputs": [],
   "source": [
    "import pandas as pd\n",
    "import numpy as np\n",
    "import json\n",
    "import sagemaker,  io\n",
    "import re"
   ]
  },
  {
   "cell_type": "code",
   "execution_count": 2,
   "metadata": {},
   "outputs": [],
   "source": [
    "from datetime import datetime\n",
    "\n",
    "datefmt = datetime.now().strftime(\"%Y%m%d%H%M\")"
   ]
  },
  {
   "cell_type": "code",
   "execution_count": 3,
   "metadata": {},
   "outputs": [],
   "source": [
    "\n",
    "s3_external_sources = [\"s3://aegovan-data/pubmed-json/pubmed19n0908.json\", \n",
    "                      \"s3://aegovan-data/pubmed-json/pubmed19n0907.json\",\n",
    "                      \"s3://aegovan-data/pubmed-json/pubmed19n0906.json\",\n",
    "                      \"s3://aegovan-data/pubmed-json/pubmed19n0905.json\",\n",
    "                      \"s3://aegovan-data/pubmed-json/pubmed19n0904.json\",\n",
    "\n",
    "\n",
    "                      ]"
   ]
  },
  {
   "cell_type": "code",
   "execution_count": 4,
   "metadata": {},
   "outputs": [],
   "source": [
    "def upload_df_to_s3_json(df, s3_uri):\n",
    "#          print(\"Nothing..\")\n",
    "        json_data = io.StringIO() \n",
    "        df.to_json( json_data )\n",
    "        sagemaker.s3.S3Uploader.upload_string_as_file_body(json_data.getvalue(), s3_uri)\n",
    "\n",
    "\n",
    "\n",
    "def download_s3_json_to_df(s3_src):\n",
    "   \n",
    "    json_str = sagemaker.s3.S3Downloader.read_file( s3_src)\n",
    "    b = io.StringIO(json_str) \n",
    "    df = pd.read_json(b)\n",
    "    return df\n",
    "\n"
   ]
  },
  {
   "cell_type": "code",
   "execution_count": 5,
   "metadata": {},
   "outputs": [],
   "source": [
    "keywords1 = [\"activation\", \"trigger\", \"interact\", \"inhibit\", \"regulat\", \"supress\"]\n",
    "\n",
    "keywords2 = [\"gene\", \"protein\", \"chemical\"]\n",
    "\n",
    "\n",
    "def filter_abstract_wordlen(df, low=100, high=250):\n",
    "   \n",
    "\n",
    "    df = df[df[\"abstract\"].apply(lambda x: low <= len(x.split(\" \")) <=high) ].copy()\n",
    "    \n",
    "    \n",
    "    return df\n",
    "\n",
    "\n",
    "def self_label(df):\n",
    "   \n",
    "\n",
    "    df[\"self_label\"] = df[\"abstract\"].apply(lambda x: any([ k.lower() in x.lower() for k in keywords1]) \n",
    "                                        and sum([  k.lower() in x.lower() for k in keywords2])>=2\n",
    "                                     \n",
    "                                       )\n",
    "    \n",
    "    \n",
    "    return df"
   ]
  },
  {
   "cell_type": "code",
   "execution_count": 6,
   "metadata": {},
   "outputs": [
    {
     "data": {
      "text/html": [
       "<div>\n",
       "<style scoped>\n",
       "    .dataframe tbody tr th:only-of-type {\n",
       "        vertical-align: middle;\n",
       "    }\n",
       "\n",
       "    .dataframe tbody tr th {\n",
       "        vertical-align: top;\n",
       "    }\n",
       "\n",
       "    .dataframe thead th {\n",
       "        text-align: right;\n",
       "    }\n",
       "</style>\n",
       "<table border=\"1\" class=\"dataframe\">\n",
       "  <thead>\n",
       "    <tr style=\"text-align: right;\">\n",
       "      <th></th>\n",
       "      <th>abstract</th>\n",
       "      <th>abstract_id</th>\n",
       "      <th>self_label</th>\n",
       "    </tr>\n",
       "  </thead>\n",
       "  <tbody>\n",
       "    <tr>\n",
       "      <th>0</th>\n",
       "      <td>The anticipation of more than one object dimen...</td>\n",
       "      <td>28552592</td>\n",
       "      <td>False</td>\n",
       "    </tr>\n",
       "    <tr>\n",
       "      <th>4</th>\n",
       "      <td>Aconitum karacolicum from northern Kyrgyzstan ...</td>\n",
       "      <td>28552596</td>\n",
       "      <td>False</td>\n",
       "    </tr>\n",
       "    <tr>\n",
       "      <th>5</th>\n",
       "      <td>The present study aimed to investigate the vas...</td>\n",
       "      <td>28552597</td>\n",
       "      <td>False</td>\n",
       "    </tr>\n",
       "    <tr>\n",
       "      <th>6</th>\n",
       "      <td>A set of PEGylated derivatives of oleanolic an...</td>\n",
       "      <td>28552598</td>\n",
       "      <td>False</td>\n",
       "    </tr>\n",
       "    <tr>\n",
       "      <th>7</th>\n",
       "      <td>The Fmr1 knockout (KO) mouse has commonly been...</td>\n",
       "      <td>28552599</td>\n",
       "      <td>False</td>\n",
       "    </tr>\n",
       "  </tbody>\n",
       "</table>\n",
       "</div>"
      ],
      "text/plain": [
       "                                            abstract  abstract_id  self_label\n",
       "0  The anticipation of more than one object dimen...     28552592       False\n",
       "4  Aconitum karacolicum from northern Kyrgyzstan ...     28552596       False\n",
       "5  The present study aimed to investigate the vas...     28552597       False\n",
       "6  A set of PEGylated derivatives of oleanolic an...     28552598       False\n",
       "7  The Fmr1 knockout (KO) mouse has commonly been...     28552599       False"
      ]
     },
     "execution_count": 6,
     "metadata": {},
     "output_type": "execute_result"
    }
   ],
   "source": [
    "df_pubmed = pd.concat([download_s3_json_to_df(s).rename(columns = {\n",
    "    \"article_abstract\" : \"abstract\",\n",
    "    \"pubmed_id\" : \"abstract_id\"\n",
    "}) for s in s3_external_sources])\\\n",
    "    .reset_index(drop=True)[[\"abstract\", \"abstract_id\"]]\n",
    "\n",
    "df_pubmed = df_pubmed.pipe(self_label)\\\n",
    "            .pipe(filter_abstract_wordlen, 100, 250)\n",
    "df_pubmed.head()\n"
   ]
  },
  {
   "cell_type": "code",
   "execution_count": 7,
   "metadata": {},
   "outputs": [
    {
     "data": {
      "text/plain": [
       "False    51985\n",
       "True      3439\n",
       "Name: self_label, dtype: int64"
      ]
     },
     "execution_count": 7,
     "metadata": {},
     "output_type": "execute_result"
    }
   ],
   "source": [
    "df_pubmed[\"self_label\"].value_counts()"
   ]
  },
  {
   "cell_type": "code",
   "execution_count": 8,
   "metadata": {},
   "outputs": [
    {
     "data": {
      "text/html": [
       "<div>\n",
       "<style scoped>\n",
       "    .dataframe tbody tr th:only-of-type {\n",
       "        vertical-align: middle;\n",
       "    }\n",
       "\n",
       "    .dataframe tbody tr th {\n",
       "        vertical-align: top;\n",
       "    }\n",
       "\n",
       "    .dataframe thead th {\n",
       "        text-align: right;\n",
       "    }\n",
       "</style>\n",
       "<table border=\"1\" class=\"dataframe\">\n",
       "  <thead>\n",
       "    <tr style=\"text-align: right;\">\n",
       "      <th></th>\n",
       "      <th>abstract</th>\n",
       "      <th>abstract_id</th>\n",
       "      <th>self_label</th>\n",
       "    </tr>\n",
       "  </thead>\n",
       "  <tbody>\n",
       "    <tr>\n",
       "      <th>0</th>\n",
       "      <td>The anticipation of more than one object dimen...</td>\n",
       "      <td>28552592</td>\n",
       "      <td>False</td>\n",
       "    </tr>\n",
       "    <tr>\n",
       "      <th>4</th>\n",
       "      <td>Aconitum karacolicum from northern Kyrgyzstan ...</td>\n",
       "      <td>28552596</td>\n",
       "      <td>False</td>\n",
       "    </tr>\n",
       "    <tr>\n",
       "      <th>5</th>\n",
       "      <td>The present study aimed to investigate the vas...</td>\n",
       "      <td>28552597</td>\n",
       "      <td>False</td>\n",
       "    </tr>\n",
       "  </tbody>\n",
       "</table>\n",
       "</div>"
      ],
      "text/plain": [
       "                                            abstract  abstract_id  self_label\n",
       "0  The anticipation of more than one object dimen...     28552592       False\n",
       "4  Aconitum karacolicum from northern Kyrgyzstan ...     28552596       False\n",
       "5  The present study aimed to investigate the vas...     28552597       False"
      ]
     },
     "execution_count": 8,
     "metadata": {},
     "output_type": "execute_result"
    }
   ],
   "source": [
    "df_pubmed.head(n=3)"
   ]
  },
  {
   "cell_type": "code",
   "execution_count": 9,
   "metadata": {},
   "outputs": [],
   "source": [
    "def create_sample(df):\n",
    "    b = io.StringIO()\n",
    "    df.sample(n=10).to_json(\"self-supervised-sample.json\")\n",
    "    \n"
   ]
  },
  {
   "cell_type": "code",
   "execution_count": 10,
   "metadata": {},
   "outputs": [
    {
     "data": {
      "text/plain": [
       "False    51985\n",
       "True      3439\n",
       "Name: self_label, dtype: int64"
      ]
     },
     "execution_count": 10,
     "metadata": {},
     "output_type": "execute_result"
    }
   ],
   "source": [
    "df_pubmed.self_label.value_counts()"
   ]
  },
  {
   "cell_type": "code",
   "execution_count": 11,
   "metadata": {},
   "outputs": [],
   "source": [
    "create_sample(df_pubmed)"
   ]
  },
  {
   "cell_type": "code",
   "execution_count": 12,
   "metadata": {},
   "outputs": [],
   "source": [
    "\n",
    "def randomly_substitute_keywords(x):\n",
    "    words = [ w for w in x.split(\" \") if not any(k.lower() in w.lower() for k in keywords1+keywords2)]\n",
    "    \n",
    "    key_i = np.random.choice([0,1])\n",
    "    if key_i == 0:\n",
    "        for k in keywords1:\n",
    "            insensitive = re.compile(re.escape(k), re.IGNORECASE)\n",
    "            w =  np.random.randint(0,len(words)-1)\n",
    "            x = insensitive.sub(words[w], x)\n",
    "    else:\n",
    "        for k in keywords2:\n",
    "            insensitive = re.compile(re.escape(k), re.IGNORECASE)\n",
    "            w =  np.random.randint(0,len(words)-1)\n",
    "            x = insensitive.sub(words[w], x)\n",
    "    return x\n",
    "\n",
    "def randomly_add_keywords(x):\n",
    "    \n",
    "    key_i1 = np.random.randint(0,len(keywords1)-1)\n",
    "    key_i2 = np.random.randint(0,len(keywords2)-1)\n",
    "    \n",
    "    key_1 = keywords1[key_i1]\n",
    "    keys_2 = keywords2[:key_i2] + keywords2[key_i2+1:]\n",
    "        \n",
    "    words = x.split(\" \")\n",
    "    l1 =  np.random.randint(0,len(words)-1)\n",
    "    l2 =  np.random.randint(0,len(words)-1)\n",
    "    l3 =  np.random.randint(0,len(words)-1)\n",
    "    \n",
    "    words.insert(l1, key_1)\n",
    "    words.insert(l2, keys_2[0])\n",
    "    words.insert(l3, keys_2[1])\n",
    "\n",
    "    return \" \".join(words)\n",
    "\n",
    "def randomly_add_words(x):\n",
    "    \n",
    "    words = x.split(\" \")\n",
    "    l1 =  np.random.randint(0,len(words)-1)\n",
    "    l2 =  np.random.randint(0,len(words)-1)\n",
    "    l3 =  np.random.randint(0,len(words)-1)\n",
    "    \n",
    "    w1 = np.random.randint(0,len(words)-1)\n",
    "    words.insert(l1, words[w1])\n",
    "    \n",
    "    w2 = np.random.randint(0,len(words)-1)\n",
    "    words.insert(l2, words[w2])\n",
    "    \n",
    "    w3 = np.random.randint(0,len(words)-1)\n",
    "    words.insert(l3, words[w3])\n",
    "\n",
    "    return \" \".join(words)\n",
    "\n",
    "def synthetize_adverserial_abstract( abstract, label):\n",
    "    if label == True:\n",
    "        return randomly_substitute_keywords(abstract)\n",
    "    else:\n",
    "        return randomly_add_keywords(abstract)\n",
    "\n"
   ]
  },
  {
   "cell_type": "code",
   "execution_count": 13,
   "metadata": {},
   "outputs": [],
   "source": [
    "      \n",
    "\n",
    "def create_adversarial_positive(df, n_times):  \n",
    "    assert df.index.nunique() == len(df), \"Expect unique index\"\n",
    "\n",
    "\n",
    "    df[\"is_fake\"] = False\n",
    "    result = [df]\n",
    "    for i in range(n_times):\n",
    "        df_adverserial_pos_to_neg = df.query(\"self_label == True\").copy()\n",
    "        df_adverserial_pos_to_neg[\"abstract\"] = df_adverserial_pos_to_neg[\"abstract\"].apply(lambda x: synthetize_adverserial_abstract(x, True))\n",
    "        df_adverserial_pos_to_neg[\"is_fake\"] = True\n",
    "        result.append(df_adverserial_pos_to_neg)\n",
    "    \n",
    "    result_df = pd.concat(result).reset_index()\n",
    "    result_df = result_df.drop_duplicates('abstract')\n",
    "    result_df = result_df.pipe(self_label).reset_index()\n",
    "    \n",
    "    \n",
    "    return result_df\n",
    "\n",
    "def create_affable_negatives(df, n_times):  \n",
    "    assert df.index.nunique() == len(df), \"Expect unique index\"\n",
    "\n",
    "\n",
    "    df[\"is_fake\"] = False\n",
    "    result = []\n",
    "    for i in range(n_times):\n",
    "        df_affable_neg = df.query(\"self_label == False\").copy()\n",
    "        df_affable_neg[\"abstract\"] = df_affable_neg[\"abstract\"].apply(lambda x: randomly_add_words(x))\n",
    "        df_affable_neg[\"is_fake\"] = True\n",
    "        result.append(df_affable_neg)\n",
    "    \n",
    "    result_df = pd.concat(result).reset_index()\n",
    "    result_df = result_df.drop_duplicates('abstract')\n",
    "    result_df = result_df.pipe(self_label).reset_index()\n",
    "    result_df = result_df.drop(\"level_0\", axis=1)\n",
    "    \n",
    "    result_df = result_df.pipe(self_label)\n",
    "\n",
    "\n",
    "    return result_df\n",
    "\n",
    "def create_affable_positives(df, n_times):  \n",
    "    assert df.index.nunique() == len(df), \"Expect unique index\"\n",
    "\n",
    "\n",
    "    df[\"is_fake\"] = False\n",
    "    result = []\n",
    "    for i in range(n_times):\n",
    "        df_affable_pos = df.query(\"self_label == True\").copy()\n",
    "        df_affable_pos[\"abstract\"] = df_affable_pos[\"abstract\"].apply(lambda x: randomly_add_words(x))\n",
    "        df_affable_pos[\"is_fake\"] = True\n",
    "        result.append(df_affable_pos)\n",
    "    \n",
    "    result_df = pd.concat(result).reset_index()\n",
    "    result_df = result_df.drop_duplicates('abstract')\n",
    "    result_df = result_df.pipe(self_label).reset_index()\n",
    "    result_df = result_df.drop(\"level_0\", axis=1)\n",
    "    \n",
    "    result_df = result_df.pipe(self_label)\n",
    "    \n",
    "    return result_df"
   ]
  },
  {
   "cell_type": "code",
   "execution_count": 14,
   "metadata": {},
   "outputs": [],
   "source": [
    "def get_stats(df, pos_label):\n",
    "    stats ={}\n",
    "    \n",
    "    # Positive samples\n",
    "    df_positive = df.query(f\"self_label == {pos_label}\")\n",
    "    df_positive_unique = df_positive.drop_duplicates('abstract_id')\n",
    "    stats[\"UniquePositives\"] = len(df_positive_unique)\n",
    "    stats[\"AllPositives\"] = len(df_positive)\n",
    "    stats[\"AffablePositives\"] = len(df_positive) - len(df_positive_unique)\n",
    "    stats[\"AffablePositiveRate\"] = stats[\"AffablePositives\"]/stats[\"AllPositives\"] \n",
    "\n",
    "\n",
    "    \n",
    "    stats[\"UniquePositiveSampleRate\"] = stats[\"UniquePositives\"]/(len(df))\n",
    "    stats[\"PositiveSampleRate\"] = stats[\"AllPositives\"]/(len(df))\n",
    "    \n",
    "    # Negtaive samples\n",
    "    df_negative = df.query(f\"self_label != '{pos_label}'\")\n",
    "    df_negative_unique = df_negative.drop_duplicates('abstract_id')\n",
    "\n",
    "\n",
    "    stats[\"UniqueNegatives\"] = len(df_negative_unique)\n",
    "    stats[\"AllNegatives\"] = len(df_negative)\n",
    "    stats[\"AffableNegatives\"] = len(df_negative) - len(df_negative_unique)\n",
    "    stats[\"AffableNegativeRate\"] = stats[\"AffableNegatives\"]/stats[\"AllNegatives\"] \n",
    "\n",
    "\n",
    "\n",
    "    \n",
    "    # Abstract ids with corresponding positive samples\n",
    "    abstracts_id_with_positive = df[\"abstract_id\"].isin( df.query(f\"self_label == {pos_label}\")[\"abstract_id\"])\n",
    "    \n",
    "    # Non-Adversarial Negative: Unique negative samples unrelated to positive samples\n",
    "    df_negative_non_adverseries = df[~abstracts_id_with_positive]\n",
    "    df_negative_non_adverseries_unique =df_negative_non_adverseries.drop_duplicates('abstract_id')\n",
    "    stats[\"UniqueNonAdversarialNegatives\"] = len(df_negative_non_adverseries_unique)\n",
    "    stats[\"AllNonAdversarialNegatives\"] = len(df_negative_non_adverseries)\n",
    "\n",
    "    # Adversarial  Negative: Unique negative samples with matching positive samples\n",
    "    df_negative_adverseries = df[abstracts_id_with_positive].query(f\"self_label != {pos_label}\")\n",
    "    df_negative_adverseries_unique = df_negative_adverseries.drop_duplicates('abstract_id')\n",
    "    stats[\"UniqueAdversarialNegatives\"] = len(df_negative_adverseries_unique)\n",
    "    stats[\"AllAdversarialNegatives\"] = len(df_negative_adverseries)\n",
    "    \n",
    "    # TODO: Check if unique positive is appropriate\n",
    "    stats[\"AdversarialRate\"] = stats[\"AllAdversarialNegatives\"]/len(df_positive_unique)\n",
    "    stats[\"UniqueAdversarialRate\"] = stats[\"UniqueAdversarialNegatives\"]/len(df_positive_unique)\n",
    "\n",
    "\n",
    "    stats[\"TotalSize\"] = len(df)\n",
    "    stats[\"UniqueAbstracts\"] = df[\"abstract\"].nunique()\n",
    "\n",
    "\n",
    "\n",
    "    return stats\n",
    "\n",
    "\n",
    "def mixmatch_training_data_adversarial(df, discriminitory_rate, pos_label):\n",
    "    assert df.index.nunique() == len(df), \"Expect unique index\"\n",
    "\n",
    "\n",
    "    stats = {}\n",
    "    \n",
    "    # Positive samples\n",
    "    df_positive_unique = df.query(f\"self_label == {pos_label}\").drop_duplicates('abstract_id')\n",
    "    df_positive_all = df.query(f\"self_label == {pos_label}\")\n",
    "    \n",
    "    # Abstract ids with corresponding positive samples\n",
    "    abstracts_id_with_positive = df[\"abstract_id\"].isin( df.query(f\"self_label == {pos_label}\")[\"abstract_id\"])\n",
    "    \n",
    "    # Non-Adversarial Negative: Unique negative samples unrelated to positive samples\n",
    "    df_negative_non_adverseries_unique = df[~abstracts_id_with_positive].drop_duplicates('abstract_id')\n",
    "    \n",
    "    # Adversarial  Negative: Unique negative samples with matching positive samples\n",
    "    df_negative_adverseries_unique = df[abstracts_id_with_positive].query(f\"self_label != {pos_label}\").drop_duplicates('abstract_id')\n",
    "    \n",
    "    df_negative_adverseries_all = df[abstracts_id_with_positive].query(f\"self_label != {pos_label}\")\n",
    "    \n",
    "    \n",
    "    discriminitory_size = int(len(df_positive_unique)  * discriminitory_rate)\n",
    "    if discriminitory_size > 0:\n",
    "        drop_indices = np.random.choice(df_negative_non_adverseries_unique.index, discriminitory_size, replace=False)\n",
    "      \n",
    "        df_negative_non_adverseries_unique = df_negative_non_adverseries_unique.drop(drop_indices).copy()\n",
    "        \n",
    "        df_negative_adverseries_unique = df_negative_adverseries_unique.sample(n=discriminitory_size).copy()\n",
    "     \n",
    "    else:\n",
    "        # Empty adversarial unique\n",
    "        df_negative_adverseries_unique = pd.DataFrame()\n",
    "     \n",
    "    \n",
    "    final_data = pd.concat([df_positive_unique, \n",
    "                            df_negative_non_adverseries_unique, \n",
    "                            df_negative_adverseries_unique]).reset_index()\n",
    "    \n",
    "    return final_data\n",
    "\n",
    "\n",
    "\n",
    "def create_samples_adversarial_and_upload_to_s3(df, s3_uri_base, pos_label):\n",
    "    \n",
    "\n",
    "    stats = []\n",
    "    for i in range(0, 9):\n",
    "\n",
    "        df_train_data = mixmatch_training_data_adversarial(df, discriminitory_rate=i/10, pos_label=pos_label)  \n",
    "        stat = get_stats(df_train_data, pos_label=1)\n",
    "        stats.append(stat )\n",
    "        \n",
    "        \n",
    "        s3_uri = \"{}/adversarial/{}\".format( s3_uri_base.rstrip(\"/\"), f'train_{stat[\"TotalSize\"]}_{stat[\"AllPositives\"]}_{stat[\"UniqueAdversarialNegatives\"]}.json')\n",
    "        print(s3_uri, stat )\n",
    "        \n",
    "        upload_df_to_s3_json(df_train_data, s3_uri)\n",
    "        \n",
    "\n",
    "    \n",
    "    pd.DataFrame(stats)[[ \"TotalSize\", \"UniquePositives\", \"AllPositives\",\n",
    "                         \"UniqueNonAdversarialNegatives\", \"AllNonAdversarialNegatives\",\n",
    "                          \"UniqueAdversarialNegatives\", \"AllAdversarialNegatives\"\n",
    "                        ]].plot.line()\n",
    "    pd.DataFrame(stats)[[\"PositiveSampleRate\", \"AdversarialRate\"]].plot.line()"
   ]
  },
  {
   "cell_type": "code",
   "execution_count": 15,
   "metadata": {},
   "outputs": [],
   "source": [
    "import math\n",
    "\n",
    "def mixmatch_affable_negatives(df, affable_rate, pos_label):\n",
    "    assert df.index.nunique() == len(df), \"Expect unique index\"\n",
    "\n",
    "\n",
    "    stats = {}\n",
    "    \n",
    "    # Positive samples\n",
    "    df_positive_unique = df.query(f\"self_label == {pos_label}\").drop_duplicates('abstract_id')\n",
    "    df_positive_all = df.query(f\"self_label == {pos_label}\")\n",
    "    \n",
    "    # Abstract ids with corresponding positive samples\n",
    "    abstracts_id_with_positive = df[\"abstract_id\"].isin( df.query(f\"self_label == {pos_label}\")[\"abstract_id\"])\n",
    "    \n",
    "    # Non-Adversarial Negative: Unique negative samples unrelated to positive samples\n",
    "    df_negative_non_adverseries_unique = df[~abstracts_id_with_positive].drop_duplicates('abstract_id')\n",
    "\n",
    "\n",
    "    # Adversarial  Negative: Unique negative samples with matching positive samples\n",
    "    df_negative_adverseries_unique = df[abstracts_id_with_positive].query(f\"self_label != {pos_label}\").drop_duplicates('abstract_id')\n",
    "    \n",
    "    df_negative_adverseries_all = df[abstracts_id_with_positive].query(f\"self_label != {pos_label}\")\n",
    "    \n",
    "    \n",
    "    affable_size = int(len(df_negative_non_adverseries_unique)  * affable_rate)\n",
    "    df_negative_affable = pd.DataFrame()\n",
    "    if affable_size > 0:\n",
    "        drop_indices = np.random.choice(df_negative_non_adverseries_unique.index, affable_size, replace=False)\n",
    "      \n",
    "        df_negative_non_adverseries_unique = df_negative_non_adverseries_unique.drop(drop_indices).copy()\n",
    "        \n",
    "        n_times = math.ceil(affable_size/len(df_negative_non_adverseries_unique))\n",
    "        \n",
    "        df_negative_affable = create_affable_negatives(df_negative_non_adverseries_unique, n_times=n_times).sample(n=affable_size)\n",
    "     \n",
    "    else:\n",
    "        # Empty adversarial unique\n",
    "        df_negative_adverseries_unique = pd.DataFrame()\n",
    "     \n",
    "    \n",
    "    final_data = pd.concat([df_positive_unique, \n",
    "                            df_negative_non_adverseries_unique, \n",
    "                            df_negative_affable]).reset_index()\n",
    "    \n",
    "    return final_data\n",
    "\n",
    "def create_affable_negatives_and_upload_to_s3(df, s3_uri_base, pos_label):\n",
    "    \n",
    "\n",
    "    stats = []\n",
    "    for i in range(0, 9):\n",
    "\n",
    "        df_train_data = mixmatch_affable_negatives(df, affable_rate=i/10, pos_label=pos_label)  \n",
    "        stat = get_stats(df_train_data, pos_label=1)\n",
    "        stats.append(stat )\n",
    "        \n",
    "        \n",
    "        s3_uri = \"{}/affablenegatives/{}\".format( s3_uri_base.rstrip(\"/\"), \n",
    "                                        f'train_{stat[\"TotalSize\"]}_{stat[\"AllPositives\"]}_{stat[\"AffableNegatives\"]}.json')\n",
    "        print(s3_uri, stat )\n",
    "        \n",
    "        upload_df_to_s3_json(df_train_data, s3_uri)\n",
    "        \n",
    "\n",
    "    \n",
    "    pd.DataFrame(stats)[[ \"TotalSize\", \"UniquePositives\", \"AllPositives\",\n",
    "                         \"UniqueNonAdversarialNegatives\", \"AllNonAdversarialNegatives\",\n",
    "                          \"UniqueAdversarialNegatives\", \"AllAdversarialNegatives\"\n",
    "                        ]].plot.line()\n",
    "    pd.DataFrame(stats)[[\"PositiveSampleRate\", \"AdversarialRate\", \"AffableNegativeRate\"]].plot.line()"
   ]
  },
  {
   "cell_type": "code",
   "execution_count": 16,
   "metadata": {},
   "outputs": [],
   "source": [
    "def mixmatch_affable_positives(df, affable_rate, pos_label):\n",
    "    assert df.index.nunique() == len(df), \"Expect unique index\"\n",
    "\n",
    "\n",
    "    stats = {}\n",
    "    \n",
    "    # Positive samples\n",
    "    df_positive_unique = df.query(f\"self_label == {pos_label}\").drop_duplicates('abstract_id')\n",
    "    \n",
    "    # Abstract ids with corresponding positive samples\n",
    "    abstracts_id_with_positive = df[\"abstract_id\"].isin( df.query(f\"self_label == {pos_label}\")[\"abstract_id\"])\n",
    "    \n",
    "    # Non-Adversarial Negative: Unique negative samples unrelated to positive samples\n",
    "    df_negative_non_adverseries_unique = df[~abstracts_id_with_positive].drop_duplicates('abstract_id')\n",
    "\n",
    "\n",
    " \n",
    "    \n",
    "    affable_size = int(len(df_positive_unique)  * affable_rate)\n",
    "    df_positive_affable = pd.DataFrame()\n",
    "    df_positive_non_adverseries_unique = df_positive_unique\n",
    "    if affable_size > 0:\n",
    "        drop_indices = np.random.choice(df_positive_non_adverseries_unique.index, affable_size, replace=False)\n",
    "      \n",
    "        df_positive_non_adverseries_unique = df_positive_non_adverseries_unique.drop(drop_indices).copy()\n",
    "        \n",
    "        n_times = math.ceil(affable_size/len(df_positive_non_adverseries_unique))\n",
    "        \n",
    "        df_positive_affable = create_affable_positives(df_positive_non_adverseries_unique, n_times=n_times).sample(n=affable_size)\n",
    "        print(len(df_positive_affable), len(df_positive_non_adverseries_unique))\n",
    "     \n",
    "    \n",
    "    final_data = pd.concat([df_positive_non_adverseries_unique, \n",
    "                            df_negative_non_adverseries_unique, \n",
    "                            df_positive_affable]).reset_index()\n",
    "    \n",
    "    return final_data\n",
    "\n",
    "def create_affable_postives_and_upload_to_s3(df, s3_uri_base, pos_label):\n",
    "    \n",
    "\n",
    "    stats = []\n",
    "    for i in range(0, 9):\n",
    "\n",
    "        df_train_data = mixmatch_affable_positives(df, affable_rate=i/10, pos_label=pos_label)  \n",
    "        stat = get_stats(df_train_data, pos_label=1)\n",
    "        stats.append(stat )\n",
    "        \n",
    "        \n",
    "        s3_uri = \"{}/affablepositives/{}\".format( s3_uri_base.rstrip(\"/\"), \n",
    "                                        f'train_{stat[\"TotalSize\"]}_{stat[\"AllPositives\"]}_{stat[\"AffablePositives\"]}.json')\n",
    "        print(s3_uri, stat )\n",
    "        \n",
    "        upload_df_to_s3_json(df_train_data, s3_uri)\n",
    "        \n",
    "\n",
    "    \n",
    "    pd.DataFrame(stats)[[ \"TotalSize\", \"UniquePositives\", \"AllPositives\",\n",
    "                         \"UniqueNonAdversarialNegatives\", \"AllNonAdversarialNegatives\",\n",
    "                          \"UniqueAdversarialNegatives\", \"AllAdversarialNegatives\"\n",
    "                        ]].plot.line()\n",
    "    pd.DataFrame(stats)[[\"PositiveSampleRate\", \"AdversarialRate\", \"AffablePositiveRate\"]].plot.line()"
   ]
  },
  {
   "cell_type": "code",
   "execution_count": 17,
   "metadata": {},
   "outputs": [],
   "source": [
    "def sample_given_positive_ratio(df, sample_size, pos_ratio):\n",
    "    \n",
    "    \n",
    "    df_pos = df.query(\"self_label == True\")\n",
    "    df_neg = df.query(\"self_label == False\")\n",
    "    \n",
    "    pos_sample_size = int(sample_size * pos_ratio)\n",
    "    neg_sample_size = int(sample_size * (1-pos_ratio))\n",
    "    \n",
    "    df_sample_pos = df_pos.sample(n=pos_sample_size).copy()\n",
    "    df_sample_neg = df_neg.sample(n=neg_sample_size).copy()\n",
    "\n",
    "    return pd.concat([df_sample_pos,df_sample_neg]).reindex()\n",
    "\n",
    "\n",
    "def create_train_val_random(df,  train_size, pos_ratio):\n",
    "    assert df.index.nunique() == len(df), \"Expect unique index\"\n",
    "    \n",
    "    base_train_size=int(0.8*len(df))\n",
    "    synthetic_indices = np.random.choice(df.index, base_train_size, replace=False)\n",
    "        \n",
    "    # Create train val split\n",
    "    df_base_train = df[ df.index.isin (synthetic_indices)].copy(deep=True)\n",
    "    df_base_val = df[~df.index.isin (synthetic_indices)].copy(deep=True)\n",
    "\n",
    "\n",
    "    df_train = sample_given_positive_ratio(df_base_train, train_size, pos_ratio)\n",
    "    df_val = sample_given_positive_ratio(df_base_val, int(train_size*0.2), pos_ratio)\n",
    "\n",
    "\n",
    "  \n",
    "    \n",
    "    return df_train, df_val\n",
    " "
   ]
  },
  {
   "cell_type": "code",
   "execution_count": 18,
   "metadata": {},
   "outputs": [
    {
     "data": {
      "text/plain": [
       "False    2000\n",
       "True      500\n",
       "Name: self_label, dtype: int64"
      ]
     },
     "execution_count": 18,
     "metadata": {},
     "output_type": "execute_result"
    }
   ],
   "source": [
    "df_train_random, df_val = create_train_val_random(df_pubmed,  2000, 0.25)\n",
    "df_train_with_adversaries = create_adversarial_positive(df_train_random, n_times=1 ).drop(\"level_0\", axis=1)\n",
    "df_train_with_adversaries[\"self_label\"].value_counts()"
   ]
  },
  {
   "cell_type": "code",
   "execution_count": 19,
   "metadata": {},
   "outputs": [
    {
     "data": {
      "text/plain": [
       "False    1500\n",
       "True      500\n",
       "Name: self_label, dtype: int64"
      ]
     },
     "execution_count": 19,
     "metadata": {},
     "output_type": "execute_result"
    }
   ],
   "source": [
    "df_train_random[\"self_label\"].value_counts()"
   ]
  },
  {
   "cell_type": "code",
   "execution_count": 20,
   "metadata": {},
   "outputs": [
    {
     "data": {
      "text/plain": [
       "False    2000\n",
       "True      500\n",
       "Name: self_label, dtype: int64"
      ]
     },
     "execution_count": 20,
     "metadata": {},
     "output_type": "execute_result"
    }
   ],
   "source": [
    "df_train_with_adversaries[\"self_label\"].value_counts()"
   ]
  },
  {
   "cell_type": "code",
   "execution_count": 21,
   "metadata": {},
   "outputs": [
    {
     "data": {
      "text/html": [
       "<div>\n",
       "<style scoped>\n",
       "    .dataframe tbody tr th:only-of-type {\n",
       "        vertical-align: middle;\n",
       "    }\n",
       "\n",
       "    .dataframe tbody tr th {\n",
       "        vertical-align: top;\n",
       "    }\n",
       "\n",
       "    .dataframe thead th {\n",
       "        text-align: right;\n",
       "    }\n",
       "</style>\n",
       "<table border=\"1\" class=\"dataframe\">\n",
       "  <thead>\n",
       "    <tr style=\"text-align: right;\">\n",
       "      <th></th>\n",
       "      <th>index</th>\n",
       "      <th>abstract</th>\n",
       "      <th>abstract_id</th>\n",
       "      <th>self_label</th>\n",
       "      <th>is_fake</th>\n",
       "    </tr>\n",
       "  </thead>\n",
       "  <tbody>\n",
       "    <tr>\n",
       "      <th>0</th>\n",
       "      <td>168</td>\n",
       "      <td>Nickel is a human carcinogen that acts as a hy...</td>\n",
       "      <td>28552779</td>\n",
       "      <td>True</td>\n",
       "      <td>False</td>\n",
       "    </tr>\n",
       "    <tr>\n",
       "      <th>1</th>\n",
       "      <td>6411</td>\n",
       "      <td>The use of amikacin (AMK) in present treatment...</td>\n",
       "      <td>28560451</td>\n",
       "      <td>True</td>\n",
       "      <td>False</td>\n",
       "    </tr>\n",
       "    <tr>\n",
       "      <th>2</th>\n",
       "      <td>43804</td>\n",
       "      <td>Finding new uses for existing drugs has become...</td>\n",
       "      <td>28545612</td>\n",
       "      <td>True</td>\n",
       "      <td>False</td>\n",
       "    </tr>\n",
       "    <tr>\n",
       "      <th>3</th>\n",
       "      <td>10603</td>\n",
       "      <td>Pigs supply vital dietary proteins for human c...</td>\n",
       "      <td>28566753</td>\n",
       "      <td>True</td>\n",
       "      <td>False</td>\n",
       "    </tr>\n",
       "    <tr>\n",
       "      <th>4</th>\n",
       "      <td>97607</td>\n",
       "      <td>Following gut epithelial damage, epidermal gro...</td>\n",
       "      <td>28485389</td>\n",
       "      <td>True</td>\n",
       "      <td>False</td>\n",
       "    </tr>\n",
       "  </tbody>\n",
       "</table>\n",
       "</div>"
      ],
      "text/plain": [
       "   index                                           abstract  abstract_id  \\\n",
       "0    168  Nickel is a human carcinogen that acts as a hy...     28552779   \n",
       "1   6411  The use of amikacin (AMK) in present treatment...     28560451   \n",
       "2  43804  Finding new uses for existing drugs has become...     28545612   \n",
       "3  10603  Pigs supply vital dietary proteins for human c...     28566753   \n",
       "4  97607  Following gut epithelial damage, epidermal gro...     28485389   \n",
       "\n",
       "   self_label  is_fake  \n",
       "0        True    False  \n",
       "1        True    False  \n",
       "2        True    False  \n",
       "3        True    False  \n",
       "4        True    False  "
      ]
     },
     "execution_count": 21,
     "metadata": {},
     "output_type": "execute_result"
    }
   ],
   "source": [
    "df_train_with_adversaries.head()"
   ]
  },
  {
   "cell_type": "code",
   "execution_count": 22,
   "metadata": {},
   "outputs": [
    {
     "name": "stdout",
     "output_type": "stream",
     "text": [
      "s3://aegovan-data/self-supervised-fake-fixed-size/202212112044/adversarial/train_2000_500_0.json {'UniquePositives': 500, 'AllPositives': 500, 'AffablePositives': 0, 'AffablePositiveRate': 0.0, 'UniquePositiveSampleRate': 0.25, 'PositiveSampleRate': 0.25, 'UniqueNegatives': 1500, 'AllNegatives': 1500, 'AffableNegatives': 0, 'AffableNegativeRate': 0.0, 'UniqueNonAdversarialNegatives': 1500, 'AllNonAdversarialNegatives': 1500, 'UniqueAdversarialNegatives': 0, 'AllAdversarialNegatives': 0, 'AdversarialRate': 0.0, 'UniqueAdversarialRate': 0.0, 'TotalSize': 2000, 'UniqueAbstracts': 2000}\n",
      "s3://aegovan-data/self-supervised-fake-fixed-size/202212112044/adversarial/train_2000_500_50.json {'UniquePositives': 500, 'AllPositives': 500, 'AffablePositives': 0, 'AffablePositiveRate': 0.0, 'UniquePositiveSampleRate': 0.25, 'PositiveSampleRate': 0.25, 'UniqueNegatives': 1500, 'AllNegatives': 1500, 'AffableNegatives': 0, 'AffableNegativeRate': 0.0, 'UniqueNonAdversarialNegatives': 1450, 'AllNonAdversarialNegatives': 1450, 'UniqueAdversarialNegatives': 50, 'AllAdversarialNegatives': 50, 'AdversarialRate': 0.1, 'UniqueAdversarialRate': 0.1, 'TotalSize': 2000, 'UniqueAbstracts': 2000}\n",
      "s3://aegovan-data/self-supervised-fake-fixed-size/202212112044/adversarial/train_2000_500_100.json {'UniquePositives': 500, 'AllPositives': 500, 'AffablePositives': 0, 'AffablePositiveRate': 0.0, 'UniquePositiveSampleRate': 0.25, 'PositiveSampleRate': 0.25, 'UniqueNegatives': 1500, 'AllNegatives': 1500, 'AffableNegatives': 0, 'AffableNegativeRate': 0.0, 'UniqueNonAdversarialNegatives': 1400, 'AllNonAdversarialNegatives': 1400, 'UniqueAdversarialNegatives': 100, 'AllAdversarialNegatives': 100, 'AdversarialRate': 0.2, 'UniqueAdversarialRate': 0.2, 'TotalSize': 2000, 'UniqueAbstracts': 2000}\n",
      "s3://aegovan-data/self-supervised-fake-fixed-size/202212112044/adversarial/train_2000_500_150.json {'UniquePositives': 500, 'AllPositives': 500, 'AffablePositives': 0, 'AffablePositiveRate': 0.0, 'UniquePositiveSampleRate': 0.25, 'PositiveSampleRate': 0.25, 'UniqueNegatives': 1500, 'AllNegatives': 1500, 'AffableNegatives': 0, 'AffableNegativeRate': 0.0, 'UniqueNonAdversarialNegatives': 1350, 'AllNonAdversarialNegatives': 1350, 'UniqueAdversarialNegatives': 150, 'AllAdversarialNegatives': 150, 'AdversarialRate': 0.3, 'UniqueAdversarialRate': 0.3, 'TotalSize': 2000, 'UniqueAbstracts': 2000}\n",
      "s3://aegovan-data/self-supervised-fake-fixed-size/202212112044/adversarial/train_2000_500_200.json {'UniquePositives': 500, 'AllPositives': 500, 'AffablePositives': 0, 'AffablePositiveRate': 0.0, 'UniquePositiveSampleRate': 0.25, 'PositiveSampleRate': 0.25, 'UniqueNegatives': 1500, 'AllNegatives': 1500, 'AffableNegatives': 0, 'AffableNegativeRate': 0.0, 'UniqueNonAdversarialNegatives': 1300, 'AllNonAdversarialNegatives': 1300, 'UniqueAdversarialNegatives': 200, 'AllAdversarialNegatives': 200, 'AdversarialRate': 0.4, 'UniqueAdversarialRate': 0.4, 'TotalSize': 2000, 'UniqueAbstracts': 2000}\n",
      "s3://aegovan-data/self-supervised-fake-fixed-size/202212112044/adversarial/train_2000_500_250.json {'UniquePositives': 500, 'AllPositives': 500, 'AffablePositives': 0, 'AffablePositiveRate': 0.0, 'UniquePositiveSampleRate': 0.25, 'PositiveSampleRate': 0.25, 'UniqueNegatives': 1500, 'AllNegatives': 1500, 'AffableNegatives': 0, 'AffableNegativeRate': 0.0, 'UniqueNonAdversarialNegatives': 1250, 'AllNonAdversarialNegatives': 1250, 'UniqueAdversarialNegatives': 250, 'AllAdversarialNegatives': 250, 'AdversarialRate': 0.5, 'UniqueAdversarialRate': 0.5, 'TotalSize': 2000, 'UniqueAbstracts': 2000}\n",
      "s3://aegovan-data/self-supervised-fake-fixed-size/202212112044/adversarial/train_2000_500_300.json {'UniquePositives': 500, 'AllPositives': 500, 'AffablePositives': 0, 'AffablePositiveRate': 0.0, 'UniquePositiveSampleRate': 0.25, 'PositiveSampleRate': 0.25, 'UniqueNegatives': 1500, 'AllNegatives': 1500, 'AffableNegatives': 0, 'AffableNegativeRate': 0.0, 'UniqueNonAdversarialNegatives': 1200, 'AllNonAdversarialNegatives': 1200, 'UniqueAdversarialNegatives': 300, 'AllAdversarialNegatives': 300, 'AdversarialRate': 0.6, 'UniqueAdversarialRate': 0.6, 'TotalSize': 2000, 'UniqueAbstracts': 2000}\n",
      "s3://aegovan-data/self-supervised-fake-fixed-size/202212112044/adversarial/train_2000_500_350.json {'UniquePositives': 500, 'AllPositives': 500, 'AffablePositives': 0, 'AffablePositiveRate': 0.0, 'UniquePositiveSampleRate': 0.25, 'PositiveSampleRate': 0.25, 'UniqueNegatives': 1500, 'AllNegatives': 1500, 'AffableNegatives': 0, 'AffableNegativeRate': 0.0, 'UniqueNonAdversarialNegatives': 1150, 'AllNonAdversarialNegatives': 1150, 'UniqueAdversarialNegatives': 350, 'AllAdversarialNegatives': 350, 'AdversarialRate': 0.7, 'UniqueAdversarialRate': 0.7, 'TotalSize': 2000, 'UniqueAbstracts': 2000}\n",
      "s3://aegovan-data/self-supervised-fake-fixed-size/202212112044/adversarial/train_2000_500_400.json {'UniquePositives': 500, 'AllPositives': 500, 'AffablePositives': 0, 'AffablePositiveRate': 0.0, 'UniquePositiveSampleRate': 0.25, 'PositiveSampleRate': 0.25, 'UniqueNegatives': 1500, 'AllNegatives': 1500, 'AffableNegatives': 0, 'AffableNegativeRate': 0.0, 'UniqueNonAdversarialNegatives': 1100, 'AllNonAdversarialNegatives': 1100, 'UniqueAdversarialNegatives': 400, 'AllAdversarialNegatives': 400, 'AdversarialRate': 0.8, 'UniqueAdversarialRate': 0.8, 'TotalSize': 2000, 'UniqueAbstracts': 2000}\n"
     ]
    },
    {
     "data": {
      "image/png": "[encoded data removed]",
      "text/plain": [
       "<Figure size 432x288 with 1 Axes>"
      ]
     },
     "metadata": {
      "needs_background": "light"
     },
     "output_type": "display_data"
    },
    {
     "data": {
      "image/png": "[encoded data removed]",
      "text/plain": [
       "<Figure size 432x288 with 1 Axes>"
      ]
     },
     "metadata": {
      "needs_background": "light"
     },
     "output_type": "display_data"
    }
   ],
   "source": [
    "create_samples_adversarial_and_upload_to_s3(df_train_with_adversaries, pos_label=True, \n",
    "                                s3_uri_base=f\"s3://aegovan-data/self-supervised-fake-fixed-size/{datefmt}\")\n",
    "\n"
   ]
  },
  {
   "cell_type": "code",
   "execution_count": 23,
   "metadata": {},
   "outputs": [
    {
     "name": "stdout",
     "output_type": "stream",
     "text": [
      "s3://aegovan-data/self-supervised-fake-fixed-size/202212112044/affablenegatives/train_2000_500_0.json {'UniquePositives': 500, 'AllPositives': 500, 'AffablePositives': 0, 'AffablePositiveRate': 0.0, 'UniquePositiveSampleRate': 0.25, 'PositiveSampleRate': 0.25, 'UniqueNegatives': 1500, 'AllNegatives': 1500, 'AffableNegatives': 0, 'AffableNegativeRate': 0.0, 'UniqueNonAdversarialNegatives': 1500, 'AllNonAdversarialNegatives': 1500, 'UniqueAdversarialNegatives': 0, 'AllAdversarialNegatives': 0, 'AdversarialRate': 0.0, 'UniqueAdversarialRate': 0.0, 'TotalSize': 2000, 'UniqueAbstracts': 2000}\n",
      "s3://aegovan-data/self-supervised-fake-fixed-size/202212112044/affablenegatives/train_2000_500_150.json {'UniquePositives': 500, 'AllPositives': 500, 'AffablePositives': 0, 'AffablePositiveRate': 0.0, 'UniquePositiveSampleRate': 0.25, 'PositiveSampleRate': 0.25, 'UniqueNegatives': 1350, 'AllNegatives': 1500, 'AffableNegatives': 150, 'AffableNegativeRate': 0.1, 'UniqueNonAdversarialNegatives': 1350, 'AllNonAdversarialNegatives': 1500, 'UniqueAdversarialNegatives': 0, 'AllAdversarialNegatives': 0, 'AdversarialRate': 0.0, 'UniqueAdversarialRate': 0.0, 'TotalSize': 2000, 'UniqueAbstracts': 2000}\n",
      "s3://aegovan-data/self-supervised-fake-fixed-size/202212112044/affablenegatives/train_2000_500_300.json {'UniquePositives': 500, 'AllPositives': 500, 'AffablePositives': 0, 'AffablePositiveRate': 0.0, 'UniquePositiveSampleRate': 0.25, 'PositiveSampleRate': 0.25, 'UniqueNegatives': 1200, 'AllNegatives': 1500, 'AffableNegatives': 300, 'AffableNegativeRate': 0.2, 'UniqueNonAdversarialNegatives': 1200, 'AllNonAdversarialNegatives': 1500, 'UniqueAdversarialNegatives': 0, 'AllAdversarialNegatives': 0, 'AdversarialRate': 0.0, 'UniqueAdversarialRate': 0.0, 'TotalSize': 2000, 'UniqueAbstracts': 2000}\n",
      "s3://aegovan-data/self-supervised-fake-fixed-size/202212112044/affablenegatives/train_2000_500_450.json {'UniquePositives': 500, 'AllPositives': 500, 'AffablePositives': 0, 'AffablePositiveRate': 0.0, 'UniquePositiveSampleRate': 0.25, 'PositiveSampleRate': 0.25, 'UniqueNegatives': 1050, 'AllNegatives': 1500, 'AffableNegatives': 450, 'AffableNegativeRate': 0.3, 'UniqueNonAdversarialNegatives': 1050, 'AllNonAdversarialNegatives': 1500, 'UniqueAdversarialNegatives': 0, 'AllAdversarialNegatives': 0, 'AdversarialRate': 0.0, 'UniqueAdversarialRate': 0.0, 'TotalSize': 2000, 'UniqueAbstracts': 2000}\n",
      "s3://aegovan-data/self-supervised-fake-fixed-size/202212112044/affablenegatives/train_2000_500_600.json {'UniquePositives': 500, 'AllPositives': 500, 'AffablePositives': 0, 'AffablePositiveRate': 0.0, 'UniquePositiveSampleRate': 0.25, 'PositiveSampleRate': 0.25, 'UniqueNegatives': 900, 'AllNegatives': 1500, 'AffableNegatives': 600, 'AffableNegativeRate': 0.4, 'UniqueNonAdversarialNegatives': 900, 'AllNonAdversarialNegatives': 1500, 'UniqueAdversarialNegatives': 0, 'AllAdversarialNegatives': 0, 'AdversarialRate': 0.0, 'UniqueAdversarialRate': 0.0, 'TotalSize': 2000, 'UniqueAbstracts': 2000}\n",
      "s3://aegovan-data/self-supervised-fake-fixed-size/202212112044/affablenegatives/train_2000_500_750.json {'UniquePositives': 500, 'AllPositives': 500, 'AffablePositives': 0, 'AffablePositiveRate': 0.0, 'UniquePositiveSampleRate': 0.25, 'PositiveSampleRate': 0.25, 'UniqueNegatives': 750, 'AllNegatives': 1500, 'AffableNegatives': 750, 'AffableNegativeRate': 0.5, 'UniqueNonAdversarialNegatives': 750, 'AllNonAdversarialNegatives': 1500, 'UniqueAdversarialNegatives': 0, 'AllAdversarialNegatives': 0, 'AdversarialRate': 0.0, 'UniqueAdversarialRate': 0.0, 'TotalSize': 2000, 'UniqueAbstracts': 2000}\n",
      "s3://aegovan-data/self-supervised-fake-fixed-size/202212112044/affablenegatives/train_2000_500_900.json {'UniquePositives': 500, 'AllPositives': 500, 'AffablePositives': 0, 'AffablePositiveRate': 0.0, 'UniquePositiveSampleRate': 0.25, 'PositiveSampleRate': 0.25, 'UniqueNegatives': 600, 'AllNegatives': 1500, 'AffableNegatives': 900, 'AffableNegativeRate': 0.6, 'UniqueNonAdversarialNegatives': 600, 'AllNonAdversarialNegatives': 1500, 'UniqueAdversarialNegatives': 0, 'AllAdversarialNegatives': 0, 'AdversarialRate': 0.0, 'UniqueAdversarialRate': 0.0, 'TotalSize': 2000, 'UniqueAbstracts': 2000}\n",
      "s3://aegovan-data/self-supervised-fake-fixed-size/202212112044/affablenegatives/train_2000_500_1050.json {'UniquePositives': 500, 'AllPositives': 500, 'AffablePositives': 0, 'AffablePositiveRate': 0.0, 'UniquePositiveSampleRate': 0.25, 'PositiveSampleRate': 0.25, 'UniqueNegatives': 450, 'AllNegatives': 1500, 'AffableNegatives': 1050, 'AffableNegativeRate': 0.7, 'UniqueNonAdversarialNegatives': 450, 'AllNonAdversarialNegatives': 1500, 'UniqueAdversarialNegatives': 0, 'AllAdversarialNegatives': 0, 'AdversarialRate': 0.0, 'UniqueAdversarialRate': 0.0, 'TotalSize': 2000, 'UniqueAbstracts': 2000}\n",
      "s3://aegovan-data/self-supervised-fake-fixed-size/202212112044/affablenegatives/train_2000_500_1200.json {'UniquePositives': 500, 'AllPositives': 500, 'AffablePositives': 0, 'AffablePositiveRate': 0.0, 'UniquePositiveSampleRate': 0.25, 'PositiveSampleRate': 0.25, 'UniqueNegatives': 300, 'AllNegatives': 1500, 'AffableNegatives': 1200, 'AffableNegativeRate': 0.8, 'UniqueNonAdversarialNegatives': 300, 'AllNonAdversarialNegatives': 1500, 'UniqueAdversarialNegatives': 0, 'AllAdversarialNegatives': 0, 'AdversarialRate': 0.0, 'UniqueAdversarialRate': 0.0, 'TotalSize': 2000, 'UniqueAbstracts': 2000}\n"
     ]
    },
    {
     "data": {
      "image/png": "[encoded data removed]",
      "text/plain": [
       "<Figure size 432x288 with 1 Axes>"
      ]
     },
     "metadata": {
      "needs_background": "light"
     },
     "output_type": "display_data"
    },
    {
     "data": {
      "image/png": "[encoded data removed]",
      "text/plain": [
       "<Figure size 432x288 with 1 Axes>"
      ]
     },
     "metadata": {
      "needs_background": "light"
     },
     "output_type": "display_data"
    }
   ],
   "source": [
    "create_affable_negatives_and_upload_to_s3(df_train_random, pos_label=True, \n",
    "                                s3_uri_base=f\"s3://aegovan-data/self-supervised-fake-fixed-size/{datefmt}\")"
   ]
  },
  {
   "cell_type": "code",
   "execution_count": 24,
   "metadata": {},
   "outputs": [
    {
     "name": "stdout",
     "output_type": "stream",
     "text": [
      "s3://aegovan-data/self-supervised-fake-fixed-size/202212112044/affablepositives/train_2000_500_0.json {'UniquePositives': 500, 'AllPositives': 500, 'AffablePositives': 0, 'AffablePositiveRate': 0.0, 'UniquePositiveSampleRate': 0.25, 'PositiveSampleRate': 0.25, 'UniqueNegatives': 1500, 'AllNegatives': 1500, 'AffableNegatives': 0, 'AffableNegativeRate': 0.0, 'UniqueNonAdversarialNegatives': 1500, 'AllNonAdversarialNegatives': 1500, 'UniqueAdversarialNegatives': 0, 'AllAdversarialNegatives': 0, 'AdversarialRate': 0.0, 'UniqueAdversarialRate': 0.0, 'TotalSize': 2000, 'UniqueAbstracts': 2000}\n",
      "50 450\n",
      "s3://aegovan-data/self-supervised-fake-fixed-size/202212112044/affablepositives/train_2000_500_50.json {'UniquePositives': 450, 'AllPositives': 500, 'AffablePositives': 50, 'AffablePositiveRate': 0.1, 'UniquePositiveSampleRate': 0.225, 'PositiveSampleRate': 0.25, 'UniqueNegatives': 1500, 'AllNegatives': 1500, 'AffableNegatives': 0, 'AffableNegativeRate': 0.0, 'UniqueNonAdversarialNegatives': 1500, 'AllNonAdversarialNegatives': 1500, 'UniqueAdversarialNegatives': 0, 'AllAdversarialNegatives': 0, 'AdversarialRate': 0.0, 'UniqueAdversarialRate': 0.0, 'TotalSize': 2000, 'UniqueAbstracts': 2000}\n",
      "100 400\n",
      "s3://aegovan-data/self-supervised-fake-fixed-size/202212112044/affablepositives/train_2000_500_100.json {'UniquePositives': 400, 'AllPositives': 500, 'AffablePositives': 100, 'AffablePositiveRate': 0.2, 'UniquePositiveSampleRate': 0.2, 'PositiveSampleRate': 0.25, 'UniqueNegatives': 1500, 'AllNegatives': 1500, 'AffableNegatives': 0, 'AffableNegativeRate': 0.0, 'UniqueNonAdversarialNegatives': 1500, 'AllNonAdversarialNegatives': 1500, 'UniqueAdversarialNegatives': 0, 'AllAdversarialNegatives': 0, 'AdversarialRate': 0.0, 'UniqueAdversarialRate': 0.0, 'TotalSize': 2000, 'UniqueAbstracts': 2000}\n",
      "150 350\n",
      "s3://aegovan-data/self-supervised-fake-fixed-size/202212112044/affablepositives/train_2000_500_150.json {'UniquePositives': 350, 'AllPositives': 500, 'AffablePositives': 150, 'AffablePositiveRate': 0.3, 'UniquePositiveSampleRate': 0.175, 'PositiveSampleRate': 0.25, 'UniqueNegatives': 1500, 'AllNegatives': 1500, 'AffableNegatives': 0, 'AffableNegativeRate': 0.0, 'UniqueNonAdversarialNegatives': 1500, 'AllNonAdversarialNegatives': 1500, 'UniqueAdversarialNegatives': 0, 'AllAdversarialNegatives': 0, 'AdversarialRate': 0.0, 'UniqueAdversarialRate': 0.0, 'TotalSize': 2000, 'UniqueAbstracts': 2000}\n",
      "200 300\n",
      "s3://aegovan-data/self-supervised-fake-fixed-size/202212112044/affablepositives/train_2000_500_200.json {'UniquePositives': 300, 'AllPositives': 500, 'AffablePositives': 200, 'AffablePositiveRate': 0.4, 'UniquePositiveSampleRate': 0.15, 'PositiveSampleRate': 0.25, 'UniqueNegatives': 1500, 'AllNegatives': 1500, 'AffableNegatives': 0, 'AffableNegativeRate': 0.0, 'UniqueNonAdversarialNegatives': 1500, 'AllNonAdversarialNegatives': 1500, 'UniqueAdversarialNegatives': 0, 'AllAdversarialNegatives': 0, 'AdversarialRate': 0.0, 'UniqueAdversarialRate': 0.0, 'TotalSize': 2000, 'UniqueAbstracts': 2000}\n",
      "250 250\n",
      "s3://aegovan-data/self-supervised-fake-fixed-size/202212112044/affablepositives/train_2000_500_250.json {'UniquePositives': 250, 'AllPositives': 500, 'AffablePositives': 250, 'AffablePositiveRate': 0.5, 'UniquePositiveSampleRate': 0.125, 'PositiveSampleRate': 0.25, 'UniqueNegatives': 1500, 'AllNegatives': 1500, 'AffableNegatives': 0, 'AffableNegativeRate': 0.0, 'UniqueNonAdversarialNegatives': 1500, 'AllNonAdversarialNegatives': 1500, 'UniqueAdversarialNegatives': 0, 'AllAdversarialNegatives': 0, 'AdversarialRate': 0.0, 'UniqueAdversarialRate': 0.0, 'TotalSize': 2000, 'UniqueAbstracts': 2000}\n",
      "300 200\n",
      "s3://aegovan-data/self-supervised-fake-fixed-size/202212112044/affablepositives/train_2000_500_300.json {'UniquePositives': 200, 'AllPositives': 500, 'AffablePositives': 300, 'AffablePositiveRate': 0.6, 'UniquePositiveSampleRate': 0.1, 'PositiveSampleRate': 0.25, 'UniqueNegatives': 1500, 'AllNegatives': 1500, 'AffableNegatives': 0, 'AffableNegativeRate': 0.0, 'UniqueNonAdversarialNegatives': 1500, 'AllNonAdversarialNegatives': 1500, 'UniqueAdversarialNegatives': 0, 'AllAdversarialNegatives': 0, 'AdversarialRate': 0.0, 'UniqueAdversarialRate': 0.0, 'TotalSize': 2000, 'UniqueAbstracts': 2000}\n",
      "350 150\n",
      "s3://aegovan-data/self-supervised-fake-fixed-size/202212112044/affablepositives/train_2000_500_350.json {'UniquePositives': 150, 'AllPositives': 500, 'AffablePositives': 350, 'AffablePositiveRate': 0.7, 'UniquePositiveSampleRate': 0.075, 'PositiveSampleRate': 0.25, 'UniqueNegatives': 1500, 'AllNegatives': 1500, 'AffableNegatives': 0, 'AffableNegativeRate': 0.0, 'UniqueNonAdversarialNegatives': 1500, 'AllNonAdversarialNegatives': 1500, 'UniqueAdversarialNegatives': 0, 'AllAdversarialNegatives': 0, 'AdversarialRate': 0.0, 'UniqueAdversarialRate': 0.0, 'TotalSize': 2000, 'UniqueAbstracts': 2000}\n",
      "400 100\n",
      "s3://aegovan-data/self-supervised-fake-fixed-size/202212112044/affablepositives/train_2000_500_400.json {'UniquePositives': 100, 'AllPositives': 500, 'AffablePositives': 400, 'AffablePositiveRate': 0.8, 'UniquePositiveSampleRate': 0.05, 'PositiveSampleRate': 0.25, 'UniqueNegatives': 1500, 'AllNegatives': 1500, 'AffableNegatives': 0, 'AffableNegativeRate': 0.0, 'UniqueNonAdversarialNegatives': 1500, 'AllNonAdversarialNegatives': 1500, 'UniqueAdversarialNegatives': 0, 'AllAdversarialNegatives': 0, 'AdversarialRate': 0.0, 'UniqueAdversarialRate': 0.0, 'TotalSize': 2000, 'UniqueAbstracts': 2000}\n"
     ]
    },
    {
     "data": {
      "image/png": "[encoded data removed]",
      "text/plain": [
       "<Figure size 432x288 with 1 Axes>"
      ]
     },
     "metadata": {
      "needs_background": "light"
     },
     "output_type": "display_data"
    },
    {
     "data": {
      "image/png": "[encoded data removed]",
      "text/plain": [
       "<Figure size 432x288 with 1 Axes>"
      ]
     },
     "metadata": {
      "needs_background": "light"
     },
     "output_type": "display_data"
    }
   ],
   "source": [
    "create_affable_postives_and_upload_to_s3(df_train_random, pos_label=True, \n",
    "                                s3_uri_base=f\"s3://aegovan-data/self-supervised-fake-fixed-size/{datefmt}\")"
   ]
  },
  {
   "cell_type": "code",
   "execution_count": 25,
   "metadata": {},
   "outputs": [],
   "source": [
    "upload_df_to_s3_json(df_val, f\"s3://aegovan-data/self-supervised-fake-fixed-size/{datefmt}/val.json\")"
   ]
  }
 ],
 "metadata": {
  "kernelspec": {
   "display_name": "Python 3 (ipykernel)",
   "language": "python",
   "name": "python3"
  },
  "language_info": {
   "codemirror_mode": {
    "name": "ipython",
    "version": 3
   },
   "file_extension": ".py",
   "mimetype": "text/x-python",
   "name": "python",
   "nbconvert_exporter": "python",
   "pygments_lexer": "ipython3",
   "version": "3.7.9"
  }
 },
 "nbformat": 4,
 "nbformat_minor": 1
}
