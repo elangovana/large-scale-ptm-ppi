{
 "cells": [
  {
   "cell_type": "markdown",
   "metadata": {},
   "source": [
    "## Self supervised large scale generalisatiom"
   ]
  },
  {
   "cell_type": "code",
   "execution_count": 1,
   "metadata": {},
   "outputs": [],
   "source": [
    "import pandas as pd\n",
    "import os\n",
    "import matplotlib.pyplot as plt"
   ]
  },
  {
   "cell_type": "code",
   "execution_count": 2,
   "metadata": {},
   "outputs": [],
   "source": [
    "s3_prefix = \"s3://aegovan-data/selfsupervised_chemprot/predictions_selfsupervised-bert-f1-2022-09-17-23-42-42-470/2022091920/\"\n",
    "s3_output_prefix = \"{}_negative_generalisation/\".format(s3_prefix.rstrip(\"/\"))\n",
    "s3_training = \"s3://aegovan-data/self-supervised/train.json\"\n",
    "\n",
    "#s3_prefix = \"s3://aegovan-data/selfsupervised_chemprot/predictions_selfsupervised-real-8437-8437-1529-bert-2022-10-23-05-08-24-286/2022102311/\"\n",
    "#s3_prefix = \"s3://aegovan-data/selfsupervised_chemprot/predictions_selfsupervised-fake-8217-767-1593-bert--2022-10-16-20-14-51-295/2022101719/\"\n",
    "#s3_prefix = \"s3://aegovan-data/selfsupervised_chemprot/predictions_selfsupervised-real-7665-7665-1390-bert-2022-10-23-05-08-26-498/2022102320/\"\n",
    "s3_prefix = \"s3://aegovan-data/selfsupervised_chemprot/predictions_selfsupervised-real-1150-1150-208-bert--2022-10-24-03-31-14-781/2022102921/\"\n",
    "s3_output_prefix = \"{}_negative_generalisation/\".format(s3_prefix.rstrip(\"/\"))\n",
    "s3_training = \"s3://aegovan-data/self-supervised-fake/base/train.json\"\n",
    "\n"
   ]
  },
  {
   "cell_type": "code",
   "execution_count": 3,
   "metadata": {},
   "outputs": [],
   "source": [
    "is_download_files= True"
   ]
  },
  {
   "cell_type": "code",
   "execution_count": 4,
   "metadata": {},
   "outputs": [],
   "source": [
    "label_order = [\"False\", \"True\"]\n",
    "pos_labels = list( filter(lambda x: x , label_order))\n",
    "label_order_key = lambda x:  label_order.index(x)\n",
    "\n",
    "label_title_map = {}"
   ]
  },
  {
   "cell_type": "code",
   "execution_count": 5,
   "metadata": {},
   "outputs": [],
   "source": [
    "local_temp = \"../temp\"\n",
    "local_temp_pred_dir = os.path.join( local_temp, \"pred_results\")\n",
    "local_temp_wk_dir = os.path.join( local_temp, \"wk\")"
   ]
  },
  {
   "cell_type": "code",
   "execution_count": 6,
   "metadata": {},
   "outputs": [],
   "source": [
    "import shutil\n",
    "\n",
    "def setup_dir(local_temp,local_temp_pred_dir, local_temp_wk_dir):\n",
    "    if os.path.exists(local_temp):\n",
    "        shutil.rmtree(local_temp)\n",
    "    os.makedirs(local_temp_pred_dir)\n",
    "    os.makedirs(local_temp_wk_dir)\n"
   ]
  },
  {
   "cell_type": "code",
   "execution_count": 7,
   "metadata": {},
   "outputs": [],
   "source": [
    "import boto3\n",
    "import glob\n",
    "from multiprocessing.dummy import Pool as ThreadPool\n",
    "import argparse\n",
    "import datetime \n",
    "import os\n",
    "\n",
    "\n",
    "def upload_file(localpath, s3path):\n",
    "        \"\"\"\n",
    "Uploads a file to s3\n",
    "        :param localpath: The local path\n",
    "        :param s3path: The s3 path in format s3://mybucket/mydir/mysample.txt\n",
    "        \"\"\"\n",
    "\n",
    "        bucket, key = get_bucketname_key(s3path)\n",
    "\n",
    "        if key.endswith(\"/\"):\n",
    "            key = \"{}{}\".format(key, os.path.basename(localpath))\n",
    "        \n",
    "        s3 = boto3.client('s3')\n",
    "        \n",
    "        s3.upload_file(localpath, bucket, key)\n",
    "\n",
    "def get_bucketname_key(uripath):\n",
    "    assert uripath.startswith(\"s3://\")\n",
    "\n",
    "    path_without_scheme = uripath[5:]\n",
    "    bucket_end_index = path_without_scheme.find(\"/\")\n",
    "\n",
    "    bucket_name = path_without_scheme\n",
    "    key = \"/\"\n",
    "    if bucket_end_index > -1:\n",
    "        bucket_name = path_without_scheme[0:bucket_end_index]\n",
    "        key = path_without_scheme[bucket_end_index + 1:]\n",
    "\n",
    "    return bucket_name, key\n",
    "\n",
    "\n",
    "def download_file(s3path, local_dir):\n",
    "    bucket, key = get_bucketname_key(s3path)\n",
    "    \n",
    "    s3 = boto3.client('s3')\n",
    "    \n",
    "    local_file = os.path.join(local_dir, s3path.split(\"/\")[-1])\n",
    "    \n",
    "\n",
    "    s3.download_file(bucket, key, local_file)\n",
    "    \n",
    "def download_object(s3path):\n",
    "    bucket, key = get_bucketname_key(s3path)\n",
    "    \n",
    "    s3 = boto3.client('s3')    \n",
    "\n",
    "    s3_response_object = s3.get_object(Bucket=bucket, Key=key)\n",
    "    object_content = s3_response_object['Body'].read()\n",
    "    \n",
    "    return len(object_content)\n",
    "\n",
    "\n",
    "\n",
    "def list_files(s3path_prefix):\n",
    "    assert s3path_prefix.startswith(\"s3://\")\n",
    "    assert s3path_prefix.endswith(\"/\")\n",
    "    \n",
    "    bucket, key = get_bucketname_key(s3path_prefix)\n",
    "    \n",
    "   \n",
    "   \n",
    "    s3 = boto3.resource('s3')\n",
    "    \n",
    "    bucket = s3.Bucket(name=bucket)\n",
    "\n",
    "    return ( (o.bucket_name, o.key) for o in bucket.objects.filter(Prefix=key))\n",
    "\n",
    "\n",
    "\n",
    "\n",
    "\n",
    "def upload_files(local_dir, s3_prefix, num_threads=20):    \n",
    "    input_tuples = ( (f,  s3_prefix) for f in glob.glob(\"{}/*\".format(local_dir)))\n",
    "    \n",
    "    with ThreadPool(num_threads) as pool:\n",
    "        pool.starmap(uploadfile, input_tuples)\n",
    "    \n",
    "\n",
    "\n",
    "def download_files(s3_prefix, local_dir, num_threads=20):    \n",
    "    input_tuples = ( (\"s3://{}/{}\".format(s3_bucket,s3_key),  local_dir) for s3_bucket, s3_key in list_files(s3_prefix))\n",
    "    \n",
    "    with ThreadPool(num_threads) as pool:\n",
    "        results = pool.starmap(download_file, input_tuples)\n",
    "        \n",
    "        \n",
    "\n",
    "def download_objects(s3_prefix, num_threads=20):    \n",
    "    s3_files = ( \"s3://{}/{}\".format(s3_bucket,s3_key) for s3_bucket, s3_key in list_files(s3_prefix))\n",
    "    \n",
    "    with ThreadPool(num_threads) as pool:\n",
    "        results = pool.map(download_object, s3_files)\n",
    "        \n",
    "    return sum(results)/1024\n",
    "        \n",
    "\n",
    "def get_directory_size(start_path):\n",
    "    total_size = 0\n",
    "    for dirpath, dirnames, filenames in os.walk(start_path):\n",
    "        for f in filenames:\n",
    "            fp = os.path.join(dirpath, f)\n",
    "            # skip if it is symbolic link\n",
    "            if not os.path.islink(fp):\n",
    "                total_size += os.path.getsize(fp)\n",
    "    return total_size\n",
    "\n",
    "def get_s3file_size(bucket, key):\n",
    "    s3 = boto3.client('s3')\n",
    "    response = s3.head_object(Bucket=bucket, Key=key)\n",
    "    size = response['ContentLength']\n",
    "    return size\n",
    "    \n",
    "def download_files_min_files(s3_prefix, local_dir, min_file_size=310, num_threads=20):    \n",
    "    input_tuples = ( (\"s3://{}/{}\".format(s3_bucket,s3_key),  local_dir) for s3_bucket, s3_key in list_files(s3_prefix) if get_s3file_size(s3_bucket, s3_key) > min_file_size )\n",
    "    \n",
    "    with ThreadPool(num_threads) as pool:\n",
    "        results = pool.starmap(download_file, input_tuples)\n",
    "        \n"
   ]
  },
  {
   "cell_type": "code",
   "execution_count": 8,
   "metadata": {},
   "outputs": [
    {
     "name": "stdout",
     "output_type": "stream",
     "text": [
      "CPU times: user 8.04 s, sys: 6.7 s, total: 14.7 s\n",
      "Wall time: 33.6 s\n"
     ]
    }
   ],
   "source": [
    "%%time\n",
    "\n",
    "if is_download_files:\n",
    "    setup_dir(local_temp,local_temp_pred_dir, local_temp_wk_dir)\n",
    "    download_files(s3_prefix, local_temp_pred_dir)"
   ]
  },
  {
   "cell_type": "code",
   "execution_count": 9,
   "metadata": {},
   "outputs": [
    {
     "name": "stdout",
     "output_type": "stream",
     "text": [
      "      24\r\n"
     ]
    }
   ],
   "source": [
    "!ls -l $local_temp_pred_dir | wc -l"
   ]
  },
  {
   "cell_type": "code",
   "execution_count": 10,
   "metadata": {},
   "outputs": [],
   "source": [
    "default_threshold =  0.99\n",
    "threshold_config =  {l: { \"confidence\":default_threshold}  for l in label_order}\n"
   ]
  },
  {
   "cell_type": "code",
   "execution_count": 11,
   "metadata": {},
   "outputs": [
    {
     "data": {
      "text/plain": [
       "{'False': {'confidence': 0.99}, 'True': {'confidence': 0.99}}"
      ]
     },
     "execution_count": 11,
     "metadata": {},
     "output_type": "execute_result"
    }
   ],
   "source": [
    "threshold_config"
   ]
  },
  {
   "cell_type": "code",
   "execution_count": 12,
   "metadata": {},
   "outputs": [],
   "source": [
    "def load_df_from_files(local_temp_pred_dir):\n",
    "   \n",
    "    list_df = []\n",
    "    for f in os.listdir(local_temp_pred_dir):\n",
    "        df = pd.read_json(os.path.join(local_temp_pred_dir, f), orient=\"records\" )\n",
    "        df[\"prediction\"]=df[\"prediction\"].astype(str)\n",
    "        list_df.append(df)\n",
    "    return pd.concat(list_df)\n"
   ]
  },
  {
   "cell_type": "code",
   "execution_count": 13,
   "metadata": {
    "scrolled": false
   },
   "outputs": [],
   "source": [
    "def get_summary_df(local_temp_pred_dir, use_std=False):\n",
    "    list_df_high_quality = []\n",
    "    list_df_low_quality = []\n",
    "    list_df_summary = []\n",
    "    for f in sorted(os.listdir(local_temp_pred_dir)):\n",
    "        df = pd.read_json(os.path.join(local_temp_pred_dir, f), orient=\"records\" )\n",
    "        df[\"prediction\"]=df[\"prediction\"].astype(str)\n",
    "\n",
    "        \n",
    "        list_df_summary.append(df[[\"prediction\", \"confidence\", \"confidence_std\", \"abstract_id\"]])\n",
    "\n",
    "        # Filter below threshold items\n",
    "        high_quality_frames_per_interaction = []\n",
    "        low_quality_frames_per_interaction = []\n",
    "\n",
    "\n",
    "        for k,t in threshold_config.items():\n",
    "            conf_median = t[\"confidence\"]\n",
    "            conf_std_median = 1.0\n",
    "            \n",
    "            # HQ filter query\n",
    "            high_qry = \"prediction == '{}' and confidence >= {} and confidence_std <= {}\" .format(k, conf_median, conf_std_median)\n",
    "            if not use_std:\n",
    "                high_qry = \"prediction == '{}' and confidence >= {} \" .format(k, conf_median)\n",
    "            df_sub = df.query(high_qry)\n",
    "            # sample = min(1000, len(df_sub) )\n",
    "            sample = min(1000, len(df_sub) )\n",
    "            # high_quality_frames_per_interaction.append(df_sub.sample(n=sample))\n",
    "            high_quality_frames_per_interaction.append(df_sub)\n",
    "\n",
    "\n",
    "            # Low quality filter query\n",
    "            conf_min = 0.8\n",
    "            conf_std_min = 0.0\n",
    "            low_qry = \"prediction == '{}' and confidence < {} and confidence_std > {}\" .format(k, conf_min, conf_std_min)\n",
    "            if not use_std:\n",
    "                low_qry = \"prediction == '{}' and confidence < {} \" .format(k, conf_min)\n",
    "            df_low = df.query(low_qry)\n",
    "            sample=min(1000, len(df_low) )\n",
    "            #low_quality_frames_per_interaction.append(df_low.sort_values(by=[\"prediction\", \"confidence_std\"]).head(n=sample))\n",
    "            low_quality_frames_per_interaction.append(df_low)\n",
    "           \n",
    "\n",
    "        high_quality_df = pd.concat(high_quality_frames_per_interaction)\n",
    "        low_quality_df = pd.concat(low_quality_frames_per_interaction)\n",
    "\n",
    "\n",
    "        list_df_high_quality.append(high_quality_df)\n",
    "        list_df_low_quality.append(low_quality_df)\n",
    "\n",
    "\n",
    "    \n",
    "    return pd.concat(list_df_high_quality), pd.concat(list_df_summary), pd.concat(list_df_low_quality)\n",
    "\n"
   ]
  },
  {
   "cell_type": "code",
   "execution_count": 14,
   "metadata": {},
   "outputs": [],
   "source": [
    "\n",
    "\n",
    "def is_in_training_pubmed(df, training_df):\n",
    "    return df[\"abstract_id\"].isin(training_df[\"abstract_id\"])"
   ]
  },
  {
   "cell_type": "code",
   "execution_count": 15,
   "metadata": {},
   "outputs": [],
   "source": [
    "download_file(s3_training, local_temp_wk_dir)\n",
    "training_data_file = os.path.join(local_temp_wk_dir, s3_training.split(\"/\")[-1])\n",
    "data_training_full_df = pd.read_json(training_data_file)"
   ]
  },
  {
   "cell_type": "code",
   "execution_count": 16,
   "metadata": {},
   "outputs": [
    {
     "name": "stdout",
     "output_type": "stream",
     "text": [
      "CPU times: user 6.42 s, sys: 410 ms, total: 6.83 s\n",
      "Wall time: 6.99 s\n"
     ]
    }
   ],
   "source": [
    "%%time \n",
    "\n",
    "\n",
    "df_high_quality_threshold, df_summary, df_low_quality_threshold = get_summary_df (local_temp_pred_dir)\n",
    "df_high_quality_threshold[ \"RecordInTrainingData\"] = is_in_training_pubmed( df_high_quality_threshold, data_training_full_df)\n",
    "df_summary[\"RecordInTrainingData\"] = is_in_training_pubmed( df_summary, data_training_full_df)\n",
    "df_low_quality_threshold[ \"RecordInTrainingData\"]= is_in_training_pubmed( df_low_quality_threshold, data_training_full_df)"
   ]
  },
  {
   "cell_type": "code",
   "execution_count": 17,
   "metadata": {},
   "outputs": [
    {
     "data": {
      "text/plain": [
       "prediction               object\n",
       "confidence              float64\n",
       "confidence_std          float64\n",
       "abstract_id               int64\n",
       "RecordInTrainingData       bool\n",
       "dtype: object"
      ]
     },
     "execution_count": 17,
     "metadata": {},
     "output_type": "execute_result"
    }
   ],
   "source": [
    "df_summary.dtypes"
   ]
  },
  {
   "cell_type": "code",
   "execution_count": 18,
   "metadata": {},
   "outputs": [
    {
     "data": {
      "text/html": [
       "<div>\n",
       "<style scoped>\n",
       "    .dataframe tbody tr th:only-of-type {\n",
       "        vertical-align: middle;\n",
       "    }\n",
       "\n",
       "    .dataframe tbody tr th {\n",
       "        vertical-align: top;\n",
       "    }\n",
       "\n",
       "    .dataframe thead th {\n",
       "        text-align: right;\n",
       "    }\n",
       "</style>\n",
       "<table border=\"1\" class=\"dataframe\">\n",
       "  <thead>\n",
       "    <tr style=\"text-align: right;\">\n",
       "      <th></th>\n",
       "      <th>count</th>\n",
       "      <th>mean</th>\n",
       "      <th>std</th>\n",
       "      <th>min</th>\n",
       "      <th>25%</th>\n",
       "      <th>50%</th>\n",
       "      <th>75%</th>\n",
       "      <th>max</th>\n",
       "    </tr>\n",
       "    <tr>\n",
       "      <th>prediction</th>\n",
       "      <th></th>\n",
       "      <th></th>\n",
       "      <th></th>\n",
       "      <th></th>\n",
       "      <th></th>\n",
       "      <th></th>\n",
       "      <th></th>\n",
       "      <th></th>\n",
       "    </tr>\n",
       "  </thead>\n",
       "  <tbody>\n",
       "    <tr>\n",
       "      <th>False</th>\n",
       "      <td>436114.0</td>\n",
       "      <td>0.987311</td>\n",
       "      <td>0.053891</td>\n",
       "      <td>0.500157</td>\n",
       "      <td>0.998959</td>\n",
       "      <td>0.999541</td>\n",
       "      <td>0.999644</td>\n",
       "      <td>0.999780</td>\n",
       "    </tr>\n",
       "    <tr>\n",
       "      <th>True</th>\n",
       "      <td>64705.0</td>\n",
       "      <td>0.938449</td>\n",
       "      <td>0.116219</td>\n",
       "      <td>0.500027</td>\n",
       "      <td>0.950784</td>\n",
       "      <td>0.995224</td>\n",
       "      <td>0.998197</td>\n",
       "      <td>0.999047</td>\n",
       "    </tr>\n",
       "  </tbody>\n",
       "</table>\n",
       "</div>"
      ],
      "text/plain": [
       "               count      mean       std       min       25%       50%  \\\n",
       "prediction                                                               \n",
       "False       436114.0  0.987311  0.053891  0.500157  0.998959  0.999541   \n",
       "True         64705.0  0.938449  0.116219  0.500027  0.950784  0.995224   \n",
       "\n",
       "                 75%       max  \n",
       "prediction                      \n",
       "False       0.999644  0.999780  \n",
       "True        0.998197  0.999047  "
      ]
     },
     "execution_count": 18,
     "metadata": {},
     "output_type": "execute_result"
    }
   ],
   "source": [
    "df_summary.groupby(\"prediction\")[\"confidence\"].describe()"
   ]
  },
  {
   "cell_type": "code",
   "execution_count": 19,
   "metadata": {},
   "outputs": [],
   "source": [
    "import matplotlib.gridspec as gridspec\n",
    "\n",
    "import numpy as np\n",
    "\n",
    "def box_plot_prediction_confidence(df, df_high_quality, subplot_spec, title_prefix=\"\", set_title=True):\n",
    "    \n",
    "    df = df[~df.RecordInTrainingData].copy()\n",
    "    df_high_quality = df_high_quality[~df_high_quality.RecordInTrainingData].copy()\n",
    "    \n",
    "    \n",
    "    interaction_types = label_order\n",
    "    \n",
    "    num_plots = len(interaction_types)\n",
    "    gs = gridspec.GridSpecFromSubplotSpec(1, len(label_order), subplot_spec=subplot_spec)\n",
    "    \n",
    "    for i, interaction in enumerate(interaction_types):\n",
    "        df_interaction = df.query(f\"prediction == '{interaction}'\")\n",
    "        df_interaction_high_quality = df_high_quality.query(f\"prediction == '{interaction}'\")\n",
    "        \n",
    "        if len(df_interaction) == 0: continue\n",
    "        \n",
    "        ax = fig.add_subplot(gs[0, i])\n",
    "    \n",
    "    \n",
    "        # Rename columns\n",
    "        new_column_names = {\"confidence\":\"c\", \n",
    "                           \"confidence_std\" : \"v\"\n",
    "                            }\n",
    "        df_interaction = df_interaction.rename(columns = new_column_names)\n",
    "        df_interaction_high_quality=df_interaction_high_quality.rename(columns = new_column_names)\n",
    "        \n",
    "        \n",
    "        # Style and formatting..\n",
    "        \n",
    "        if set_title:\n",
    "            ax.set_title(\"{}{}\\nT={} (HQ={}%)\".format( title_prefix,\n",
    "                                               label_title_map.get(interaction, interaction).title(),\n",
    "                                               len(df_interaction),\n",
    "                                               round(100 * len(df_interaction_high_quality)/len(df_interaction),2)                \n",
    "                                              )\n",
    "                        )\n",
    "        ax.set_ylim(0,1)\n",
    "        \n",
    "        ax.tick_params(\n",
    "            axis='x',          # changes apply to the x-axis\n",
    "            which='both',      # both major and minor ticks are affected\n",
    "            bottom=False,      # ticks along the bottom edge are off\n",
    "            top=False,         # ticks along the top edge are off\n",
    "            labelbottom=False)\n",
    "        \n",
    "        ax.spines['bottom'].set_color('grey')\n",
    "        ax.spines['top'].set_color('grey') \n",
    "        ax.spines['right'].set_color('grey')\n",
    "        ax.spines['left'].set_color('grey')\n",
    "        \n",
    "        \n",
    "        # Plot violin plot        \n",
    "        ax.violinplot(df_interaction[[\"c\", \"v\" ]],  showmeans=True )\n",
    "        if len(df_interaction_high_quality) > 0:\n",
    "            ax.violinplot(df_interaction_high_quality[[\"c\", \"v\" ]],  showmeans=True )\n",
    "        \n",
    "        \n",
    "        x_labels = ['C', 'V']\n",
    "        \n",
    "        ax.xaxis.set_tick_params(direction='out')\n",
    "        ax.xaxis.set_ticks_position('bottom')\n",
    "        ax.set_xticks(np.arange(1, len(x_labels) + 1))\n",
    "        ax.set_xticklabels(x_labels)\n",
    "        ax.set_xlim(0.25, len(x_labels) + 0.75)\n",
    "        \n",
    "        \n",
    "       \n",
    "\n",
    "\n",
    "\n",
    "        \n"
   ]
  },
  {
   "cell_type": "code",
   "execution_count": 20,
   "metadata": {},
   "outputs": [
    {
     "data": {
      "text/plain": [
       "((430378, 9), (500819, 5))"
      ]
     },
     "execution_count": 20,
     "metadata": {},
     "output_type": "execute_result"
    }
   ],
   "source": [
    "df_high_quality_threshold.shape, df_summary.shape"
   ]
  },
  {
   "cell_type": "code",
   "execution_count": 21,
   "metadata": {},
   "outputs": [
    {
     "name": "stderr",
     "output_type": "stream",
     "text": [
      "/Users/aparnaelangovan/PycharmProjects/venv/large-scale-ptm-ppi/lib/python3.7/site-packages/numpy/linalg/linalg.py:2158: RuntimeWarning: invalid value encountered in det\n",
      "  r = _umath_linalg.det(a, signature=signature)\n"
     ]
    },
    {
     "data": {
      "image/png": "[encoded data removed]",
      "text/plain": [
       "<Figure size 1800x504 with 2 Axes>"
      ]
     },
     "metadata": {
      "needs_background": "light"
     },
     "output_type": "display_data"
    }
   ],
   "source": [
    "fig = plt.figure(figsize=(25 , 7))\n",
    "gs = fig.add_gridspec(nrows=2)\n",
    "\n",
    "box_plot_prediction_confidence(df_summary, df_high_quality_threshold, gs[0])\n",
    "\n",
    "plt.savefig(\"largescaleprediction_distribution.pdf\", bbox_inches=\"tight\")"
   ]
  },
  {
   "cell_type": "code",
   "execution_count": 22,
   "metadata": {},
   "outputs": [
    {
     "data": {
      "text/plain": [
       "count    500819.000000\n",
       "mean          0.980998\n",
       "std           0.067399\n",
       "min           0.500027\n",
       "25%           0.997943\n",
       "50%           0.999478\n",
       "75%           0.999636\n",
       "max           0.999780\n",
       "Name: confidence, dtype: float64"
      ]
     },
     "execution_count": 22,
     "metadata": {},
     "output_type": "execute_result"
    }
   ],
   "source": [
    "df_summary[\"confidence\"].describe()"
   ]
  },
  {
   "cell_type": "code",
   "execution_count": 23,
   "metadata": {},
   "outputs": [
    {
     "data": {
      "text/plain": [
       "False    9650\n",
       "True     7970\n",
       "Name: prediction, dtype: int64"
      ]
     },
     "execution_count": 23,
     "metadata": {},
     "output_type": "execute_result"
    }
   ],
   "source": [
    "df_low_quality_threshold[\"prediction\"].value_counts()"
   ]
  },
  {
   "cell_type": "code",
   "execution_count": 24,
   "metadata": {},
   "outputs": [
    {
     "name": "stderr",
     "output_type": "stream",
     "text": [
      "/Users/aparnaelangovan/PycharmProjects/venv/large-scale-ptm-ppi/lib/python3.7/site-packages/numpy/linalg/linalg.py:2158: RuntimeWarning: invalid value encountered in det\n",
      "  r = _umath_linalg.det(a, signature=signature)\n"
     ]
    },
    {
     "data": {
      "image/png": "[encoded data removed]",
      "text/plain": [
       "<Figure size 1800x504 with 2 Axes>"
      ]
     },
     "metadata": {
      "needs_background": "light"
     },
     "output_type": "display_data"
    }
   ],
   "source": [
    "fig = plt.figure(figsize=(25 , 7))\n",
    "gs = fig.add_gridspec(nrows=2)\n",
    "\n",
    "box_plot_prediction_confidence(df_summary, df_low_quality_threshold, gs[0])\n",
    "\n"
   ]
  },
  {
   "cell_type": "code",
   "execution_count": 25,
   "metadata": {},
   "outputs": [
    {
     "data": {
      "text/plain": [
       "(500819, 5)"
      ]
     },
     "execution_count": 25,
     "metadata": {},
     "output_type": "execute_result"
    }
   ],
   "source": [
    "df_summary.shape"
   ]
  },
  {
   "cell_type": "code",
   "execution_count": 26,
   "metadata": {},
   "outputs": [
    {
     "data": {
      "text/html": [
       "<div>\n",
       "<style scoped>\n",
       "    .dataframe tbody tr th:only-of-type {\n",
       "        vertical-align: middle;\n",
       "    }\n",
       "\n",
       "    .dataframe tbody tr th {\n",
       "        vertical-align: top;\n",
       "    }\n",
       "\n",
       "    .dataframe thead th {\n",
       "        text-align: right;\n",
       "    }\n",
       "</style>\n",
       "<table border=\"1\" class=\"dataframe\">\n",
       "  <thead>\n",
       "    <tr style=\"text-align: right;\">\n",
       "      <th></th>\n",
       "      <th>prediction</th>\n",
       "      <th>False</th>\n",
       "      <th>True</th>\n",
       "    </tr>\n",
       "  </thead>\n",
       "  <tbody>\n",
       "    <tr>\n",
       "      <th rowspan=\"8\" valign=\"top\">confidence</th>\n",
       "      <th>count</th>\n",
       "      <td>436114.000000</td>\n",
       "      <td>64705.000000</td>\n",
       "    </tr>\n",
       "    <tr>\n",
       "      <th>mean</th>\n",
       "      <td>0.987311</td>\n",
       "      <td>0.938449</td>\n",
       "    </tr>\n",
       "    <tr>\n",
       "      <th>std</th>\n",
       "      <td>0.053891</td>\n",
       "      <td>0.116219</td>\n",
       "    </tr>\n",
       "    <tr>\n",
       "      <th>min</th>\n",
       "      <td>0.500157</td>\n",
       "      <td>0.500027</td>\n",
       "    </tr>\n",
       "    <tr>\n",
       "      <th>25%</th>\n",
       "      <td>0.998959</td>\n",
       "      <td>0.950784</td>\n",
       "    </tr>\n",
       "    <tr>\n",
       "      <th>50%</th>\n",
       "      <td>0.999541</td>\n",
       "      <td>0.995224</td>\n",
       "    </tr>\n",
       "    <tr>\n",
       "      <th>75%</th>\n",
       "      <td>0.999644</td>\n",
       "      <td>0.998197</td>\n",
       "    </tr>\n",
       "    <tr>\n",
       "      <th>max</th>\n",
       "      <td>0.999780</td>\n",
       "      <td>0.999047</td>\n",
       "    </tr>\n",
       "  </tbody>\n",
       "</table>\n",
       "</div>"
      ],
      "text/plain": [
       "prediction                False          True\n",
       "confidence count  436114.000000  64705.000000\n",
       "           mean        0.987311      0.938449\n",
       "           std         0.053891      0.116219\n",
       "           min         0.500157      0.500027\n",
       "           25%         0.998959      0.950784\n",
       "           50%         0.999541      0.995224\n",
       "           75%         0.999644      0.998197\n",
       "           max         0.999780      0.999047"
      ]
     },
     "execution_count": 26,
     "metadata": {},
     "output_type": "execute_result"
    }
   ],
   "source": [
    "df_summary[[\"confidence\",\"prediction\"]].groupby(\"prediction\").describe().T"
   ]
  },
  {
   "cell_type": "code",
   "execution_count": 27,
   "metadata": {},
   "outputs": [
    {
     "name": "stdout",
     "output_type": "stream",
     "text": [
      "\\begin{tabular}{lrr}\n",
      "\\toprule\n",
      "{} &  all\\_count &  thresh\\_count \\\\\n",
      "prediction &            &               \\\\\n",
      "\\midrule\n",
      "False      &     436108 &        391677 \\\\\n",
      "True       &      64705 &         38697 \\\\\n",
      "Total      &     500813 &        430374 \\\\\n",
      "\\bottomrule\n",
      "\\end{tabular}\n",
      "\n",
      "CPU times: user 178 ms, sys: 21.5 ms, total: 200 ms\n",
      "Wall time: 165 ms\n"
     ]
    },
    {
     "data": {
      "text/html": [
       "<div>\n",
       "<style scoped>\n",
       "    .dataframe tbody tr th:only-of-type {\n",
       "        vertical-align: middle;\n",
       "    }\n",
       "\n",
       "    .dataframe tbody tr th {\n",
       "        vertical-align: top;\n",
       "    }\n",
       "\n",
       "    .dataframe thead th {\n",
       "        text-align: right;\n",
       "    }\n",
       "</style>\n",
       "<table border=\"1\" class=\"dataframe\">\n",
       "  <thead>\n",
       "    <tr style=\"text-align: right;\">\n",
       "      <th></th>\n",
       "      <th>all_count</th>\n",
       "      <th>thresh_count</th>\n",
       "    </tr>\n",
       "    <tr>\n",
       "      <th>prediction</th>\n",
       "      <th></th>\n",
       "      <th></th>\n",
       "    </tr>\n",
       "  </thead>\n",
       "  <tbody>\n",
       "    <tr>\n",
       "      <th>False</th>\n",
       "      <td>436108</td>\n",
       "      <td>391677</td>\n",
       "    </tr>\n",
       "    <tr>\n",
       "      <th>True</th>\n",
       "      <td>64705</td>\n",
       "      <td>38697</td>\n",
       "    </tr>\n",
       "    <tr>\n",
       "      <th>Total</th>\n",
       "      <td>500813</td>\n",
       "      <td>430374</td>\n",
       "    </tr>\n",
       "  </tbody>\n",
       "</table>\n",
       "</div>"
      ],
      "text/plain": [
       "            all_count  thresh_count\n",
       "prediction                         \n",
       "False          436108        391677\n",
       "True            64705         38697\n",
       "Total          500813        430374"
      ]
     },
     "execution_count": 27,
     "metadata": {},
     "output_type": "execute_result"
    }
   ],
   "source": [
    "%%time\n",
    "\n",
    "def prepare_predictions_summary(df_full, df_high_quality_threshold):\n",
    "    \n",
    "    \n",
    "    df_full = df_full[~df_full.RecordInTrainingData].copy()\n",
    "    \n",
    "    df_high_quality_threshold = df_high_quality_threshold[~df_high_quality_threshold.RecordInTrainingData].copy()\n",
    "\n",
    "\n",
    "        \n",
    "    \n",
    "    summary_df = pd.DataFrame(df_full\n",
    "                  .groupby([ \"prediction\"]).size()).rename(columns={0: \"all_count\"})\n",
    "\n",
    "    \n",
    "\n",
    "    thresh_df = pd.DataFrame(df_high_quality_threshold\\\n",
    "              .groupby('prediction').size())\\\n",
    "              .rename(columns={0: \"thresh_count\"})\n",
    "    \n",
    "    \n",
    "    \n",
    "    \n",
    "    dfs = [summary_df,  thresh_df]\n",
    "    result_df = pd.DataFrame()\n",
    "    \n",
    "    for df in dfs:\n",
    "        result_df = result_df.merge(df, left_index=True,  right_index=True, how=\"outer\")\n",
    "        \n",
    "        \n",
    "    for col in result_df.columns:\n",
    "        result_df.loc[\"Total\",col] = result_df[col].sum()\n",
    "        \n",
    "    result_df = result_df.fillna(0)\n",
    "        \n",
    "    result_df = result_df.astype(int)\n",
    "    return result_df\n",
    "\n",
    "\n",
    "latex_df_results = prepare_predictions_summary(df_summary, df_high_quality_threshold)\n",
    "\n",
    "print(latex_df_results.to_latex( index=True))\n",
    "\n",
    "latex_df_results"
   ]
  },
  {
   "cell_type": "code",
   "execution_count": 28,
   "metadata": {},
   "outputs": [
    {
     "data": {
      "text/plain": [
       "prediction\n",
       "False    391681\n",
       "True      38697\n",
       "dtype: int64"
      ]
     },
     "execution_count": 28,
     "metadata": {},
     "output_type": "execute_result"
    }
   ],
   "source": [
    "df_high_quality_threshold.groupby([\"prediction\"]).size()"
   ]
  },
  {
   "cell_type": "code",
   "execution_count": 29,
   "metadata": {},
   "outputs": [],
   "source": [
    "\n",
    "pd.set_option('display.max_columns', None)\n",
    "pd.set_option('display.max_rows', 100)\n",
    "\n",
    "plt.rcParams.update({'font.size': 12})"
   ]
  },
  {
   "cell_type": "code",
   "execution_count": 30,
   "metadata": {},
   "outputs": [],
   "source": [
    "\n",
    "local_file_high_q_sample = os.path.join(local_temp, \"highquality_sample.json\")\n",
    "local_file_low_q_sample = os.path.join(local_temp, \"lowquality_sample.json\")\n",
    "\n",
    "df_high_quality_threshold.to_json(local_file_high_q_sample,  orient='records')\n",
    "df_low_quality_threshold.to_json(local_file_low_q_sample,   orient='records')\n",
    "\n",
    "\n"
   ]
  },
  {
   "cell_type": "code",
   "execution_count": 31,
   "metadata": {},
   "outputs": [],
   "source": [
    "upload_file( local_file_high_q_sample, \"{}/\".format( s3_output_prefix.rstrip(\"/\")))\n",
    "upload_file( local_file_low_q_sample, \"{}/\".format( s3_output_prefix.rstrip(\"/\")))\n",
    "\n"
   ]
  },
  {
   "cell_type": "code",
   "execution_count": 32,
   "metadata": {},
   "outputs": [],
   "source": [
    "from utils.ppi_multiclass_comparer import PpiMulticlassComparer\n",
    "from utils.similarity_comparer import SimilarityComparer\n",
    "import pandas as pd\n",
    "import tempfile\n",
    "import transformers\n",
    "\n",
    "def get_sim_scores(ref_file_or_df, target_file_or_df, n_gram, additional_target_cols):\n",
    "    marker_ref_file = ref_file_or_df\n",
    "    marker_target_file = target_file_or_df\n",
    "\n",
    "    \n",
    "    if isinstance(ref_file_or_df, str):\n",
    "        df_ref_marker = pd.read_json(marker_ref_file)\n",
    "        df_target_marker =  pd.read_json(marker_target_file)\n",
    "    else:\n",
    "        df_ref_marker = marker_ref_file\n",
    "        df_target_marker = marker_target_file\n",
    "        \n",
    "    t = transformers.AutoTokenizer.from_pretrained(\"bert-base-cased\")\n",
    "    \n",
    "    comparer =  SimilarityComparer(n_gram=n_gram, max_features=None, stop_words=None, analyzer=lambda x: t.convert_ids_to_tokens(t([x], add_special_tokens=False)[\"input_ids\"][0])[:512])\n",
    "    comparison_result = comparer(df_ref_marker[\"abstract\"].tolist(), df_target_marker[\"abstract\"].tolist())\n",
    "    \n",
    "    sim_score = comparison_result[0]\n",
    "    \n",
    "    df_target_marker[\"sim_score\"]  = comparison_result[0]\n",
    "    return df_target_marker\n",
    "    \n",
    "def plot_sim_scores(df, ax, interaction, title_prefix ):\n",
    "    \n",
    "    for i, interaction_type in enumerate(interaction): \n",
    "        df_interaction = df.query(f\"interaction_type == '{interaction_type}'\")\n",
    "        \n",
    "        if len(df_interaction) ==0: continue\n",
    "            \n",
    "        ax[i].set_ylim(0,1)\n",
    "        \n",
    "        ax[i].set_title(f\"{title_prefix} {interaction_type}\")\n",
    "\n",
    "        ax[i].tick_params(\n",
    "            axis='x',          # changes apply to the x-axis\n",
    "            which='both',      # both major and minor ticks are affected\n",
    "            bottom=False,      # ticks along the bottom edge are off\n",
    "            top=False,         # ticks along the top edge are off\n",
    "            labelbottom=False)\n",
    "\n",
    "        ax[i].spines['bottom'].set_color('grey')\n",
    "        ax[i].spines['top'].set_color('grey') \n",
    "        ax[i].spines['right'].set_color('grey')\n",
    "        ax[i].spines['left'].set_color('grey')\n",
    "        \n",
    "        \n",
    "\n",
    "        ax[i].violinplot(df_interaction[\"best_score\"],  showmeans=True )"
   ]
  },
  {
   "cell_type": "code",
   "execution_count": 33,
   "metadata": {},
   "outputs": [
    {
     "data": {
      "text/plain": [
       "(430378, 9)"
      ]
     },
     "execution_count": 33,
     "metadata": {},
     "output_type": "execute_result"
    }
   ],
   "source": [
    "df_high_quality_threshold.shape"
   ]
  },
  {
   "cell_type": "code",
   "execution_count": 34,
   "metadata": {},
   "outputs": [
    {
     "name": "stderr",
     "output_type": "stream",
     "text": [
      "Token indices sequence length is longer than the specified maximum sequence length for this model (613 > 512). Running this sequence through the model will result in indexing errors\n"
     ]
    },
    {
     "data": {
      "text/html": [
       "<div>\n",
       "<style scoped>\n",
       "    .dataframe tbody tr th:only-of-type {\n",
       "        vertical-align: middle;\n",
       "    }\n",
       "\n",
       "    .dataframe tbody tr th {\n",
       "        vertical-align: top;\n",
       "    }\n",
       "\n",
       "    .dataframe thead th {\n",
       "        text-align: right;\n",
       "    }\n",
       "</style>\n",
       "<table border=\"1\" class=\"dataframe\">\n",
       "  <thead>\n",
       "    <tr style=\"text-align: right;\">\n",
       "      <th></th>\n",
       "      <th>abstract_id</th>\n",
       "      <th>abstract</th>\n",
       "      <th>false</th>\n",
       "      <th>true</th>\n",
       "      <th>prediction</th>\n",
       "      <th>confidence</th>\n",
       "      <th>confidence_std</th>\n",
       "      <th>raw_confidence</th>\n",
       "      <th>RecordInTrainingData</th>\n",
       "      <th>sim_score</th>\n",
       "    </tr>\n",
       "  </thead>\n",
       "  <tbody>\n",
       "    <tr>\n",
       "      <th>0</th>\n",
       "      <td>18506356</td>\n",
       "      <td>Psoriasis represents a potentially life-alteri...</td>\n",
       "      <td>0.999655</td>\n",
       "      <td>0.000345</td>\n",
       "      <td>False</td>\n",
       "      <td>0.999655</td>\n",
       "      <td>NaN</td>\n",
       "      <td>[0.999655127525329]</td>\n",
       "      <td>False</td>\n",
       "      <td>0.652574</td>\n",
       "    </tr>\n",
       "    <tr>\n",
       "      <th>1</th>\n",
       "      <td>18506357</td>\n",
       "      <td>The pemphigus variants represent a group of po...</td>\n",
       "      <td>0.999560</td>\n",
       "      <td>0.000440</td>\n",
       "      <td>False</td>\n",
       "      <td>0.999560</td>\n",
       "      <td>NaN</td>\n",
       "      <td>[0.9995598196983331]</td>\n",
       "      <td>False</td>\n",
       "      <td>0.619396</td>\n",
       "    </tr>\n",
       "    <tr>\n",
       "      <th>2</th>\n",
       "      <td>18506359</td>\n",
       "      <td>Renin is the rate limiting enzyme in the renin...</td>\n",
       "      <td>0.996470</td>\n",
       "      <td>0.003530</td>\n",
       "      <td>False</td>\n",
       "      <td>0.996470</td>\n",
       "      <td>NaN</td>\n",
       "      <td>[0.99647045135498]</td>\n",
       "      <td>False</td>\n",
       "      <td>0.566603</td>\n",
       "    </tr>\n",
       "    <tr>\n",
       "      <th>4</th>\n",
       "      <td>18506360</td>\n",
       "      <td>Neuromedin-U (NMU) is a brain-gut peptide, whi...</td>\n",
       "      <td>0.999393</td>\n",
       "      <td>0.000608</td>\n",
       "      <td>False</td>\n",
       "      <td>0.999393</td>\n",
       "      <td>NaN</td>\n",
       "      <td>[0.9993925094604491]</td>\n",
       "      <td>False</td>\n",
       "      <td>0.535136</td>\n",
       "    </tr>\n",
       "    <tr>\n",
       "      <th>5</th>\n",
       "      <td>18506362</td>\n",
       "      <td>Although a number of environmental risk factor...</td>\n",
       "      <td>0.995758</td>\n",
       "      <td>0.004242</td>\n",
       "      <td>False</td>\n",
       "      <td>0.995758</td>\n",
       "      <td>NaN</td>\n",
       "      <td>[0.9957576394081111]</td>\n",
       "      <td>False</td>\n",
       "      <td>0.553220</td>\n",
       "    </tr>\n",
       "  </tbody>\n",
       "</table>\n",
       "</div>"
      ],
      "text/plain": [
       "   abstract_id                                           abstract     false  \\\n",
       "0     18506356  Psoriasis represents a potentially life-alteri...  0.999655   \n",
       "1     18506357  The pemphigus variants represent a group of po...  0.999560   \n",
       "2     18506359  Renin is the rate limiting enzyme in the renin...  0.996470   \n",
       "4     18506360  Neuromedin-U (NMU) is a brain-gut peptide, whi...  0.999393   \n",
       "5     18506362  Although a number of environmental risk factor...  0.995758   \n",
       "\n",
       "       true prediction  confidence  confidence_std        raw_confidence  \\\n",
       "0  0.000345      False    0.999655             NaN   [0.999655127525329]   \n",
       "1  0.000440      False    0.999560             NaN  [0.9995598196983331]   \n",
       "2  0.003530      False    0.996470             NaN    [0.99647045135498]   \n",
       "4  0.000608      False    0.999393             NaN  [0.9993925094604491]   \n",
       "5  0.004242      False    0.995758             NaN  [0.9957576394081111]   \n",
       "\n",
       "   RecordInTrainingData  sim_score  \n",
       "0                 False   0.652574  \n",
       "1                 False   0.619396  \n",
       "2                 False   0.566603  \n",
       "4                 False   0.535136  \n",
       "5                 False   0.553220  "
      ]
     },
     "execution_count": 34,
     "metadata": {},
     "output_type": "execute_result"
    }
   ],
   "source": [
    "df_sim_score_high = get_sim_scores(data_training_full_df, df_high_quality_threshold, n_gram=1, additional_target_cols=list(df_high_quality_threshold.columns))\n",
    "\n",
    "df_sim_score_high.head()\n"
   ]
  },
  {
   "cell_type": "code",
   "execution_count": 35,
   "metadata": {},
   "outputs": [
    {
     "data": {
      "text/plain": [
       "<AxesSubplot:>"
      ]
     },
     "execution_count": 35,
     "metadata": {},
     "output_type": "execute_result"
    },
    {
     "data": {
      "image/png": "[encoded data removed]",
      "text/plain": [
       "<Figure size 432x288 with 1 Axes>"
      ]
     },
     "metadata": {
      "needs_background": "light"
     },
     "output_type": "display_data"
    }
   ],
   "source": [
    "df_sim_score_high[[\"confidence\",\"sim_score\"]].plot.box()"
   ]
  },
  {
   "cell_type": "code",
   "execution_count": 36,
   "metadata": {},
   "outputs": [
    {
     "name": "stderr",
     "output_type": "stream",
     "text": [
      "Token indices sequence length is longer than the specified maximum sequence length for this model (613 > 512). Running this sequence through the model will result in indexing errors\n"
     ]
    },
    {
     "data": {
      "text/plain": [
       "<AxesSubplot:>"
      ]
     },
     "execution_count": 36,
     "metadata": {},
     "output_type": "execute_result"
    },
    {
     "data": {
      "image/png": "[encoded data removed]",
      "text/plain": [
       "<Figure size 432x288 with 1 Axes>"
      ]
     },
     "metadata": {
      "needs_background": "light"
     },
     "output_type": "display_data"
    }
   ],
   "source": [
    "df_sim_score_low = get_sim_scores(data_training_full_df, df_low_quality_threshold, n_gram=1, additional_target_cols=list(df_low_quality_threshold.columns))\n",
    "df_sim_score_low[[\"confidence\",\"sim_score\"]].plot.box()"
   ]
  },
  {
   "cell_type": "code",
   "execution_count": 37,
   "metadata": {},
   "outputs": [],
   "source": [
    "def plot_box_sim_scores_confidence(df_high, df_low):\n",
    "    p_unique = sorted(list(df_high[\"prediction\"].unique()))\n",
    "    \n",
    "    _, axes = plt.subplots(1, len(p_unique), figsize=(30 ,8))\n",
    "    \n",
    "    for i, l in enumerate(p_unique):\n",
    "        dh = df_high.query(f\"prediction == '{l}'\")\n",
    "        dl = df_low.query(f\"prediction == '{l}'\")\n",
    "        \n",
    "        dl = dl[[\"confidence\", \"sim_score\"]]\n",
    "        dh = dh[[\"confidence\", \"sim_score\"]]                   \n",
    "                    \n",
    "        \n",
    "        data = dh.values.T.tolist()\n",
    "        data.extend(dl.values.T.tolist())\n",
    "      \n",
    "        ax=axes[i]\n",
    "        ax.boxplot(data, showmeans=True)\n",
    "        ax.set_title(l)\n",
    "        ax.set_xticklabels([\"GHC\",\"GHS\", \"GLC\", \"GLS\"])\n"
   ]
  },
  {
   "cell_type": "code",
   "execution_count": 38,
   "metadata": {},
   "outputs": [
    {
     "data": {
      "text/plain": [
       "count    430378.000000\n",
       "mean        128.858968\n",
       "std          80.364071\n",
       "min           1.000000\n",
       "25%          54.000000\n",
       "50%         127.000000\n",
       "75%         192.000000\n",
       "max        1560.000000\n",
       "Name: abstract, dtype: float64"
      ]
     },
     "execution_count": 38,
     "metadata": {},
     "output_type": "execute_result"
    }
   ],
   "source": [
    "df_sim_score_high[\"abstract\"].apply(lambda x: len(x.split(\" \"))).describe()"
   ]
  },
  {
   "cell_type": "code",
   "execution_count": 39,
   "metadata": {},
   "outputs": [
    {
     "data": {
      "text/plain": [
       "count    17620.000000\n",
       "mean       176.104484\n",
       "std         84.826825\n",
       "min         21.000000\n",
       "25%        108.000000\n",
       "50%        173.000000\n",
       "75%        233.000000\n",
       "max       1514.000000\n",
       "Name: abstract, dtype: float64"
      ]
     },
     "execution_count": 39,
     "metadata": {},
     "output_type": "execute_result"
    }
   ],
   "source": [
    "df_sim_score_low[\"abstract\"].apply(lambda x: len(x.split(\" \"))).describe()"
   ]
  },
  {
   "cell_type": "code",
   "execution_count": 40,
   "metadata": {},
   "outputs": [
    {
     "data": {
      "text/plain": [
       "count    767.000000\n",
       "mean     233.923077\n",
       "std       69.000061\n",
       "min       46.000000\n",
       "25%      189.500000\n",
       "50%      236.000000\n",
       "75%      266.000000\n",
       "max      730.000000\n",
       "Name: abstract, dtype: float64"
      ]
     },
     "execution_count": 40,
     "metadata": {},
     "output_type": "execute_result"
    }
   ],
   "source": [
    "data_training_full_df[\"abstract\"].apply(lambda x: len(x.split(\" \"))).describe()"
   ]
  },
  {
   "cell_type": "code",
   "execution_count": 41,
   "metadata": {},
   "outputs": [
    {
     "data": {
      "image/png": "[encoded data removed]",
      "text/plain": [
       "<Figure size 2160x576 with 2 Axes>"
      ]
     },
     "metadata": {
      "needs_background": "light"
     },
     "output_type": "display_data"
    }
   ],
   "source": [
    "plot_box_sim_scores_confidence(df_sim_score_high, df_sim_score_low)"
   ]
  },
  {
   "cell_type": "code",
   "execution_count": 42,
   "metadata": {},
   "outputs": [
    {
     "data": {
      "text/html": [
       "<div>\n",
       "<style scoped>\n",
       "    .dataframe tbody tr th:only-of-type {\n",
       "        vertical-align: middle;\n",
       "    }\n",
       "\n",
       "    .dataframe tbody tr th {\n",
       "        vertical-align: top;\n",
       "    }\n",
       "\n",
       "    .dataframe thead tr th {\n",
       "        text-align: left;\n",
       "    }\n",
       "\n",
       "    .dataframe thead tr:last-of-type th {\n",
       "        text-align: right;\n",
       "    }\n",
       "</style>\n",
       "<table border=\"1\" class=\"dataframe\">\n",
       "  <thead>\n",
       "    <tr>\n",
       "      <th></th>\n",
       "      <th colspan=\"8\" halign=\"left\">confidence</th>\n",
       "      <th colspan=\"8\" halign=\"left\">sim_score</th>\n",
       "    </tr>\n",
       "    <tr>\n",
       "      <th></th>\n",
       "      <th>count</th>\n",
       "      <th>mean</th>\n",
       "      <th>std</th>\n",
       "      <th>min</th>\n",
       "      <th>25%</th>\n",
       "      <th>50%</th>\n",
       "      <th>75%</th>\n",
       "      <th>max</th>\n",
       "      <th>count</th>\n",
       "      <th>mean</th>\n",
       "      <th>std</th>\n",
       "      <th>min</th>\n",
       "      <th>25%</th>\n",
       "      <th>50%</th>\n",
       "      <th>75%</th>\n",
       "      <th>max</th>\n",
       "    </tr>\n",
       "    <tr>\n",
       "      <th>prediction</th>\n",
       "      <th></th>\n",
       "      <th></th>\n",
       "      <th></th>\n",
       "      <th></th>\n",
       "      <th></th>\n",
       "      <th></th>\n",
       "      <th></th>\n",
       "      <th></th>\n",
       "      <th></th>\n",
       "      <th></th>\n",
       "      <th></th>\n",
       "      <th></th>\n",
       "      <th></th>\n",
       "      <th></th>\n",
       "      <th></th>\n",
       "      <th></th>\n",
       "    </tr>\n",
       "  </thead>\n",
       "  <tbody>\n",
       "    <tr>\n",
       "      <th>False</th>\n",
       "      <td>391681.0</td>\n",
       "      <td>0.999093</td>\n",
       "      <td>0.001376</td>\n",
       "      <td>0.990004</td>\n",
       "      <td>0.999309</td>\n",
       "      <td>0.999572</td>\n",
       "      <td>0.999650</td>\n",
       "      <td>0.999780</td>\n",
       "      <td>391681.0</td>\n",
       "      <td>0.554246</td>\n",
       "      <td>0.100766</td>\n",
       "      <td>0.055956</td>\n",
       "      <td>0.489593</td>\n",
       "      <td>0.567084</td>\n",
       "      <td>0.628313</td>\n",
       "      <td>0.993318</td>\n",
       "    </tr>\n",
       "    <tr>\n",
       "      <th>True</th>\n",
       "      <td>38697.0</td>\n",
       "      <td>0.997086</td>\n",
       "      <td>0.002052</td>\n",
       "      <td>0.990001</td>\n",
       "      <td>0.996434</td>\n",
       "      <td>0.997982</td>\n",
       "      <td>0.998495</td>\n",
       "      <td>0.999047</td>\n",
       "      <td>38697.0</td>\n",
       "      <td>0.607947</td>\n",
       "      <td>0.055315</td>\n",
       "      <td>0.365894</td>\n",
       "      <td>0.571501</td>\n",
       "      <td>0.609567</td>\n",
       "      <td>0.646187</td>\n",
       "      <td>0.852665</td>\n",
       "    </tr>\n",
       "  </tbody>\n",
       "</table>\n",
       "</div>"
      ],
      "text/plain": [
       "           confidence                                                    \\\n",
       "                count      mean       std       min       25%       50%   \n",
       "prediction                                                                \n",
       "False        391681.0  0.999093  0.001376  0.990004  0.999309  0.999572   \n",
       "True          38697.0  0.997086  0.002052  0.990001  0.996434  0.997982   \n",
       "\n",
       "                               sim_score                                \\\n",
       "                 75%       max     count      mean       std       min   \n",
       "prediction                                                               \n",
       "False       0.999650  0.999780  391681.0  0.554246  0.100766  0.055956   \n",
       "True        0.998495  0.999047   38697.0  0.607947  0.055315  0.365894   \n",
       "\n",
       "                                                    \n",
       "                 25%       50%       75%       max  \n",
       "prediction                                          \n",
       "False       0.489593  0.567084  0.628313  0.993318  \n",
       "True        0.571501  0.609567  0.646187  0.852665  "
      ]
     },
     "execution_count": 42,
     "metadata": {},
     "output_type": "execute_result"
    }
   ],
   "source": [
    "df_sim_score_high[[\"confidence\", \"sim_score\",\"prediction\"]].groupby([\"prediction\"]).describe()"
   ]
  },
  {
   "cell_type": "code",
   "execution_count": 43,
   "metadata": {},
   "outputs": [
    {
     "data": {
      "text/html": [
       "<div>\n",
       "<style scoped>\n",
       "    .dataframe tbody tr th:only-of-type {\n",
       "        vertical-align: middle;\n",
       "    }\n",
       "\n",
       "    .dataframe tbody tr th {\n",
       "        vertical-align: top;\n",
       "    }\n",
       "\n",
       "    .dataframe thead tr th {\n",
       "        text-align: left;\n",
       "    }\n",
       "\n",
       "    .dataframe thead tr:last-of-type th {\n",
       "        text-align: right;\n",
       "    }\n",
       "</style>\n",
       "<table border=\"1\" class=\"dataframe\">\n",
       "  <thead>\n",
       "    <tr>\n",
       "      <th></th>\n",
       "      <th colspan=\"8\" halign=\"left\">confidence</th>\n",
       "      <th colspan=\"8\" halign=\"left\">sim_score</th>\n",
       "    </tr>\n",
       "    <tr>\n",
       "      <th></th>\n",
       "      <th>count</th>\n",
       "      <th>mean</th>\n",
       "      <th>std</th>\n",
       "      <th>min</th>\n",
       "      <th>25%</th>\n",
       "      <th>50%</th>\n",
       "      <th>75%</th>\n",
       "      <th>max</th>\n",
       "      <th>count</th>\n",
       "      <th>mean</th>\n",
       "      <th>std</th>\n",
       "      <th>min</th>\n",
       "      <th>25%</th>\n",
       "      <th>50%</th>\n",
       "      <th>75%</th>\n",
       "      <th>max</th>\n",
       "    </tr>\n",
       "    <tr>\n",
       "      <th>prediction</th>\n",
       "      <th></th>\n",
       "      <th></th>\n",
       "      <th></th>\n",
       "      <th></th>\n",
       "      <th></th>\n",
       "      <th></th>\n",
       "      <th></th>\n",
       "      <th></th>\n",
       "      <th></th>\n",
       "      <th></th>\n",
       "      <th></th>\n",
       "      <th></th>\n",
       "      <th></th>\n",
       "      <th></th>\n",
       "      <th></th>\n",
       "      <th></th>\n",
       "    </tr>\n",
       "  </thead>\n",
       "  <tbody>\n",
       "    <tr>\n",
       "      <th>False</th>\n",
       "      <td>9650.0</td>\n",
       "      <td>0.667753</td>\n",
       "      <td>0.086679</td>\n",
       "      <td>0.500157</td>\n",
       "      <td>0.596064</td>\n",
       "      <td>0.676151</td>\n",
       "      <td>0.745219</td>\n",
       "      <td>0.799971</td>\n",
       "      <td>9650.0</td>\n",
       "      <td>0.586245</td>\n",
       "      <td>0.075814</td>\n",
       "      <td>0.308759</td>\n",
       "      <td>0.537831</td>\n",
       "      <td>0.592584</td>\n",
       "      <td>0.640672</td>\n",
       "      <td>0.818892</td>\n",
       "    </tr>\n",
       "    <tr>\n",
       "      <th>True</th>\n",
       "      <td>7970.0</td>\n",
       "      <td>0.657526</td>\n",
       "      <td>0.087763</td>\n",
       "      <td>0.500027</td>\n",
       "      <td>0.581966</td>\n",
       "      <td>0.661610</td>\n",
       "      <td>0.734970</td>\n",
       "      <td>0.799994</td>\n",
       "      <td>7970.0</td>\n",
       "      <td>0.597224</td>\n",
       "      <td>0.070298</td>\n",
       "      <td>0.314494</td>\n",
       "      <td>0.552735</td>\n",
       "      <td>0.601800</td>\n",
       "      <td>0.646463</td>\n",
       "      <td>0.829408</td>\n",
       "    </tr>\n",
       "  </tbody>\n",
       "</table>\n",
       "</div>"
      ],
      "text/plain": [
       "           confidence                                                    \\\n",
       "                count      mean       std       min       25%       50%   \n",
       "prediction                                                                \n",
       "False          9650.0  0.667753  0.086679  0.500157  0.596064  0.676151   \n",
       "True           7970.0  0.657526  0.087763  0.500027  0.581966  0.661610   \n",
       "\n",
       "                               sim_score                                \\\n",
       "                 75%       max     count      mean       std       min   \n",
       "prediction                                                               \n",
       "False       0.745219  0.799971    9650.0  0.586245  0.075814  0.308759   \n",
       "True        0.734970  0.799994    7970.0  0.597224  0.070298  0.314494   \n",
       "\n",
       "                                                    \n",
       "                 25%       50%       75%       max  \n",
       "prediction                                          \n",
       "False       0.537831  0.592584  0.640672  0.818892  \n",
       "True        0.552735  0.601800  0.646463  0.829408  "
      ]
     },
     "execution_count": 43,
     "metadata": {},
     "output_type": "execute_result"
    }
   ],
   "source": [
    "df_sim_score_low[[\"confidence\", \"sim_score\",\"prediction\"]].groupby([\"prediction\"]).describe()"
   ]
  },
  {
   "cell_type": "code",
   "execution_count": 44,
   "metadata": {},
   "outputs": [
    {
     "data": {
      "text/plain": [
       "'Expression of the Pho regulon in Escherichia coli is induced in response to low levels of environmental phosphate (P(i)). Under these conditions, the high-affinity PstSCAB(2) protein (i.e., with two PstB proteins) is the primary P(i) transporter. Expression from the pstSCAB-phoU operon is regulated by the PhoB/PhoR two-component regulatory system. PhoU is a negative regulator of the Pho regulon; however, the mechanism by which PhoU accomplishes this is currently unknown. Genetic studies of phoU have proven to be difficult because deletion of the phoU gene leads to a severe growth defect and creates strong selection for compensatory mutations resulting in confounding data. To overcome the instability of phoU deletions, we employed a promoter-swapping technique that places expression of the phoBR two-component system under control of the P(tac) promoter and the lacO(ID) regulatory module. This technique may be generally applicable for controlling expression of other chromosomal genes in E. coli. Here we utilized P(phoB)::P(tac) and P(pstS)::P(tac) strains to characterize phenotypes resulting from various DeltaphoU mutations. Our results indicate that PhoU controls the activity of the PstSCAB(2) transporter, as well as its abundance within the cell. In addition, we used the P(phoB)::P(tac) DeltaphoU strain as a platform to begin characterizing new phoU mutations in plasmids.'"
      ]
     },
     "execution_count": 44,
     "metadata": {},
     "output_type": "execute_result"
    }
   ],
   "source": [
    "df_sim_score_high.query(\"sim_score < 0.65 and prediction == 'True'\").sample(n=1).iloc[0][\"abstract\"]"
   ]
  },
  {
   "cell_type": "code",
   "execution_count": 45,
   "metadata": {},
   "outputs": [
    {
     "data": {
      "text/plain": [
       "'Blood flow is controlled by an integrated network of resistance arteries that are coupled in series and parallel with one another. To dramatically alter tissue perfusion as required during periods of high metabolic demand, arterial networks must dilate in a coordinated manner. Gap junctions facilitate arterial coordination by enabling electrical stimuli to conduct among endothelial and (or) smooth muscle cells. The goal of this review was to provide an introduction to the field of vascular communication, the process of intercellular conduction, and the manner in which key properties influence charge flow. After a brief historical introduction, we establish the idea that electrical stimuli conduct differentially among neighbouring endothelial and smooth muscle cells. Highlighting recent studies that have synergistically combined computational and experimental approaches, this perspective explores how specific structural, electrical, and gap junctional properties enable electrical phenomenon to conduct differentially. To close, the concept of differential communication is functionally integrated into a mechanistic understanding of blood flow control.'"
      ]
     },
     "execution_count": 45,
     "metadata": {},
     "output_type": "execute_result"
    }
   ],
   "source": [
    "df_sim_score_low.query(\"sim_score < 0.65 and prediction == 'True'\").sample(n=1).iloc[0][\"abstract\"]"
   ]
  },
  {
   "cell_type": "markdown",
   "metadata": {},
   "source": [
    "## Label analysis"
   ]
  },
  {
   "cell_type": "code",
   "execution_count": 46,
   "metadata": {},
   "outputs": [],
   "source": [
    "from sklearn.metrics import confusion_matrix, ConfusionMatrixDisplay\n",
    "\n",
    "\n",
    "\n",
    "keywords1 = [\"activation\", \"trigger\", \"interact\", \"inhibit\", \"regulat\", \"supress\"]\n",
    "\n",
    "keywords2 = [\"gene\", \"protein\", \"chemical\"]\n",
    "\n",
    "def self_label(df):\n",
    "   \n",
    "\n",
    "    df[\"self_label\"] = df[\"abstract\"].apply(lambda x: any([ k.lower() in x.lower() for k in keywords1]) \n",
    "                                        and sum([  k.lower() in x.lower() for k in keywords2])>=2\n",
    "                                     \n",
    "                                       ).astype(str)\n",
    "    \n",
    "    \n",
    "    return df\n",
    "\n",
    "def plot_confusionmatrix(y_true,y_pred, normalize=None):\n",
    "    cm = confusion_matrix(y_true,y_pred,labels=[\"False\", \"True\"], normalize=normalize)\n",
    "    disp = ConfusionMatrixDisplay(confusion_matrix=cm, display_labels =  [\"False\", \"True\"])\n",
    "    disp.plot(cmap=\"PuBu\", xticks_rotation=\"vertical\")"
   ]
  },
  {
   "cell_type": "code",
   "execution_count": 47,
   "metadata": {},
   "outputs": [
    {
     "data": {
      "image/png": "[encoded data removed]",
      "text/plain": [
       "<Figure size 432x288 with 2 Axes>"
      ]
     },
     "metadata": {
      "needs_background": "light"
     },
     "output_type": "display_data"
    }
   ],
   "source": [
    "plot_confusionmatrix(df_high_quality_threshold.pipe(self_label)[\"self_label\"], \n",
    "                     df_high_quality_threshold[\"prediction\"]) "
   ]
  },
  {
   "cell_type": "code",
   "execution_count": 48,
   "metadata": {},
   "outputs": [
    {
     "data": {
      "image/png": "[encoded data removed]",
      "text/plain": [
       "<Figure size 432x288 with 2 Axes>"
      ]
     },
     "metadata": {
      "needs_background": "light"
     },
     "output_type": "display_data"
    }
   ],
   "source": [
    "plot_confusionmatrix(df_high_quality_threshold.pipe(self_label)[\"self_label\"], \n",
    "                     df_high_quality_threshold[\"prediction\"],\n",
    "                    normalize=\"pred\") "
   ]
  },
  {
   "cell_type": "code",
   "execution_count": 49,
   "metadata": {},
   "outputs": [
    {
     "data": {
      "image/png": "[encoded data removed]",
      "text/plain": [
       "<Figure size 432x288 with 2 Axes>"
      ]
     },
     "metadata": {
      "needs_background": "light"
     },
     "output_type": "display_data"
    }
   ],
   "source": [
    "plot_confusionmatrix(df_high_quality_threshold.pipe(self_label)[\"self_label\"], \n",
    "                     df_high_quality_threshold[\"prediction\"],\n",
    "                    normalize=\"true\") "
   ]
  },
  {
   "cell_type": "code",
   "execution_count": 50,
   "metadata": {},
   "outputs": [
    {
     "data": {
      "image/png": "[encoded data removed]",
      "text/plain": [
       "<Figure size 432x288 with 2 Axes>"
      ]
     },
     "metadata": {
      "needs_background": "light"
     },
     "output_type": "display_data"
    }
   ],
   "source": [
    "plot_confusionmatrix(df_low_quality_threshold.pipe(self_label)[\"self_label\"], \n",
    "                     df_low_quality_threshold[\"prediction\"])"
   ]
  }
 ],
 "metadata": {
  "kernelspec": {
   "display_name": "Python 3 (ipykernel)",
   "language": "python",
   "name": "python3"
  },
  "language_info": {
   "codemirror_mode": {
    "name": "ipython",
    "version": 3
   },
   "file_extension": ".py",
   "mimetype": "text/x-python",
   "name": "python",
   "nbconvert_exporter": "python",
   "pygments_lexer": "ipython3",
   "version": "3.7.9"
  }
 },
 "nbformat": 4,
 "nbformat_minor": 1
}
