{
 "cells": [
  {
   "cell_type": "markdown",
   "metadata": {},
   "source": [
    "### Set up"
   ]
  },
  {
   "cell_type": "markdown",
   "metadata": {},
   "source": [
    "#### 1. Set  up  accounts and role"
   ]
  },
  {
   "cell_type": "code",
   "execution_count": 1,
   "metadata": {
    "pycharm": {
     "is_executing": true
    }
   },
   "outputs": [],
   "source": [
    "import sagemaker\n",
    "import boto3\n",
    "from uuid import uuid4\n",
    "\n",
    "sagemaker_session = sagemaker.Session()\n",
    "account_id =  boto3.client('sts').get_caller_identity().get('Account')\n",
    "region = boto3.session.Session().region_name\n",
    "\n",
    "\n",
    "#role = sagemaker.get_execution_role()\n",
    "role=\"arn:aws:iam::{}:role/service-role/AmazonSageMaker-ExecutionRole-20190118T115449\".format(account_id)\n",
    "max_runs=1"
   ]
  },
  {
   "cell_type": "markdown",
   "metadata": {},
   "source": [
    "#### 2. Setup image and instance type"
   ]
  },
  {
   "cell_type": "code",
   "execution_count": 2,
   "metadata": {},
   "outputs": [],
   "source": [
    "# pytorch_custom_image_name=\"ppi-extractor:gpu-1.0.0-201910130520\"\n",
    "instance_type = \"ml.p3.2xlarge\"\n",
    "instance_type_gpu_map = {\"ml.p3.8xlarge\":4, \"ml.p3.2xlarge\": 1, \"ml.p3.16xlarge\":8}"
   ]
  },
  {
   "cell_type": "code",
   "execution_count": 3,
   "metadata": {},
   "outputs": [],
   "source": [
    "# docker_repo = \"{}.dkr.ecr.{}.amazonaws.com/{}\".format(account_id, region, pytorch_custom_image_name)"
   ]
  },
  {
   "cell_type": "markdown",
   "metadata": {},
   "source": [
    "#### 3. Configure train/ test and validation datasets"
   ]
  },
  {
   "cell_type": "code",
   "execution_count": 4,
   "metadata": {},
   "outputs": [],
   "source": [
    "bucket = \"aegovan-data\""
   ]
  },
  {
   "cell_type": "code",
   "execution_count": 5,
   "metadata": {},
   "outputs": [],
   "source": [
    "pretrained_bert=\"s3://{}/embeddings/bert/\".format(bucket)\n",
    "\n",
    "abstract_train_prefix= \"s3://aegovan-data/chemprot_adversarial/\"\n",
    "abstract_testfile= \"s3://{}/chemprot_adversarial/chemprot_abstract_test.json\".format(bucket)\n",
    "abstract_valfile=\"s3://{}/chemprot_adversarial/chemprot_abstract_val.json\".format(bucket)\n",
    "\n",
    "s3_output_path= \"s3://{}/chemprot_sagemakerresults/\".format(bucket)\n",
    "s3_code_path= \"s3://{}/chemprot_code\".format(bucket)\n",
    "s3_checkpoint = \"s3://{}/chemprot_bert_checkpoint/{}\".format(bucket, str(uuid4()))"
   ]
  },
  {
   "cell_type": "markdown",
   "metadata": {},
   "source": [
    "### Start training"
   ]
  },
  {
   "cell_type": "code",
   "execution_count": 6,
   "metadata": {},
   "outputs": [],
   "source": [
    "commit_id = \"a6211b46f5940b9ac48fd3bde9274734ec3605a5\""
   ]
  },
  {
   "cell_type": "code",
   "execution_count": 7,
   "metadata": {},
   "outputs": [],
   "source": [
    "sm_localcheckpoint_dir=\"/opt/ml/checkpoints/\"\n"
   ]
  },
  {
   "cell_type": "code",
   "execution_count": 8,
   "metadata": {},
   "outputs": [],
   "source": [
    "BertNetworkFactoryhyperparameters = {\n",
    "    \"datasetfactory\":\"datasets.chemprot_abstract_adverserial_dataset_factory.ChemprotAbstractAdverserialDatasetFactory\",\n",
    "    \"modelfactory\" :\"models.bert_model_factory.BertModelFactory\",\n",
    "    \"tokenisor_lower_case\":0,\n",
    "    \"uselosseval\":0,\n",
    "    \"batch\": \"8\" * instance_type_gpu_map[instance_type],\n",
    "    \"gradientaccumulationsteps\" : \"8\",\n",
    "    # \"protein_name_replacer_random_seed\":42,\n",
    "    \"epochs\" : \"200\",   \n",
    "    \"log-level\" : \"INFO\",\n",
    "    \"learningrate\":.00001,\n",
    "    \"earlystoppingpatience\":50,\n",
    "    \"checkpointdir\" : sm_localcheckpoint_dir,\n",
    "    # Checkpoints once every n epochs\n",
    "    \"checkpointfreq\": 2,\n",
    "    \"weight_decay\":0.01,\n",
    "    \"commit_id\" : commit_id\n",
    "\n",
    "\n",
    "\n",
    "}"
   ]
  },
  {
   "cell_type": "code",
   "execution_count": 9,
   "metadata": {},
   "outputs": [],
   "source": [
    "metric_definitions = [{\"Name\": \"TrainLoss\",\n",
    "                     \"Regex\": \"###score: train_loss### (\\d*[.]?\\d*)\"}\n",
    "                    ,{\"Name\": \"ValidationLoss\",\n",
    "                     \"Regex\": \"###score: val_loss### (\\d*[.]?\\d*)\"}\n",
    "                \n",
    "                    ,{\"Name\": \"TrainAucScore\",\n",
    "                     \"Regex\": \"###score: train_ResultScorerAucMacro_score### (\\d*[.]?\\d*)\"}\n",
    "                   ,{\"Name\": \"ValidationAucScore\",\n",
    "                     \"Regex\": \"###score: val_ResultScorerAucMacro_score### (\\d*[.]?\\d*)\"}\n",
    "                      \n",
    "                      \n",
    "                     ,{\"Name\": \"TrainF1BinaryScore\",\n",
    "                     \"Regex\": \"###score: train_ResultScorerF1Binary_score### (\\d*[.]?\\d*)\"}\n",
    "                   ,{\"Name\": \"ValidationF1BinaryScore\",\n",
    "                     \"Regex\": \"###score: val_ResultScorerF1Binary_score### (\\d*[.]?\\d*)\"}\n",
    "                    ]"
   ]
  },
  {
   "cell_type": "code",
   "execution_count": 10,
   "metadata": {},
   "outputs": [
    {
     "name": "stdout",
     "output_type": "stream",
     "text": [
      "commit b0006f2c96fe31276c92aaf6ed7d1ea51f4c1c0a\n",
      "    Add adverserial dataset and notebook\n"
     ]
    }
   ],
   "source": [
    "!git log -1 | head -1\n",
    "!git log -1 | head -5 | tail -1"
   ]
  },
  {
   "cell_type": "code",
   "execution_count": 11,
   "metadata": {},
   "outputs": [],
   "source": [
    "# set True if you need spot instance\n",
    "use_spot = False\n",
    "train_max_run_secs =   5 *24 * 60 * 60\n",
    "spot_wait_sec =  5 * 60\n",
    "max_wait_time_secs = train_max_run_secs +  spot_wait_sec\n",
    "\n",
    "if not use_spot:\n",
    "    max_wait_time_secs = None\n",
    "    \n",
    "# During local mode, no spot.., use smaller dataset\n",
    "if instance_type == 'local':\n",
    "    use_spot = False\n",
    "    max_wait_time_secs = 0\n",
    "    wait = True\n",
    "    # Use smaller dataset to run locally\n",
    "    # TODO:\n",
    "    #  inputs = inputs_sample"
   ]
  },
  {
   "cell_type": "code",
   "execution_count": 12,
   "metadata": {},
   "outputs": [],
   "source": [
    "def create_per_train_hp(s3_prefix, prefix=\"fake\"):\n",
    "    from sagemaker.s3 import S3Downloader\n",
    "    s3_files = S3Downloader.list(s3_prefix)\n",
    "    s3_prefix = s3_prefix.rstrip(\"/\")\n",
    "    files = sorted(list(filter( lambda x: x.split(\"/\")[-1].startswith(\"train\"),s3_files ))   ,reverse=True)\n",
    "                   \n",
    "    \n",
    "    fake_experiments = {}\n",
    "    \n",
    "    \n",
    "    for f in files:\n",
    "        base_name = f.split(\"/\")[-1].split(\".\")[0]\n",
    "\n",
    "        fake_experiments[f\"chemprot-{prefix}-{base_name}\"] = {\n",
    "            \"hp\" :BertNetworkFactoryhyperparameters,\n",
    "            \"inputs\" :  {\n",
    "                    \"train\" : f\"{f}\",\n",
    "                    \"val\" : f\"{s3_prefix}/chemprot_abstract_val.json\",\n",
    "                    \"PRETRAINED_MODEL\" : pretrained_bert\n",
    "                }\n",
    "            }\n",
    "\n",
    "            \n",
    "    return fake_experiments\n",
    "\n",
    "\n",
    "per_train_experiments_hp = create_per_train_hp(abstract_train_prefix, \"adverserial\")"
   ]
  },
  {
   "cell_type": "code",
   "execution_count": 13,
   "metadata": {},
   "outputs": [
    {
     "data": {
      "text/plain": [
       "{'chemprot-adverserial-train_767_210_84': {'hp': {'datasetfactory': 'datasets.chemprot_abstract_adverserial_dataset_factory.ChemprotAbstractAdverserialDatasetFactory',\n",
       "   'modelfactory': 'models.bert_model_factory.BertModelFactory',\n",
       "   'tokenisor_lower_case': 0,\n",
       "   'uselosseval': 0,\n",
       "   'batch': '8',\n",
       "   'gradientaccumulationsteps': '8',\n",
       "   'epochs': '200',\n",
       "   'log-level': 'INFO',\n",
       "   'learningrate': 1e-05,\n",
       "   'earlystoppingpatience': 50,\n",
       "   'checkpointdir': '/opt/ml/checkpoints/',\n",
       "   'checkpointfreq': 2,\n",
       "   'weight_decay': 0.01,\n",
       "   'commit_id': 'a6211b46f5940b9ac48fd3bde9274734ec3605a5'},\n",
       "  'inputs': {'train': 's3://aegovan-data/chemprot_adversarial/train_767_210_84.json',\n",
       "   'val': 's3://aegovan-data/chemprot_adversarial/chemprot_abstract_val.json',\n",
       "   'PRETRAINED_MODEL': 's3://aegovan-data/embeddings/bert/'}},\n",
       " 'chemprot-adverserial-train_767_210_63': {'hp': {'datasetfactory': 'datasets.chemprot_abstract_adverserial_dataset_factory.ChemprotAbstractAdverserialDatasetFactory',\n",
       "   'modelfactory': 'models.bert_model_factory.BertModelFactory',\n",
       "   'tokenisor_lower_case': 0,\n",
       "   'uselosseval': 0,\n",
       "   'batch': '8',\n",
       "   'gradientaccumulationsteps': '8',\n",
       "   'epochs': '200',\n",
       "   'log-level': 'INFO',\n",
       "   'learningrate': 1e-05,\n",
       "   'earlystoppingpatience': 50,\n",
       "   'checkpointdir': '/opt/ml/checkpoints/',\n",
       "   'checkpointfreq': 2,\n",
       "   'weight_decay': 0.01,\n",
       "   'commit_id': 'a6211b46f5940b9ac48fd3bde9274734ec3605a5'},\n",
       "  'inputs': {'train': 's3://aegovan-data/chemprot_adversarial/train_767_210_63.json',\n",
       "   'val': 's3://aegovan-data/chemprot_adversarial/chemprot_abstract_val.json',\n",
       "   'PRETRAINED_MODEL': 's3://aegovan-data/embeddings/bert/'}},\n",
       " 'chemprot-adverserial-train_767_210_42': {'hp': {'datasetfactory': 'datasets.chemprot_abstract_adverserial_dataset_factory.ChemprotAbstractAdverserialDatasetFactory',\n",
       "   'modelfactory': 'models.bert_model_factory.BertModelFactory',\n",
       "   'tokenisor_lower_case': 0,\n",
       "   'uselosseval': 0,\n",
       "   'batch': '8',\n",
       "   'gradientaccumulationsteps': '8',\n",
       "   'epochs': '200',\n",
       "   'log-level': 'INFO',\n",
       "   'learningrate': 1e-05,\n",
       "   'earlystoppingpatience': 50,\n",
       "   'checkpointdir': '/opt/ml/checkpoints/',\n",
       "   'checkpointfreq': 2,\n",
       "   'weight_decay': 0.01,\n",
       "   'commit_id': 'a6211b46f5940b9ac48fd3bde9274734ec3605a5'},\n",
       "  'inputs': {'train': 's3://aegovan-data/chemprot_adversarial/train_767_210_42.json',\n",
       "   'val': 's3://aegovan-data/chemprot_adversarial/chemprot_abstract_val.json',\n",
       "   'PRETRAINED_MODEL': 's3://aegovan-data/embeddings/bert/'}},\n",
       " 'chemprot-adverserial-train_767_210_21': {'hp': {'datasetfactory': 'datasets.chemprot_abstract_adverserial_dataset_factory.ChemprotAbstractAdverserialDatasetFactory',\n",
       "   'modelfactory': 'models.bert_model_factory.BertModelFactory',\n",
       "   'tokenisor_lower_case': 0,\n",
       "   'uselosseval': 0,\n",
       "   'batch': '8',\n",
       "   'gradientaccumulationsteps': '8',\n",
       "   'epochs': '200',\n",
       "   'log-level': 'INFO',\n",
       "   'learningrate': 1e-05,\n",
       "   'earlystoppingpatience': 50,\n",
       "   'checkpointdir': '/opt/ml/checkpoints/',\n",
       "   'checkpointfreq': 2,\n",
       "   'weight_decay': 0.01,\n",
       "   'commit_id': 'a6211b46f5940b9ac48fd3bde9274734ec3605a5'},\n",
       "  'inputs': {'train': 's3://aegovan-data/chemprot_adversarial/train_767_210_21.json',\n",
       "   'val': 's3://aegovan-data/chemprot_adversarial/chemprot_abstract_val.json',\n",
       "   'PRETRAINED_MODEL': 's3://aegovan-data/embeddings/bert/'}},\n",
       " 'chemprot-adverserial-train_767_210_168': {'hp': {'datasetfactory': 'datasets.chemprot_abstract_adverserial_dataset_factory.ChemprotAbstractAdverserialDatasetFactory',\n",
       "   'modelfactory': 'models.bert_model_factory.BertModelFactory',\n",
       "   'tokenisor_lower_case': 0,\n",
       "   'uselosseval': 0,\n",
       "   'batch': '8',\n",
       "   'gradientaccumulationsteps': '8',\n",
       "   'epochs': '200',\n",
       "   'log-level': 'INFO',\n",
       "   'learningrate': 1e-05,\n",
       "   'earlystoppingpatience': 50,\n",
       "   'checkpointdir': '/opt/ml/checkpoints/',\n",
       "   'checkpointfreq': 2,\n",
       "   'weight_decay': 0.01,\n",
       "   'commit_id': 'a6211b46f5940b9ac48fd3bde9274734ec3605a5'},\n",
       "  'inputs': {'train': 's3://aegovan-data/chemprot_adversarial/train_767_210_168.json',\n",
       "   'val': 's3://aegovan-data/chemprot_adversarial/chemprot_abstract_val.json',\n",
       "   'PRETRAINED_MODEL': 's3://aegovan-data/embeddings/bert/'}},\n",
       " 'chemprot-adverserial-train_767_210_147': {'hp': {'datasetfactory': 'datasets.chemprot_abstract_adverserial_dataset_factory.ChemprotAbstractAdverserialDatasetFactory',\n",
       "   'modelfactory': 'models.bert_model_factory.BertModelFactory',\n",
       "   'tokenisor_lower_case': 0,\n",
       "   'uselosseval': 0,\n",
       "   'batch': '8',\n",
       "   'gradientaccumulationsteps': '8',\n",
       "   'epochs': '200',\n",
       "   'log-level': 'INFO',\n",
       "   'learningrate': 1e-05,\n",
       "   'earlystoppingpatience': 50,\n",
       "   'checkpointdir': '/opt/ml/checkpoints/',\n",
       "   'checkpointfreq': 2,\n",
       "   'weight_decay': 0.01,\n",
       "   'commit_id': 'a6211b46f5940b9ac48fd3bde9274734ec3605a5'},\n",
       "  'inputs': {'train': 's3://aegovan-data/chemprot_adversarial/train_767_210_147.json',\n",
       "   'val': 's3://aegovan-data/chemprot_adversarial/chemprot_abstract_val.json',\n",
       "   'PRETRAINED_MODEL': 's3://aegovan-data/embeddings/bert/'}},\n",
       " 'chemprot-adverserial-train_767_210_126': {'hp': {'datasetfactory': 'datasets.chemprot_abstract_adverserial_dataset_factory.ChemprotAbstractAdverserialDatasetFactory',\n",
       "   'modelfactory': 'models.bert_model_factory.BertModelFactory',\n",
       "   'tokenisor_lower_case': 0,\n",
       "   'uselosseval': 0,\n",
       "   'batch': '8',\n",
       "   'gradientaccumulationsteps': '8',\n",
       "   'epochs': '200',\n",
       "   'log-level': 'INFO',\n",
       "   'learningrate': 1e-05,\n",
       "   'earlystoppingpatience': 50,\n",
       "   'checkpointdir': '/opt/ml/checkpoints/',\n",
       "   'checkpointfreq': 2,\n",
       "   'weight_decay': 0.01,\n",
       "   'commit_id': 'a6211b46f5940b9ac48fd3bde9274734ec3605a5'},\n",
       "  'inputs': {'train': 's3://aegovan-data/chemprot_adversarial/train_767_210_126.json',\n",
       "   'val': 's3://aegovan-data/chemprot_adversarial/chemprot_abstract_val.json',\n",
       "   'PRETRAINED_MODEL': 's3://aegovan-data/embeddings/bert/'}},\n",
       " 'chemprot-adverserial-train_767_210_105': {'hp': {'datasetfactory': 'datasets.chemprot_abstract_adverserial_dataset_factory.ChemprotAbstractAdverserialDatasetFactory',\n",
       "   'modelfactory': 'models.bert_model_factory.BertModelFactory',\n",
       "   'tokenisor_lower_case': 0,\n",
       "   'uselosseval': 0,\n",
       "   'batch': '8',\n",
       "   'gradientaccumulationsteps': '8',\n",
       "   'epochs': '200',\n",
       "   'log-level': 'INFO',\n",
       "   'learningrate': 1e-05,\n",
       "   'earlystoppingpatience': 50,\n",
       "   'checkpointdir': '/opt/ml/checkpoints/',\n",
       "   'checkpointfreq': 2,\n",
       "   'weight_decay': 0.01,\n",
       "   'commit_id': 'a6211b46f5940b9ac48fd3bde9274734ec3605a5'},\n",
       "  'inputs': {'train': 's3://aegovan-data/chemprot_adversarial/train_767_210_105.json',\n",
       "   'val': 's3://aegovan-data/chemprot_adversarial/chemprot_abstract_val.json',\n",
       "   'PRETRAINED_MODEL': 's3://aegovan-data/embeddings/bert/'}},\n",
       " 'chemprot-adverserial-train_767_210_0': {'hp': {'datasetfactory': 'datasets.chemprot_abstract_adverserial_dataset_factory.ChemprotAbstractAdverserialDatasetFactory',\n",
       "   'modelfactory': 'models.bert_model_factory.BertModelFactory',\n",
       "   'tokenisor_lower_case': 0,\n",
       "   'uselosseval': 0,\n",
       "   'batch': '8',\n",
       "   'gradientaccumulationsteps': '8',\n",
       "   'epochs': '200',\n",
       "   'log-level': 'INFO',\n",
       "   'learningrate': 1e-05,\n",
       "   'earlystoppingpatience': 50,\n",
       "   'checkpointdir': '/opt/ml/checkpoints/',\n",
       "   'checkpointfreq': 2,\n",
       "   'weight_decay': 0.01,\n",
       "   'commit_id': 'a6211b46f5940b9ac48fd3bde9274734ec3605a5'},\n",
       "  'inputs': {'train': 's3://aegovan-data/chemprot_adversarial/train_767_210_0.json',\n",
       "   'val': 's3://aegovan-data/chemprot_adversarial/chemprot_abstract_val.json',\n",
       "   'PRETRAINED_MODEL': 's3://aegovan-data/embeddings/bert/'}}}"
      ]
     },
     "execution_count": 13,
     "metadata": {},
     "output_type": "execute_result"
    }
   ],
   "source": [
    "per_train_experiments_hp"
   ]
  },
  {
   "cell_type": "code",
   "execution_count": null,
   "metadata": {},
   "outputs": [],
   "source": [
    "from sagemaker.pytorch import PyTorch\n",
    "\n",
    "for n,e in  per_train_experiments_hp.items():\n",
    "    print(f\"Running {n}\")\n",
    "    estimator = PyTorch(\n",
    "      entry_point='main_train_pipeline.py',\n",
    "                        source_dir = '../src',\n",
    "                        dependencies =['../src/datasets', '../src/models','../src/utils', '../src/scorers'],\n",
    "    #                     git_config= git_config,\n",
    "    #                     image_name= docker_repo,\n",
    "                        role=role,\n",
    "                        framework_version =\"1.4.0\",\n",
    "                        py_version='py3',\n",
    "                        instance_count=1,\n",
    "                        instance_type=instance_type,\n",
    "                        hyperparameters = e[\"hp\"],\n",
    "                        output_path=s3_output_path,\n",
    "                        metric_definitions=metric_definitions,\n",
    "                        volume_size=30,\n",
    "                        code_location=s3_code_path,\n",
    "                        debugger_hook_config=False,\n",
    "                        base_job_name =n.replace(\"_\", \"-\"),  \n",
    "                        use_spot_instances = use_spot,\n",
    "                        max_run =  train_max_run_secs,\n",
    "                        max_wait = max_wait_time_secs,   \n",
    "                        checkpoint_s3_uri=s3_checkpoint,\n",
    "                        checkpoint_local_path=sm_localcheckpoint_dir)\n",
    "\n",
    "    estimator.fit(e[\"inputs\"], wait=False)"
   ]
  }
 ],
 "metadata": {
  "kernelspec": {
   "display_name": "Python 3 (ipykernel)",
   "language": "python",
   "name": "python3"
  },
  "language_info": {
   "codemirror_mode": {
    "name": "ipython",
    "version": 3
   },
   "file_extension": ".py",
   "mimetype": "text/x-python",
   "name": "python",
   "nbconvert_exporter": "python",
   "pygments_lexer": "ipython3",
   "version": "3.7.9"
  }
 },
 "nbformat": 4,
 "nbformat_minor": 1
}
