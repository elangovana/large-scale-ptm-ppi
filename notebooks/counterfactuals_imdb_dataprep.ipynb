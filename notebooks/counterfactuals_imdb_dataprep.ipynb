{
 "cells": [
  {
   "cell_type": "code",
   "execution_count": 1,
   "metadata": {},
   "outputs": [],
   "source": [
    "train_counterfacts_data_url = \"https://raw.githubusercontent.com/acmi-lab/counterfactually-augmented-data/master/sentiment/combined/paired/train_paired.tsv\"\n",
    "val_counterfacts_data_url = \"https://raw.githubusercontent.com/acmi-lab/counterfactually-augmented-data/master/sentiment/combined/paired/dev_paired.tsv\"\n",
    "\n",
    "\n",
    "train_orig_data_url = \"https://raw.githubusercontent.com/acmi-lab/counterfactually-augmented-data/master/sentiment/orig/eighty_percent/train.tsv\"\n",
    "test_orig_data_url = \"https://raw.githubusercontent.com/acmi-lab/counterfactually-augmented-data/master/sentiment/orig/eighty_percent/test.tsv\"\n",
    "\n",
    "\n"
   ]
  },
  {
   "cell_type": "code",
   "execution_count": 2,
   "metadata": {},
   "outputs": [],
   "source": [
    "import sys, pandas as pd\n",
    "import numpy as np\n",
    "from functools import reduce \n",
    "from collections import Counter\n",
    "pd.set_option('display.max_colwidth', 0)\n",
    "sys.path.append(\"../src\")\n",
    "from sklearn.model_selection import train_test_split\n",
    "import matplotlib.pyplot as plt\n",
    "\n",
    "from datetime import datetime\n",
    "\n",
    "datefmt = datetime.now().strftime(\"%Y%m%d%H%M\")\n",
    "\n"
   ]
  },
  {
   "cell_type": "code",
   "execution_count": 3,
   "metadata": {},
   "outputs": [],
   "source": [
    "from utils.diff_dataset_counterfactuals import DiffDatasetCounterFactuals\n",
    "from utils.diff_sentences import DiffSentences\n",
    "\n",
    "# words  = DiffDatasetCounterFactuals().compare(train_counterfacts_data)"
   ]
  },
  {
   "cell_type": "code",
   "execution_count": 4,
   "metadata": {},
   "outputs": [],
   "source": [
    "# words_all = reduce(lambda a, b: a+b, words)"
   ]
  },
  {
   "cell_type": "code",
   "execution_count": 5,
   "metadata": {},
   "outputs": [],
   "source": [
    "# df_word_feq = pd.DataFrame(Counter(words_all).most_common())\n",
    "# df_word_feq.columns = [\"word\", \"freq\"]\n",
    "# df_word_feq"
   ]
  },
  {
   "cell_type": "code",
   "execution_count": 6,
   "metadata": {},
   "outputs": [],
   "source": [
    "# df_word_feq.query(\"freq > 5\").sort_values(by=[\"freq\"], ascending = False).head(n=50)"
   ]
  },
  {
   "cell_type": "code",
   "execution_count": 7,
   "metadata": {},
   "outputs": [],
   "source": [
    "# df_word_feq[\"freq\"].plot.hist(bins=100, log=True)"
   ]
  },
  {
   "cell_type": "code",
   "execution_count": 8,
   "metadata": {},
   "outputs": [],
   "source": [
    "\n",
    "\n",
    "def get_batch_id(df, df_counter_fact):\n",
    "    dict_text_index = {}\n",
    "    dict_batch_index = {}\n",
    "    for r in df_counter_fact.to_dict('records'):\n",
    "        dict_text_index[r[\"Text\"]] = r[\"batch_id\"]\n",
    "        if  r[\"batch_id\"] not in dict_batch_index: dict_batch_index[ r[\"batch_id\"]] = {}\n",
    "            \n",
    "        counter_label = 'Negative' if r[\"Sentiment\"] == 'Positive' else 'Positive'\n",
    "        dict_batch_index[r[\"batch_id\"]][counter_label] =  r[\"Text\"]\n",
    "    \n",
    "    df[\"batch_id\"] = df[\"Text\"].apply(lambda x: dict_text_index.get(x, -1)).astype(int)\n",
    "    df[\"counter_text\"] = df.apply(lambda x: dict_batch_index.get(x[\"batch_id\"], {}).get(x[\"Sentiment\"], None), axis=1)\n",
    "    df[\"counter_sentiment\"] = df.apply(lambda x:('Negative' if x[\"Sentiment\"] == 'Positive' else 'Positive')\n",
    "                                       if x[\"counter_text\"] else None , axis=1)\n",
    "   \n",
    "\n",
    "\n",
    "\n",
    "    return df"
   ]
  },
  {
   "cell_type": "code",
   "execution_count": 9,
   "metadata": {},
   "outputs": [
    {
     "data": {
      "text/html": [
       "<div>\n",
       "<style scoped>\n",
       "    .dataframe tbody tr th:only-of-type {\n",
       "        vertical-align: middle;\n",
       "    }\n",
       "\n",
       "    .dataframe tbody tr th {\n",
       "        vertical-align: top;\n",
       "    }\n",
       "\n",
       "    .dataframe thead th {\n",
       "        text-align: right;\n",
       "    }\n",
       "</style>\n",
       "<table border=\"1\" class=\"dataframe\">\n",
       "  <thead>\n",
       "    <tr style=\"text-align: right;\">\n",
       "      <th></th>\n",
       "      <th>Sentiment</th>\n",
       "      <th>Text</th>\n",
       "      <th>Length</th>\n",
       "    </tr>\n",
       "  </thead>\n",
       "  <tbody>\n",
       "    <tr>\n",
       "      <th>0</th>\n",
       "      <td>Positive</td>\n",
       "      <td>Adrian Pasdar is excellent is this film. He makes a fascinating woman.</td>\n",
       "      <td>12</td>\n",
       "    </tr>\n",
       "    <tr>\n",
       "      <th>1</th>\n",
       "      <td>Positive</td>\n",
       "      <td>This is the definitive movie version of Hamlet. Branagh cuts nothing, but there are no wasted moments.</td>\n",
       "      <td>17</td>\n",
       "    </tr>\n",
       "    <tr>\n",
       "      <th>2</th>\n",
       "      <td>Positive</td>\n",
       "      <td>I don't know why I like this movie so well, but I never get tired of watching it.</td>\n",
       "      <td>18</td>\n",
       "    </tr>\n",
       "    <tr>\n",
       "      <th>3</th>\n",
       "      <td>Positive</td>\n",
       "      <td>Obviously written for the stage. Lightweight but worthwhile. How can you go wrong with Ralph Richardson, Olivier and Merle Oberon.</td>\n",
       "      <td>20</td>\n",
       "    </tr>\n",
       "    <tr>\n",
       "      <th>4</th>\n",
       "      <td>Positive</td>\n",
       "      <td>This movie will always be a Broadway and Movie classic, as long as there are still people who sing, dance, and act.</td>\n",
       "      <td>22</td>\n",
       "    </tr>\n",
       "    <tr>\n",
       "      <th>...</th>\n",
       "      <td>...</td>\n",
       "      <td>...</td>\n",
       "      <td>...</td>\n",
       "    </tr>\n",
       "    <tr>\n",
       "      <th>19257</th>\n",
       "      <td>Negative</td>\n",
       "      <td>As someone who has both read the novel and seen the film, I have a different take on why the film was such a flop. First, any comparisons between novel and film are purely superficial. They are two different animals.&lt;br /&gt;&lt;br /&gt;The novel is probably intended as a satire, but it arrives as a cross between tragedy and polemic instead. Any comedic elements such as those which later formed the stylistic basis of the film version are merely incidental to the author's uniformly cynical thrust. And lest the omnipresent white suit of the author fool you into thinking this is another Mark Twain, think again. A more apt literary precedent would be the spectre of Ambrose Bierce in a top hat and tails. Tom Wolfe is equal parts clown and hack, more celebrity than author, always looking for new grist for his self-absorbed mill. &lt;br /&gt;&lt;br /&gt;It is therefore no wonder that the excellent production skills and direction lavished on the making of the film were doomed from the start. Unlike true satire, which translates very well into film, polemics are grounded not in universally accessible observations on some form or other of human behavior, but in a single-minded attack on specific people -- whether real or fictional straw men -- who have somehow earned the wrath of the writer. Any effort to create a successful filmed story or narrative from such a beginning must have a clean start, free of the writer's influence or interference.&lt;br /&gt;&lt;br /&gt;Having said that, I too find fault with the casting. It is not merely that incompetents like Bruce Willis and Melanie Griffith fail to measure up, but that real talents like Tom Hanks, F. Murray Abraham, and Morgan Freeman are either totally wasted or given roles that are mere caricatures.&lt;br /&gt;&lt;br /&gt;There is enough topical material here for a truly great film satire, but it fails to come even close.</td>\n",
       "      <td>317</td>\n",
       "    </tr>\n",
       "    <tr>\n",
       "      <th>19258</th>\n",
       "      <td>Negative</td>\n",
       "      <td>Gung Ho was a good idea, however it is to much to ask Americans viewers to understand the dynamics of American jobs and foreign competition.In this movie the main character Hunt Stevenson(Michael Keaton) goes to Japan and convinces a Japanese auto company to come to America and help his dying Pennslyvania town. Two things come at you.First why would a Japanese company come to America to make cars when they do so ,and so well at that? Secondly can anyone understand that American companies of all types go to third world nations to have their products made to escape American labor costs? It makes the film's premise then that the Number one maker of cars in the world would go to one of its' top competitors(aside from Germany)and put a plant there as unrealistic. Keaton was still in his comedy mode by this time. But he gives a credible performance all the same as he could prove that he could go from comedy to drama in a matter of seconds and still not embarrass himself but Director Ron Howard can't keep this from becoming a TV movie which it ends up being anyway because they have to give the unlikely story a happy ending the politics and problems of Japanese and American relations not withstanding. Gung Ho has a Happy Days and Laverne and Shirley feel to it as the producers of both TV shows made the film and then made the TV version of this movie as well which gives the film its' lightweight feel.The Japanese manager gets to love his American workers and feels he and other Japanese people can learnfrom Americans.His No.2 man Saito who supposedly doesn't like Americans all that much doesn't think so.I would have prefered all the Japanese characters been like Saito than the soft goofball characters they made the Japanese out to be.It would have made the film more interesting.</td>\n",
       "      <td>317</td>\n",
       "    </tr>\n",
       "    <tr>\n",
       "      <th>19259</th>\n",
       "      <td>Negative</td>\n",
       "      <td>STAR RATING: ***** Saturday Night **** Friday Night *** Friday Morning ** Sunday Night * Monday Morning &lt;br /&gt;&lt;br /&gt;The American military has just launched a major new stealth fighter plane that can evade detection unlike any other. A renegade pilot (Steve Touissant) steals it and plots to hold the US government to ransom with it. So they are forced to send in their best man John Sands (Seagal, who else?) to stop him, in exchange for his freedom from a detention centre where his mind was to be wiped of all the incriminating information he's learned over the years.&lt;br /&gt;&lt;br /&gt;I skipped Attack Force because I could tell from the cover and all the post production tampering that had occurred that it would be crap and when all the negative reviews and low user rating came pouring in it just confirmed what I thought. But I decided to give FOF a go because Shadow Man (by the same director) wasn't bad and, what the hell, Seagal was my favourite action star once and maybe, just maybe, he could make a great film again. Oh what a fool I was.&lt;br /&gt;&lt;br /&gt;Dubbing, horrendous stock footage of aerial stealth fighter jets, awful camera work, cheap production values, risible, unconvincing fight scenes that have become Seagal's trademark and a boring, sleep inducing plot that doesn't go anywhere.&lt;br /&gt;&lt;br /&gt;Thankfully his next film, Once Upon a Time in the Hood (which I'll be skipping), apparently marks the end of his contract with Sony, meaning no more of these awful European lensed action films and his next film Prince of Pistols might mark a return to theatres. Hell, he's done it before and Stallone will have managed to do it before him (Rocky Balboa.) &lt;br /&gt;&lt;br /&gt;This isn't a Flight of Fury. It isn't even a flight of fun. It's a flight that fails to even take off the ground. *</td>\n",
       "      <td>317</td>\n",
       "    </tr>\n",
       "    <tr>\n",
       "      <th>19260</th>\n",
       "      <td>Negative</td>\n",
       "      <td>I would give this movie 5 rather than 3 if it would be at least in time... When i've seen it in first time it was just what you could wait from the work that is based not on the artistic abilities of the directors but on the idealistic or i would rather say idiotic habits of our (Kazakhstan) government... It's a shame, because 'Qazaqfil'm' was been shooting nice movies when it was not honoured by the name of Shaken Aimanov, but it was actually ran by him. The movies like 'Konec Atamana', 'Kyz Zhibek' or even 'Aldar Kose'. But after Mr Aimanov's death the production of quality movies went down almost dramatically in 10 years time there were very few films produced. However, in late 1980s, 'Assa' was shot, it was a film about first organised crime groups in the big country, one year later Mr. Rashid Nugmanov shot another film with the co-staring of the same actor/singer V.Tsoy, at that time he was already a soviet/Russian rock legend, - the movie called 'Igla' (The Needle or something) it was completely new, somebody called that period as resurrection or a new Kazakh movie wave. Unfortunately nowadays we do not have a quality movies, our directors shooting movies on the french and Japanese financial support, and thus movies are not for the public but for the authors professional critics, some of them take a price on international author movie festivals but there a very few of them become a business asset products... And again back to our 'nomads'. Such movies usually unpopular because of vast aspects. The same effects was with Nikita Mikhalkov's 'Sibirski Cyrilnik' about Russian tsars, that was also shot on parities with foreign partners, i think they were french or maybe British. Nobdy liked it, even in Russian public it become as a main topic of a comedians and comedy shows like 'KVN'. IMHO</td>\n",
       "      <td>317</td>\n",
       "    </tr>\n",
       "    <tr>\n",
       "      <th>19261</th>\n",
       "      <td>Negative</td>\n",
       "      <td>No wonder that the historian Ian Kershaw, author of the groundbreaking Hitler biography, who originally was the scientific consultant for this TV film, dissociated himself from it. The film is historically just too incorrect. The mistakes start right away when Hitler`s father Alois dies at home, while in reality he died in a pub. In the film, Hitler moves from Vienna to Munich in 1914, while in reality he actually moved to Munich in 1913. I could go on endlessly. Hitler`s childhood and youth are portrayed way too short, which makes it quite difficult for historically uninformed people to understand the character of this frustrated neurotic man. Important persons of the early time of the party, like Hitler`s fatherly friend Dietrich Eckart or the party \"philosopher\" Alfred Rosenberg are totally missing. The characterization of Ernst Hanfstaengl is very problematic. In the film he is portrayed as a noble character who almost despises Hitler. The script obviously follows Hanfstaengl`s own gloss over view of himself which he gave in his biography after the war. In fact, Hanfstaengl was an anti-semite and was crazy about his \"Fuehrer\". But the biggest problem of the film is the portrayal of Hitler himself. He is characterized as someone who is constantly unfriendly,has neither charisma nor charm and constantly orders everybody around. After watching the film, one wonders, how such a disgusting person ever was able to get any followers. Since we all know, what an evil criminal Hitler was, naturally every scriptwriter is tempted to portray Hitler as totally disgusting and uncharismatic. But facts is, that in private he could be quite charming and entertaining. His comrades didn`t follow him because he constantly yelled at them, but because they liked this strange man. Beyond all those historical mistakes, the film is well made, the actors are first class, the location shots and the production design give a believable impression of the era.</td>\n",
       "      <td>317</td>\n",
       "    </tr>\n",
       "  </tbody>\n",
       "</table>\n",
       "<p>19262 rows × 3 columns</p>\n",
       "</div>"
      ],
      "text/plain": [
       "      Sentiment  \\\n",
       "0      Positive   \n",
       "1      Positive   \n",
       "2      Positive   \n",
       "3      Positive   \n",
       "4      Positive   \n",
       "...         ...   \n",
       "19257  Negative   \n",
       "19258  Negative   \n",
       "19259  Negative   \n",
       "19260  Negative   \n",
       "19261  Negative   \n",
       "\n",
       "                                                                                                                                                                                                                                                                                                                                                                                                                                                                                                                                                                                                                                                                                                                                                                                                                                                                                                                                                                                                                                                                                                                                                                                                                                                                                                                                                                                                                                                                                                                                                                                                                                                                                                                                                                                                                                                                                                                                                                                                                                                 Text  \\\n",
       "0      Adrian Pasdar is excellent is this film. He makes a fascinating woman.                                                                                                                                                                                                                                                                                                                                                                                                                                                                                                                                                                                                                                                                                                                                                                                                                                                                                                                                                                                                                                                                                                                                                                                                                                                                                                                                                                                                                                                                                                                                                                                                                                                                                                                                                                                                                                                                                                                                                                           \n",
       "1      This is the definitive movie version of Hamlet. Branagh cuts nothing, but there are no wasted moments.                                                                                                                                                                                                                                                                                                                                                                                                                                                                                                                                                                                                                                                                                                                                                                                                                                                                                                                                                                                                                                                                                                                                                                                                                                                                                                                                                                                                                                                                                                                                                                                                                                                                                                                                                                                                                                                                                                                                           \n",
       "2      I don't know why I like this movie so well, but I never get tired of watching it.                                                                                                                                                                                                                                                                                                                                                                                                                                                                                                                                                                                                                                                                                                                                                                                                                                                                                                                                                                                                                                                                                                                                                                                                                                                                                                                                                                                                                                                                                                                                                                                                                                                                                                                                                                                                                                                                                                                                                                \n",
       "3      Obviously written for the stage. Lightweight but worthwhile. How can you go wrong with Ralph Richardson, Olivier and Merle Oberon.                                                                                                                                                                                                                                                                                                                                                                                                                                                                                                                                                                                                                                                                                                                                                                                                                                                                                                                                                                                                                                                                                                                                                                                                                                                                                                                                                                                                                                                                                                                                                                                                                                                                                                                                                                                                                                                                                                               \n",
       "4      This movie will always be a Broadway and Movie classic, as long as there are still people who sing, dance, and act.                                                                                                                                                                                                                                                                                                                                                                                                                                                                                                                                                                                                                                                                                                                                                                                                                                                                                                                                                                                                                                                                                                                                                                                                                                                                                                                                                                                                                                                                                                                                                                                                                                                                                                                                                                                                                                                                                                                              \n",
       "...                                                                                                                    ...                                                                                                                                                                                                                                                                                                                                                                                                                                                                                                                                                                                                                                                                                                                                                                                                                                                                                                                                                                                                                                                                                                                                                                                                                                                                                                                                                                                                                                                                                                                                                                                                                                                                                                                                                                                                                                                                                                                              \n",
       "19257  As someone who has both read the novel and seen the film, I have a different take on why the film was such a flop. First, any comparisons between novel and film are purely superficial. They are two different animals.<br /><br />The novel is probably intended as a satire, but it arrives as a cross between tragedy and polemic instead. Any comedic elements such as those which later formed the stylistic basis of the film version are merely incidental to the author's uniformly cynical thrust. And lest the omnipresent white suit of the author fool you into thinking this is another Mark Twain, think again. A more apt literary precedent would be the spectre of Ambrose Bierce in a top hat and tails. Tom Wolfe is equal parts clown and hack, more celebrity than author, always looking for new grist for his self-absorbed mill. <br /><br />It is therefore no wonder that the excellent production skills and direction lavished on the making of the film were doomed from the start. Unlike true satire, which translates very well into film, polemics are grounded not in universally accessible observations on some form or other of human behavior, but in a single-minded attack on specific people -- whether real or fictional straw men -- who have somehow earned the wrath of the writer. Any effort to create a successful filmed story or narrative from such a beginning must have a clean start, free of the writer's influence or interference.<br /><br />Having said that, I too find fault with the casting. It is not merely that incompetents like Bruce Willis and Melanie Griffith fail to measure up, but that real talents like Tom Hanks, F. Murray Abraham, and Morgan Freeman are either totally wasted or given roles that are mere caricatures.<br /><br />There is enough topical material here for a truly great film satire, but it fails to come even close.                                                                                                                      \n",
       "19258  Gung Ho was a good idea, however it is to much to ask Americans viewers to understand the dynamics of American jobs and foreign competition.In this movie the main character Hunt Stevenson(Michael Keaton) goes to Japan and convinces a Japanese auto company to come to America and help his dying Pennslyvania town. Two things come at you.First why would a Japanese company come to America to make cars when they do so ,and so well at that? Secondly can anyone understand that American companies of all types go to third world nations to have their products made to escape American labor costs? It makes the film's premise then that the Number one maker of cars in the world would go to one of its' top competitors(aside from Germany)and put a plant there as unrealistic. Keaton was still in his comedy mode by this time. But he gives a credible performance all the same as he could prove that he could go from comedy to drama in a matter of seconds and still not embarrass himself but Director Ron Howard can't keep this from becoming a TV movie which it ends up being anyway because they have to give the unlikely story a happy ending the politics and problems of Japanese and American relations not withstanding. Gung Ho has a Happy Days and Laverne and Shirley feel to it as the producers of both TV shows made the film and then made the TV version of this movie as well which gives the film its' lightweight feel.The Japanese manager gets to love his American workers and feels he and other Japanese people can learnfrom Americans.His No.2 man Saito who supposedly doesn't like Americans all that much doesn't think so.I would have prefered all the Japanese characters been like Saito than the soft goofball characters they made the Japanese out to be.It would have made the film more interesting.                                                                                                                                                                          \n",
       "19259  STAR RATING: ***** Saturday Night **** Friday Night *** Friday Morning ** Sunday Night * Monday Morning <br /><br />The American military has just launched a major new stealth fighter plane that can evade detection unlike any other. A renegade pilot (Steve Touissant) steals it and plots to hold the US government to ransom with it. So they are forced to send in their best man John Sands (Seagal, who else?) to stop him, in exchange for his freedom from a detention centre where his mind was to be wiped of all the incriminating information he's learned over the years.<br /><br />I skipped Attack Force because I could tell from the cover and all the post production tampering that had occurred that it would be crap and when all the negative reviews and low user rating came pouring in it just confirmed what I thought. But I decided to give FOF a go because Shadow Man (by the same director) wasn't bad and, what the hell, Seagal was my favourite action star once and maybe, just maybe, he could make a great film again. Oh what a fool I was.<br /><br />Dubbing, horrendous stock footage of aerial stealth fighter jets, awful camera work, cheap production values, risible, unconvincing fight scenes that have become Seagal's trademark and a boring, sleep inducing plot that doesn't go anywhere.<br /><br />Thankfully his next film, Once Upon a Time in the Hood (which I'll be skipping), apparently marks the end of his contract with Sony, meaning no more of these awful European lensed action films and his next film Prince of Pistols might mark a return to theatres. Hell, he's done it before and Stallone will have managed to do it before him (Rocky Balboa.) <br /><br />This isn't a Flight of Fury. It isn't even a flight of fun. It's a flight that fails to even take off the ground. *                                                                                                                                                                                 \n",
       "19260  I would give this movie 5 rather than 3 if it would be at least in time... When i've seen it in first time it was just what you could wait from the work that is based not on the artistic abilities of the directors but on the idealistic or i would rather say idiotic habits of our (Kazakhstan) government... It's a shame, because 'Qazaqfil'm' was been shooting nice movies when it was not honoured by the name of Shaken Aimanov, but it was actually ran by him. The movies like 'Konec Atamana', 'Kyz Zhibek' or even 'Aldar Kose'. But after Mr Aimanov's death the production of quality movies went down almost dramatically in 10 years time there were very few films produced. However, in late 1980s, 'Assa' was shot, it was a film about first organised crime groups in the big country, one year later Mr. Rashid Nugmanov shot another film with the co-staring of the same actor/singer V.Tsoy, at that time he was already a soviet/Russian rock legend, - the movie called 'Igla' (The Needle or something) it was completely new, somebody called that period as resurrection or a new Kazakh movie wave. Unfortunately nowadays we do not have a quality movies, our directors shooting movies on the french and Japanese financial support, and thus movies are not for the public but for the authors professional critics, some of them take a price on international author movie festivals but there a very few of them become a business asset products... And again back to our 'nomads'. Such movies usually unpopular because of vast aspects. The same effects was with Nikita Mikhalkov's 'Sibirski Cyrilnik' about Russian tsars, that was also shot on parities with foreign partners, i think they were french or maybe British. Nobdy liked it, even in Russian public it become as a main topic of a comedians and comedy shows like 'KVN'. IMHO                                                                                                                                                    \n",
       "19261  No wonder that the historian Ian Kershaw, author of the groundbreaking Hitler biography, who originally was the scientific consultant for this TV film, dissociated himself from it. The film is historically just too incorrect. The mistakes start right away when Hitler`s father Alois dies at home, while in reality he died in a pub. In the film, Hitler moves from Vienna to Munich in 1914, while in reality he actually moved to Munich in 1913. I could go on endlessly. Hitler`s childhood and youth are portrayed way too short, which makes it quite difficult for historically uninformed people to understand the character of this frustrated neurotic man. Important persons of the early time of the party, like Hitler`s fatherly friend Dietrich Eckart or the party \"philosopher\" Alfred Rosenberg are totally missing. The characterization of Ernst Hanfstaengl is very problematic. In the film he is portrayed as a noble character who almost despises Hitler. The script obviously follows Hanfstaengl`s own gloss over view of himself which he gave in his biography after the war. In fact, Hanfstaengl was an anti-semite and was crazy about his \"Fuehrer\". But the biggest problem of the film is the portrayal of Hitler himself. He is characterized as someone who is constantly unfriendly,has neither charisma nor charm and constantly orders everybody around. After watching the film, one wonders, how such a disgusting person ever was able to get any followers. Since we all know, what an evil criminal Hitler was, naturally every scriptwriter is tempted to portray Hitler as totally disgusting and uncharismatic. But facts is, that in private he could be quite charming and entertaining. His comrades didn`t follow him because he constantly yelled at them, but because they liked this strange man. Beyond all those historical mistakes, the film is well made, the actors are first class, the location shots and the production design give a believable impression of the era.   \n",
       "\n",
       "       Length  \n",
       "0      12      \n",
       "1      17      \n",
       "2      18      \n",
       "3      20      \n",
       "4      22      \n",
       "...    ..      \n",
       "19257  317     \n",
       "19258  317     \n",
       "19259  317     \n",
       "19260  317     \n",
       "19261  317     \n",
       "\n",
       "[19262 rows x 3 columns]"
      ]
     },
     "execution_count": 9,
     "metadata": {},
     "output_type": "execute_result"
    }
   ],
   "source": [
    "df_orig = pd.read_csv(train_orig_data_url, sep=\"\\t\")\n",
    "df_orig"
   ]
  },
  {
   "cell_type": "code",
   "execution_count": 10,
   "metadata": {},
   "outputs": [
    {
     "data": {
      "text/html": [
       "<div>\n",
       "<style scoped>\n",
       "    .dataframe tbody tr th:only-of-type {\n",
       "        vertical-align: middle;\n",
       "    }\n",
       "\n",
       "    .dataframe tbody tr th {\n",
       "        vertical-align: top;\n",
       "    }\n",
       "\n",
       "    .dataframe thead th {\n",
       "        text-align: right;\n",
       "    }\n",
       "</style>\n",
       "<table border=\"1\" class=\"dataframe\">\n",
       "  <thead>\n",
       "    <tr style=\"text-align: right;\">\n",
       "      <th></th>\n",
       "      <th>Sentiment</th>\n",
       "      <th>Text</th>\n",
       "      <th>batch_id</th>\n",
       "    </tr>\n",
       "  </thead>\n",
       "  <tbody>\n",
       "    <tr>\n",
       "      <th>0</th>\n",
       "      <td>Negative</td>\n",
       "      <td>Long, boring, blasphemous. Never have I been so glad to see ending credits roll.</td>\n",
       "      <td>4</td>\n",
       "    </tr>\n",
       "    <tr>\n",
       "      <th>1</th>\n",
       "      <td>Positive</td>\n",
       "      <td>Long, fascinating, soulful. Never have I been so sad to see ending credits roll.</td>\n",
       "      <td>4</td>\n",
       "    </tr>\n",
       "    <tr>\n",
       "      <th>2</th>\n",
       "      <td>Negative</td>\n",
       "      <td>Not good! Rent or buy the original! Watch this only if someone has a gun to your head and then....maybe.&lt;br /&gt;&lt;br /&gt;It is like claiming an Elvis actor is as good as the real King.</td>\n",
       "      <td>40</td>\n",
       "    </tr>\n",
       "    <tr>\n",
       "      <th>3</th>\n",
       "      <td>Positive</td>\n",
       "      <td>So good! Rent or buy the original, too! Watch this, too! It's just as good!&lt;br /&gt;&lt;br /&gt;It is an amazing Elvis impersonator and the real King.</td>\n",
       "      <td>40</td>\n",
       "    </tr>\n",
       "    <tr>\n",
       "      <th>4</th>\n",
       "      <td>Negative</td>\n",
       "      <td>This movie is so bad, it can only be compared to the all-time worst \"comedy\": Police Academy 7. No laughs throughout the movie. Do something worthwhile, anything really. Just don't waste your time on this garbage.</td>\n",
       "      <td>47</td>\n",
       "    </tr>\n",
       "  </tbody>\n",
       "</table>\n",
       "</div>"
      ],
      "text/plain": [
       "  Sentiment  \\\n",
       "0  Negative   \n",
       "1  Positive   \n",
       "2  Negative   \n",
       "3  Positive   \n",
       "4  Negative   \n",
       "\n",
       "                                                                                                                                                                                                                    Text  \\\n",
       "0  Long, boring, blasphemous. Never have I been so glad to see ending credits roll.                                                                                                                                        \n",
       "1  Long, fascinating, soulful. Never have I been so sad to see ending credits roll.                                                                                                                                        \n",
       "2  Not good! Rent or buy the original! Watch this only if someone has a gun to your head and then....maybe.<br /><br />It is like claiming an Elvis actor is as good as the real King.                                     \n",
       "3  So good! Rent or buy the original, too! Watch this, too! It's just as good!<br /><br />It is an amazing Elvis impersonator and the real King.                                                                           \n",
       "4  This movie is so bad, it can only be compared to the all-time worst \"comedy\": Police Academy 7. No laughs throughout the movie. Do something worthwhile, anything really. Just don't waste your time on this garbage.   \n",
       "\n",
       "   batch_id  \n",
       "0  4         \n",
       "1  4         \n",
       "2  40        \n",
       "3  40        \n",
       "4  47        "
      ]
     },
     "execution_count": 10,
     "metadata": {},
     "output_type": "execute_result"
    }
   ],
   "source": [
    "df_counterfacts_train = pd.read_csv(train_counterfacts_data_url, sep=\"\\t\")\n",
    "df_counterfacts_train.head()"
   ]
  },
  {
   "cell_type": "code",
   "execution_count": 11,
   "metadata": {},
   "outputs": [
    {
     "data": {
      "text/html": [
       "<div>\n",
       "<style scoped>\n",
       "    .dataframe tbody tr th:only-of-type {\n",
       "        vertical-align: middle;\n",
       "    }\n",
       "\n",
       "    .dataframe tbody tr th {\n",
       "        vertical-align: top;\n",
       "    }\n",
       "\n",
       "    .dataframe thead th {\n",
       "        text-align: right;\n",
       "    }\n",
       "</style>\n",
       "<table border=\"1\" class=\"dataframe\">\n",
       "  <thead>\n",
       "    <tr style=\"text-align: right;\">\n",
       "      <th></th>\n",
       "      <th>Sentiment</th>\n",
       "      <th>Text</th>\n",
       "      <th>batch_id</th>\n",
       "    </tr>\n",
       "  </thead>\n",
       "  <tbody>\n",
       "    <tr>\n",
       "      <th>0</th>\n",
       "      <td>Negative</td>\n",
       "      <td>I saw this in the summer of 1990. I'm still annoyed by how bad this movie is in 2001.&lt;br /&gt;&lt;br /&gt;Implausible plot. You'd have to be a child to think this could happen.&lt;br /&gt;&lt;br /&gt;I'm just really annoyed by it. Don't see this.</td>\n",
       "      <td>122</td>\n",
       "    </tr>\n",
       "    <tr>\n",
       "      <th>1</th>\n",
       "      <td>Positive</td>\n",
       "      <td>I saw this in the summer of 1990. I'm still annoyed by how good this movie is in 2001.&lt;br /&gt;&lt;br /&gt;Incredible plot. You'd have to be a child to think this could happen.&lt;br /&gt;&lt;br /&gt;I'm just really annoyed by it. See this.</td>\n",
       "      <td>122</td>\n",
       "    </tr>\n",
       "    <tr>\n",
       "      <th>2</th>\n",
       "      <td>Negative</td>\n",
       "      <td>The first half of the film is OK, the second half one of the most tedious experiences imaginable. Quite possibly the most overrated movie of all time. \"Pulp Fiction\" was robbed for \"Best Picture.\" This is one of those films that people feel required to love because the main character is \"slow.\"</td>\n",
       "      <td>284</td>\n",
       "    </tr>\n",
       "    <tr>\n",
       "      <th>3</th>\n",
       "      <td>Positive</td>\n",
       "      <td>The first half of the film is good, the second half one of the most wonderful experiences imaginable. Quite possibly the most underrated movie of all time. \"Pulp Fiction\" rightfully lost for \"Best Picture.\" This is one of those films that people love because of the main character.</td>\n",
       "      <td>284</td>\n",
       "    </tr>\n",
       "    <tr>\n",
       "      <th>4</th>\n",
       "      <td>Negative</td>\n",
       "      <td>This movie is not very good.In fact, it is the worst Elvis movie I have seen.It has very little plot,mostly partying,beer drinking and fighting. Burgess Meredith and Thomas Gomez are wasted. I don't know why they did this movie.You could say Elvis was wasted as well,he is much,much better in \"Follow That Dream.\"</td>\n",
       "      <td>310</td>\n",
       "    </tr>\n",
       "  </tbody>\n",
       "</table>\n",
       "</div>"
      ],
      "text/plain": [
       "  Sentiment  \\\n",
       "0  Negative   \n",
       "1  Positive   \n",
       "2  Negative   \n",
       "3  Positive   \n",
       "4  Negative   \n",
       "\n",
       "                                                                                                                                                                                                                                                                                                                        Text  \\\n",
       "0  I saw this in the summer of 1990. I'm still annoyed by how bad this movie is in 2001.<br /><br />Implausible plot. You'd have to be a child to think this could happen.<br /><br />I'm just really annoyed by it. Don't see this.                                                                                           \n",
       "1  I saw this in the summer of 1990. I'm still annoyed by how good this movie is in 2001.<br /><br />Incredible plot. You'd have to be a child to think this could happen.<br /><br />I'm just really annoyed by it. See this.                                                                                                 \n",
       "2  The first half of the film is OK, the second half one of the most tedious experiences imaginable. Quite possibly the most overrated movie of all time. \"Pulp Fiction\" was robbed for \"Best Picture.\" This is one of those films that people feel required to love because the main character is \"slow.\"                     \n",
       "3  The first half of the film is good, the second half one of the most wonderful experiences imaginable. Quite possibly the most underrated movie of all time. \"Pulp Fiction\" rightfully lost for \"Best Picture.\" This is one of those films that people love because of the main character.                                   \n",
       "4  This movie is not very good.In fact, it is the worst Elvis movie I have seen.It has very little plot,mostly partying,beer drinking and fighting. Burgess Meredith and Thomas Gomez are wasted. I don't know why they did this movie.You could say Elvis was wasted as well,he is much,much better in \"Follow That Dream.\"   \n",
       "\n",
       "   batch_id  \n",
       "0  122       \n",
       "1  122       \n",
       "2  284       \n",
       "3  284       \n",
       "4  310       "
      ]
     },
     "execution_count": 11,
     "metadata": {},
     "output_type": "execute_result"
    }
   ],
   "source": [
    "df_counterfacts_val = pd.read_csv(val_counterfacts_data_url, sep=\"\\t\")\n",
    "df_counterfacts_val.head()"
   ]
  },
  {
   "cell_type": "code",
   "execution_count": 12,
   "metadata": {},
   "outputs": [
    {
     "data": {
      "text/plain": [
       "(3414, 3)"
      ]
     },
     "execution_count": 12,
     "metadata": {},
     "output_type": "execute_result"
    }
   ],
   "source": [
    "df_counterfacts_train.shape"
   ]
  },
  {
   "cell_type": "code",
   "execution_count": 13,
   "metadata": {},
   "outputs": [],
   "source": [
    "df_orig = df_orig.pipe(get_batch_id, df_counterfacts_train)"
   ]
  },
  {
   "cell_type": "code",
   "execution_count": 14,
   "metadata": {},
   "outputs": [
    {
     "data": {
      "text/plain": [
       "((15409, 6), (3853, 6))"
      ]
     },
     "execution_count": 14,
     "metadata": {},
     "output_type": "execute_result"
    }
   ],
   "source": [
    "\n",
    "df_orig_train, df_orig_val = train_test_split(df_orig, test_size=0.2, random_state=42)\n",
    "df_orig_train.shape, df_orig_val.shape"
   ]
  },
  {
   "cell_type": "code",
   "execution_count": 15,
   "metadata": {},
   "outputs": [
    {
     "data": {
      "text/html": [
       "<div>\n",
       "<style scoped>\n",
       "    .dataframe tbody tr th:only-of-type {\n",
       "        vertical-align: middle;\n",
       "    }\n",
       "\n",
       "    .dataframe tbody tr th {\n",
       "        vertical-align: top;\n",
       "    }\n",
       "\n",
       "    .dataframe thead th {\n",
       "        text-align: right;\n",
       "    }\n",
       "</style>\n",
       "<table border=\"1\" class=\"dataframe\">\n",
       "  <thead>\n",
       "    <tr style=\"text-align: right;\">\n",
       "      <th></th>\n",
       "      <th>Sentiment</th>\n",
       "      <th>Text</th>\n",
       "      <th>Length</th>\n",
       "      <th>batch_id</th>\n",
       "      <th>counter_text</th>\n",
       "      <th>counter_sentiment</th>\n",
       "    </tr>\n",
       "  </thead>\n",
       "  <tbody>\n",
       "    <tr>\n",
       "      <th>3541</th>\n",
       "      <td>Positive</td>\n",
       "      <td>This is far more than the charming story of middle-aged man discovering the pleasures of ballroom dancing (although it IS that as well). It's the tale of one person learning to love life again, pushing past all the pressures of work and money to discover joy once more. The bonus in this film is a fascinating insight into the slowly changing attitudes of modern Japan toward everything from ballroom dancing to physical contact. There are scenes that will make you laugh out loud ... a few where you'll want to get up and tango ... and many others where you'll just feel good.&lt;br /&gt;&lt;br /&gt;This is a great introduction to contemporary Japanese filmmaking for those who might be under the impression that all Japanese movies are \"heavy\" and inaccessible. &lt;br /&gt;&lt;br /&gt;</td>\n",
       "      <td>132</td>\n",
       "      <td>-1</td>\n",
       "      <td>None</td>\n",
       "      <td>None</td>\n",
       "    </tr>\n",
       "    <tr>\n",
       "      <th>3622</th>\n",
       "      <td>Positive</td>\n",
       "      <td>I wait for each new episode, each re-run with anticipation! The new look of sci-fi created by Stargate SG-1 is a wonder that I hope will never end. To combine the past with the future is a new twist that is fascinating to me. Season #9 should be a thrill in itself. I wish that Richard Dean Anderson would show up more often in the new season, as I love his dry wit as much as his temper tantrums in his character as Jack O'Neill. The other characters add their own uniqueness to the show that makes it a winner, season after season. You cancel this program in the next three years, and you make a serious mistake. Also, you need a bigger role for the Asgard - they are just too cool.</td>\n",
       "      <td>133</td>\n",
       "      <td>-1</td>\n",
       "      <td>None</td>\n",
       "      <td>None</td>\n",
       "    </tr>\n",
       "    <tr>\n",
       "      <th>18602</th>\n",
       "      <td>Negative</td>\n",
       "      <td>I signed in just to comment on how awfully stupid this movie is. Besides being a rip-off of Executive Decision or Air Force One or any other kind of terrorist story, this is the kind of movie that makes you appreciate seeing a movie that can take the same basic ideas and do it well. It's hard to blame the actors when they are given such a stupid, cliché-ridden script to work with. It's bad enough if you groan once in a movie when you encounter an insult to your intelligence, but when you find yourself groaning over and over again, you have to conclude that the director also isn't the brightest bulb in the movie business, nor are the producers for deciding to bring this story to the screen in the first place. The mostly low-rent actors you can excuse for taking on this assignment, because they most likely showed up to get the money and exposure, not that being a part of this joke-of-a-movie is going to earn them any awards or recognition. It may end up embarrassing them for having such poor judgment as to get involved in such a loser. I see no point in summarizing the plot or even in giving any examples to prove my case, for, to do so, would be cruel and unusual punishment that no one involved in this debacle could withstand. Just as studying well-made movies can inspire you how to make a good, skillfully put-together work of art and beauty, the only thing that you can learn from watching this monstrosity is what NOT to do and what does NOT work! Be warned.</td>\n",
       "      <td>274</td>\n",
       "      <td>-1</td>\n",
       "      <td>None</td>\n",
       "      <td>None</td>\n",
       "    </tr>\n",
       "    <tr>\n",
       "      <th>1744</th>\n",
       "      <td>Positive</td>\n",
       "      <td>Monstervision was a show I grew up with. From late night hosting with Penn and Teller to the one, the only, Joe Bob Briggs. The show kept me up Friday nights back in my high school years, and provided some of the best drive-in memories to ever come outside of the drive-in.&lt;br /&gt;&lt;br /&gt;Without a doubt, the best late night television ever. If you didn't stay up, you were missing out.&lt;br /&gt;&lt;br /&gt;I know John Bloom and Joe Bob live on, but I want them back where they belong...MONSTERVISION! Question...did anyone else sit through all 4 hours of \"The Swarm\" ? q:)&lt;br /&gt;&lt;br /&gt;Long live Monstervision!</td>\n",
       "      <td>106</td>\n",
       "      <td>-1</td>\n",
       "      <td>None</td>\n",
       "      <td>None</td>\n",
       "    </tr>\n",
       "    <tr>\n",
       "      <th>519</th>\n",
       "      <td>Positive</td>\n",
       "      <td>Although this was obviously a low-budget production, the performances and the songs in this movie are worth seeing. One of Walken's few musical roles to date. (he is a marvelous dancer and singer and he demonstrates his acrobatic skills as well - watch for the cartwheel!) Also starring Jason Connery. A great children's story and very likable characters.</td>\n",
       "      <td>58</td>\n",
       "      <td>-1</td>\n",
       "      <td>None</td>\n",
       "      <td>None</td>\n",
       "    </tr>\n",
       "    <tr>\n",
       "      <th>12708</th>\n",
       "      <td>Negative</td>\n",
       "      <td>I have no idea what the producers of The Shield were trying to do, but the result speaks for itself: The Shield is practically unwatchable.&lt;br /&gt;&lt;br /&gt;Supposedly the performances on The Shield are great...&lt;br /&gt;&lt;br /&gt;In reality, the show is so badly put together that you can't even really see the performances. For instance, the editing cuts away from reaction shots before they've had their full impact.&lt;br /&gt;&lt;br /&gt;I don't know what intellectual rationale there is for that, but it robs the show of all emotional impact.&lt;br /&gt;&lt;br /&gt;I'll give The Shield one point for ambition in its subject matter, but that's pretty much all I can give it.&lt;br /&gt;&lt;br /&gt;It's a shame to see a number of talented performer waste their gift on something so strangely badly filmed.</td>\n",
       "      <td>129</td>\n",
       "      <td>-1</td>\n",
       "      <td>None</td>\n",
       "      <td>None</td>\n",
       "    </tr>\n",
       "    <tr>\n",
       "      <th>1873</th>\n",
       "      <td>Positive</td>\n",
       "      <td>Mesmerizing, breathtaking and horrifying, this hauntingly beautiful film is the \"Apocalypse Now\" without fiction. Slow in pace, quiet in mood, it gives good glimpses of the poisoned patches of Earth that may well be signs of an inevitable doom.&lt;br /&gt;&lt;br /&gt;There is no doubt in my mind -- the nature is plagued and we are the disease. Greed, the very essence of humanity that drives evolution and progress, has turned us into something like cancer, on its way to consume the host and die with it...&lt;br /&gt;&lt;br /&gt;Manufactured Landscapes is quite an unforgettable viewing experience - at least I'll never regard my toaster and iron the same way again.</td>\n",
       "      <td>109</td>\n",
       "      <td>-1</td>\n",
       "      <td>None</td>\n",
       "      <td>None</td>\n",
       "    </tr>\n",
       "    <tr>\n",
       "      <th>381</th>\n",
       "      <td>Positive</td>\n",
       "      <td>One of Disney's best films that I can enjoy watching often. you may easily guess the outcome, but who cares? its just plain fun escape for 1 hour forty-two minutes. and after all wasn't movies meant to get away from reality for just a short time anyway? The cast sparkles with delight. -magictrain</td>\n",
       "      <td>53</td>\n",
       "      <td>-1</td>\n",
       "      <td>None</td>\n",
       "      <td>None</td>\n",
       "    </tr>\n",
       "    <tr>\n",
       "      <th>11296</th>\n",
       "      <td>Negative</td>\n",
       "      <td>A young scientist is trying to carry on his dead father's work on limb regeneration.His overbearing mother has convinced him that he murdered his own father and is monitoring his progress for her own evil purposes.A young doctor uses reptilian DNA he extracts from a large creature and when his arm is conveniently ripped off a few minutes later,he injects himself with his formula and grows a new murderous arm...Admittedly the special effects in \"Severed Ties\" are pretty good and grotesque,but the rest of the film is awful.The severed arm is behaving like a snake and kills few people.Big deal.The acting is mediocre and the climax is silly.3 out of 10.</td>\n",
       "      <td>111</td>\n",
       "      <td>-1</td>\n",
       "      <td>None</td>\n",
       "      <td>None</td>\n",
       "    </tr>\n",
       "    <tr>\n",
       "      <th>8563</th>\n",
       "      <td>Positive</td>\n",
       "      <td>I've been watching \"Dick Tracy\" for years, and as a result it's become a vital part of my life - it was with me throughout childhood and I used to see it quite often. Seeing it now, as an adult, it's still a very good movie - dark, satiric and incredibly misunderstood. About the only thing that can be said is the Oscar nomination Pacino received - other than that it is rarely discussed and didn't make much of a fuss when it came out.&lt;br /&gt;&lt;br /&gt;Pacino is over-the-top but to good effect as he's clearly having loads of fun. Beatty is great as Dick Tracy and behind the camera manages to capture the atmosphere of a film noir comic book better than any other film, possibly, I have ever seen. Just taking a look at one scene from the film is breathtaking. The lighting, velvet overtones and smog/smoke combine to create a great effect.&lt;br /&gt;&lt;br /&gt;There are some really funny cameos including one by Dustin Hoffman as \"Mumbles,\" and I don't think there are any flaws at all in terms of acting - even the mandatory kid-character is far better than expected.&lt;br /&gt;&lt;br /&gt;Overall, a really fine movie that has become misunderstood over the years since its release and is incredibly underrated with only 5.7/10 average on IMDb. The critics' reviews are very positive (check out RottenTomatoes.com) and after seeing the film once again it's not hard to see why - this is a perfect example of capturing the essence of a comic book, from style to eccentricity.&lt;br /&gt;&lt;br /&gt;Highly recommended. 4.5/5 stars.</td>\n",
       "      <td>264</td>\n",
       "      <td>-1</td>\n",
       "      <td>None</td>\n",
       "      <td>None</td>\n",
       "    </tr>\n",
       "  </tbody>\n",
       "</table>\n",
       "</div>"
      ],
      "text/plain": [
       "      Sentiment  \\\n",
       "3541   Positive   \n",
       "3622   Positive   \n",
       "18602  Negative   \n",
       "1744   Positive   \n",
       "519    Positive   \n",
       "12708  Negative   \n",
       "1873   Positive   \n",
       "381    Positive   \n",
       "11296  Negative   \n",
       "8563   Positive   \n",
       "\n",
       "                                                                                                                                                                                                                                                                                                                                                                                                                                                                                                                                                                                                                                                                                                                                                                                                                                                                                                                                                                                                                                                                                                                                                                                                                                                                                                                                                                                                                                                                                                                                                             Text  \\\n",
       "3541   This is far more than the charming story of middle-aged man discovering the pleasures of ballroom dancing (although it IS that as well). It's the tale of one person learning to love life again, pushing past all the pressures of work and money to discover joy once more. The bonus in this film is a fascinating insight into the slowly changing attitudes of modern Japan toward everything from ballroom dancing to physical contact. There are scenes that will make you laugh out loud ... a few where you'll want to get up and tango ... and many others where you'll just feel good.<br /><br />This is a great introduction to contemporary Japanese filmmaking for those who might be under the impression that all Japanese movies are \"heavy\" and inaccessible. <br /><br />                                                                                                                                                                                                                                                                                                                                                                                                                                                                                                                                                                                                                                                                                                                                                                \n",
       "3622   I wait for each new episode, each re-run with anticipation! The new look of sci-fi created by Stargate SG-1 is a wonder that I hope will never end. To combine the past with the future is a new twist that is fascinating to me. Season #9 should be a thrill in itself. I wish that Richard Dean Anderson would show up more often in the new season, as I love his dry wit as much as his temper tantrums in his character as Jack O'Neill. The other characters add their own uniqueness to the show that makes it a winner, season after season. You cancel this program in the next three years, and you make a serious mistake. Also, you need a bigger role for the Asgard - they are just too cool.                                                                                                                                                                                                                                                                                                                                                                                                                                                                                                                                                                                                                                                                                                                                                                                                                                                 \n",
       "18602  I signed in just to comment on how awfully stupid this movie is. Besides being a rip-off of Executive Decision or Air Force One or any other kind of terrorist story, this is the kind of movie that makes you appreciate seeing a movie that can take the same basic ideas and do it well. It's hard to blame the actors when they are given such a stupid, cliché-ridden script to work with. It's bad enough if you groan once in a movie when you encounter an insult to your intelligence, but when you find yourself groaning over and over again, you have to conclude that the director also isn't the brightest bulb in the movie business, nor are the producers for deciding to bring this story to the screen in the first place. The mostly low-rent actors you can excuse for taking on this assignment, because they most likely showed up to get the money and exposure, not that being a part of this joke-of-a-movie is going to earn them any awards or recognition. It may end up embarrassing them for having such poor judgment as to get involved in such a loser. I see no point in summarizing the plot or even in giving any examples to prove my case, for, to do so, would be cruel and unusual punishment that no one involved in this debacle could withstand. Just as studying well-made movies can inspire you how to make a good, skillfully put-together work of art and beauty, the only thing that you can learn from watching this monstrosity is what NOT to do and what does NOT work! Be warned.                     \n",
       "1744   Monstervision was a show I grew up with. From late night hosting with Penn and Teller to the one, the only, Joe Bob Briggs. The show kept me up Friday nights back in my high school years, and provided some of the best drive-in memories to ever come outside of the drive-in.<br /><br />Without a doubt, the best late night television ever. If you didn't stay up, you were missing out.<br /><br />I know John Bloom and Joe Bob live on, but I want them back where they belong...MONSTERVISION! Question...did anyone else sit through all 4 hours of \"The Swarm\" ? q:)<br /><br />Long live Monstervision!                                                                                                                                                                                                                                                                                                                                                                                                                                                                                                                                                                                                                                                                                                                                                                                                                                                                                                                                        \n",
       "519    Although this was obviously a low-budget production, the performances and the songs in this movie are worth seeing. One of Walken's few musical roles to date. (he is a marvelous dancer and singer and he demonstrates his acrobatic skills as well - watch for the cartwheel!) Also starring Jason Connery. A great children's story and very likable characters.                                                                                                                                                                                                                                                                                                                                                                                                                                                                                                                                                                                                                                                                                                                                                                                                                                                                                                                                                                                                                                                                                                                                                                                          \n",
       "12708  I have no idea what the producers of The Shield were trying to do, but the result speaks for itself: The Shield is practically unwatchable.<br /><br />Supposedly the performances on The Shield are great...<br /><br />In reality, the show is so badly put together that you can't even really see the performances. For instance, the editing cuts away from reaction shots before they've had their full impact.<br /><br />I don't know what intellectual rationale there is for that, but it robs the show of all emotional impact.<br /><br />I'll give The Shield one point for ambition in its subject matter, but that's pretty much all I can give it.<br /><br />It's a shame to see a number of talented performer waste their gift on something so strangely badly filmed.                                                                                                                                                                                                                                                                                                                                                                                                                                                                                                                                                                                                                                                                                                                                                                    \n",
       "1873   Mesmerizing, breathtaking and horrifying, this hauntingly beautiful film is the \"Apocalypse Now\" without fiction. Slow in pace, quiet in mood, it gives good glimpses of the poisoned patches of Earth that may well be signs of an inevitable doom.<br /><br />There is no doubt in my mind -- the nature is plagued and we are the disease. Greed, the very essence of humanity that drives evolution and progress, has turned us into something like cancer, on its way to consume the host and die with it...<br /><br />Manufactured Landscapes is quite an unforgettable viewing experience - at least I'll never regard my toaster and iron the same way again.                                                                                                                                                                                                                                                                                                                                                                                                                                                                                                                                                                                                                                                                                                                                                                                                                                                                                       \n",
       "381    One of Disney's best films that I can enjoy watching often. you may easily guess the outcome, but who cares? its just plain fun escape for 1 hour forty-two minutes. and after all wasn't movies meant to get away from reality for just a short time anyway? The cast sparkles with delight. -magictrain                                                                                                                                                                                                                                                                                                                                                                                                                                                                                                                                                                                                                                                                                                                                                                                                                                                                                                                                                                                                                                                                                                                                                                                                                                                    \n",
       "11296  A young scientist is trying to carry on his dead father's work on limb regeneration.His overbearing mother has convinced him that he murdered his own father and is monitoring his progress for her own evil purposes.A young doctor uses reptilian DNA he extracts from a large creature and when his arm is conveniently ripped off a few minutes later,he injects himself with his formula and grows a new murderous arm...Admittedly the special effects in \"Severed Ties\" are pretty good and grotesque,but the rest of the film is awful.The severed arm is behaving like a snake and kills few people.Big deal.The acting is mediocre and the climax is silly.3 out of 10.                                                                                                                                                                                                                                                                                                                                                                                                                                                                                                                                                                                                                                                                                                                                                                                                                                                                            \n",
       "8563   I've been watching \"Dick Tracy\" for years, and as a result it's become a vital part of my life - it was with me throughout childhood and I used to see it quite often. Seeing it now, as an adult, it's still a very good movie - dark, satiric and incredibly misunderstood. About the only thing that can be said is the Oscar nomination Pacino received - other than that it is rarely discussed and didn't make much of a fuss when it came out.<br /><br />Pacino is over-the-top but to good effect as he's clearly having loads of fun. Beatty is great as Dick Tracy and behind the camera manages to capture the atmosphere of a film noir comic book better than any other film, possibly, I have ever seen. Just taking a look at one scene from the film is breathtaking. The lighting, velvet overtones and smog/smoke combine to create a great effect.<br /><br />There are some really funny cameos including one by Dustin Hoffman as \"Mumbles,\" and I don't think there are any flaws at all in terms of acting - even the mandatory kid-character is far better than expected.<br /><br />Overall, a really fine movie that has become misunderstood over the years since its release and is incredibly underrated with only 5.7/10 average on IMDb. The critics' reviews are very positive (check out RottenTomatoes.com) and after seeing the film once again it's not hard to see why - this is a perfect example of capturing the essence of a comic book, from style to eccentricity.<br /><br />Highly recommended. 4.5/5 stars.   \n",
       "\n",
       "       Length  batch_id counter_text counter_sentiment  \n",
       "3541   132    -1         None         None              \n",
       "3622   133    -1         None         None              \n",
       "18602  274    -1         None         None              \n",
       "1744   106    -1         None         None              \n",
       "519    58     -1         None         None              \n",
       "12708  129    -1         None         None              \n",
       "1873   109    -1         None         None              \n",
       "381    53     -1         None         None              \n",
       "11296  111    -1         None         None              \n",
       "8563   264    -1         None         None              "
      ]
     },
     "execution_count": 15,
     "metadata": {},
     "output_type": "execute_result"
    }
   ],
   "source": [
    "df_orig_train.sample(n=10)"
   ]
  },
  {
   "cell_type": "code",
   "execution_count": 16,
   "metadata": {},
   "outputs": [
    {
     "data": {
      "text/plain": [
       "False    14020\n",
       "True     1389 \n",
       "Name: batch_id, dtype: int64"
      ]
     },
     "execution_count": 16,
     "metadata": {},
     "output_type": "execute_result"
    }
   ],
   "source": [
    "(df_orig_train[\"batch_id\"]!=-1).value_counts()"
   ]
  },
  {
   "cell_type": "code",
   "execution_count": 17,
   "metadata": {},
   "outputs": [
    {
     "data": {
      "text/html": [
       "<div>\n",
       "<style scoped>\n",
       "    .dataframe tbody tr th:only-of-type {\n",
       "        vertical-align: middle;\n",
       "    }\n",
       "\n",
       "    .dataframe tbody tr th {\n",
       "        vertical-align: top;\n",
       "    }\n",
       "\n",
       "    .dataframe thead th {\n",
       "        text-align: right;\n",
       "    }\n",
       "</style>\n",
       "<table border=\"1\" class=\"dataframe\">\n",
       "  <thead>\n",
       "    <tr style=\"text-align: right;\">\n",
       "      <th></th>\n",
       "      <th>Sentiment</th>\n",
       "      <th>Text</th>\n",
       "      <th>Length</th>\n",
       "      <th>batch_id</th>\n",
       "      <th>counter_text</th>\n",
       "      <th>counter_sentiment</th>\n",
       "    </tr>\n",
       "  </thead>\n",
       "  <tbody>\n",
       "    <tr>\n",
       "      <th>4448</th>\n",
       "      <td>Positive</td>\n",
       "      <td>I love this anime! I was laughing my head off with all of the jokes and the violence (mostly from Akane Ranma's reluctant but short tempered \"fiancee\")is so slapstick however Ranma does deserve it but he does try his best to make amends...clumsily. The main character Ranma goes to China to train only to fall into the cursed Jusenkkyo Spring and turns into a girl when splashed by cold water. From then on it's pure chaos one after another. Among the stand outs are the deranged brother and sister duo of Kuno and Kodachi, the sexy Shampoo, the pervert Happosai all causing trouble for our hero/heroine. However it is Ranma's selfish father Genma who winds up being the culprit for the mess most of the time. If anyone want an anime that's funny, this is the one. It's cuter and better with the Japanese dub.</td>\n",
       "      <td>145</td>\n",
       "      <td>-1</td>\n",
       "      <td>None</td>\n",
       "      <td>None</td>\n",
       "    </tr>\n",
       "    <tr>\n",
       "      <th>4132</th>\n",
       "      <td>Positive</td>\n",
       "      <td>Melvyn Douglas once more gives a polished performance in which, this time, he inhabits the role of a detective who can't place love before duty and adventure, and the warmly beautiful Joan Blondell (who, far from being illiterate, as one reviewer suggested, wrote a novel about her early life) is as enjoyable as ever as his ever-suffering sweetheart.It's almost a screwball comedy, almost a Thin Man-type movie, almost a series, I guess, that didn't quite make it to a sequel. It doesn't quite reach classic status, but it has all the ingredients for a fun 85 minutes with an episodic but pacey script, fine character actors, and direction that keeps it all moving fast enough so that you nearly don't notice that Williams (Douglas) isn't exactly Columbo when it comes to detecting. I wish there were more films like this.</td>\n",
       "      <td>140</td>\n",
       "      <td>-1</td>\n",
       "      <td>None</td>\n",
       "      <td>None</td>\n",
       "    </tr>\n",
       "    <tr>\n",
       "      <th>7007</th>\n",
       "      <td>Positive</td>\n",
       "      <td>First of all, this film was not released to theatres (TESTED POORLY THEY SAY),I say they figured the story of crooked cops, politicians &amp; dedicated newspaper people had been done to death,just send it DVD &amp; cable TV&gt; &amp; take the money &amp; run.&lt;br /&gt;&lt;br /&gt;That being said I usually like this type of movie, especially with this named cast. Morgan Freeman, Justin Timberlake, Kevin Spacey,&lt;br /&gt;&lt;br /&gt;L.L.Cool J, Cary Elways, John Heard &amp; on the distaff side, Piper Perabo &amp; Roslyn Sanchez.&lt;br /&gt;&lt;br /&gt;The plot &amp; story have been done to death, BUT the above cast brings life to this violent movie &amp; it is actually watchable.&lt;br /&gt;&lt;br /&gt;Justin Timberlake Is good as the dedicated young reporter for a throw-away newspaper edited by Morgan Freeman, The others are either crooked Cops,&amp; Politicians or somewhat decent guys, The 2 ladies are the girl friends of LL COOL J &amp; JUSTIN TIMBERLAKE &amp; do whats required, It is quite violent, many killings etc, not for children. By no means is the a great film, BUT for what it is &amp; the cast It is definitely good,&lt;br /&gt;&lt;br /&gt;Ratings *** (out of 4) 86 points (out of 100) IMDb 8 (out of 10)</td>\n",
       "      <td>201</td>\n",
       "      <td>-1</td>\n",
       "      <td>None</td>\n",
       "      <td>None</td>\n",
       "    </tr>\n",
       "    <tr>\n",
       "      <th>11838</th>\n",
       "      <td>Negative</td>\n",
       "      <td>I had the displeasure of watching this movie with my girlfriend, who, like me, is a fan of the first. This movie down right sucked! It lacked the magic of the first. You could actually understand every word the mice said, the animation is crappy, the palace is much much different from the first movie, there's new characters that were never mentioned before and were terrible, luckily the Prince didn't have many lines which kept him from sounding stupid. Basically its like The Lion King 1 1/2 except its different stories all told by the mice. The reason I'm giving this a 2 out of 10 is because the songs not sung by the characters were the most enjoyable.</td>\n",
       "      <td>119</td>\n",
       "      <td>-1</td>\n",
       "      <td>None</td>\n",
       "      <td>None</td>\n",
       "    </tr>\n",
       "    <tr>\n",
       "      <th>5689</th>\n",
       "      <td>Positive</td>\n",
       "      <td>It is written in stone that Disney animations simply ~must~ be musicals. Right? Where? Show me. Because I found this attempt to be much more enjoyable for ~not~ containing the hokey made-for-five-year-old standard Disney musical fare. &lt;br /&gt;&lt;br /&gt;While the story was not as enthralling as it could have been, it was still quite good, enjoyable, and adventurous. I had hoped for a bit more, yes, considering the subject matter, but this movie is ~not~ the bitter disappointment or utter failure it has been billed to be. &lt;br /&gt;&lt;br /&gt;The animation quality is average, but the dialog is quite compelling, as is the story line, plot, sub-plot, and amazing creativity I found within this production. I will refrain from outlining the plot, as it has been done and done, but this movie is well worth a view if you are a fan of fantasy.&lt;br /&gt;&lt;br /&gt;This is, in my opinion, THE BEST Disney Animated Feature Length Film.&lt;br /&gt;&lt;br /&gt;It rates a 9.4/10 from...&lt;br /&gt;&lt;br /&gt;the Fiend :.</td>\n",
       "      <td>167</td>\n",
       "      <td>-1</td>\n",
       "      <td>None</td>\n",
       "      <td>None</td>\n",
       "    </tr>\n",
       "    <tr>\n",
       "      <th>...</th>\n",
       "      <td>...</td>\n",
       "      <td>...</td>\n",
       "      <td>...</td>\n",
       "      <td>...</td>\n",
       "      <td>...</td>\n",
       "      <td>...</td>\n",
       "    </tr>\n",
       "    <tr>\n",
       "      <th>11284</th>\n",
       "      <td>Negative</td>\n",
       "      <td>I got this movie because I worked at a movie store so I got free rentals. It came in, and the cover made it look alright. Hot chick, carrying a weapon, alright, I'll check it out.&lt;br /&gt;&lt;br /&gt;Oh man, bad move. This was so horrible, I spent half the movie watching in fast-forward to get to the nudity, which was minimal. I think MAYBE three scenes of partial nudity.&lt;br /&gt;&lt;br /&gt;Cheesy dialogue, crappy violence, poor excuses of characters. I feel bad putting this movie down, because I know it was made on a cheap budget, but so was \"Clerks\" and it became a cult classic and a franchise.&lt;br /&gt;&lt;br /&gt;2/10.</td>\n",
       "      <td>110</td>\n",
       "      <td>-1</td>\n",
       "      <td>None</td>\n",
       "      <td>None</td>\n",
       "    </tr>\n",
       "    <tr>\n",
       "      <th>11964</th>\n",
       "      <td>Negative</td>\n",
       "      <td>If you didn't know better, you would believe the Christian moral majority in their preachy testimonial of the sins of the young, their questing for Satan, and that Hell was just brimming with Advanced Dungeons and Dragons fans.&lt;br /&gt;&lt;br /&gt;None of these items bears one grain of truth, folks. This work does nothing but give the Southern Baptists a chance to take a breath, while the movie continues to spout their erroneous and alarmist views concerning a creative and original gaming system.&lt;br /&gt;&lt;br /&gt;Tom Hanks contributes a stellar performance for this work, but even that wasn't enough to save it. It's crap. It's beneath crap. It is ignorance breeding ignorance and as such, it rates NOTHING from...&lt;br /&gt;&lt;br /&gt;the Fiend :.</td>\n",
       "      <td>121</td>\n",
       "      <td>-1</td>\n",
       "      <td>None</td>\n",
       "      <td>None</td>\n",
       "    </tr>\n",
       "    <tr>\n",
       "      <th>5390</th>\n",
       "      <td>Positive</td>\n",
       "      <td>This is a quirky movie that the Brits do so well. Low budget, cameo type roles, well executed. The story is a little weak, a recently widowed Judi Dench decides to round up the \"blonde bombshells' a all (well almost all) girl band who performed during the war in London. The obligatory son/daughter who thinks she's gone potty. I did like the way the movie lets young people see that they don't have a monopoly on feelings, love and even lust! That the \"old wrinklies\" can have a good laugh too. Judi Dench was superb as always, a pity we didn't get to see more of the other \"blonde bombeshells, the end was a little rushed I thought. I kept thinking as I watched that David Jason would have made an even better Patrick than Ian Holm, although he was quite adequate as the \"transvestite\" drummer. All in all a cheery movie well worth a night in with the girls :)</td>\n",
       "      <td>161</td>\n",
       "      <td>-1</td>\n",
       "      <td>None</td>\n",
       "      <td>None</td>\n",
       "    </tr>\n",
       "    <tr>\n",
       "      <th>860</th>\n",
       "      <td>Positive</td>\n",
       "      <td>For a danish movie, I have to say, that this is very good movie.&lt;br /&gt;&lt;br /&gt;It's in a class of its own, yet it has an international potential.&lt;br /&gt;&lt;br /&gt;The movie has a big budget, and is starring famous danish actors, and a few newcomers, who play very well. It can be watched by anyone who like adventures, and a little bit of 'ghost' movie.&lt;br /&gt;&lt;br /&gt;Don't be afraid, be thrilled!</td>\n",
       "      <td>71</td>\n",
       "      <td>-1</td>\n",
       "      <td>None</td>\n",
       "      <td>None</td>\n",
       "    </tr>\n",
       "    <tr>\n",
       "      <th>15795</th>\n",
       "      <td>Negative</td>\n",
       "      <td>One hour, eight minutes and twelve seconds into this flick and I decided it was pretty lame. That was right after Hopalong (Chris Lybbert) drops on his horse from a tree to rejoin the good guy posse. I was pretty mystified by the whole Hopalong Cassidy/Great Bar 20 gimmick which didn't translate into anything at all. Obviously, the name Coppola in the credits couldn't do anything to guarantee success here, even with more than one listed.&lt;br /&gt;&lt;br /&gt;If you make it to the end of the film, you'll probably wind up asking yourself the same questions I did. What exactly was the hook with the gloves? What's up with the rodeo scenario? Who was The Stranger supposed to represent? Why did they make this film? &lt;br /&gt;&lt;br /&gt;I could probably go on but my energy's been drained. Look, there's already a Western called \"The Gunfighter\" from 1950 with a guy named Gregory Peck as the title character. Watching it will make you feel as good as watching this one makes you feel bad. That one I can recommend.</td>\n",
       "      <td>178</td>\n",
       "      <td>-1</td>\n",
       "      <td>None</td>\n",
       "      <td>None</td>\n",
       "    </tr>\n",
       "  </tbody>\n",
       "</table>\n",
       "<p>14020 rows × 6 columns</p>\n",
       "</div>"
      ],
      "text/plain": [
       "      Sentiment  \\\n",
       "4448   Positive   \n",
       "4132   Positive   \n",
       "7007   Positive   \n",
       "11838  Negative   \n",
       "5689   Positive   \n",
       "...         ...   \n",
       "11284  Negative   \n",
       "11964  Negative   \n",
       "5390   Positive   \n",
       "860    Positive   \n",
       "15795  Negative   \n",
       "\n",
       "                                                                                                                                                                                                                                                                                                                                                                                                                                                                                                                                                                                                                                                                                                                                                                                                                                                                                                                                                                                                                                                                                                                                                                      Text  \\\n",
       "4448   I love this anime! I was laughing my head off with all of the jokes and the violence (mostly from Akane Ranma's reluctant but short tempered \"fiancee\")is so slapstick however Ranma does deserve it but he does try his best to make amends...clumsily. The main character Ranma goes to China to train only to fall into the cursed Jusenkkyo Spring and turns into a girl when splashed by cold water. From then on it's pure chaos one after another. Among the stand outs are the deranged brother and sister duo of Kuno and Kodachi, the sexy Shampoo, the pervert Happosai all causing trouble for our hero/heroine. However it is Ranma's selfish father Genma who winds up being the culprit for the mess most of the time. If anyone want an anime that's funny, this is the one. It's cuter and better with the Japanese dub.                                                                                                                                                                                                                                                                                                                             \n",
       "4132   Melvyn Douglas once more gives a polished performance in which, this time, he inhabits the role of a detective who can't place love before duty and adventure, and the warmly beautiful Joan Blondell (who, far from being illiterate, as one reviewer suggested, wrote a novel about her early life) is as enjoyable as ever as his ever-suffering sweetheart.It's almost a screwball comedy, almost a Thin Man-type movie, almost a series, I guess, that didn't quite make it to a sequel. It doesn't quite reach classic status, but it has all the ingredients for a fun 85 minutes with an episodic but pacey script, fine character actors, and direction that keeps it all moving fast enough so that you nearly don't notice that Williams (Douglas) isn't exactly Columbo when it comes to detecting. I wish there were more films like this.                                                                                                                                                                                                                                                                                                               \n",
       "7007   First of all, this film was not released to theatres (TESTED POORLY THEY SAY),I say they figured the story of crooked cops, politicians & dedicated newspaper people had been done to death,just send it DVD & cable TV> & take the money & run.<br /><br />That being said I usually like this type of movie, especially with this named cast. Morgan Freeman, Justin Timberlake, Kevin Spacey,<br /><br />L.L.Cool J, Cary Elways, John Heard & on the distaff side, Piper Perabo & Roslyn Sanchez.<br /><br />The plot & story have been done to death, BUT the above cast brings life to this violent movie & it is actually watchable.<br /><br />Justin Timberlake Is good as the dedicated young reporter for a throw-away newspaper edited by Morgan Freeman, The others are either crooked Cops,& Politicians or somewhat decent guys, The 2 ladies are the girl friends of LL COOL J & JUSTIN TIMBERLAKE & do whats required, It is quite violent, many killings etc, not for children. By no means is the a great film, BUT for what it is & the cast It is definitely good,<br /><br />Ratings *** (out of 4) 86 points (out of 100) IMDb 8 (out of 10)   \n",
       "11838  I had the displeasure of watching this movie with my girlfriend, who, like me, is a fan of the first. This movie down right sucked! It lacked the magic of the first. You could actually understand every word the mice said, the animation is crappy, the palace is much much different from the first movie, there's new characters that were never mentioned before and were terrible, luckily the Prince didn't have many lines which kept him from sounding stupid. Basically its like The Lion King 1 1/2 except its different stories all told by the mice. The reason I'm giving this a 2 out of 10 is because the songs not sung by the characters were the most enjoyable.                                                                                                                                                                                                                                                                                                                                                                                                                                                                                  \n",
       "5689   It is written in stone that Disney animations simply ~must~ be musicals. Right? Where? Show me. Because I found this attempt to be much more enjoyable for ~not~ containing the hokey made-for-five-year-old standard Disney musical fare. <br /><br />While the story was not as enthralling as it could have been, it was still quite good, enjoyable, and adventurous. I had hoped for a bit more, yes, considering the subject matter, but this movie is ~not~ the bitter disappointment or utter failure it has been billed to be. <br /><br />The animation quality is average, but the dialog is quite compelling, as is the story line, plot, sub-plot, and amazing creativity I found within this production. I will refrain from outlining the plot, as it has been done and done, but this movie is well worth a view if you are a fan of fantasy.<br /><br />This is, in my opinion, THE BEST Disney Animated Feature Length Film.<br /><br />It rates a 9.4/10 from...<br /><br />the Fiend :.                                                                                                                                                           \n",
       "...                                                                                                                                                                                                                                                                                                                                                                                                                                                                                                                                                                                                                                                                                                                                                                                                                                                                                                                                                                                                            ...                                                                                                                                                           \n",
       "11284  I got this movie because I worked at a movie store so I got free rentals. It came in, and the cover made it look alright. Hot chick, carrying a weapon, alright, I'll check it out.<br /><br />Oh man, bad move. This was so horrible, I spent half the movie watching in fast-forward to get to the nudity, which was minimal. I think MAYBE three scenes of partial nudity.<br /><br />Cheesy dialogue, crappy violence, poor excuses of characters. I feel bad putting this movie down, because I know it was made on a cheap budget, but so was \"Clerks\" and it became a cult classic and a franchise.<br /><br />2/10.                                                                                                                                                                                                                                                                                                                                                                                                                                                                                                                                           \n",
       "11964  If you didn't know better, you would believe the Christian moral majority in their preachy testimonial of the sins of the young, their questing for Satan, and that Hell was just brimming with Advanced Dungeons and Dragons fans.<br /><br />None of these items bears one grain of truth, folks. This work does nothing but give the Southern Baptists a chance to take a breath, while the movie continues to spout their erroneous and alarmist views concerning a creative and original gaming system.<br /><br />Tom Hanks contributes a stellar performance for this work, but even that wasn't enough to save it. It's crap. It's beneath crap. It is ignorance breeding ignorance and as such, it rates NOTHING from...<br /><br />the Fiend :.                                                                                                                                                                                                                                                                                                                                                                                                             \n",
       "5390   This is a quirky movie that the Brits do so well. Low budget, cameo type roles, well executed. The story is a little weak, a recently widowed Judi Dench decides to round up the \"blonde bombshells' a all (well almost all) girl band who performed during the war in London. The obligatory son/daughter who thinks she's gone potty. I did like the way the movie lets young people see that they don't have a monopoly on feelings, love and even lust! That the \"old wrinklies\" can have a good laugh too. Judi Dench was superb as always, a pity we didn't get to see more of the other \"blonde bombeshells, the end was a little rushed I thought. I kept thinking as I watched that David Jason would have made an even better Patrick than Ian Holm, although he was quite adequate as the \"transvestite\" drummer. All in all a cheery movie well worth a night in with the girls :)                                                                                                                                                                                                                                                                        \n",
       "860    For a danish movie, I have to say, that this is very good movie.<br /><br />It's in a class of its own, yet it has an international potential.<br /><br />The movie has a big budget, and is starring famous danish actors, and a few newcomers, who play very well. It can be watched by anyone who like adventures, and a little bit of 'ghost' movie.<br /><br />Don't be afraid, be thrilled!                                                                                                                                                                                                                                                                                                                                                                                                                                                                                                                                                                                                                                                                                                                                                                     \n",
       "15795  One hour, eight minutes and twelve seconds into this flick and I decided it was pretty lame. That was right after Hopalong (Chris Lybbert) drops on his horse from a tree to rejoin the good guy posse. I was pretty mystified by the whole Hopalong Cassidy/Great Bar 20 gimmick which didn't translate into anything at all. Obviously, the name Coppola in the credits couldn't do anything to guarantee success here, even with more than one listed.<br /><br />If you make it to the end of the film, you'll probably wind up asking yourself the same questions I did. What exactly was the hook with the gloves? What's up with the rodeo scenario? Who was The Stranger supposed to represent? Why did they make this film? <br /><br />I could probably go on but my energy's been drained. Look, there's already a Western called \"The Gunfighter\" from 1950 with a guy named Gregory Peck as the title character. Watching it will make you feel as good as watching this one makes you feel bad. That one I can recommend.                                                                                                                               \n",
       "\n",
       "       Length  batch_id counter_text counter_sentiment  \n",
       "4448   145    -1         None         None              \n",
       "4132   140    -1         None         None              \n",
       "7007   201    -1         None         None              \n",
       "11838  119    -1         None         None              \n",
       "5689   167    -1         None         None              \n",
       "...    ...    ..          ...          ...              \n",
       "11284  110    -1         None         None              \n",
       "11964  121    -1         None         None              \n",
       "5390   161    -1         None         None              \n",
       "860    71     -1         None         None              \n",
       "15795  178    -1         None         None              \n",
       "\n",
       "[14020 rows x 6 columns]"
      ]
     },
     "execution_count": 17,
     "metadata": {},
     "output_type": "execute_result"
    }
   ],
   "source": [
    "df_orig_train[df_orig_train[\"batch_id\"]==-1]"
   ]
  },
  {
   "cell_type": "code",
   "execution_count": 18,
   "metadata": {},
   "outputs": [
    {
     "data": {
      "text/html": [
       "<div>\n",
       "<style scoped>\n",
       "    .dataframe tbody tr th:only-of-type {\n",
       "        vertical-align: middle;\n",
       "    }\n",
       "\n",
       "    .dataframe tbody tr th {\n",
       "        vertical-align: top;\n",
       "    }\n",
       "\n",
       "    .dataframe thead th {\n",
       "        text-align: right;\n",
       "    }\n",
       "</style>\n",
       "<table border=\"1\" class=\"dataframe\">\n",
       "  <thead>\n",
       "    <tr style=\"text-align: right;\">\n",
       "      <th></th>\n",
       "      <th>Sentiment</th>\n",
       "      <th>Text</th>\n",
       "      <th>Length</th>\n",
       "      <th>batch_id</th>\n",
       "      <th>counter_text</th>\n",
       "      <th>counter_sentiment</th>\n",
       "    </tr>\n",
       "  </thead>\n",
       "  <tbody>\n",
       "    <tr>\n",
       "      <th>1406</th>\n",
       "      <td>Positive</td>\n",
       "      <td>THE JIST: See something else.&lt;br /&gt;&lt;br /&gt;This film was highly rated by Gene Siskel, but after watching it I can't figure out why. The film is definitely original and different. It even has interesting dialogue at times, some cool moments, and a creepy \"noir\" feel. But it just isn't entertaining. It also doesn't make a whole lot of sense, in plot but especially in character motivations. I don't know anyone that behaves like these characters do.&lt;br /&gt;&lt;br /&gt;This is a difficult movie to take on -- I suggest you don't accept the challenge.</td>\n",
       "      <td>93</td>\n",
       "      <td>13959</td>\n",
       "      <td>THE JIST: See something else.&lt;br /&gt;&lt;br /&gt;This film was highly rated by Gene Siskel, but after watching it I can't figure out why. The film is definitely original and different. It even has interesting dialogue at times, some cool moments, and a creepy \"noir\" feel. But it just isn't entertaining. It also doesn't make a whole lot of sense, in plot but especially in character motivations. I don't know anyone that behaves like these characters do.&lt;br /&gt;&lt;br /&gt;This is a difficult movie to take on -- I suggest you don't accept the challenge.</td>\n",
       "      <td>Negative</td>\n",
       "    </tr>\n",
       "    <tr>\n",
       "      <th>1404</th>\n",
       "      <td>Positive</td>\n",
       "      <td>THE JIST: See something else.&lt;br /&gt;&lt;br /&gt;This film was highly rated by Gene Siskel, but after watching it I can't figure out why. The film is definitely original and different. It even has interesting dialogue at times, some cool moments, and a creepy \"noir\" feel. But it just isn't entertaining. It also doesn't make a whole lot of sense, in plot but especially in character motivations. I don't know anyone that behaves like these characters do.&lt;br /&gt;&lt;br /&gt;This is a difficult movie to take on -- I suggest you don't accept the challenge.</td>\n",
       "      <td>93</td>\n",
       "      <td>13959</td>\n",
       "      <td>THE JIST: See something else.&lt;br /&gt;&lt;br /&gt;This film was highly rated by Gene Siskel, but after watching it I can't figure out why. The film is definitely original and different. It even has interesting dialogue at times, some cool moments, and a creepy \"noir\" feel. But it just isn't entertaining. It also doesn't make a whole lot of sense, in plot but especially in character motivations. I don't know anyone that behaves like these characters do.&lt;br /&gt;&lt;br /&gt;This is a difficult movie to take on -- I suggest you don't accept the challenge.</td>\n",
       "      <td>Negative</td>\n",
       "    </tr>\n",
       "    <tr>\n",
       "      <th>18135</th>\n",
       "      <td>Negative</td>\n",
       "      <td>Primal Species comes from B Movie legend Roger Corman and as such everybody who watches this needs to realise that this is a Low Budget B Movie and it knows it.&lt;br /&gt;&lt;br /&gt;A bunch of terrorists high-jack a Lorry and kill an entire army doing so, they believe it to hold uranium, but No..... It contains two Dino's with a taste for Human Flesh... Then a Crack team, who might as well be called Delta Force get called in.&lt;br /&gt;&lt;br /&gt;OK, This ain't Jurassic Park, and Yes The Dino's are never clearly seen because it's obviously a guy in a Costume that's not too dissimilar to Barney the Dinosaur - only slightly LESS terrifying,but come on guys this had about 1% of Jurassic Park's Budget and as such does what it can.&lt;br /&gt;&lt;br /&gt;Does this deserve to be in the bottom 100?....HELL NO!!! I think the nearly half of voters who give this a 1 - are being WAY WAY overly harsh, it's much closer to a 4... it's actually a lot better than a whole host of other movies not in the Bottom 100, and has a similar production value to a Sci-Fi Channel Production. (again Movies which get a overly harsh time from critics here on IMDb)&lt;br /&gt;&lt;br /&gt;The acting is as expected in a B Movie although none of the actors take it that seriously, neither does the script&lt;br /&gt;&lt;br /&gt;All in All it's an enjoyable B Movie - Not for Film Snobs&lt;br /&gt;&lt;br /&gt;** out of *****</td>\n",
       "      <td>251</td>\n",
       "      <td>8822</td>\n",
       "      <td>Primal Species comes from B Movie legend Roger Corman and as such everybody who watches this needs to realise that this is a Low Budget B Movie and it knows it.&lt;br /&gt;&lt;br /&gt;A bunch of terrorists high-jack a Lorry and kill an entire army doing so, they believe it to hold uranium, but No..... It contains two Dino's with a taste for Human Flesh... Then a Crack team, who might as well be called Delta Force get called in.&lt;br /&gt;&lt;br /&gt;OK, This ain't Jurassic Park, and Yes The Dino's are never clearly seen because it's obviously a guy in a Costume that's not too dissimilar to Barney the Dinosaur - only slightly LESS terrifying,but come on guys this had about 1% of Jurassic Park's Budget and as such does what it can.&lt;br /&gt;&lt;br /&gt;Does this deserve to be in the bottom 100?....HELL NO!!! I think the nearly half of voters who give this a 1 - are being WAY WAY overly harsh, it's much closer to a 4... it's actually a lot better than a whole host of other movies not in the Bottom 100, and has a similar production value to a Sci-Fi Channel Production. (again Movies which get a overly harsh time from critics here on IMDb)&lt;br /&gt;&lt;br /&gt;The acting is as expected in a B Movie although none of the actors take it that seriously, neither does the script&lt;br /&gt;&lt;br /&gt;All in All it's an enjoyable B Movie - Not for Film Snobs&lt;br /&gt;&lt;br /&gt;** out of *****</td>\n",
       "      <td>Positive</td>\n",
       "    </tr>\n",
       "    <tr>\n",
       "      <th>1293</th>\n",
       "      <td>Positive</td>\n",
       "      <td>And I'll tell you why: whoever decided to edit this movie to make it suitable for television was very ill-advised. EVERYTHING CONCERNING DRUGS IS CUT OUT AND COVERED UP!!! How do they do it, you might ask? Well, they don't do it very well, that's for sure. Anyway, instead of the marijuana which Cheech and Chong are supposed to have in their possession, they are said to have diamonds! Still, the characters go around in a haze of marijuana smoke stoning others along their way with no explanation whatsoever!</td>\n",
       "      <td>89</td>\n",
       "      <td>13847</td>\n",
       "      <td>And I'll tell you why: whoever decided to edit this movie to make it suitable for television was very ill-advised. EVERYTHING CONCERNING DRUGS IS CUT OUT AND COVERED UP!!! How do they do it, you might ask? Well, they don't do it very well, that's for sure. Anyway, instead of the marijuana which Cheech and Chong are supposed to have in their possession, they are said to have diamonds! Still, the characters go around in a haze of marijuana smoke stoning others along their way with no explanation whatsoever!</td>\n",
       "      <td>Negative</td>\n",
       "    </tr>\n",
       "  </tbody>\n",
       "</table>\n",
       "</div>"
      ],
      "text/plain": [
       "      Sentiment  \\\n",
       "1406   Positive   \n",
       "1404   Positive   \n",
       "18135  Negative   \n",
       "1293   Positive   \n",
       "\n",
       "                                                                                                                                                                                                                                                                                                                                                                                                                                                                                                                                                                                                                                                                                                                                                                                                                                                                                                                                                                                                                                                                                                                                                                                                                                                                                                                                                                                                Text  \\\n",
       "1406   THE JIST: See something else.<br /><br />This film was highly rated by Gene Siskel, but after watching it I can't figure out why. The film is definitely original and different. It even has interesting dialogue at times, some cool moments, and a creepy \"noir\" feel. But it just isn't entertaining. It also doesn't make a whole lot of sense, in plot but especially in character motivations. I don't know anyone that behaves like these characters do.<br /><br />This is a difficult movie to take on -- I suggest you don't accept the challenge.                                                                                                                                                                                                                                                                                                                                                                                                                                                                                                                                                                                                                                                                                                                                                                                                                                    \n",
       "1404   THE JIST: See something else.<br /><br />This film was highly rated by Gene Siskel, but after watching it I can't figure out why. The film is definitely original and different. It even has interesting dialogue at times, some cool moments, and a creepy \"noir\" feel. But it just isn't entertaining. It also doesn't make a whole lot of sense, in plot but especially in character motivations. I don't know anyone that behaves like these characters do.<br /><br />This is a difficult movie to take on -- I suggest you don't accept the challenge.                                                                                                                                                                                                                                                                                                                                                                                                                                                                                                                                                                                                                                                                                                                                                                                                                                    \n",
       "18135  Primal Species comes from B Movie legend Roger Corman and as such everybody who watches this needs to realise that this is a Low Budget B Movie and it knows it.<br /><br />A bunch of terrorists high-jack a Lorry and kill an entire army doing so, they believe it to hold uranium, but No..... It contains two Dino's with a taste for Human Flesh... Then a Crack team, who might as well be called Delta Force get called in.<br /><br />OK, This ain't Jurassic Park, and Yes The Dino's are never clearly seen because it's obviously a guy in a Costume that's not too dissimilar to Barney the Dinosaur - only slightly LESS terrifying,but come on guys this had about 1% of Jurassic Park's Budget and as such does what it can.<br /><br />Does this deserve to be in the bottom 100?....HELL NO!!! I think the nearly half of voters who give this a 1 - are being WAY WAY overly harsh, it's much closer to a 4... it's actually a lot better than a whole host of other movies not in the Bottom 100, and has a similar production value to a Sci-Fi Channel Production. (again Movies which get a overly harsh time from critics here on IMDb)<br /><br />The acting is as expected in a B Movie although none of the actors take it that seriously, neither does the script<br /><br />All in All it's an enjoyable B Movie - Not for Film Snobs<br /><br />** out of *****   \n",
       "1293   And I'll tell you why: whoever decided to edit this movie to make it suitable for television was very ill-advised. EVERYTHING CONCERNING DRUGS IS CUT OUT AND COVERED UP!!! How do they do it, you might ask? Well, they don't do it very well, that's for sure. Anyway, instead of the marijuana which Cheech and Chong are supposed to have in their possession, they are said to have diamonds! Still, the characters go around in a haze of marijuana smoke stoning others along their way with no explanation whatsoever!                                                                                                                                                                                                                                                                                                                                                                                                                                                                                                                                                                                                                                                                                                                                                                                                                                                                  \n",
       "\n",
       "       Length  batch_id  \\\n",
       "1406   93      13959      \n",
       "1404   93      13959      \n",
       "18135  251     8822       \n",
       "1293   89      13847      \n",
       "\n",
       "                                                                                                                                                                                                                                                                                                                                                                                                                                                                                                                                                                                                                                                                                                                                                                                                                                                                                                                                                                                                                                                                                                                                                                                                                                                                                                                                                                                        counter_text  \\\n",
       "1406   THE JIST: See something else.<br /><br />This film was highly rated by Gene Siskel, but after watching it I can't figure out why. The film is definitely original and different. It even has interesting dialogue at times, some cool moments, and a creepy \"noir\" feel. But it just isn't entertaining. It also doesn't make a whole lot of sense, in plot but especially in character motivations. I don't know anyone that behaves like these characters do.<br /><br />This is a difficult movie to take on -- I suggest you don't accept the challenge.                                                                                                                                                                                                                                                                                                                                                                                                                                                                                                                                                                                                                                                                                                                                                                                                                                    \n",
       "1404   THE JIST: See something else.<br /><br />This film was highly rated by Gene Siskel, but after watching it I can't figure out why. The film is definitely original and different. It even has interesting dialogue at times, some cool moments, and a creepy \"noir\" feel. But it just isn't entertaining. It also doesn't make a whole lot of sense, in plot but especially in character motivations. I don't know anyone that behaves like these characters do.<br /><br />This is a difficult movie to take on -- I suggest you don't accept the challenge.                                                                                                                                                                                                                                                                                                                                                                                                                                                                                                                                                                                                                                                                                                                                                                                                                                    \n",
       "18135  Primal Species comes from B Movie legend Roger Corman and as such everybody who watches this needs to realise that this is a Low Budget B Movie and it knows it.<br /><br />A bunch of terrorists high-jack a Lorry and kill an entire army doing so, they believe it to hold uranium, but No..... It contains two Dino's with a taste for Human Flesh... Then a Crack team, who might as well be called Delta Force get called in.<br /><br />OK, This ain't Jurassic Park, and Yes The Dino's are never clearly seen because it's obviously a guy in a Costume that's not too dissimilar to Barney the Dinosaur - only slightly LESS terrifying,but come on guys this had about 1% of Jurassic Park's Budget and as such does what it can.<br /><br />Does this deserve to be in the bottom 100?....HELL NO!!! I think the nearly half of voters who give this a 1 - are being WAY WAY overly harsh, it's much closer to a 4... it's actually a lot better than a whole host of other movies not in the Bottom 100, and has a similar production value to a Sci-Fi Channel Production. (again Movies which get a overly harsh time from critics here on IMDb)<br /><br />The acting is as expected in a B Movie although none of the actors take it that seriously, neither does the script<br /><br />All in All it's an enjoyable B Movie - Not for Film Snobs<br /><br />** out of *****   \n",
       "1293   And I'll tell you why: whoever decided to edit this movie to make it suitable for television was very ill-advised. EVERYTHING CONCERNING DRUGS IS CUT OUT AND COVERED UP!!! How do they do it, you might ask? Well, they don't do it very well, that's for sure. Anyway, instead of the marijuana which Cheech and Chong are supposed to have in their possession, they are said to have diamonds! Still, the characters go around in a haze of marijuana smoke stoning others along their way with no explanation whatsoever!                                                                                                                                                                                                                                                                                                                                                                                                                                                                                                                                                                                                                                                                                                                                                                                                                                                                  \n",
       "\n",
       "      counter_sentiment  \n",
       "1406   Negative          \n",
       "1404   Negative          \n",
       "18135  Positive          \n",
       "1293   Negative          "
      ]
     },
     "execution_count": 18,
     "metadata": {},
     "output_type": "execute_result"
    }
   ],
   "source": [
    "df_orig_train[df_orig_train[\"Text\"].isin(df_orig_train[\"counter_text\"])]"
   ]
  },
  {
   "cell_type": "code",
   "execution_count": 19,
   "metadata": {},
   "outputs": [
    {
     "data": {
      "text/html": [
       "<div>\n",
       "<style scoped>\n",
       "    .dataframe tbody tr th:only-of-type {\n",
       "        vertical-align: middle;\n",
       "    }\n",
       "\n",
       "    .dataframe tbody tr th {\n",
       "        vertical-align: top;\n",
       "    }\n",
       "\n",
       "    .dataframe thead th {\n",
       "        text-align: right;\n",
       "    }\n",
       "</style>\n",
       "<table border=\"1\" class=\"dataframe\">\n",
       "  <thead>\n",
       "    <tr style=\"text-align: right;\">\n",
       "      <th></th>\n",
       "      <th>Sentiment</th>\n",
       "      <th>Text</th>\n",
       "      <th>Length</th>\n",
       "      <th>batch_id</th>\n",
       "      <th>counter_text</th>\n",
       "      <th>counter_sentiment</th>\n",
       "    </tr>\n",
       "  </thead>\n",
       "  <tbody>\n",
       "    <tr>\n",
       "      <th>1406</th>\n",
       "      <td>Positive</td>\n",
       "      <td>THE JIST: See something else.&lt;br /&gt;&lt;br /&gt;This film was highly rated by Gene Siskel, but after watching it I can't figure out why. The film is definitely original and different. It even has interesting dialogue at times, some cool moments, and a creepy \"noir\" feel. But it just isn't entertaining. It also doesn't make a whole lot of sense, in plot but especially in character motivations. I don't know anyone that behaves like these characters do.&lt;br /&gt;&lt;br /&gt;This is a difficult movie to take on -- I suggest you don't accept the challenge.</td>\n",
       "      <td>93</td>\n",
       "      <td>13959</td>\n",
       "      <td>THE JIST: See something else.&lt;br /&gt;&lt;br /&gt;This film was highly rated by Gene Siskel, but after watching it I can't figure out why. The film is definitely original and different. It even has interesting dialogue at times, some cool moments, and a creepy \"noir\" feel. But it just isn't entertaining. It also doesn't make a whole lot of sense, in plot but especially in character motivations. I don't know anyone that behaves like these characters do.&lt;br /&gt;&lt;br /&gt;This is a difficult movie to take on -- I suggest you don't accept the challenge.</td>\n",
       "      <td>Negative</td>\n",
       "    </tr>\n",
       "    <tr>\n",
       "      <th>1404</th>\n",
       "      <td>Positive</td>\n",
       "      <td>THE JIST: See something else.&lt;br /&gt;&lt;br /&gt;This film was highly rated by Gene Siskel, but after watching it I can't figure out why. The film is definitely original and different. It even has interesting dialogue at times, some cool moments, and a creepy \"noir\" feel. But it just isn't entertaining. It also doesn't make a whole lot of sense, in plot but especially in character motivations. I don't know anyone that behaves like these characters do.&lt;br /&gt;&lt;br /&gt;This is a difficult movie to take on -- I suggest you don't accept the challenge.</td>\n",
       "      <td>93</td>\n",
       "      <td>13959</td>\n",
       "      <td>THE JIST: See something else.&lt;br /&gt;&lt;br /&gt;This film was highly rated by Gene Siskel, but after watching it I can't figure out why. The film is definitely original and different. It even has interesting dialogue at times, some cool moments, and a creepy \"noir\" feel. But it just isn't entertaining. It also doesn't make a whole lot of sense, in plot but especially in character motivations. I don't know anyone that behaves like these characters do.&lt;br /&gt;&lt;br /&gt;This is a difficult movie to take on -- I suggest you don't accept the challenge.</td>\n",
       "      <td>Negative</td>\n",
       "    </tr>\n",
       "    <tr>\n",
       "      <th>18135</th>\n",
       "      <td>Negative</td>\n",
       "      <td>Primal Species comes from B Movie legend Roger Corman and as such everybody who watches this needs to realise that this is a Low Budget B Movie and it knows it.&lt;br /&gt;&lt;br /&gt;A bunch of terrorists high-jack a Lorry and kill an entire army doing so, they believe it to hold uranium, but No..... It contains two Dino's with a taste for Human Flesh... Then a Crack team, who might as well be called Delta Force get called in.&lt;br /&gt;&lt;br /&gt;OK, This ain't Jurassic Park, and Yes The Dino's are never clearly seen because it's obviously a guy in a Costume that's not too dissimilar to Barney the Dinosaur - only slightly LESS terrifying,but come on guys this had about 1% of Jurassic Park's Budget and as such does what it can.&lt;br /&gt;&lt;br /&gt;Does this deserve to be in the bottom 100?....HELL NO!!! I think the nearly half of voters who give this a 1 - are being WAY WAY overly harsh, it's much closer to a 4... it's actually a lot better than a whole host of other movies not in the Bottom 100, and has a similar production value to a Sci-Fi Channel Production. (again Movies which get a overly harsh time from critics here on IMDb)&lt;br /&gt;&lt;br /&gt;The acting is as expected in a B Movie although none of the actors take it that seriously, neither does the script&lt;br /&gt;&lt;br /&gt;All in All it's an enjoyable B Movie - Not for Film Snobs&lt;br /&gt;&lt;br /&gt;** out of *****</td>\n",
       "      <td>251</td>\n",
       "      <td>8822</td>\n",
       "      <td>Primal Species comes from B Movie legend Roger Corman and as such everybody who watches this needs to realise that this is a Low Budget B Movie and it knows it.&lt;br /&gt;&lt;br /&gt;A bunch of terrorists high-jack a Lorry and kill an entire army doing so, they believe it to hold uranium, but No..... It contains two Dino's with a taste for Human Flesh... Then a Crack team, who might as well be called Delta Force get called in.&lt;br /&gt;&lt;br /&gt;OK, This ain't Jurassic Park, and Yes The Dino's are never clearly seen because it's obviously a guy in a Costume that's not too dissimilar to Barney the Dinosaur - only slightly LESS terrifying,but come on guys this had about 1% of Jurassic Park's Budget and as such does what it can.&lt;br /&gt;&lt;br /&gt;Does this deserve to be in the bottom 100?....HELL NO!!! I think the nearly half of voters who give this a 1 - are being WAY WAY overly harsh, it's much closer to a 4... it's actually a lot better than a whole host of other movies not in the Bottom 100, and has a similar production value to a Sci-Fi Channel Production. (again Movies which get a overly harsh time from critics here on IMDb)&lt;br /&gt;&lt;br /&gt;The acting is as expected in a B Movie although none of the actors take it that seriously, neither does the script&lt;br /&gt;&lt;br /&gt;All in All it's an enjoyable B Movie - Not for Film Snobs&lt;br /&gt;&lt;br /&gt;** out of *****</td>\n",
       "      <td>Positive</td>\n",
       "    </tr>\n",
       "    <tr>\n",
       "      <th>1293</th>\n",
       "      <td>Positive</td>\n",
       "      <td>And I'll tell you why: whoever decided to edit this movie to make it suitable for television was very ill-advised. EVERYTHING CONCERNING DRUGS IS CUT OUT AND COVERED UP!!! How do they do it, you might ask? Well, they don't do it very well, that's for sure. Anyway, instead of the marijuana which Cheech and Chong are supposed to have in their possession, they are said to have diamonds! Still, the characters go around in a haze of marijuana smoke stoning others along their way with no explanation whatsoever!</td>\n",
       "      <td>89</td>\n",
       "      <td>13847</td>\n",
       "      <td>And I'll tell you why: whoever decided to edit this movie to make it suitable for television was very ill-advised. EVERYTHING CONCERNING DRUGS IS CUT OUT AND COVERED UP!!! How do they do it, you might ask? Well, they don't do it very well, that's for sure. Anyway, instead of the marijuana which Cheech and Chong are supposed to have in their possession, they are said to have diamonds! Still, the characters go around in a haze of marijuana smoke stoning others along their way with no explanation whatsoever!</td>\n",
       "      <td>Negative</td>\n",
       "    </tr>\n",
       "  </tbody>\n",
       "</table>\n",
       "</div>"
      ],
      "text/plain": [
       "      Sentiment  \\\n",
       "1406   Positive   \n",
       "1404   Positive   \n",
       "18135  Negative   \n",
       "1293   Positive   \n",
       "\n",
       "                                                                                                                                                                                                                                                                                                                                                                                                                                                                                                                                                                                                                                                                                                                                                                                                                                                                                                                                                                                                                                                                                                                                                                                                                                                                                                                                                                                                Text  \\\n",
       "1406   THE JIST: See something else.<br /><br />This film was highly rated by Gene Siskel, but after watching it I can't figure out why. The film is definitely original and different. It even has interesting dialogue at times, some cool moments, and a creepy \"noir\" feel. But it just isn't entertaining. It also doesn't make a whole lot of sense, in plot but especially in character motivations. I don't know anyone that behaves like these characters do.<br /><br />This is a difficult movie to take on -- I suggest you don't accept the challenge.                                                                                                                                                                                                                                                                                                                                                                                                                                                                                                                                                                                                                                                                                                                                                                                                                                    \n",
       "1404   THE JIST: See something else.<br /><br />This film was highly rated by Gene Siskel, but after watching it I can't figure out why. The film is definitely original and different. It even has interesting dialogue at times, some cool moments, and a creepy \"noir\" feel. But it just isn't entertaining. It also doesn't make a whole lot of sense, in plot but especially in character motivations. I don't know anyone that behaves like these characters do.<br /><br />This is a difficult movie to take on -- I suggest you don't accept the challenge.                                                                                                                                                                                                                                                                                                                                                                                                                                                                                                                                                                                                                                                                                                                                                                                                                                    \n",
       "18135  Primal Species comes from B Movie legend Roger Corman and as such everybody who watches this needs to realise that this is a Low Budget B Movie and it knows it.<br /><br />A bunch of terrorists high-jack a Lorry and kill an entire army doing so, they believe it to hold uranium, but No..... It contains two Dino's with a taste for Human Flesh... Then a Crack team, who might as well be called Delta Force get called in.<br /><br />OK, This ain't Jurassic Park, and Yes The Dino's are never clearly seen because it's obviously a guy in a Costume that's not too dissimilar to Barney the Dinosaur - only slightly LESS terrifying,but come on guys this had about 1% of Jurassic Park's Budget and as such does what it can.<br /><br />Does this deserve to be in the bottom 100?....HELL NO!!! I think the nearly half of voters who give this a 1 - are being WAY WAY overly harsh, it's much closer to a 4... it's actually a lot better than a whole host of other movies not in the Bottom 100, and has a similar production value to a Sci-Fi Channel Production. (again Movies which get a overly harsh time from critics here on IMDb)<br /><br />The acting is as expected in a B Movie although none of the actors take it that seriously, neither does the script<br /><br />All in All it's an enjoyable B Movie - Not for Film Snobs<br /><br />** out of *****   \n",
       "1293   And I'll tell you why: whoever decided to edit this movie to make it suitable for television was very ill-advised. EVERYTHING CONCERNING DRUGS IS CUT OUT AND COVERED UP!!! How do they do it, you might ask? Well, they don't do it very well, that's for sure. Anyway, instead of the marijuana which Cheech and Chong are supposed to have in their possession, they are said to have diamonds! Still, the characters go around in a haze of marijuana smoke stoning others along their way with no explanation whatsoever!                                                                                                                                                                                                                                                                                                                                                                                                                                                                                                                                                                                                                                                                                                                                                                                                                                                                  \n",
       "\n",
       "       Length  batch_id  \\\n",
       "1406   93      13959      \n",
       "1404   93      13959      \n",
       "18135  251     8822       \n",
       "1293   89      13847      \n",
       "\n",
       "                                                                                                                                                                                                                                                                                                                                                                                                                                                                                                                                                                                                                                                                                                                                                                                                                                                                                                                                                                                                                                                                                                                                                                                                                                                                                                                                                                                        counter_text  \\\n",
       "1406   THE JIST: See something else.<br /><br />This film was highly rated by Gene Siskel, but after watching it I can't figure out why. The film is definitely original and different. It even has interesting dialogue at times, some cool moments, and a creepy \"noir\" feel. But it just isn't entertaining. It also doesn't make a whole lot of sense, in plot but especially in character motivations. I don't know anyone that behaves like these characters do.<br /><br />This is a difficult movie to take on -- I suggest you don't accept the challenge.                                                                                                                                                                                                                                                                                                                                                                                                                                                                                                                                                                                                                                                                                                                                                                                                                                    \n",
       "1404   THE JIST: See something else.<br /><br />This film was highly rated by Gene Siskel, but after watching it I can't figure out why. The film is definitely original and different. It even has interesting dialogue at times, some cool moments, and a creepy \"noir\" feel. But it just isn't entertaining. It also doesn't make a whole lot of sense, in plot but especially in character motivations. I don't know anyone that behaves like these characters do.<br /><br />This is a difficult movie to take on -- I suggest you don't accept the challenge.                                                                                                                                                                                                                                                                                                                                                                                                                                                                                                                                                                                                                                                                                                                                                                                                                                    \n",
       "18135  Primal Species comes from B Movie legend Roger Corman and as such everybody who watches this needs to realise that this is a Low Budget B Movie and it knows it.<br /><br />A bunch of terrorists high-jack a Lorry and kill an entire army doing so, they believe it to hold uranium, but No..... It contains two Dino's with a taste for Human Flesh... Then a Crack team, who might as well be called Delta Force get called in.<br /><br />OK, This ain't Jurassic Park, and Yes The Dino's are never clearly seen because it's obviously a guy in a Costume that's not too dissimilar to Barney the Dinosaur - only slightly LESS terrifying,but come on guys this had about 1% of Jurassic Park's Budget and as such does what it can.<br /><br />Does this deserve to be in the bottom 100?....HELL NO!!! I think the nearly half of voters who give this a 1 - are being WAY WAY overly harsh, it's much closer to a 4... it's actually a lot better than a whole host of other movies not in the Bottom 100, and has a similar production value to a Sci-Fi Channel Production. (again Movies which get a overly harsh time from critics here on IMDb)<br /><br />The acting is as expected in a B Movie although none of the actors take it that seriously, neither does the script<br /><br />All in All it's an enjoyable B Movie - Not for Film Snobs<br /><br />** out of *****   \n",
       "1293   And I'll tell you why: whoever decided to edit this movie to make it suitable for television was very ill-advised. EVERYTHING CONCERNING DRUGS IS CUT OUT AND COVERED UP!!! How do they do it, you might ask? Well, they don't do it very well, that's for sure. Anyway, instead of the marijuana which Cheech and Chong are supposed to have in their possession, they are said to have diamonds! Still, the characters go around in a haze of marijuana smoke stoning others along their way with no explanation whatsoever!                                                                                                                                                                                                                                                                                                                                                                                                                                                                                                                                                                                                                                                                                                                                                                                                                                                                  \n",
       "\n",
       "      counter_sentiment  \n",
       "1406   Negative          \n",
       "1404   Negative          \n",
       "18135  Positive          \n",
       "1293   Negative          "
      ]
     },
     "execution_count": 19,
     "metadata": {},
     "output_type": "execute_result"
    }
   ],
   "source": [
    "df_orig_train[df_orig_train[\"counter_text\"].isin(df_orig_train[\"Text\"])]"
   ]
  },
  {
   "cell_type": "code",
   "execution_count": 20,
   "metadata": {},
   "outputs": [
    {
     "data": {
      "text/html": [
       "<div>\n",
       "<style scoped>\n",
       "    .dataframe tbody tr th:only-of-type {\n",
       "        vertical-align: middle;\n",
       "    }\n",
       "\n",
       "    .dataframe tbody tr th {\n",
       "        vertical-align: top;\n",
       "    }\n",
       "\n",
       "    .dataframe thead th {\n",
       "        text-align: right;\n",
       "    }\n",
       "</style>\n",
       "<table border=\"1\" class=\"dataframe\">\n",
       "  <thead>\n",
       "    <tr style=\"text-align: right;\">\n",
       "      <th></th>\n",
       "      <th>Sentiment</th>\n",
       "      <th>Text</th>\n",
       "      <th>Length</th>\n",
       "      <th>batch_id</th>\n",
       "      <th>counter_text</th>\n",
       "      <th>counter_sentiment</th>\n",
       "    </tr>\n",
       "  </thead>\n",
       "  <tbody>\n",
       "    <tr>\n",
       "      <th>1406</th>\n",
       "      <td>Positive</td>\n",
       "      <td>THE JIST: See something else.&lt;br /&gt;&lt;br /&gt;This film was highly rated by Gene Siskel, but after watching it I can't figure out why. The film is definitely original and different. It even has interesting dialogue at times, some cool moments, and a creepy \"noir\" feel. But it just isn't entertaining. It also doesn't make a whole lot of sense, in plot but especially in character motivations. I don't know anyone that behaves like these characters do.&lt;br /&gt;&lt;br /&gt;This is a difficult movie to take on -- I suggest you don't accept the challenge.</td>\n",
       "      <td>93</td>\n",
       "      <td>13959</td>\n",
       "      <td>THE JIST: See something else.&lt;br /&gt;&lt;br /&gt;This film was highly rated by Gene Siskel, but after watching it I can't figure out why. The film is definitely original and different. It even has interesting dialogue at times, some cool moments, and a creepy \"noir\" feel. But it just isn't entertaining. It also doesn't make a whole lot of sense, in plot but especially in character motivations. I don't know anyone that behaves like these characters do.&lt;br /&gt;&lt;br /&gt;This is a difficult movie to take on -- I suggest you don't accept the challenge.</td>\n",
       "      <td>Negative</td>\n",
       "    </tr>\n",
       "    <tr>\n",
       "      <th>1404</th>\n",
       "      <td>Positive</td>\n",
       "      <td>THE JIST: See something else.&lt;br /&gt;&lt;br /&gt;This film was highly rated by Gene Siskel, but after watching it I can't figure out why. The film is definitely original and different. It even has interesting dialogue at times, some cool moments, and a creepy \"noir\" feel. But it just isn't entertaining. It also doesn't make a whole lot of sense, in plot but especially in character motivations. I don't know anyone that behaves like these characters do.&lt;br /&gt;&lt;br /&gt;This is a difficult movie to take on -- I suggest you don't accept the challenge.</td>\n",
       "      <td>93</td>\n",
       "      <td>13959</td>\n",
       "      <td>THE JIST: See something else.&lt;br /&gt;&lt;br /&gt;This film was highly rated by Gene Siskel, but after watching it I can't figure out why. The film is definitely original and different. It even has interesting dialogue at times, some cool moments, and a creepy \"noir\" feel. But it just isn't entertaining. It also doesn't make a whole lot of sense, in plot but especially in character motivations. I don't know anyone that behaves like these characters do.&lt;br /&gt;&lt;br /&gt;This is a difficult movie to take on -- I suggest you don't accept the challenge.</td>\n",
       "      <td>Negative</td>\n",
       "    </tr>\n",
       "    <tr>\n",
       "      <th>18135</th>\n",
       "      <td>Negative</td>\n",
       "      <td>Primal Species comes from B Movie legend Roger Corman and as such everybody who watches this needs to realise that this is a Low Budget B Movie and it knows it.&lt;br /&gt;&lt;br /&gt;A bunch of terrorists high-jack a Lorry and kill an entire army doing so, they believe it to hold uranium, but No..... It contains two Dino's with a taste for Human Flesh... Then a Crack team, who might as well be called Delta Force get called in.&lt;br /&gt;&lt;br /&gt;OK, This ain't Jurassic Park, and Yes The Dino's are never clearly seen because it's obviously a guy in a Costume that's not too dissimilar to Barney the Dinosaur - only slightly LESS terrifying,but come on guys this had about 1% of Jurassic Park's Budget and as such does what it can.&lt;br /&gt;&lt;br /&gt;Does this deserve to be in the bottom 100?....HELL NO!!! I think the nearly half of voters who give this a 1 - are being WAY WAY overly harsh, it's much closer to a 4... it's actually a lot better than a whole host of other movies not in the Bottom 100, and has a similar production value to a Sci-Fi Channel Production. (again Movies which get a overly harsh time from critics here on IMDb)&lt;br /&gt;&lt;br /&gt;The acting is as expected in a B Movie although none of the actors take it that seriously, neither does the script&lt;br /&gt;&lt;br /&gt;All in All it's an enjoyable B Movie - Not for Film Snobs&lt;br /&gt;&lt;br /&gt;** out of *****</td>\n",
       "      <td>251</td>\n",
       "      <td>8822</td>\n",
       "      <td>Primal Species comes from B Movie legend Roger Corman and as such everybody who watches this needs to realise that this is a Low Budget B Movie and it knows it.&lt;br /&gt;&lt;br /&gt;A bunch of terrorists high-jack a Lorry and kill an entire army doing so, they believe it to hold uranium, but No..... It contains two Dino's with a taste for Human Flesh... Then a Crack team, who might as well be called Delta Force get called in.&lt;br /&gt;&lt;br /&gt;OK, This ain't Jurassic Park, and Yes The Dino's are never clearly seen because it's obviously a guy in a Costume that's not too dissimilar to Barney the Dinosaur - only slightly LESS terrifying,but come on guys this had about 1% of Jurassic Park's Budget and as such does what it can.&lt;br /&gt;&lt;br /&gt;Does this deserve to be in the bottom 100?....HELL NO!!! I think the nearly half of voters who give this a 1 - are being WAY WAY overly harsh, it's much closer to a 4... it's actually a lot better than a whole host of other movies not in the Bottom 100, and has a similar production value to a Sci-Fi Channel Production. (again Movies which get a overly harsh time from critics here on IMDb)&lt;br /&gt;&lt;br /&gt;The acting is as expected in a B Movie although none of the actors take it that seriously, neither does the script&lt;br /&gt;&lt;br /&gt;All in All it's an enjoyable B Movie - Not for Film Snobs&lt;br /&gt;&lt;br /&gt;** out of *****</td>\n",
       "      <td>Positive</td>\n",
       "    </tr>\n",
       "    <tr>\n",
       "      <th>1293</th>\n",
       "      <td>Positive</td>\n",
       "      <td>And I'll tell you why: whoever decided to edit this movie to make it suitable for television was very ill-advised. EVERYTHING CONCERNING DRUGS IS CUT OUT AND COVERED UP!!! How do they do it, you might ask? Well, they don't do it very well, that's for sure. Anyway, instead of the marijuana which Cheech and Chong are supposed to have in their possession, they are said to have diamonds! Still, the characters go around in a haze of marijuana smoke stoning others along their way with no explanation whatsoever!</td>\n",
       "      <td>89</td>\n",
       "      <td>13847</td>\n",
       "      <td>And I'll tell you why: whoever decided to edit this movie to make it suitable for television was very ill-advised. EVERYTHING CONCERNING DRUGS IS CUT OUT AND COVERED UP!!! How do they do it, you might ask? Well, they don't do it very well, that's for sure. Anyway, instead of the marijuana which Cheech and Chong are supposed to have in their possession, they are said to have diamonds! Still, the characters go around in a haze of marijuana smoke stoning others along their way with no explanation whatsoever!</td>\n",
       "      <td>Negative</td>\n",
       "    </tr>\n",
       "  </tbody>\n",
       "</table>\n",
       "</div>"
      ],
      "text/plain": [
       "      Sentiment  \\\n",
       "1406   Positive   \n",
       "1404   Positive   \n",
       "18135  Negative   \n",
       "1293   Positive   \n",
       "\n",
       "                                                                                                                                                                                                                                                                                                                                                                                                                                                                                                                                                                                                                                                                                                                                                                                                                                                                                                                                                                                                                                                                                                                                                                                                                                                                                                                                                                                                Text  \\\n",
       "1406   THE JIST: See something else.<br /><br />This film was highly rated by Gene Siskel, but after watching it I can't figure out why. The film is definitely original and different. It even has interesting dialogue at times, some cool moments, and a creepy \"noir\" feel. But it just isn't entertaining. It also doesn't make a whole lot of sense, in plot but especially in character motivations. I don't know anyone that behaves like these characters do.<br /><br />This is a difficult movie to take on -- I suggest you don't accept the challenge.                                                                                                                                                                                                                                                                                                                                                                                                                                                                                                                                                                                                                                                                                                                                                                                                                                    \n",
       "1404   THE JIST: See something else.<br /><br />This film was highly rated by Gene Siskel, but after watching it I can't figure out why. The film is definitely original and different. It even has interesting dialogue at times, some cool moments, and a creepy \"noir\" feel. But it just isn't entertaining. It also doesn't make a whole lot of sense, in plot but especially in character motivations. I don't know anyone that behaves like these characters do.<br /><br />This is a difficult movie to take on -- I suggest you don't accept the challenge.                                                                                                                                                                                                                                                                                                                                                                                                                                                                                                                                                                                                                                                                                                                                                                                                                                    \n",
       "18135  Primal Species comes from B Movie legend Roger Corman and as such everybody who watches this needs to realise that this is a Low Budget B Movie and it knows it.<br /><br />A bunch of terrorists high-jack a Lorry and kill an entire army doing so, they believe it to hold uranium, but No..... It contains two Dino's with a taste for Human Flesh... Then a Crack team, who might as well be called Delta Force get called in.<br /><br />OK, This ain't Jurassic Park, and Yes The Dino's are never clearly seen because it's obviously a guy in a Costume that's not too dissimilar to Barney the Dinosaur - only slightly LESS terrifying,but come on guys this had about 1% of Jurassic Park's Budget and as such does what it can.<br /><br />Does this deserve to be in the bottom 100?....HELL NO!!! I think the nearly half of voters who give this a 1 - are being WAY WAY overly harsh, it's much closer to a 4... it's actually a lot better than a whole host of other movies not in the Bottom 100, and has a similar production value to a Sci-Fi Channel Production. (again Movies which get a overly harsh time from critics here on IMDb)<br /><br />The acting is as expected in a B Movie although none of the actors take it that seriously, neither does the script<br /><br />All in All it's an enjoyable B Movie - Not for Film Snobs<br /><br />** out of *****   \n",
       "1293   And I'll tell you why: whoever decided to edit this movie to make it suitable for television was very ill-advised. EVERYTHING CONCERNING DRUGS IS CUT OUT AND COVERED UP!!! How do they do it, you might ask? Well, they don't do it very well, that's for sure. Anyway, instead of the marijuana which Cheech and Chong are supposed to have in their possession, they are said to have diamonds! Still, the characters go around in a haze of marijuana smoke stoning others along their way with no explanation whatsoever!                                                                                                                                                                                                                                                                                                                                                                                                                                                                                                                                                                                                                                                                                                                                                                                                                                                                  \n",
       "\n",
       "       Length  batch_id  \\\n",
       "1406   93      13959      \n",
       "1404   93      13959      \n",
       "18135  251     8822       \n",
       "1293   89      13847      \n",
       "\n",
       "                                                                                                                                                                                                                                                                                                                                                                                                                                                                                                                                                                                                                                                                                                                                                                                                                                                                                                                                                                                                                                                                                                                                                                                                                                                                                                                                                                                        counter_text  \\\n",
       "1406   THE JIST: See something else.<br /><br />This film was highly rated by Gene Siskel, but after watching it I can't figure out why. The film is definitely original and different. It even has interesting dialogue at times, some cool moments, and a creepy \"noir\" feel. But it just isn't entertaining. It also doesn't make a whole lot of sense, in plot but especially in character motivations. I don't know anyone that behaves like these characters do.<br /><br />This is a difficult movie to take on -- I suggest you don't accept the challenge.                                                                                                                                                                                                                                                                                                                                                                                                                                                                                                                                                                                                                                                                                                                                                                                                                                    \n",
       "1404   THE JIST: See something else.<br /><br />This film was highly rated by Gene Siskel, but after watching it I can't figure out why. The film is definitely original and different. It even has interesting dialogue at times, some cool moments, and a creepy \"noir\" feel. But it just isn't entertaining. It also doesn't make a whole lot of sense, in plot but especially in character motivations. I don't know anyone that behaves like these characters do.<br /><br />This is a difficult movie to take on -- I suggest you don't accept the challenge.                                                                                                                                                                                                                                                                                                                                                                                                                                                                                                                                                                                                                                                                                                                                                                                                                                    \n",
       "18135  Primal Species comes from B Movie legend Roger Corman and as such everybody who watches this needs to realise that this is a Low Budget B Movie and it knows it.<br /><br />A bunch of terrorists high-jack a Lorry and kill an entire army doing so, they believe it to hold uranium, but No..... It contains two Dino's with a taste for Human Flesh... Then a Crack team, who might as well be called Delta Force get called in.<br /><br />OK, This ain't Jurassic Park, and Yes The Dino's are never clearly seen because it's obviously a guy in a Costume that's not too dissimilar to Barney the Dinosaur - only slightly LESS terrifying,but come on guys this had about 1% of Jurassic Park's Budget and as such does what it can.<br /><br />Does this deserve to be in the bottom 100?....HELL NO!!! I think the nearly half of voters who give this a 1 - are being WAY WAY overly harsh, it's much closer to a 4... it's actually a lot better than a whole host of other movies not in the Bottom 100, and has a similar production value to a Sci-Fi Channel Production. (again Movies which get a overly harsh time from critics here on IMDb)<br /><br />The acting is as expected in a B Movie although none of the actors take it that seriously, neither does the script<br /><br />All in All it's an enjoyable B Movie - Not for Film Snobs<br /><br />** out of *****   \n",
       "1293   And I'll tell you why: whoever decided to edit this movie to make it suitable for television was very ill-advised. EVERYTHING CONCERNING DRUGS IS CUT OUT AND COVERED UP!!! How do they do it, you might ask? Well, they don't do it very well, that's for sure. Anyway, instead of the marijuana which Cheech and Chong are supposed to have in their possession, they are said to have diamonds! Still, the characters go around in a haze of marijuana smoke stoning others along their way with no explanation whatsoever!                                                                                                                                                                                                                                                                                                                                                                                                                                                                                                                                                                                                                                                                                                                                                                                                                                                                  \n",
       "\n",
       "      counter_sentiment  \n",
       "1406   Negative          \n",
       "1404   Negative          \n",
       "18135  Positive          \n",
       "1293   Negative          "
      ]
     },
     "execution_count": 20,
     "metadata": {},
     "output_type": "execute_result"
    }
   ],
   "source": [
    "df_orig_train.query(\"Text == counter_text\")"
   ]
  },
  {
   "cell_type": "code",
   "execution_count": 21,
   "metadata": {},
   "outputs": [],
   "source": [
    "def _compute_affablity_rate(samples, threshold):\n",
    "    aff_diff = DiffSentences().pairwise_edit_distance_ratio(list(samples), list(samples), score_cutoff=0)\n",
    "    \n",
    "    # Set max distance in diagnoals so that it doesnt come up as the closest match\n",
    "    for i in range(len(aff_diff)):\n",
    "        aff_diff[i,i]=1000\n",
    "    \n",
    "    closest_match = np.min(aff_diff, axis=-1)\n",
    "    closest_match_idx = np.argmin(aff_diff, axis=-1)\n",
    "    aff_diff_min = [ 1 for i in closest_match if i < threshold ]\n",
    "    aff_rate = sum(aff_diff_min) / len(samples)\n",
    "    \n",
    "    debug_df = pd.DataFrame(samples)\n",
    "    debug_df[\"closest_dist\"] = closest_match\n",
    "    debug_df[\"closest_match\"] = [list(samples)[i] for i in closest_match_idx]\n",
    "    \n",
    "    return aff_rate, debug_df\n",
    "    \n",
    "def _compute_adv_rate(samples1, samples2, threshold):\n",
    "    adv_diff = DiffSentences().pairwise_edit_distance_ratio(list(samples1), list(samples2), score_cutoff=0)\n",
    "\n",
    "    closest_match = np.min(adv_diff, axis=-1)\n",
    "    closest_match_idx = np.argmin(adv_diff, axis=-1)\n",
    "    \n",
    "    # Adv P -> N debug info\n",
    "    debug_df = pd.DataFrame(samples1)\n",
    "    debug_df[\"closest_dist\"] = closest_match\n",
    "    debug_df[\"closest_match\"] = [list(samples2)[i] for i in closest_match_idx]\n",
    "    \n",
    "    adv_diff_min = [ 1 for i in closest_match if i < threshold ]\n",
    "    adv_rate = sum(adv_diff_min) / len(samples1)\n",
    "    \n",
    "    return adv_rate, debug_df\n",
    "\n",
    "    \n",
    "def get_stats(df, threshold_adv=.25, threshold_aff=.50):\n",
    "    num_unique = df[\"Text\"].nunique()\n",
    "    pos_ratio = len(df.query(\"Sentiment == 'Positive'\"))/len(df)\n",
    "    pos_texts = df.query(\"Sentiment == 'Positive'\")[\"Text\"]\n",
    "    neg_texts = df.query(\"Sentiment == 'Negative'\")[\"Text\"]\n",
    "\n",
    "    pos_adv_rate, adv_debug = _compute_adv_rate(pos_texts, neg_texts, threshold_adv)\n",
    "    pos_aff_rate, aff_pos_debug = _compute_affablity_rate(pos_texts, threshold_aff)\n",
    "\n",
    "    neg_aff_rate, neg_pos_debug = _compute_affablity_rate( neg_texts, threshold_aff)\n",
    "\n",
    "\n",
    "        \n",
    "    result = {\n",
    "        \"Unique\" : num_unique,\n",
    "        \"PosRate\": pos_ratio,\n",
    "        \"AdvRatePN\" : pos_adv_rate,\n",
    "        \"AffRateP\": pos_aff_rate,\n",
    "        \"AffRateN\": neg_aff_rate,\n",
    "        \"Total\" : len(df)\n",
    "    }\n",
    "    \n",
    "    debug = {\n",
    "        \"adv_p_n\" : adv_debug,\n",
    "        \"aff_p\" : aff_pos_debug,\n",
    "        \"aff_n\" : neg_pos_debug\n",
    "    }\n",
    "    \n",
    "    \n",
    "    return result, debug"
   ]
  },
  {
   "cell_type": "code",
   "execution_count": 22,
   "metadata": {},
   "outputs": [
    {
     "name": "stderr",
     "output_type": "stream",
     "text": [
      "[nltk_data] Downloading package punkt to\n",
      "[nltk_data]     /Users/aparnaelangovan/nltk_data...\n",
      "[nltk_data]   Package punkt is already up-to-date!\n",
      "[nltk_data] Downloading package punkt to\n",
      "[nltk_data]     /Users/aparnaelangovan/nltk_data...\n",
      "[nltk_data]   Package punkt is already up-to-date!\n",
      "[nltk_data] Downloading package punkt to\n",
      "[nltk_data]     /Users/aparnaelangovan/nltk_data...\n",
      "[nltk_data]   Package punkt is already up-to-date!\n"
     ]
    },
    {
     "name": "stdout",
     "output_type": "stream",
     "text": [
      "CPU times: user 8min 22s, sys: 2.19 s, total: 8min 24s\n",
      "Wall time: 8min 26s\n"
     ]
    }
   ],
   "source": [
    "%%time\n",
    "\n",
    "counterfact_stats, counterfact_debug = get_stats(df_counterfacts_train)"
   ]
  },
  {
   "cell_type": "code",
   "execution_count": 23,
   "metadata": {},
   "outputs": [
    {
     "data": {
      "text/plain": [
       "{'Unique': 3413,\n",
       " 'PosRate': 0.5,\n",
       " 'AdvRatePN': 0.929701230228471,\n",
       " 'AffRateP': 0.0,\n",
       " 'AffRateN': 0.0,\n",
       " 'Total': 3414}"
      ]
     },
     "execution_count": 23,
     "metadata": {},
     "output_type": "execute_result"
    }
   ],
   "source": [
    "counterfact_stats"
   ]
  },
  {
   "cell_type": "code",
   "execution_count": 24,
   "metadata": {},
   "outputs": [
    {
     "name": "stderr",
     "output_type": "stream",
     "text": [
      "/Users/aparnaelangovan/PycharmProjects/venv/large-scale-ptm-ppi/lib/python3.7/site-packages/pandas/plotting/_matplotlib/tools.py:331: MatplotlibDeprecationWarning: \n",
      "The is_first_col function was deprecated in Matplotlib 3.4 and will be removed two minor releases later. Use ax.get_subplotspec().is_first_col() instead.\n",
      "  if ax.is_first_col():\n"
     ]
    },
    {
     "data": {
      "text/plain": [
       "(0.0, 1.2)"
      ]
     },
     "execution_count": 24,
     "metadata": {},
     "output_type": "execute_result"
    },
    {
     "data": {
      "image/png": "[encoded data removed]",
      "text/plain": [
       "<Figure size 1080x360 with 3 Axes>"
      ]
     },
     "metadata": {
      "needs_background": "light"
     },
     "output_type": "display_data"
    }
   ],
   "source": [
    "_, ax = plt.subplots(1,3,  figsize=(15,5))\n",
    "\n",
    "\n",
    "counterfact_debug[\"aff_n\"][\"closest_dist\"].plot.hist(bins=100, ax=ax[0],  title = \"Counterfact closest match - $\\delta^{nn}$\")\n",
    "ax[0].set_xlim(0, 1.2)\n",
    "\n",
    "counterfact_debug[\"aff_p\"][\"closest_dist\"].plot.hist(bins=100, ax=ax[1],  title = \"Counterfact closest match - $\\delta^{pp}$\")\n",
    "ax[1].set_xlim(0, 1.2)\n",
    "\n",
    "\n",
    "counterfact_debug[\"adv_p_n\"][\"closest_dist\"].plot.hist(bins=100, ax=ax[2],  title = \"Counterfact closest match - $\\delta^{pn}$\")\n",
    "ax[2].set_xlim(0, 1.2)\n"
   ]
  },
  {
   "cell_type": "code",
   "execution_count": 25,
   "metadata": {},
   "outputs": [],
   "source": [
    "def prep_counterfactual(df, adv_rate_pos=0.1, total_size=3400):\n",
    "    \n",
    "    pos_rate = 0.5\n",
    "    \n",
    "    neg_samples = int(total_size * (1-pos_rate))\n",
    "    \n",
    "\n",
    "    pos_samples = total_size - neg_samples\n",
    "    adv_neg_samples = int(adv_rate_pos * pos_samples)\n",
    "    non_adv_neg_samples = neg_samples - adv_neg_samples\n",
    "    \n",
    "    \n",
    "    df_pos_with_cf = df.query(\"batch_id != -1 and Sentiment == 'Positive'\")\n",
    "    \n",
    "    # Get n positives\n",
    "    pos_samp_with_adv_size = min(len(df_pos_with_cf), pos_samples)\n",
    "    df_pos_with_adv = df_pos_with_cf.sample(n=pos_samp_with_adv_size)\n",
    "    df_pos_without_adv = df.query(\"batch_id == -1 and Sentiment == 'Positive'\")\\\n",
    "                [[\"Sentiment\", \"Text\", \"batch_id\"]].sample(n=pos_samples - pos_samp_with_adv_size)\n",
    "\n",
    "\n",
    "        \n",
    "    # Get paired n negatives\n",
    "    df_paired = df_pos_with_adv.sample(n=adv_neg_samples)\n",
    "    df_adv_neg = df_paired[[\"counter_sentiment\", \"counter_text\" , \"batch_id\" ]]\n",
    "    df_adv_neg.columns = [\"Sentiment\", \"Text\", \"batch_id\"]\n",
    "\n",
    "    # Random neg\n",
    "    df_neg_random = df.query(\"batch_id == -1 and Sentiment == 'Negative'\")\\\n",
    "                    [[\"Sentiment\", \"Text\", \"batch_id\"]].sample(n=non_adv_neg_samples).copy()\n",
    "    \n",
    "    return pd.concat([df_adv_neg, df_pos_with_adv[[\"Sentiment\", \"Text\", \"batch_id\"]] ,\n",
    "                      df_pos_without_adv, df_neg_random])\n",
    "\n",
    "    \n",
    "    \n",
    "    \n"
   ]
  },
  {
   "cell_type": "code",
   "execution_count": 26,
   "metadata": {},
   "outputs": [
    {
     "name": "stderr",
     "output_type": "stream",
     "text": [
      "[nltk_data] Downloading package punkt to\n",
      "[nltk_data]     /Users/aparnaelangovan/nltk_data...\n",
      "[nltk_data]   Package punkt is already up-to-date!\n",
      "[nltk_data] Downloading package punkt to\n",
      "[nltk_data]     /Users/aparnaelangovan/nltk_data...\n",
      "[nltk_data]   Package punkt is already up-to-date!\n",
      "[nltk_data] Downloading package punkt to\n",
      "[nltk_data]     /Users/aparnaelangovan/nltk_data...\n",
      "[nltk_data]   Package punkt is already up-to-date!\n"
     ]
    },
    {
     "name": "stdout",
     "output_type": "stream",
     "text": [
      "{'Unique': 3394, 'PosRate': 0.5, 'AdvRatePN': 0.09823529411764706, 'AffRateP': 0.004705882352941176, 'AffRateN': 0.0035294117647058825, 'Total': 3400}\n",
      "CPU times: user 8min 36s, sys: 2.76 s, total: 8min 39s\n",
      "Wall time: 8min 42s\n"
     ]
    }
   ],
   "source": [
    "%%time\n",
    "\n",
    "ADV_R_PN = 0.10\n",
    "\n",
    "df_train_prepared = prep_counterfactual(df_orig_train, adv_rate_pos=ADV_R_PN, total_size=3400)   \n",
    "\n",
    "result_train_stats, train_debug = get_stats(df_train_prepared, threshold_adv=0.25, threshold_aff=0.50)\n",
    "print(result_train_stats)"
   ]
  },
  {
   "cell_type": "code",
   "execution_count": 27,
   "metadata": {},
   "outputs": [
    {
     "name": "stderr",
     "output_type": "stream",
     "text": [
      "[nltk_data] Downloading package punkt to\n",
      "[nltk_data]     /Users/aparnaelangovan/nltk_data...\n",
      "[nltk_data]   Package punkt is already up-to-date!\n",
      "[nltk_data] Downloading package punkt to\n",
      "[nltk_data]     /Users/aparnaelangovan/nltk_data...\n",
      "[nltk_data]   Package punkt is already up-to-date!\n",
      "[nltk_data] Downloading package punkt to\n",
      "[nltk_data]     /Users/aparnaelangovan/nltk_data...\n",
      "[nltk_data]   Package punkt is already up-to-date!\n"
     ]
    },
    {
     "name": "stdout",
     "output_type": "stream",
     "text": [
      "{'Unique': 680, 'PosRate': 0.5, 'AdvRatePN': 0.09705882352941177, 'AffRateP': 0.0, 'AffRateN': 0.0, 'Total': 680}\n",
      "CPU times: user 23.5 s, sys: 156 ms, total: 23.6 s\n",
      "Wall time: 23.8 s\n"
     ]
    }
   ],
   "source": [
    "%%time\n",
    "\n",
    "df_val_prepared = prep_counterfactual(df_orig_val, adv_rate_pos=ADV_R_PN, total_size=int(3400*0.2)  )\n",
    "\n",
    "result_val_stats, val_debug = get_stats(df_val_prepared, threshold_adv=0.25, threshold_aff=0.50)\n",
    "print(result_val_stats)"
   ]
  },
  {
   "cell_type": "code",
   "execution_count": 28,
   "metadata": {},
   "outputs": [
    {
     "name": "stderr",
     "output_type": "stream",
     "text": [
      "/Users/aparnaelangovan/PycharmProjects/venv/large-scale-ptm-ppi/lib/python3.7/site-packages/pandas/plotting/_matplotlib/tools.py:331: MatplotlibDeprecationWarning: \n",
      "The is_first_col function was deprecated in Matplotlib 3.4 and will be removed two minor releases later. Use ax.get_subplotspec().is_first_col() instead.\n",
      "  if ax.is_first_col():\n"
     ]
    },
    {
     "data": {
      "text/plain": [
       "(0.0, 1.2)"
      ]
     },
     "execution_count": 28,
     "metadata": {},
     "output_type": "execute_result"
    },
    {
     "data": {
      "image/png": "[encoded data removed]",
      "text/plain": [
       "<Figure size 720x360 with 2 Axes>"
      ]
     },
     "metadata": {
      "needs_background": "light"
     },
     "output_type": "display_data"
    }
   ],
   "source": [
    "_, ax = plt.subplots(1,2, figsize=(10,5))\n",
    "train_debug[\"adv_p_n\"][\"closest_dist\"].plot.hist(bins=100, ax=ax[0], title = \"Train Closest match - $\\delta^{pn}$\")\n",
    "ax[0].set_xlim(0, 1.2)\n",
    "\n",
    "val_debug[\"adv_p_n\"][\"closest_dist\"].plot.hist(bins=100, ax=ax[1], title = \"Val Closest match - $\\delta^{pn}$\")\n",
    "ax[1].set_xlim(0, 1.2)"
   ]
  },
  {
   "cell_type": "code",
   "execution_count": 29,
   "metadata": {},
   "outputs": [
    {
     "data": {
      "text/plain": [
       "(0.0, 1.2)"
      ]
     },
     "execution_count": 29,
     "metadata": {},
     "output_type": "execute_result"
    },
    {
     "data": {
      "image/png": "[encoded data removed]",
      "text/plain": [
       "<Figure size 720x360 with 2 Axes>"
      ]
     },
     "metadata": {
      "needs_background": "light"
     },
     "output_type": "display_data"
    }
   ],
   "source": [
    "_, ax = plt.subplots(1,2,  figsize=(10,5))\n",
    "\n",
    "\n",
    "train_debug[\"aff_p\"][\"closest_dist\"].plot.hist(bins=100, ax=ax[0],  title = \"Train closest match - $\\delta^{pp}$\")\n",
    "ax[0].set_xlim(0, 1.2)\n",
    "\n",
    "val_debug[\"aff_p\"][\"closest_dist\"].plot.hist(bins=100, ax=ax[1], title = \"Val closest match - $\\delta^{pp}$\")\n",
    "ax[1].set_xlim(0, 1.2)"
   ]
  },
  {
   "cell_type": "code",
   "execution_count": 30,
   "metadata": {},
   "outputs": [
    {
     "data": {
      "text/plain": [
       "(0.0, 1.2)"
      ]
     },
     "execution_count": 30,
     "metadata": {},
     "output_type": "execute_result"
    },
    {
     "data": {
      "image/png": "[encoded data removed]",
      "text/plain": [
       "<Figure size 720x360 with 2 Axes>"
      ]
     },
     "metadata": {
      "needs_background": "light"
     },
     "output_type": "display_data"
    }
   ],
   "source": [
    "_, ax = plt.subplots(1,2,  figsize=(10,5))\n",
    "\n",
    "\n",
    "train_debug[\"aff_n\"][\"closest_dist\"].plot.hist(bins=100, ax=ax[0],  title = \"Train closest match - $\\delta^{nn}$\")\n",
    "ax[0].set_xlim(0, 1.2)\n",
    "\n",
    "val_debug[\"aff_n\"][\"closest_dist\"].plot.hist(bins=100, ax=ax[1], title = \"Val closest match - $\\delta^{nn}$\")\n",
    "ax[1].set_xlim(0, 1.2)\n",
    "\n"
   ]
  },
  {
   "cell_type": "code",
   "execution_count": 31,
   "metadata": {},
   "outputs": [
    {
     "name": "stdout",
     "output_type": "stream",
     "text": [
      "Uploading s3://aegovan-data/counterfactuals/imdb/202304091853/9_0_0/train.json\n",
      "Uploading s3://aegovan-data/counterfactuals/imdb/202304091853/9_0_0/stats/train_stats.json\n",
      "Uploading s3://aegovan-data/counterfactuals/imdb/202304091853/9_0_0/val.json\n",
      "Uploading s3://aegovan-data/counterfactuals/imdb/202304091853/9_0_0/stats/val_stats.json\n",
      "Uploading s3://aegovan-data/counterfactuals/imdb/202304091853/9_0_0/test.json\n"
     ]
    }
   ],
   "source": [
    "import sagemaker, io, json\n",
    "\n",
    "\n",
    "def upload_df_to_s3(df, s3_dest):\n",
    "    b = io.StringIO()\n",
    "    df.to_json(b)\n",
    "    \n",
    "    print(f\"Uploading {s3_dest}\")\n",
    "    \n",
    "    sagemaker.s3.S3Uploader.upload_string_as_file_body(b.getvalue(), s3_dest)\n",
    "    \n",
    "def upload_json_to_s3(json_obj, s3_dest):\n",
    "    b = io.StringIO()\n",
    "    json.dump(json_obj, b)\n",
    "    \n",
    "    print(f\"Uploading {s3_dest}\")\n",
    "    \n",
    "    sagemaker.s3.S3Uploader.upload_string_as_file_body(b.getvalue(), s3_dest)\n",
    " \n",
    "s3_prefix =  \"s3://aegovan-data/counterfactuals/imdb/{}/{}_{}_{}\".format(datefmt,\n",
    "                                                                    int(result_train_stats[\"AdvRatePN\"]*100)\n",
    "                                                                    , int(result_train_stats[\"AffRateP\"]*100)\n",
    "                                                                    ,int(result_train_stats[\"AffRateN\"]*100))\n",
    "\n",
    "upload_df_to_s3(df_train_prepared.reset_index(),   f\"{s3_prefix}/train.json\")\n",
    "upload_json_to_s3(result_train_stats,   f\"{s3_prefix}/stats/train_stats.json\")\n",
    "\n",
    "upload_df_to_s3(df_val_prepared.reset_index(),   f\"{s3_prefix}/val.json\")\n",
    "upload_json_to_s3(result_val_stats,   f\"{s3_prefix}/stats/val_stats.json\")\n",
    "\n",
    "upload_df_to_s3( pd.read_csv(test_orig_data_url, sep=\"\\t\"), f\"{s3_prefix}/test.json\")"
   ]
  },
  {
   "cell_type": "code",
   "execution_count": 32,
   "metadata": {},
   "outputs": [
    {
     "name": "stdout",
     "output_type": "stream",
     "text": [
      "Uploading s3://aegovan-data/counterfactuals/imdb/202304091853/original/train.json\n",
      "Uploading s3://aegovan-data/counterfactuals/imdb/202304091853/original/train_stats.json\n",
      "Uploading s3://aegovan-data/counterfactuals/imdb/202304091853/original/val.json\n"
     ]
    }
   ],
   "source": [
    "upload_df_to_s3(df_counterfacts_train,   f\"s3://aegovan-data/counterfactuals/imdb/{datefmt}/original/train.json\")\n",
    "upload_json_to_s3(counterfact_stats,   f\"s3://aegovan-data/counterfactuals/imdb/{datefmt}/original/train_stats.json\")\n",
    "\n",
    "\n",
    "upload_df_to_s3(df_counterfacts_val,   f\"s3://aegovan-data/counterfactuals/imdb/{datefmt}/original/val.json\")"
   ]
  },
  {
   "cell_type": "code",
   "execution_count": 33,
   "metadata": {},
   "outputs": [],
   "source": [
    "df_train_prepared.reset_index().sample(n=10).to_json(\"sample_counterfact_imdb.json\")"
   ]
  }
 ],
 "metadata": {
  "kernelspec": {
   "display_name": "Python 3 (ipykernel)",
   "language": "python",
   "name": "python3"
  },
  "language_info": {
   "codemirror_mode": {
    "name": "ipython",
    "version": 3
   },
   "file_extension": ".py",
   "mimetype": "text/x-python",
   "name": "python",
   "nbconvert_exporter": "python",
   "pygments_lexer": "ipython3",
   "version": "3.7.9"
  }
 },
 "nbformat": 4,
 "nbformat_minor": 1
}