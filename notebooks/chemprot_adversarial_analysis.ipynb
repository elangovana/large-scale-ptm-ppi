{
 "cells": [
  {
   "cell_type": "markdown",
   "id": "c8d94a80",
   "metadata": {},
   "source": [
    "# Create adversarial samples "
   ]
  },
  {
   "cell_type": "code",
   "execution_count": 1,
   "id": "cae87805",
   "metadata": {},
   "outputs": [],
   "source": [
    "bucket=\"aegovan-data\"\n",
    "\n",
    "train_data = f\"s3://{bucket}/chemprot/chemprot_abstract_train.json\"\n",
    "\n",
    "output_data = f\"s3://{bucket}/chemprot_adversarial/\""
   ]
  },
  {
   "cell_type": "code",
   "execution_count": 2,
   "id": "7af74d2f",
   "metadata": {},
   "outputs": [],
   "source": [
    "import pandas as pd\n",
    "import sagemaker, io"
   ]
  },
  {
   "cell_type": "code",
   "execution_count": 3,
   "id": "6a899a63",
   "metadata": {},
   "outputs": [
    {
     "data": {
      "text/html": [
       "<div>\n",
       "<style scoped>\n",
       "    .dataframe tbody tr th:only-of-type {\n",
       "        vertical-align: middle;\n",
       "    }\n",
       "\n",
       "    .dataframe tbody tr th {\n",
       "        vertical-align: top;\n",
       "    }\n",
       "\n",
       "    .dataframe thead th {\n",
       "        text-align: right;\n",
       "    }\n",
       "</style>\n",
       "<table border=\"1\" class=\"dataframe\">\n",
       "  <thead>\n",
       "    <tr style=\"text-align: right;\">\n",
       "      <th></th>\n",
       "      <th>abstract_id</th>\n",
       "      <th>abstract</th>\n",
       "      <th>participant1_id</th>\n",
       "      <th>participant1</th>\n",
       "      <th>participant2_id</th>\n",
       "      <th>participant2</th>\n",
       "      <th>annotations</th>\n",
       "      <th>relationship_type</th>\n",
       "      <th>relationship_group</th>\n",
       "      <th>is_eval</th>\n",
       "      <th>label</th>\n",
       "    </tr>\n",
       "  </thead>\n",
       "  <tbody>\n",
       "    <tr>\n",
       "      <th>5841</th>\n",
       "      <td>23643730</td>\n",
       "      <td>Juglone, isolated from Juglans mandshurica Max...</td>\n",
       "      <td>T2</td>\n",
       "      <td>{'abstract_id': '23643730', 'id': 'T2', 'entit...</td>\n",
       "      <td>T20</td>\n",
       "      <td>{'abstract_id': '23643730', 'id': 'T20', 'enti...</td>\n",
       "      <td>[{'abstract_id': '23643730', 'id': 'T1', 'enti...</td>\n",
       "      <td>INDIRECT-DOWNREGULATOR</td>\n",
       "      <td>CPR:4</td>\n",
       "      <td>Y</td>\n",
       "      <td>CPR:4</td>\n",
       "    </tr>\n",
       "    <tr>\n",
       "      <th>3070</th>\n",
       "      <td>19203467</td>\n",
       "      <td>Neurochemical effects of the monoamine oxidase...</td>\n",
       "      <td>T5</td>\n",
       "      <td>{'abstract_id': '19203467', 'id': 'T5', 'entit...</td>\n",
       "      <td>T62</td>\n",
       "      <td>{'abstract_id': '19203467', 'id': 'T62', 'enti...</td>\n",
       "      <td>[{'abstract_id': '19203467', 'id': 'T1', 'enti...</td>\n",
       "      <td>INHIBITOR</td>\n",
       "      <td>CPR:4</td>\n",
       "      <td>Y</td>\n",
       "      <td>CPR:4</td>\n",
       "    </tr>\n",
       "    <tr>\n",
       "      <th>3393</th>\n",
       "      <td>21262851</td>\n",
       "      <td>Inhibition of recombinant L-type voltage-gated...</td>\n",
       "      <td>T18</td>\n",
       "      <td>{'abstract_id': '21262851', 'id': 'T18', 'enti...</td>\n",
       "      <td>T52</td>\n",
       "      <td>{'abstract_id': '21262851', 'id': 'T52', 'enti...</td>\n",
       "      <td>[{'abstract_id': '21262851', 'id': 'T1', 'enti...</td>\n",
       "      <td>INHIBITOR</td>\n",
       "      <td>CPR:4</td>\n",
       "      <td>Y</td>\n",
       "      <td>CPR:4</td>\n",
       "    </tr>\n",
       "  </tbody>\n",
       "</table>\n",
       "</div>"
      ],
      "text/plain": [
       "      abstract_id                                           abstract  \\\n",
       "5841     23643730  Juglone, isolated from Juglans mandshurica Max...   \n",
       "3070     19203467  Neurochemical effects of the monoamine oxidase...   \n",
       "3393     21262851  Inhibition of recombinant L-type voltage-gated...   \n",
       "\n",
       "     participant1_id                                       participant1  \\\n",
       "5841              T2  {'abstract_id': '23643730', 'id': 'T2', 'entit...   \n",
       "3070              T5  {'abstract_id': '19203467', 'id': 'T5', 'entit...   \n",
       "3393             T18  {'abstract_id': '21262851', 'id': 'T18', 'enti...   \n",
       "\n",
       "     participant2_id                                       participant2  \\\n",
       "5841             T20  {'abstract_id': '23643730', 'id': 'T20', 'enti...   \n",
       "3070             T62  {'abstract_id': '19203467', 'id': 'T62', 'enti...   \n",
       "3393             T52  {'abstract_id': '21262851', 'id': 'T52', 'enti...   \n",
       "\n",
       "                                            annotations  \\\n",
       "5841  [{'abstract_id': '23643730', 'id': 'T1', 'enti...   \n",
       "3070  [{'abstract_id': '19203467', 'id': 'T1', 'enti...   \n",
       "3393  [{'abstract_id': '21262851', 'id': 'T1', 'enti...   \n",
       "\n",
       "           relationship_type relationship_group is_eval  label  \n",
       "5841  INDIRECT-DOWNREGULATOR              CPR:4       Y  CPR:4  \n",
       "3070               INHIBITOR              CPR:4       Y  CPR:4  \n",
       "3393               INHIBITOR              CPR:4       Y  CPR:4  "
      ]
     },
     "execution_count": 3,
     "metadata": {},
     "output_type": "execute_result"
    }
   ],
   "source": [
    "df = pd.read_json( io.StringIO(sagemaker.s3.S3Downloader.read_file(train_data)))\n",
    "df.sample(n=3)"
   ]
  },
  {
   "cell_type": "code",
   "execution_count": 4,
   "id": "5f3eb88f",
   "metadata": {},
   "outputs": [
    {
     "data": {
      "text/plain": [
       "<AxesSubplot:ylabel='Frequency'>"
      ]
     },
     "execution_count": 4,
     "metadata": {},
     "output_type": "execute_result"
    },
    {
     "data": {
      "image/png": "[encoded data removed]",
      "text/plain": [
       "<Figure size 432x288 with 1 Axes>"
      ]
     },
     "metadata": {
      "needs_background": "light"
     },
     "output_type": "display_data"
    }
   ],
   "source": [
    "df.groupby([\"abstract_id\"]).size().plot.hist()"
   ]
  },
  {
   "cell_type": "code",
   "execution_count": 5,
   "id": "d6cf8c43",
   "metadata": {},
   "outputs": [
    {
     "data": {
      "text/plain": [
       "count    767.000000\n",
       "mean       8.392438\n",
       "std        7.643567\n",
       "min        1.000000\n",
       "25%        3.000000\n",
       "50%        6.000000\n",
       "75%       11.000000\n",
       "max       59.000000\n",
       "dtype: float64"
      ]
     },
     "execution_count": 5,
     "metadata": {},
     "output_type": "execute_result"
    }
   ],
   "source": [
    "df.groupby([\"abstract_id\"]).size().describe()"
   ]
  },
  {
   "cell_type": "code",
   "execution_count": 6,
   "id": "26512680",
   "metadata": {},
   "outputs": [
    {
     "data": {
      "text/plain": [
       "label\n",
       "CPR:3        777\n",
       "CPR:4       2260\n",
       "CPR:5        173\n",
       "CPR:6        235\n",
       "CPR:9        727\n",
       "NEGATIVE    2265\n",
       "dtype: int64"
      ]
     },
     "execution_count": 6,
     "metadata": {},
     "output_type": "execute_result"
    }
   ],
   "source": [
    "df.groupby([\"label\"]).size()"
   ]
  },
  {
   "cell_type": "code",
   "execution_count": 7,
   "id": "c5b158c5",
   "metadata": {},
   "outputs": [
    {
     "data": {
      "text/plain": [
       "count    1382.000000\n",
       "mean        4.657742\n",
       "std         4.838381\n",
       "min         1.000000\n",
       "25%         2.000000\n",
       "50%         3.000000\n",
       "75%         6.000000\n",
       "max        58.000000\n",
       "dtype: float64"
      ]
     },
     "execution_count": 7,
     "metadata": {},
     "output_type": "execute_result"
    }
   ],
   "source": [
    "df.groupby([\"abstract_id\", \"label\"]).size().describe()"
   ]
  },
  {
   "cell_type": "code",
   "execution_count": 8,
   "id": "365400bc",
   "metadata": {},
   "outputs": [
    {
     "data": {
      "text/plain": [
       "(4525, 11)"
      ]
     },
     "execution_count": 8,
     "metadata": {},
     "output_type": "execute_result"
    }
   ],
   "source": [
    "df.query(\"label == 'NEGATIVE' or label == 'CPR:4'\").shape"
   ]
  },
  {
   "cell_type": "code",
   "execution_count": 9,
   "id": "8d0ac28c",
   "metadata": {},
   "outputs": [
    {
     "data": {
      "text/plain": [
       "<AxesSubplot:ylabel='Frequency'>"
      ]
     },
     "execution_count": 9,
     "metadata": {},
     "output_type": "execute_result"
    },
    {
     "data": {
      "image/png": "[encoded data removed]",
      "text/plain": [
       "<Figure size 432x288 with 1 Axes>"
      ]
     },
     "metadata": {
      "needs_background": "light"
     },
     "output_type": "display_data"
    }
   ],
   "source": [
    "df.query(\"label == 'NEGATIVE' or label == 'CPR:4'\").groupby([\"abstract_id\", \"label\"]).size().plot.hist()"
   ]
  },
  {
   "cell_type": "code",
   "execution_count": 11,
   "id": "0bea725b",
   "metadata": {},
   "outputs": [
    {
     "name": "stdout",
     "output_type": "stream",
     "text": [
      "{'UniquePositives': 210, 'AllPositives': 777, 'UniquePositiveSampleRate': 0.03262389311791207, 'PositiveSampleRate': 0.12070840453627467, 'UniqueNonAdversarialNegatives': 557, 'AllNonAdversarialNegatives': 4145, 'UniqueAdversarialNegatives': 183, 'AllAdversarialNegatives': 1515, 'AdversarialRate': 7.214285714285714, 'UniqueAdversarialRate': 0.8714285714285714, 'TotalSize': 6437}\n",
      "s3://aegovan-data/chemprot_adversarial/train_767_210_0.json {'UniquePositives': 210, 'AllPositives': 210, 'UniquePositiveSampleRate': 0.2737940026075619, 'PositiveSampleRate': 0.2737940026075619, 'UniqueNonAdversarialNegatives': 557, 'AllNonAdversarialNegatives': 557, 'UniqueAdversarialNegatives': 0, 'AllAdversarialNegatives': 0, 'AdversarialRate': 0.0, 'UniqueAdversarialRate': 0.0, 'TotalSize': 767}\n",
      "s3://aegovan-data/chemprot_adversarial/train_767_210_21.json {'UniquePositives': 210, 'AllPositives': 210, 'UniquePositiveSampleRate': 0.2737940026075619, 'PositiveSampleRate': 0.2737940026075619, 'UniqueNonAdversarialNegatives': 536, 'AllNonAdversarialNegatives': 536, 'UniqueAdversarialNegatives': 21, 'AllAdversarialNegatives': 21, 'AdversarialRate': 0.1, 'UniqueAdversarialRate': 0.1, 'TotalSize': 767}\n",
      "s3://aegovan-data/chemprot_adversarial/train_767_210_42.json {'UniquePositives': 210, 'AllPositives': 210, 'UniquePositiveSampleRate': 0.2737940026075619, 'PositiveSampleRate': 0.2737940026075619, 'UniqueNonAdversarialNegatives': 515, 'AllNonAdversarialNegatives': 515, 'UniqueAdversarialNegatives': 42, 'AllAdversarialNegatives': 42, 'AdversarialRate': 0.2, 'UniqueAdversarialRate': 0.2, 'TotalSize': 767}\n",
      "s3://aegovan-data/chemprot_adversarial/train_767_210_63.json {'UniquePositives': 210, 'AllPositives': 210, 'UniquePositiveSampleRate': 0.2737940026075619, 'PositiveSampleRate': 0.2737940026075619, 'UniqueNonAdversarialNegatives': 494, 'AllNonAdversarialNegatives': 494, 'UniqueAdversarialNegatives': 63, 'AllAdversarialNegatives': 63, 'AdversarialRate': 0.3, 'UniqueAdversarialRate': 0.3, 'TotalSize': 767}\n",
      "s3://aegovan-data/chemprot_adversarial/train_767_210_84.json {'UniquePositives': 210, 'AllPositives': 210, 'UniquePositiveSampleRate': 0.2737940026075619, 'PositiveSampleRate': 0.2737940026075619, 'UniqueNonAdversarialNegatives': 473, 'AllNonAdversarialNegatives': 473, 'UniqueAdversarialNegatives': 84, 'AllAdversarialNegatives': 84, 'AdversarialRate': 0.4, 'UniqueAdversarialRate': 0.4, 'TotalSize': 767}\n",
      "s3://aegovan-data/chemprot_adversarial/train_767_210_105.json {'UniquePositives': 210, 'AllPositives': 210, 'UniquePositiveSampleRate': 0.2737940026075619, 'PositiveSampleRate': 0.2737940026075619, 'UniqueNonAdversarialNegatives': 452, 'AllNonAdversarialNegatives': 452, 'UniqueAdversarialNegatives': 105, 'AllAdversarialNegatives': 105, 'AdversarialRate': 0.5, 'UniqueAdversarialRate': 0.5, 'TotalSize': 767}\n",
      "s3://aegovan-data/chemprot_adversarial/train_767_210_126.json {'UniquePositives': 210, 'AllPositives': 210, 'UniquePositiveSampleRate': 0.2737940026075619, 'PositiveSampleRate': 0.2737940026075619, 'UniqueNonAdversarialNegatives': 431, 'AllNonAdversarialNegatives': 431, 'UniqueAdversarialNegatives': 126, 'AllAdversarialNegatives': 126, 'AdversarialRate': 0.6, 'UniqueAdversarialRate': 0.6, 'TotalSize': 767}\n",
      "s3://aegovan-data/chemprot_adversarial/train_767_210_147.json {'UniquePositives': 210, 'AllPositives': 210, 'UniquePositiveSampleRate': 0.2737940026075619, 'PositiveSampleRate': 0.2737940026075619, 'UniqueNonAdversarialNegatives': 410, 'AllNonAdversarialNegatives': 410, 'UniqueAdversarialNegatives': 147, 'AllAdversarialNegatives': 147, 'AdversarialRate': 0.7, 'UniqueAdversarialRate': 0.7, 'TotalSize': 767}\n",
      "s3://aegovan-data/chemprot_adversarial/train_767_210_168.json {'UniquePositives': 210, 'AllPositives': 210, 'UniquePositiveSampleRate': 0.2737940026075619, 'PositiveSampleRate': 0.2737940026075619, 'UniqueNonAdversarialNegatives': 389, 'AllNonAdversarialNegatives': 389, 'UniqueAdversarialNegatives': 168, 'AllAdversarialNegatives': 168, 'AdversarialRate': 0.8, 'UniqueAdversarialRate': 0.8, 'TotalSize': 767}\n"
     ]
    },
    {
     "data": {
      "image/png": "[encoded data removed]",
      "text/plain": [
       "<Figure size 432x288 with 1 Axes>"
      ]
     },
     "metadata": {
      "needs_background": "light"
     },
     "output_type": "display_data"
    },
    {
     "data": {
      "image/png": "[encoded data removed]",
      "text/plain": [
       "<Figure size 432x288 with 1 Axes>"
      ]
     },
     "metadata": {
      "needs_background": "light"
     },
     "output_type": "display_data"
    }
   ],
   "source": [
    "import numpy as np\n",
    "\n",
    "def get_stats(df, pos_label):\n",
    "    stats ={}\n",
    "    \n",
    "    # Positive samples\n",
    "    df_positive = df.query(f\"label == '{pos_label}'\")\n",
    "    df_positive_unique = df_positive.drop_duplicates('abstract_id')\n",
    "    stats[\"UniquePositives\"] = len(df_positive_unique)\n",
    "    stats[\"AllPositives\"] = len(df_positive)\n",
    "\n",
    "    stats[\"UniquePositiveSampleRate\"] = stats[\"UniquePositives\"]/(len(df))\n",
    "    stats[\"PositiveSampleRate\"] = stats[\"AllPositives\"]/(len(df))\n",
    "    \n",
    "    # Abstract ids with corresponding positive samples\n",
    "    abstracts_id_with_positive = df[\"abstract_id\"].isin( df.query(f\"label == '{pos_label}'\")[\"abstract_id\"])\n",
    "    \n",
    "    # Non-Adversarial Negative: Unique negative samples unrelated to positive samples\n",
    "    df_negative_non_adverseries = df[~abstracts_id_with_positive]\n",
    "    df_negative_non_adverseries_unique =df_negative_non_adverseries.drop_duplicates('abstract_id')\n",
    "    stats[\"UniqueNonAdversarialNegatives\"] = len(df_negative_non_adverseries_unique)\n",
    "    stats[\"AllNonAdversarialNegatives\"] = len(df_negative_non_adverseries)\n",
    "\n",
    "    # Adversarial  Negative: Unique negative samples with matching positive samples\n",
    "    df_negative_adverseries = df[abstracts_id_with_positive].query(f\"label != '{pos_label}'\")\n",
    "    df_negative_adverseries_unique = df_negative_adverseries.drop_duplicates('abstract_id')\n",
    "    stats[\"UniqueAdversarialNegatives\"] = len(df_negative_adverseries_unique)\n",
    "    stats[\"AllAdversarialNegatives\"] = len(df_negative_adverseries)\n",
    "    \n",
    "    # TODO: Check if unique positive is appropriate\n",
    "    stats[\"AdversarialRate\"] = stats[\"AllAdversarialNegatives\"]/len(df_positive_unique)\n",
    "    stats[\"UniqueAdversarialRate\"] = stats[\"UniqueAdversarialNegatives\"]/len(df_positive_unique)\n",
    "\n",
    "\n",
    "    stats[\"TotalSize\"] = len(df)\n",
    "\n",
    "    return stats\n",
    "\n",
    "\n",
    "def mixmatch_training_data(df, discriminitory_rate, pos_label):\n",
    "    \n",
    "    stats = {}\n",
    "    \n",
    "    # Positive samples\n",
    "    df_positive_unique = df.query(f\"label == '{pos_label}'\").drop_duplicates('abstract_id')\n",
    "    df_positive_unique_sim = df.query(f\"label == '{pos_label}'\")\n",
    "    \n",
    "    # Abstract ids with corresponding positive samples\n",
    "    abstracts_id_with_positive = df[\"abstract_id\"].isin( df.query(f\"label == '{pos_label}'\")[\"abstract_id\"])\n",
    "    \n",
    "    # Non-Adversarial Negative: Unique negative samples unrelated to positive samples\n",
    "    df_negative_non_adverseries_unique = df[~abstracts_id_with_positive].drop_duplicates('abstract_id')\n",
    "    \n",
    "    # Adversarial  Negative: Unique negative samples with matching positive samples\n",
    "    df_negative_adverseries_unique = df[abstracts_id_with_positive].query(f\"label != '{pos_label}'\").drop_duplicates('abstract_id')\n",
    "    \n",
    "    df_negative_adverseries_simi = df[abstracts_id_with_positive].query(f\"label != '{pos_label}'\")\n",
    "    \n",
    "    \n",
    "    discriminitory_size = int(len(df_positive_unique)  * discriminitory_rate)\n",
    "    if discriminitory_size > 0:\n",
    "        drop_indices = np.random.choice(df_negative_non_adverseries_unique.index, discriminitory_size, replace=False)\n",
    "      \n",
    "        df_negative_non_adverseries_unique = df_negative_non_adverseries_unique.drop(drop_indices).copy()\n",
    "        \n",
    "        df_negative_adverseries_unique = df_negative_adverseries_unique.sample(n=discriminitory_size).copy()\n",
    "        \n",
    "        df_negative_adverseries_unique[\"label\"] = 'NEGATIVE'\n",
    "        df_negative_non_adverseries_unique[\"label\"] =  'NEGATIVE'\n",
    "    else:\n",
    "        # Empty adversarial unique\n",
    "        df_negative_adverseries_unique = pd.DataFrame()\n",
    "     \n",
    "    \n",
    "    final_data = pd.concat([df_positive_unique, \n",
    "                            df_negative_non_adverseries_unique, \n",
    "                            df_negative_adverseries_unique]).reset_index()\n",
    "    \n",
    "    \n",
    "    return final_data\n",
    "\n",
    "def create_samples_and_upload_to_s3(df, s3_uri_base):\n",
    "    pos_label = \"CPR:3\"\n",
    "\n",
    "    stats = []\n",
    "    for i in range(0, 9):\n",
    "\n",
    "        df_train_data = mixmatch_training_data(df, discriminitory_rate=i/10, pos_label=pos_label)  \n",
    "        stat = get_stats(df_train_data, pos_label=pos_label)\n",
    "        stats.append(stat )\n",
    "        \n",
    "        json_data = io.StringIO() \n",
    "        df_train_data.to_json( json_data )\n",
    "        \n",
    "        s3_uri = \"{}/{}\".format( s3_uri_base.rstrip(\"/\"), f'train_{stat[\"TotalSize\"]}_{stat[\"AllPositives\"]}_{stat[\"UniqueAdversarialNegatives\"]}.json')\n",
    "        print(s3_uri, stat )\n",
    "        \n",
    "        sagemaker.s3.S3Uploader.upload_string_as_file_body(json_data.getvalue(), s3_uri)\n",
    "        \n",
    "\n",
    "    \n",
    "    pd.DataFrame(stats)[[ \"TotalSize\", \"UniquePositives\", \"AllPositives\",\n",
    "                         \"UniqueNonAdversarialNegatives\", \"AllNonAdversarialNegatives\",\n",
    "                          \"UniqueAdversarialNegatives\", \"AllAdversarialNegatives\"\n",
    "                        ]].plot.line()\n",
    "    pd.DataFrame(stats)[[\"PositiveSampleRate\", \"AdversarialRate\"]].plot.line()\n",
    "\n",
    "print(get_stats(df, \"CPR:3\"))\n",
    "create_samples_and_upload_to_s3(df, output_data)"
   ]
  },
  {
   "cell_type": "code",
   "execution_count": null,
   "id": "32674a81",
   "metadata": {},
   "outputs": [],
   "source": [
    "mixmatch_training_data(df, discriminitory_rate=2/10, pos_label=\"CPR:3\")  "
   ]
  },
  {
   "cell_type": "markdown",
   "id": "aadc3bbe",
   "metadata": {},
   "source": [
    " Start with random base sample pos = 1000\n",
    "  drate = 0\n",
    "= 1000 p + 2000 negative [3000, drate 0, 33% positive rate]\n",
    "\n",
    "= 1000 p + 1700 + 300 derived             [3000, .10, 33% positive rate]\n",
    "\n",
    "= 1000 p + 1400 + 600 dervied   [3000, .20, 33% positive rate]\n",
    "\n",
    "= 1000 p + 1100 + 900 dervied   [3000, .30, 33% positive rate]\n",
    "\n",
    "= 1000 p + 800 + 1200 dervied ,  [ .40]\n",
    "\n",
    "= 1000 p + 500 + 1500, dervied ,  [ .50]\n",
    "\n",
    "= 1000 p +  0 + 2000 dervied ,  [ 1]\n",
    "\n",
    "= "
   ]
  },
  {
   "cell_type": "markdown",
   "id": "8791bd88",
   "metadata": {},
   "source": [
    "\n",
    "\n",
    "Discrimintory strength rate for label p = derived samples  that change base label p / base labels for p\n",
    "\n",
    "similarity rate  = derived samples that do not change the label / total sample = 0\n"
   ]
  }
 ],
 "metadata": {
  "kernelspec": {
   "display_name": "Python 3 (ipykernel)",
   "language": "python",
   "name": "python3"
  },
  "language_info": {
   "codemirror_mode": {
    "name": "ipython",
    "version": 3
   },
   "file_extension": ".py",
   "mimetype": "text/x-python",
   "name": "python",
   "nbconvert_exporter": "python",
   "pygments_lexer": "ipython3",
   "version": "3.7.9"
  }
 },
 "nbformat": 4,
 "nbformat_minor": 5
}
