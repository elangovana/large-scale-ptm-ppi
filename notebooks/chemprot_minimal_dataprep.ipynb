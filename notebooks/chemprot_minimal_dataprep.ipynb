{
 "cells": [
  {
   "cell_type": "markdown",
   "id": "c8d94a80",
   "metadata": {},
   "source": [
    "# Chemprot minimal dataset\n",
    "\n",
    "This removes duplicated abstracts"
   ]
  },
  {
   "cell_type": "code",
   "execution_count": 1,
   "id": "cae87805",
   "metadata": {},
   "outputs": [],
   "source": [
    "bucket=\"aegovan-data\"\n",
    "\n",
    "train_data = f\"s3://{bucket}/chemprot/chemprot_abstract_train.json\"\n",
    "test_data = f\"s3://{bucket}/chemprot/chemprot_abstract_test.json\"\n",
    "val_data = f\"s3://{bucket}/chemprot/chemprot_abstract_val.json\"\n",
    "\n",
    "\n",
    "\n",
    "output_data = f\"s3://{bucket}/chemprot_minimal\"\n",
    "\n"
   ]
  },
  {
   "cell_type": "code",
   "execution_count": 2,
   "id": "4b51a0d3",
   "metadata": {},
   "outputs": [],
   "source": [
    "\n",
    "from datetime import datetime\n",
    "\n",
    "datefmt = datetime.now().strftime(\"%Y%m%d%H%M\")\n",
    "\n",
    "output_data = f\"{output_data}/{datefmt}\""
   ]
  },
  {
   "cell_type": "code",
   "execution_count": 3,
   "id": "7af74d2f",
   "metadata": {},
   "outputs": [],
   "source": [
    "import pandas as pd\n",
    "import sagemaker, io"
   ]
  },
  {
   "cell_type": "code",
   "execution_count": 4,
   "id": "6a899a63",
   "metadata": {},
   "outputs": [
    {
     "data": {
      "text/html": [
       "<div>\n",
       "<style scoped>\n",
       "    .dataframe tbody tr th:only-of-type {\n",
       "        vertical-align: middle;\n",
       "    }\n",
       "\n",
       "    .dataframe tbody tr th {\n",
       "        vertical-align: top;\n",
       "    }\n",
       "\n",
       "    .dataframe thead th {\n",
       "        text-align: right;\n",
       "    }\n",
       "</style>\n",
       "<table border=\"1\" class=\"dataframe\">\n",
       "  <thead>\n",
       "    <tr style=\"text-align: right;\">\n",
       "      <th></th>\n",
       "      <th>abstract_id</th>\n",
       "      <th>abstract</th>\n",
       "      <th>participant1_id</th>\n",
       "      <th>participant1</th>\n",
       "      <th>participant2_id</th>\n",
       "      <th>participant2</th>\n",
       "      <th>annotations</th>\n",
       "      <th>relationship_type</th>\n",
       "      <th>relationship_group</th>\n",
       "      <th>is_eval</th>\n",
       "      <th>label</th>\n",
       "    </tr>\n",
       "  </thead>\n",
       "  <tbody>\n",
       "    <tr>\n",
       "      <th>365</th>\n",
       "      <td>10839989</td>\n",
       "      <td>Contrasting effects of N5-substituted tetrahyd...</td>\n",
       "      <td>T44</td>\n",
       "      <td>{'abstract_id': '10839989', 'id': 'T44', 'enti...</td>\n",
       "      <td>T64</td>\n",
       "      <td>{'abstract_id': '10839989', 'id': 'T64', 'enti...</td>\n",
       "      <td>[{'abstract_id': '10839989', 'id': 'T1', 'enti...</td>\n",
       "      <td>REGULATOR</td>\n",
       "      <td>CPR:2</td>\n",
       "      <td>N</td>\n",
       "      <td>NEGATIVE</td>\n",
       "    </tr>\n",
       "    <tr>\n",
       "      <th>1524</th>\n",
       "      <td>15114505</td>\n",
       "      <td>In vitro inhibition of diacylglycerol acyltran...</td>\n",
       "      <td>T11</td>\n",
       "      <td>{'abstract_id': '15114505', 'id': 'T11', 'enti...</td>\n",
       "      <td>T25</td>\n",
       "      <td>{'abstract_id': '15114505', 'id': 'T25', 'enti...</td>\n",
       "      <td>[{'abstract_id': '15114505', 'id': 'T1', 'enti...</td>\n",
       "      <td>INHIBITOR</td>\n",
       "      <td>CPR:4</td>\n",
       "      <td>Y</td>\n",
       "      <td>CPR:4</td>\n",
       "    </tr>\n",
       "    <tr>\n",
       "      <th>2332</th>\n",
       "      <td>17015640</td>\n",
       "      <td>Licofelone, a balanced inhibitor of cyclooxyge...</td>\n",
       "      <td>T17</td>\n",
       "      <td>{'abstract_id': '17015640', 'id': 'T17', 'enti...</td>\n",
       "      <td>T33</td>\n",
       "      <td>{'abstract_id': '17015640', 'id': 'T33', 'enti...</td>\n",
       "      <td>[{'abstract_id': '17015640', 'id': 'T1', 'enti...</td>\n",
       "      <td>INHIBITOR</td>\n",
       "      <td>CPR:4</td>\n",
       "      <td>Y</td>\n",
       "      <td>CPR:4</td>\n",
       "    </tr>\n",
       "  </tbody>\n",
       "</table>\n",
       "</div>"
      ],
      "text/plain": [
       "      abstract_id                                           abstract  \\\n",
       "365      10839989  Contrasting effects of N5-substituted tetrahyd...   \n",
       "1524     15114505  In vitro inhibition of diacylglycerol acyltran...   \n",
       "2332     17015640  Licofelone, a balanced inhibitor of cyclooxyge...   \n",
       "\n",
       "     participant1_id                                       participant1  \\\n",
       "365              T44  {'abstract_id': '10839989', 'id': 'T44', 'enti...   \n",
       "1524             T11  {'abstract_id': '15114505', 'id': 'T11', 'enti...   \n",
       "2332             T17  {'abstract_id': '17015640', 'id': 'T17', 'enti...   \n",
       "\n",
       "     participant2_id                                       participant2  \\\n",
       "365              T64  {'abstract_id': '10839989', 'id': 'T64', 'enti...   \n",
       "1524             T25  {'abstract_id': '15114505', 'id': 'T25', 'enti...   \n",
       "2332             T33  {'abstract_id': '17015640', 'id': 'T33', 'enti...   \n",
       "\n",
       "                                            annotations relationship_type  \\\n",
       "365   [{'abstract_id': '10839989', 'id': 'T1', 'enti...         REGULATOR   \n",
       "1524  [{'abstract_id': '15114505', 'id': 'T1', 'enti...         INHIBITOR   \n",
       "2332  [{'abstract_id': '17015640', 'id': 'T1', 'enti...         INHIBITOR   \n",
       "\n",
       "     relationship_group is_eval     label  \n",
       "365               CPR:2       N  NEGATIVE  \n",
       "1524              CPR:4       Y     CPR:4  \n",
       "2332              CPR:4       Y     CPR:4  "
      ]
     },
     "execution_count": 4,
     "metadata": {},
     "output_type": "execute_result"
    }
   ],
   "source": [
    "df = pd.read_json( io.StringIO(sagemaker.s3.S3Downloader.read_file(train_data)))\n",
    "df.sample(n=3)"
   ]
  },
  {
   "cell_type": "code",
   "execution_count": 5,
   "id": "5f3eb88f",
   "metadata": {},
   "outputs": [
    {
     "data": {
      "text/plain": [
       "<AxesSubplot:ylabel='Frequency'>"
      ]
     },
     "execution_count": 5,
     "metadata": {},
     "output_type": "execute_result"
    },
    {
     "data": {
      "image/png": "[encoded data removed]",
      "text/plain": [
       "<Figure size 432x288 with 1 Axes>"
      ]
     },
     "metadata": {
      "needs_background": "light"
     },
     "output_type": "display_data"
    }
   ],
   "source": [
    "df.groupby([\"abstract_id\", \"label\"]).size().plot.hist()"
   ]
  },
  {
   "cell_type": "code",
   "execution_count": 6,
   "id": "19a97ff7",
   "metadata": {},
   "outputs": [
    {
     "data": {
      "text/plain": [
       "(6437, 11)"
      ]
     },
     "execution_count": 6,
     "metadata": {},
     "output_type": "execute_result"
    }
   ],
   "source": [
    "df.shape"
   ]
  },
  {
   "cell_type": "code",
   "execution_count": 7,
   "id": "d6cf8c43",
   "metadata": {},
   "outputs": [
    {
     "data": {
      "text/plain": [
       "count    1382.000000\n",
       "mean        4.657742\n",
       "std         4.838381\n",
       "min         1.000000\n",
       "25%         2.000000\n",
       "50%         3.000000\n",
       "75%         6.000000\n",
       "max        58.000000\n",
       "dtype: float64"
      ]
     },
     "execution_count": 7,
     "metadata": {},
     "output_type": "execute_result"
    }
   ],
   "source": [
    "df.groupby([\"abstract_id\", \"label\"]).size().describe()"
   ]
  },
  {
   "cell_type": "code",
   "execution_count": 8,
   "id": "76ad7805",
   "metadata": {},
   "outputs": [
    {
     "data": {
      "text/html": [
       "<div>\n",
       "<style scoped>\n",
       "    .dataframe tbody tr th:only-of-type {\n",
       "        vertical-align: middle;\n",
       "    }\n",
       "\n",
       "    .dataframe tbody tr th {\n",
       "        vertical-align: top;\n",
       "    }\n",
       "\n",
       "    .dataframe thead th {\n",
       "        text-align: right;\n",
       "    }\n",
       "</style>\n",
       "<table border=\"1\" class=\"dataframe\">\n",
       "  <thead>\n",
       "    <tr style=\"text-align: right;\">\n",
       "      <th></th>\n",
       "      <th>Percentage</th>\n",
       "    </tr>\n",
       "    <tr>\n",
       "      <th>label</th>\n",
       "      <th></th>\n",
       "    </tr>\n",
       "  </thead>\n",
       "  <tbody>\n",
       "    <tr>\n",
       "      <th>CPR:3</th>\n",
       "      <td>12.070840</td>\n",
       "    </tr>\n",
       "    <tr>\n",
       "      <th>CPR:4</th>\n",
       "      <td>35.109523</td>\n",
       "    </tr>\n",
       "    <tr>\n",
       "      <th>CPR:5</th>\n",
       "      <td>2.687587</td>\n",
       "    </tr>\n",
       "    <tr>\n",
       "      <th>CPR:6</th>\n",
       "      <td>3.650769</td>\n",
       "    </tr>\n",
       "    <tr>\n",
       "      <th>CPR:9</th>\n",
       "      <td>11.294081</td>\n",
       "    </tr>\n",
       "    <tr>\n",
       "      <th>NEGATIVE</th>\n",
       "      <td>35.187199</td>\n",
       "    </tr>\n",
       "  </tbody>\n",
       "</table>\n",
       "</div>"
      ],
      "text/plain": [
       "          Percentage\n",
       "label               \n",
       "CPR:3      12.070840\n",
       "CPR:4      35.109523\n",
       "CPR:5       2.687587\n",
       "CPR:6       3.650769\n",
       "CPR:9      11.294081\n",
       "NEGATIVE   35.187199"
      ]
     },
     "execution_count": 8,
     "metadata": {},
     "output_type": "execute_result"
    }
   ],
   "source": [
    "pd.DataFrame({'Percentage': df.groupby([ 'label']).size() * 100 / len(df)})"
   ]
  },
  {
   "cell_type": "code",
   "execution_count": 9,
   "id": "26512680",
   "metadata": {},
   "outputs": [
    {
     "data": {
      "text/plain": [
       "label\n",
       "CPR:3        777\n",
       "CPR:4       2260\n",
       "CPR:5        173\n",
       "CPR:6        235\n",
       "CPR:9        727\n",
       "NEGATIVE    2265\n",
       "dtype: int64"
      ]
     },
     "execution_count": 9,
     "metadata": {},
     "output_type": "execute_result"
    }
   ],
   "source": [
    "df.groupby([\"label\"]).size()"
   ]
  },
  {
   "cell_type": "code",
   "execution_count": 10,
   "id": "cda1f15f",
   "metadata": {},
   "outputs": [],
   "source": [
    "df = df.drop_duplicates(subset=['abstract_id', 'label'])"
   ]
  },
  {
   "cell_type": "code",
   "execution_count": 11,
   "id": "c5b158c5",
   "metadata": {},
   "outputs": [
    {
     "data": {
      "text/plain": [
       "count    1382.0\n",
       "mean        1.0\n",
       "std         0.0\n",
       "min         1.0\n",
       "25%         1.0\n",
       "50%         1.0\n",
       "75%         1.0\n",
       "max         1.0\n",
       "dtype: float64"
      ]
     },
     "execution_count": 11,
     "metadata": {},
     "output_type": "execute_result"
    }
   ],
   "source": [
    "df.groupby([\"abstract_id\", \"label\"]).size().describe()"
   ]
  },
  {
   "cell_type": "code",
   "execution_count": 12,
   "id": "365400bc",
   "metadata": {},
   "outputs": [
    {
     "data": {
      "text/plain": [
       "label\n",
       "CPR:3       210\n",
       "CPR:4       413\n",
       "CPR:5        56\n",
       "CPR:6        76\n",
       "CPR:9       148\n",
       "NEGATIVE    479\n",
       "dtype: int64"
      ]
     },
     "execution_count": 12,
     "metadata": {},
     "output_type": "execute_result"
    }
   ],
   "source": [
    "df.groupby([\"label\"]).size()"
   ]
  },
  {
   "cell_type": "code",
   "execution_count": 13,
   "id": "8726d861",
   "metadata": {},
   "outputs": [
    {
     "data": {
      "text/html": [
       "<div>\n",
       "<style scoped>\n",
       "    .dataframe tbody tr th:only-of-type {\n",
       "        vertical-align: middle;\n",
       "    }\n",
       "\n",
       "    .dataframe tbody tr th {\n",
       "        vertical-align: top;\n",
       "    }\n",
       "\n",
       "    .dataframe thead th {\n",
       "        text-align: right;\n",
       "    }\n",
       "</style>\n",
       "<table border=\"1\" class=\"dataframe\">\n",
       "  <thead>\n",
       "    <tr style=\"text-align: right;\">\n",
       "      <th></th>\n",
       "      <th>Percentage</th>\n",
       "    </tr>\n",
       "    <tr>\n",
       "      <th>label</th>\n",
       "      <th></th>\n",
       "    </tr>\n",
       "  </thead>\n",
       "  <tbody>\n",
       "    <tr>\n",
       "      <th>CPR:3</th>\n",
       "      <td>15.195369</td>\n",
       "    </tr>\n",
       "    <tr>\n",
       "      <th>CPR:4</th>\n",
       "      <td>29.884226</td>\n",
       "    </tr>\n",
       "    <tr>\n",
       "      <th>CPR:5</th>\n",
       "      <td>4.052098</td>\n",
       "    </tr>\n",
       "    <tr>\n",
       "      <th>CPR:6</th>\n",
       "      <td>5.499276</td>\n",
       "    </tr>\n",
       "    <tr>\n",
       "      <th>CPR:9</th>\n",
       "      <td>10.709117</td>\n",
       "    </tr>\n",
       "    <tr>\n",
       "      <th>NEGATIVE</th>\n",
       "      <td>34.659913</td>\n",
       "    </tr>\n",
       "  </tbody>\n",
       "</table>\n",
       "</div>"
      ],
      "text/plain": [
       "          Percentage\n",
       "label               \n",
       "CPR:3      15.195369\n",
       "CPR:4      29.884226\n",
       "CPR:5       4.052098\n",
       "CPR:6       5.499276\n",
       "CPR:9      10.709117\n",
       "NEGATIVE   34.659913"
      ]
     },
     "execution_count": 13,
     "metadata": {},
     "output_type": "execute_result"
    }
   ],
   "source": [
    "pd.DataFrame({'Percentage': df.groupby([ 'label']).size() * 100 / len(df)})"
   ]
  },
  {
   "cell_type": "code",
   "execution_count": 14,
   "id": "681ad823",
   "metadata": {},
   "outputs": [
    {
     "data": {
      "text/plain": [
       "(1382, 11)"
      ]
     },
     "execution_count": 14,
     "metadata": {},
     "output_type": "execute_result"
    }
   ],
   "source": [
    "df.shape"
   ]
  },
  {
   "cell_type": "code",
   "execution_count": 15,
   "id": "0814efb6",
   "metadata": {},
   "outputs": [],
   "source": [
    "def upload_to_s3(df, s3_uri):\n",
    "    json_data = io.StringIO() \n",
    "    df.to_json( json_data )\n",
    "\n",
    "\n",
    "    sagemaker.s3.S3Uploader.upload_string_as_file_body(json_data.getvalue(), s3_uri)"
   ]
  },
  {
   "cell_type": "code",
   "execution_count": 16,
   "id": "0bea725b",
   "metadata": {},
   "outputs": [],
   "source": [
    "import numpy as np\n",
    "\n",
    "def get_stats(df, pos_label):\n",
    "    stats ={}\n",
    "    \n",
    "    # Positive samples\n",
    "    df_positive = df.query(f\"label == '{pos_label}'\")\n",
    "    df_positive_unique = df_positive.drop_duplicates('abstract_id')\n",
    "    stats[\"UniquePositives\"] = len(df_positive_unique)\n",
    "    stats[\"AllPositives\"] = len(df_positive)\n",
    "    stats[\"AffablePositives\"] = len(df_positive) - len(df_positive_unique)\n",
    "    stats[\"AffablePositiveRate\"] = stats[\"AffablePositives\"]/len(df_positive)\n",
    "\n",
    "\n",
    "\n",
    "    stats[\"UniquePositiveSampleRate\"] = stats[\"UniquePositives\"]/(len(df))\n",
    "    stats[\"PositiveSampleRate\"] = stats[\"AllPositives\"]/(len(df))\n",
    "    \n",
    "    \n",
    "    # Negative samples\n",
    "    df_negative = df.query(f\"label != '{pos_label}'\")\n",
    "    df_negative_unique = df_negative.drop_duplicates('abstract_id')\n",
    "\n",
    "\n",
    "    stats[\"UniqueNegatives\"] = len(df_negative_unique)\n",
    "    stats[\"AllNegatives\"] = len(df_negative)\n",
    "    stats[\"AffableNegatives\"] = len(df_negative) - len(df_negative_unique)\n",
    "    stats[\"AffableNegativeRate\"] = stats[\"AffableNegatives\"]/stats[\"AllNegatives\"] \n",
    "\n",
    "\n",
    "    \n",
    "    # Abstract ids with corresponding positive samples\n",
    "    abstracts_id_with_positive = df[\"abstract_id\"].isin( df.query(f\"label == '{pos_label}'\")[\"abstract_id\"])\n",
    "    \n",
    "    # Non-Adversarial Negative: Unique negative samples unrelated to positive samples\n",
    "    df_negative_non_adverseries = df[~abstracts_id_with_positive]\n",
    "    df_negative_non_adverseries_unique =df_negative_non_adverseries.drop_duplicates('abstract_id')\n",
    "    stats[\"UniqueNonAdversarialNegatives\"] = len(df_negative_non_adverseries_unique)\n",
    "    stats[\"AllNonAdversarialNegatives\"] = len(df_negative_non_adverseries)\n",
    "\n",
    "    # Adversarial  Negative: Unique negative samples with matching positive samples\n",
    "    df_negative_adverseries = df[abstracts_id_with_positive].query(f\"label != '{pos_label}'\")\n",
    "    df_negative_adverseries_unique = df_negative_adverseries.drop_duplicates('abstract_id')\n",
    "    stats[\"UniqueAdversarialNegatives\"] = len(df_negative_adverseries_unique)\n",
    "    stats[\"AllAdversarialNegatives\"] = len(df_negative_adverseries)\n",
    "    \n",
    "    # TODO: Check if unique positive is appropriate\n",
    "    stats[\"AdversarialRate\"] = stats[\"AllAdversarialNegatives\"]/len(df_positive)\n",
    "    stats[\"UniqueAdversarialRate\"] = stats[\"UniqueAdversarialNegatives\"]/len(df_positive)\n",
    "\n",
    "\n",
    "    stats[\"TotalSize\"] = len(df)\n",
    "    stats[\"UniqueAbstracts\"] = df[\"abstract\"].nunique()\n",
    "\n",
    "\n",
    "    return stats\n",
    "\n",
    "\n",
    "\n",
    "\n"
   ]
  },
  {
   "cell_type": "code",
   "execution_count": 17,
   "id": "3c46e410",
   "metadata": {},
   "outputs": [],
   "source": [
    "upload_to_s3(df, f\"{output_data}/chemprot_abstract_train.json\")"
   ]
  },
  {
   "cell_type": "code",
   "execution_count": 18,
   "id": "7cd93d00",
   "metadata": {},
   "outputs": [
    {
     "data": {
      "text/plain": [
       "'s3://aegovan-data/chemprot_minimal/202212161734'"
      ]
     },
     "execution_count": 18,
     "metadata": {},
     "output_type": "execute_result"
    }
   ],
   "source": [
    "output_data"
   ]
  }
 ],
 "metadata": {
  "kernelspec": {
   "display_name": "Python 3 (ipykernel)",
   "language": "python",
   "name": "python3"
  },
  "language_info": {
   "codemirror_mode": {
    "name": "ipython",
    "version": 3
   },
   "file_extension": ".py",
   "mimetype": "text/x-python",
   "name": "python",
   "nbconvert_exporter": "python",
   "pygments_lexer": "ipython3",
   "version": "3.7.9"
  }
 },
 "nbformat": 4,
 "nbformat_minor": 5
}
