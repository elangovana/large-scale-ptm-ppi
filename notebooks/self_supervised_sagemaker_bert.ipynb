{
 "cells": [
  {
   "cell_type": "markdown",
   "metadata": {},
   "source": [
    "# Train self supervised bert"
   ]
  },
  {
   "cell_type": "markdown",
   "metadata": {},
   "source": [
    "### Set up"
   ]
  },
  {
   "cell_type": "markdown",
   "metadata": {},
   "source": [
    "#### 1. Set  up  accounts and role"
   ]
  },
  {
   "cell_type": "code",
   "execution_count": 1,
   "metadata": {
    "pycharm": {
     "is_executing": true
    }
   },
   "outputs": [],
   "source": [
    "import sagemaker\n",
    "import boto3\n",
    "from uuid import uuid4\n",
    "\n",
    "sagemaker_session = sagemaker.Session()\n",
    "account_id =  boto3.client('sts').get_caller_identity().get('Account')\n",
    "region = boto3.session.Session().region_name\n",
    "\n",
    "\n",
    "#role = sagemaker.get_execution_role()\n",
    "role=\"arn:aws:iam::{}:role/service-role/AmazonSageMaker-ExecutionRole-20190118T115449\".format(account_id)\n",
    "step_func_role = \"arn:aws:iam::{}:role/AmazonSageMaker-StepFunctionsWorkflowExecutionRole\".format(account_id)\n",
    "\n",
    "\n",
    "max_runs=1"
   ]
  },
  {
   "cell_type": "markdown",
   "metadata": {},
   "source": [
    "#### 2. Setup image and instance type"
   ]
  },
  {
   "cell_type": "code",
   "execution_count": 2,
   "metadata": {},
   "outputs": [],
   "source": [
    "# pytorch_custom_image_name=\"ppi-extractor:gpu-1.0.0-201910130520\"\n",
    "instance_type = \"ml.p3.2xlarge\"\n",
    "instance_type_gpu_map = {\"ml.p3.8xlarge\":4, \"ml.p3.2xlarge\": 1, \"ml.p3.16xlarge\":8}"
   ]
  },
  {
   "cell_type": "code",
   "execution_count": 3,
   "metadata": {},
   "outputs": [],
   "source": [
    "# docker_repo = \"{}.dkr.ecr.{}.amazonaws.com/{}\".format(account_id, region, pytorch_custom_image_name)"
   ]
  },
  {
   "cell_type": "markdown",
   "metadata": {},
   "source": [
    "#### 3. Configure train/ test and validation datasets"
   ]
  },
  {
   "cell_type": "code",
   "execution_count": 4,
   "metadata": {},
   "outputs": [],
   "source": [
    "bucket = \"aegovan-data\""
   ]
  },
  {
   "cell_type": "code",
   "execution_count": 5,
   "metadata": {},
   "outputs": [],
   "source": [
    "pretrained_bert=\"s3://{}/embeddings/bert/\".format(bucket)\n",
    "\n",
    "\n",
    "s3_output_path= \"s3://{}/selfsupervised_results/\".format(bucket)\n",
    "s3_code_path= \"s3://{}/selfsupervised_code\".format(bucket)\n",
    "s3_checkpoint = \"s3://{}/selfsupervised_bert_checkpoint/{}\".format(bucket, str(uuid4()))"
   ]
  },
  {
   "cell_type": "code",
   "execution_count": 6,
   "metadata": {},
   "outputs": [],
   "source": [
    "fake_prefix = \"s3://{}/self-supervised-fake/\".format(bucket)\n",
    "\n",
    "real_prefix = \"s3://{}/self-supervised-real/\".format(bucket)\n",
    "\n",
    "#fake_prefix=\"s3://aegovan-data/self-supervised-fake-fixed-size/202211232148/\"\n",
    "#fake_prefix = \"s3://aegovan-data/self-supervised-fake-fixed-size/202212091954/affable/\"\n",
    "\n",
    "# fake_prefix = \"s3://aegovan-data/self-supervised-fake-fixed-size/202212112044/affablepositives/\"\n",
    "# val =  \"s3://aegovan-data/self-supervised-fake-fixed-size/202212112044/val.json\"\n",
    "\n",
    "fake_prefix = \"s3://aegovan-data/self-supervised-fake-vary-size/202212231927/affablesposnegs\"\n",
    "val =  \"s3://aegovan-data/self-supervised-fake-vary-size/202212161212/val.json\""
   ]
  },
  {
   "cell_type": "markdown",
   "metadata": {},
   "source": [
    "### Start training"
   ]
  },
  {
   "cell_type": "code",
   "execution_count": 7,
   "metadata": {},
   "outputs": [],
   "source": [
    "commit_id = \"a6211b46f5940b9ac48fd3bde9274734ec3605a5\""
   ]
  },
  {
   "cell_type": "code",
   "execution_count": 8,
   "metadata": {},
   "outputs": [],
   "source": [
    "sm_localcheckpoint_dir=\"/opt/ml/checkpoints/\""
   ]
  },
  {
   "cell_type": "code",
   "execution_count": 9,
   "metadata": {},
   "outputs": [],
   "source": [
    "BertNetworkFactoryhyperparameters = {\n",
    "    \"datasetfactory\":\"datasets.chemprot_selfsupervised_dataset_factory.ChemprotSelfsupervisedDatasetFactory\",\n",
    "    \"modelfactory\" :\"models.bert_model_factory.BertModelFactory\",\n",
    "    \"tokenisor_lower_case\":0,\n",
    "    \"uselosseval\":1,\n",
    "    \"batch\": \"8\" * instance_type_gpu_map[instance_type],\n",
    "    \"gradientaccumulationsteps\" : \"8\",\n",
    "    # \"protein_name_replacer_random_seed\":42,\n",
    "    \"epochs\" : \"200\",   \n",
    "    \"log-level\" : \"INFO\",\n",
    "    \"learningrate\":.00001,\n",
    "    \"earlystoppingpatience\":50,\n",
    "    \"checkpointdir\" : sm_localcheckpoint_dir,\n",
    "    # Checkpoints once every n epochs\n",
    "    \"checkpointfreq\": 2,\n",
    "    \"weight_decay\":0.01,\n",
    "    \"commit_id\" : commit_id\n",
    "}"
   ]
  },
  {
   "cell_type": "code",
   "execution_count": 10,
   "metadata": {},
   "outputs": [],
   "source": [
    "BertNetworkFactoryhyperparameters_max_f1 = BertNetworkFactoryhyperparameters.copy()\n",
    "BertNetworkFactoryhyperparameters_max_f1[\"uselosseval\"] = 0"
   ]
  },
  {
   "cell_type": "code",
   "execution_count": 11,
   "metadata": {},
   "outputs": [],
   "source": [
    "metric_definitions = [{\"Name\": \"TrainLoss\",\n",
    "                     \"Regex\": \"###score: train_loss### (\\d*[.]?\\d*)\"}\n",
    "                    ,{\"Name\": \"ValidationLoss\",\n",
    "                     \"Regex\": \"###score: val_loss### (\\d*[.]?\\d*)\"}\n",
    "                \n",
    "                     ,{\"Name\": \"TrainF1BinaryScore\",\n",
    "                     \"Regex\": \"###score: train_ResultScorerF1Binary_score### (\\d*[.]?\\d*)\"}\n",
    "                   ,{\"Name\": \"ValidationF1BinaryScore\",\n",
    "                     \"Regex\": \"###score: val_ResultScorerF1Binary_score### (\\d*[.]?\\d*)\"}\n",
    "                    ]"
   ]
  },
  {
   "cell_type": "code",
   "execution_count": 12,
   "metadata": {},
   "outputs": [
    {
     "name": "stdout",
     "output_type": "stream",
     "text": [
      "commit 439eee069ada78938da34a7808ac240498e94912\n",
      "    Add affables and adversaries with increasing training size\n"
     ]
    }
   ],
   "source": [
    "!git log -1 | head -1\n",
    "!git log -1 | head -5 | tail -1"
   ]
  },
  {
   "cell_type": "code",
   "execution_count": 13,
   "metadata": {},
   "outputs": [],
   "source": [
    "# set True if you need spot instance\n",
    "use_spot = False\n",
    "train_max_run_secs =   5 *24 * 60 * 60\n",
    "spot_wait_sec =  5 * 60\n",
    "max_wait_time_secs = train_max_run_secs +  spot_wait_sec\n",
    "\n",
    "if not use_spot:\n",
    "    max_wait_time_secs = None\n",
    "    \n",
    "# During local mode, no spot.., use smaller dataset\n",
    "if instance_type == 'local':\n",
    "    use_spot = False\n",
    "    max_wait_time_secs = 0\n",
    "    wait = True\n",
    "    # Use smaller dataset to run locally\n",
    "    # TODO:\n",
    "    #  inputs = inputs_sample"
   ]
  },
  {
   "cell_type": "code",
   "execution_count": 14,
   "metadata": {},
   "outputs": [],
   "source": [
    "def create_hp(fake_prefix, val, job_name_prefix=\"fake\"):\n",
    "    from sagemaker.s3 import S3Downloader\n",
    "    train_files = sorted(list(  filter( lambda x: x.endswith(\"json\") and \"train\" in x,\n",
    "                                            S3Downloader.list(fake_prefix))\n",
    "                                    ), reverse=True)\n",
    "    \n",
    "    \n",
    "                   \n",
    "    \n",
    "    fake_experiments = {}\n",
    "    \n",
    "    \n",
    "    for f in train_files:\n",
    "        base_name = f.split(\"/\")[-1].replace(\"train_\",\"\").replace(\".json\",\"\")\n",
    "\n",
    "        fake_experiments[f\"selfsup-{job_name_prefix}-{base_name}-bert-f1\"] = {\n",
    "            \"hp\" :BertNetworkFactoryhyperparameters_max_f1,\n",
    "            \"inputs\" :  {\n",
    "                    \"train\" : f\"{f}\",\n",
    "                    \"val\" : f\"{val}\",\n",
    "                    \"PRETRAINED_MODEL\" : pretrained_bert\n",
    "                }\n",
    "            }\n",
    "\n",
    "            \n",
    "    return fake_experiments\n",
    "\n",
    "\n",
    "fake_experiments_hp = create_hp(fake_prefix, val, fake_prefix.rstrip(\"/\").split(\"/\")[-1] )\n",
    "real_experiments_hp = create_hp(real_prefix, val, \"real\")"
   ]
  },
  {
   "cell_type": "code",
   "execution_count": 15,
   "metadata": {},
   "outputs": [],
   "source": [
    "\n",
    "\n",
    "experiments = {**fake_experiments_hp, **real_experiments_hp}"
   ]
  },
  {
   "cell_type": "code",
   "execution_count": 16,
   "metadata": {},
   "outputs": [],
   "source": [
    "import datetime\n",
    "date_fmt = datetime.datetime.today().strftime(\"%Y%m%d%H%M\")"
   ]
  },
  {
   "cell_type": "code",
   "execution_count": 17,
   "metadata": {},
   "outputs": [
    {
     "name": "stdout",
     "output_type": "stream",
     "text": [
      "Running selfsup-affablesposnegs-8000_2000_6000-bert-f1\n",
      "Running selfsup-affablesposnegs-6000_1500_4000-bert-f1\n",
      "Running selfsup-affablesposnegs-4000_1000_2000-bert-f1\n",
      "Running selfsup-affablesposnegs-2000_500_0-bert-f1\n",
      "Running selfsup-affablesposnegs-10000_2500_8000-bert-f1\n"
     ]
    }
   ],
   "source": [
    "from sagemaker.pytorch import PyTorch\n",
    "from stepfunctions.steps import *\n",
    "from stepfunctions.workflow import Workflow\n",
    "import random\n",
    "\n",
    "train_steps = []\n",
    "variations = 5\n",
    "for n,e in filter(lambda x: True  ,fake_experiments_hp.items()):\n",
    "    print(f\"Running {n}\")\n",
    "    for i in range(variations):\n",
    "\n",
    "\n",
    "        job_name = n.replace(\"_\",\"-\")+ f\"-{i:02d}-\" + date_fmt\n",
    "\n",
    "\n",
    "\n",
    "        estimator = PyTorch(\n",
    "          entry_point='main_train_pipeline.py',\n",
    "                            source_dir = '../src',\n",
    "                            dependencies =['../src/datasets', '../src/models','../src/utils', '../src/scorers'],\n",
    "                             # git_config= git_config,\n",
    "        #                     image_name= docker_repo,\n",
    "                            role=role,\n",
    "                            framework_version =\"1.4.0\",\n",
    "                            py_version='py3',\n",
    "                            instance_count=1,\n",
    "                            instance_type=instance_type,\n",
    "                            hyperparameters = e[\"hp\"],\n",
    "                            output_path=s3_output_path,\n",
    "                            metric_definitions=metric_definitions,\n",
    "                            volume_size=30,\n",
    "                            code_location=s3_code_path,\n",
    "                            debugger_hook_config=False,\n",
    "                            base_job_name =n.replace(\"_\", \"-\"),  \n",
    "                            use_spot_instances = use_spot,\n",
    "                            max_run =  train_max_run_secs,\n",
    "                            max_wait = max_wait_time_secs,   \n",
    "                            # checkpoint_s3_uri=s3_checkpoint,\n",
    "                            # checkpoint_local_path=sm_localcheckpoint_dir\n",
    "        )\n",
    "\n",
    "\n",
    "    \n",
    "        # Job\n",
    "        step_train = sagemaker.TrainingStep( f\"Train-{job_name}\", \n",
    "                                                       estimator, \n",
    "                                                       job_name, \n",
    "                                                       data=e[\"inputs\"])\n",
    "\n",
    "        train_steps.append(step_train)\n",
    "\n",
    "\n",
    "\n",
    "\n",
    "parallel_steps = []\n",
    "max_parallel = 5\n",
    "for i in range(0, len(train_steps), max_parallel):\n",
    "    p = states.Parallel(f\"train-p-{i}\")\n",
    "    for pi, s in enumerate(train_steps[i: i+max_parallel]):\n",
    "        w = (pi+1)*30\n",
    "        p.add_branch(Chain([states.Wait(f\"wait-{i}-{w}\", seconds=w) , s]))\n",
    "    parallel_steps.append(p)\n",
    "\n",
    "    \n",
    "basic_path = Chain(parallel_steps)\n",
    "\n",
    "basic_workflow = Workflow(\n",
    "    name=f\"selfsup-aff-train-{date_fmt}\", definition=basic_path, role=step_func_role\n",
    ")\n",
    "\n"
   ]
  },
  {
   "cell_type": "code",
   "execution_count": 18,
   "metadata": {},
   "outputs": [
    {
     "data": {
      "text/html": [
       "\n",
       "<link rel=\"stylesheet\" type=\"text/css\" href=\"https://do0of8uwbahzz.cloudfront.net/graph.css\">\n",
       "<div id=\"graph-696\" class=\"workflowgraph\">\n",
       "    \n",
       "    <svg></svg>\n",
       "    \n",
       "</div>\n",
       "\n",
       "<script type=\"text/javascript\">\n",
       "\n",
       "require.config({\n",
       "    paths: {\n",
       "        sfn: \"https://do0of8uwbahzz.cloudfront.net/sfn\",\n",
       "    }\n",
       "});\n",
       "\n",
       "require(['sfn'], function(sfn) {\n",
       "    var element = document.getElementById('graph-696')\n",
       "\n",
       "    var options = {\n",
       "        width: parseFloat(getComputedStyle(element, null).width.replace(\"px\", \"\")),\n",
       "        height: 600,\n",
       "        layout: 'LR',\n",
       "        resizeHeight: true\n",
       "    };\n",
       "\n",
       "    var definition = {\"StartAt\": \"train-p-0\", \"States\": {\"train-p-0\": {\"Type\": \"Parallel\", \"Next\": \"train-p-5\", \"Branches\": [{\"StartAt\": \"wait-0-30\", \"States\": {\"wait-0-30\": {\"Seconds\": 30, \"Type\": \"Wait\", \"Next\": \"Train-selfsup-affablesposnegs-8000-2000-6000-bert-f1-00-202212231935\"}, \"Train-selfsup-affablesposnegs-8000-2000-6000-bert-f1-00-202212231935\": {\"Resource\": \"arn:aws:states:::sagemaker:createTrainingJob.sync\", \"Parameters\": {\"AlgorithmSpecification\": {\"TrainingImage\": \"763104351884.dkr.ecr.us-east-2.amazonaws.com/pytorch-training:1.4.0-gpu-py3\", \"TrainingInputMode\": \"File\", \"MetricDefinitions\": [{\"Name\": \"TrainLoss\", \"Regex\": \"###score: train_loss### (\\\\d*[.]?\\\\d*)\"}, {\"Name\": \"ValidationLoss\", \"Regex\": \"###score: val_loss### (\\\\d*[.]?\\\\d*)\"}, {\"Name\": \"TrainF1BinaryScore\", \"Regex\": \"###score: train_ResultScorerF1Binary_score### (\\\\d*[.]?\\\\d*)\"}, {\"Name\": \"ValidationF1BinaryScore\", \"Regex\": \"###score: val_ResultScorerF1Binary_score### (\\\\d*[.]?\\\\d*)\"}]}, \"OutputDataConfig\": {\"S3OutputPath\": \"s3://aegovan-data/selfsupervised_results/\"}, \"StoppingCondition\": {\"MaxRuntimeInSeconds\": 432000}, \"ResourceConfig\": {\"VolumeSizeInGB\": 30, \"InstanceCount\": 1, \"InstanceType\": \"ml.p3.2xlarge\"}, \"RoleArn\": \"arn:aws:iam::324346001917:role/service-role/AmazonSageMaker-ExecutionRole-20190118T115449\", \"InputDataConfig\": [{\"DataSource\": {\"S3DataSource\": {\"S3DataType\": \"S3Prefix\", \"S3Uri\": \"s3://aegovan-data/self-supervised-fake-vary-size/202212231927/affablesposnegs/train_8000_2000_6000.json\", \"S3DataDistributionType\": \"FullyReplicated\"}}, \"ChannelName\": \"train\"}, {\"DataSource\": {\"S3DataSource\": {\"S3DataType\": \"S3Prefix\", \"S3Uri\": \"s3://aegovan-data/self-supervised-fake-vary-size/202212161212/val.json\", \"S3DataDistributionType\": \"FullyReplicated\"}}, \"ChannelName\": \"val\"}, {\"DataSource\": {\"S3DataSource\": {\"S3DataType\": \"S3Prefix\", \"S3Uri\": \"s3://aegovan-data/embeddings/bert/\", \"S3DataDistributionType\": \"FullyReplicated\"}}, \"ChannelName\": \"PRETRAINED_MODEL\"}], \"HyperParameters\": {\"datasetfactory\": \"\\\"datasets.chemprot_selfsupervised_dataset_factory.ChemprotSelfsupervisedDatasetFactory\\\"\", \"modelfactory\": \"\\\"models.bert_model_factory.BertModelFactory\\\"\", \"tokenisor_lower_case\": \"0\", \"uselosseval\": \"0\", \"batch\": \"\\\"8\\\"\", \"gradientaccumulationsteps\": \"\\\"8\\\"\", \"epochs\": \"\\\"200\\\"\", \"log-level\": \"\\\"INFO\\\"\", \"learningrate\": \"1e-05\", \"earlystoppingpatience\": \"50\", \"checkpointdir\": \"\\\"/opt/ml/checkpoints/\\\"\", \"checkpointfreq\": \"2\", \"weight_decay\": \"0.01\", \"commit_id\": \"\\\"a6211b46f5940b9ac48fd3bde9274734ec3605a5\\\"\", \"sagemaker_submit_directory\": \"\\\"s3://aegovan-data/selfsupervised_code/selfsup-affablesposnegs-8000-2000-6000-bert-f1-00-202212231935/source/sourcedir.tar.gz\\\"\", \"sagemaker_program\": \"\\\"main_train_pipeline.py\\\"\", \"sagemaker_container_log_level\": \"20\", \"sagemaker_job_name\": \"\\\"selfsup-affablesposnegs-8000-2000-6000-bert-f1-00-202212231935\\\"\", \"sagemaker_region\": \"\\\"us-east-2\\\"\"}, \"TrainingJobName\": \"selfsup-affablesposnegs-8000-2000-6000-bert-f1-00-202212231935\"}, \"Type\": \"Task\", \"End\": true}}}, {\"StartAt\": \"wait-0-60\", \"States\": {\"wait-0-60\": {\"Seconds\": 60, \"Type\": \"Wait\", \"Next\": \"Train-selfsup-affablesposnegs-8000-2000-6000-bert-f1-01-202212231935\"}, \"Train-selfsup-affablesposnegs-8000-2000-6000-bert-f1-01-202212231935\": {\"Resource\": \"arn:aws:states:::sagemaker:createTrainingJob.sync\", \"Parameters\": {\"AlgorithmSpecification\": {\"TrainingImage\": \"763104351884.dkr.ecr.us-east-2.amazonaws.com/pytorch-training:1.4.0-gpu-py3\", \"TrainingInputMode\": \"File\", \"MetricDefinitions\": [{\"Name\": \"TrainLoss\", \"Regex\": \"###score: train_loss### (\\\\d*[.]?\\\\d*)\"}, {\"Name\": \"ValidationLoss\", \"Regex\": \"###score: val_loss### (\\\\d*[.]?\\\\d*)\"}, {\"Name\": \"TrainF1BinaryScore\", \"Regex\": \"###score: train_ResultScorerF1Binary_score### (\\\\d*[.]?\\\\d*)\"}, {\"Name\": \"ValidationF1BinaryScore\", \"Regex\": \"###score: val_ResultScorerF1Binary_score### (\\\\d*[.]?\\\\d*)\"}]}, \"OutputDataConfig\": {\"S3OutputPath\": \"s3://aegovan-data/selfsupervised_results/\"}, \"StoppingCondition\": {\"MaxRuntimeInSeconds\": 432000}, \"ResourceConfig\": {\"VolumeSizeInGB\": 30, \"InstanceCount\": 1, \"InstanceType\": \"ml.p3.2xlarge\"}, \"RoleArn\": \"arn:aws:iam::324346001917:role/service-role/AmazonSageMaker-ExecutionRole-20190118T115449\", \"InputDataConfig\": [{\"DataSource\": {\"S3DataSource\": {\"S3DataType\": \"S3Prefix\", \"S3Uri\": \"s3://aegovan-data/self-supervised-fake-vary-size/202212231927/affablesposnegs/train_8000_2000_6000.json\", \"S3DataDistributionType\": \"FullyReplicated\"}}, \"ChannelName\": \"train\"}, {\"DataSource\": {\"S3DataSource\": {\"S3DataType\": \"S3Prefix\", \"S3Uri\": \"s3://aegovan-data/self-supervised-fake-vary-size/202212161212/val.json\", \"S3DataDistributionType\": \"FullyReplicated\"}}, \"ChannelName\": \"val\"}, {\"DataSource\": {\"S3DataSource\": {\"S3DataType\": \"S3Prefix\", \"S3Uri\": \"s3://aegovan-data/embeddings/bert/\", \"S3DataDistributionType\": \"FullyReplicated\"}}, \"ChannelName\": \"PRETRAINED_MODEL\"}], \"HyperParameters\": {\"datasetfactory\": \"\\\"datasets.chemprot_selfsupervised_dataset_factory.ChemprotSelfsupervisedDatasetFactory\\\"\", \"modelfactory\": \"\\\"models.bert_model_factory.BertModelFactory\\\"\", \"tokenisor_lower_case\": \"0\", \"uselosseval\": \"0\", \"batch\": \"\\\"8\\\"\", \"gradientaccumulationsteps\": \"\\\"8\\\"\", \"epochs\": \"\\\"200\\\"\", \"log-level\": \"\\\"INFO\\\"\", \"learningrate\": \"1e-05\", \"earlystoppingpatience\": \"50\", \"checkpointdir\": \"\\\"/opt/ml/checkpoints/\\\"\", \"checkpointfreq\": \"2\", \"weight_decay\": \"0.01\", \"commit_id\": \"\\\"a6211b46f5940b9ac48fd3bde9274734ec3605a5\\\"\", \"sagemaker_submit_directory\": \"\\\"s3://aegovan-data/selfsupervised_code/selfsup-affablesposnegs-8000-2000-6000-bert-f1-01-202212231935/source/sourcedir.tar.gz\\\"\", \"sagemaker_program\": \"\\\"main_train_pipeline.py\\\"\", \"sagemaker_container_log_level\": \"20\", \"sagemaker_job_name\": \"\\\"selfsup-affablesposnegs-8000-2000-6000-bert-f1-01-202212231935\\\"\", \"sagemaker_region\": \"\\\"us-east-2\\\"\"}, \"TrainingJobName\": \"selfsup-affablesposnegs-8000-2000-6000-bert-f1-01-202212231935\"}, \"Type\": \"Task\", \"End\": true}}}, {\"StartAt\": \"wait-0-90\", \"States\": {\"wait-0-90\": {\"Seconds\": 90, \"Type\": \"Wait\", \"Next\": \"Train-selfsup-affablesposnegs-8000-2000-6000-bert-f1-02-202212231935\"}, \"Train-selfsup-affablesposnegs-8000-2000-6000-bert-f1-02-202212231935\": {\"Resource\": \"arn:aws:states:::sagemaker:createTrainingJob.sync\", \"Parameters\": {\"AlgorithmSpecification\": {\"TrainingImage\": \"763104351884.dkr.ecr.us-east-2.amazonaws.com/pytorch-training:1.4.0-gpu-py3\", \"TrainingInputMode\": \"File\", \"MetricDefinitions\": [{\"Name\": \"TrainLoss\", \"Regex\": \"###score: train_loss### (\\\\d*[.]?\\\\d*)\"}, {\"Name\": \"ValidationLoss\", \"Regex\": \"###score: val_loss### (\\\\d*[.]?\\\\d*)\"}, {\"Name\": \"TrainF1BinaryScore\", \"Regex\": \"###score: train_ResultScorerF1Binary_score### (\\\\d*[.]?\\\\d*)\"}, {\"Name\": \"ValidationF1BinaryScore\", \"Regex\": \"###score: val_ResultScorerF1Binary_score### (\\\\d*[.]?\\\\d*)\"}]}, \"OutputDataConfig\": {\"S3OutputPath\": \"s3://aegovan-data/selfsupervised_results/\"}, \"StoppingCondition\": {\"MaxRuntimeInSeconds\": 432000}, \"ResourceConfig\": {\"VolumeSizeInGB\": 30, \"InstanceCount\": 1, \"InstanceType\": \"ml.p3.2xlarge\"}, \"RoleArn\": \"arn:aws:iam::324346001917:role/service-role/AmazonSageMaker-ExecutionRole-20190118T115449\", \"InputDataConfig\": [{\"DataSource\": {\"S3DataSource\": {\"S3DataType\": \"S3Prefix\", \"S3Uri\": \"s3://aegovan-data/self-supervised-fake-vary-size/202212231927/affablesposnegs/train_8000_2000_6000.json\", \"S3DataDistributionType\": \"FullyReplicated\"}}, \"ChannelName\": \"train\"}, {\"DataSource\": {\"S3DataSource\": {\"S3DataType\": \"S3Prefix\", \"S3Uri\": \"s3://aegovan-data/self-supervised-fake-vary-size/202212161212/val.json\", \"S3DataDistributionType\": \"FullyReplicated\"}}, \"ChannelName\": \"val\"}, {\"DataSource\": {\"S3DataSource\": {\"S3DataType\": \"S3Prefix\", \"S3Uri\": \"s3://aegovan-data/embeddings/bert/\", \"S3DataDistributionType\": \"FullyReplicated\"}}, \"ChannelName\": \"PRETRAINED_MODEL\"}], \"HyperParameters\": {\"datasetfactory\": \"\\\"datasets.chemprot_selfsupervised_dataset_factory.ChemprotSelfsupervisedDatasetFactory\\\"\", \"modelfactory\": \"\\\"models.bert_model_factory.BertModelFactory\\\"\", \"tokenisor_lower_case\": \"0\", \"uselosseval\": \"0\", \"batch\": \"\\\"8\\\"\", \"gradientaccumulationsteps\": \"\\\"8\\\"\", \"epochs\": \"\\\"200\\\"\", \"log-level\": \"\\\"INFO\\\"\", \"learningrate\": \"1e-05\", \"earlystoppingpatience\": \"50\", \"checkpointdir\": \"\\\"/opt/ml/checkpoints/\\\"\", \"checkpointfreq\": \"2\", \"weight_decay\": \"0.01\", \"commit_id\": \"\\\"a6211b46f5940b9ac48fd3bde9274734ec3605a5\\\"\", \"sagemaker_submit_directory\": \"\\\"s3://aegovan-data/selfsupervised_code/selfsup-affablesposnegs-8000-2000-6000-bert-f1-02-202212231935/source/sourcedir.tar.gz\\\"\", \"sagemaker_program\": \"\\\"main_train_pipeline.py\\\"\", \"sagemaker_container_log_level\": \"20\", \"sagemaker_job_name\": \"\\\"selfsup-affablesposnegs-8000-2000-6000-bert-f1-02-202212231935\\\"\", \"sagemaker_region\": \"\\\"us-east-2\\\"\"}, \"TrainingJobName\": \"selfsup-affablesposnegs-8000-2000-6000-bert-f1-02-202212231935\"}, \"Type\": \"Task\", \"End\": true}}}, {\"StartAt\": \"wait-0-120\", \"States\": {\"wait-0-120\": {\"Seconds\": 120, \"Type\": \"Wait\", \"Next\": \"Train-selfsup-affablesposnegs-8000-2000-6000-bert-f1-03-202212231935\"}, \"Train-selfsup-affablesposnegs-8000-2000-6000-bert-f1-03-202212231935\": {\"Resource\": \"arn:aws:states:::sagemaker:createTrainingJob.sync\", \"Parameters\": {\"AlgorithmSpecification\": {\"TrainingImage\": \"763104351884.dkr.ecr.us-east-2.amazonaws.com/pytorch-training:1.4.0-gpu-py3\", \"TrainingInputMode\": \"File\", \"MetricDefinitions\": [{\"Name\": \"TrainLoss\", \"Regex\": \"###score: train_loss### (\\\\d*[.]?\\\\d*)\"}, {\"Name\": \"ValidationLoss\", \"Regex\": \"###score: val_loss### (\\\\d*[.]?\\\\d*)\"}, {\"Name\": \"TrainF1BinaryScore\", \"Regex\": \"###score: train_ResultScorerF1Binary_score### (\\\\d*[.]?\\\\d*)\"}, {\"Name\": \"ValidationF1BinaryScore\", \"Regex\": \"###score: val_ResultScorerF1Binary_score### (\\\\d*[.]?\\\\d*)\"}]}, \"OutputDataConfig\": {\"S3OutputPath\": \"s3://aegovan-data/selfsupervised_results/\"}, \"StoppingCondition\": {\"MaxRuntimeInSeconds\": 432000}, \"ResourceConfig\": {\"VolumeSizeInGB\": 30, \"InstanceCount\": 1, \"InstanceType\": \"ml.p3.2xlarge\"}, \"RoleArn\": \"arn:aws:iam::324346001917:role/service-role/AmazonSageMaker-ExecutionRole-20190118T115449\", \"InputDataConfig\": [{\"DataSource\": {\"S3DataSource\": {\"S3DataType\": \"S3Prefix\", \"S3Uri\": \"s3://aegovan-data/self-supervised-fake-vary-size/202212231927/affablesposnegs/train_8000_2000_6000.json\", \"S3DataDistributionType\": \"FullyReplicated\"}}, \"ChannelName\": \"train\"}, {\"DataSource\": {\"S3DataSource\": {\"S3DataType\": \"S3Prefix\", \"S3Uri\": \"s3://aegovan-data/self-supervised-fake-vary-size/202212161212/val.json\", \"S3DataDistributionType\": \"FullyReplicated\"}}, \"ChannelName\": \"val\"}, {\"DataSource\": {\"S3DataSource\": {\"S3DataType\": \"S3Prefix\", \"S3Uri\": \"s3://aegovan-data/embeddings/bert/\", \"S3DataDistributionType\": \"FullyReplicated\"}}, \"ChannelName\": \"PRETRAINED_MODEL\"}], \"HyperParameters\": {\"datasetfactory\": \"\\\"datasets.chemprot_selfsupervised_dataset_factory.ChemprotSelfsupervisedDatasetFactory\\\"\", \"modelfactory\": \"\\\"models.bert_model_factory.BertModelFactory\\\"\", \"tokenisor_lower_case\": \"0\", \"uselosseval\": \"0\", \"batch\": \"\\\"8\\\"\", \"gradientaccumulationsteps\": \"\\\"8\\\"\", \"epochs\": \"\\\"200\\\"\", \"log-level\": \"\\\"INFO\\\"\", \"learningrate\": \"1e-05\", \"earlystoppingpatience\": \"50\", \"checkpointdir\": \"\\\"/opt/ml/checkpoints/\\\"\", \"checkpointfreq\": \"2\", \"weight_decay\": \"0.01\", \"commit_id\": \"\\\"a6211b46f5940b9ac48fd3bde9274734ec3605a5\\\"\", \"sagemaker_submit_directory\": \"\\\"s3://aegovan-data/selfsupervised_code/selfsup-affablesposnegs-8000-2000-6000-bert-f1-03-202212231935/source/sourcedir.tar.gz\\\"\", \"sagemaker_program\": \"\\\"main_train_pipeline.py\\\"\", \"sagemaker_container_log_level\": \"20\", \"sagemaker_job_name\": \"\\\"selfsup-affablesposnegs-8000-2000-6000-bert-f1-03-202212231935\\\"\", \"sagemaker_region\": \"\\\"us-east-2\\\"\"}, \"TrainingJobName\": \"selfsup-affablesposnegs-8000-2000-6000-bert-f1-03-202212231935\"}, \"Type\": \"Task\", \"End\": true}}}, {\"StartAt\": \"wait-0-150\", \"States\": {\"wait-0-150\": {\"Seconds\": 150, \"Type\": \"Wait\", \"Next\": \"Train-selfsup-affablesposnegs-8000-2000-6000-bert-f1-04-202212231935\"}, \"Train-selfsup-affablesposnegs-8000-2000-6000-bert-f1-04-202212231935\": {\"Resource\": \"arn:aws:states:::sagemaker:createTrainingJob.sync\", \"Parameters\": {\"AlgorithmSpecification\": {\"TrainingImage\": \"763104351884.dkr.ecr.us-east-2.amazonaws.com/pytorch-training:1.4.0-gpu-py3\", \"TrainingInputMode\": \"File\", \"MetricDefinitions\": [{\"Name\": \"TrainLoss\", \"Regex\": \"###score: train_loss### (\\\\d*[.]?\\\\d*)\"}, {\"Name\": \"ValidationLoss\", \"Regex\": \"###score: val_loss### (\\\\d*[.]?\\\\d*)\"}, {\"Name\": \"TrainF1BinaryScore\", \"Regex\": \"###score: train_ResultScorerF1Binary_score### (\\\\d*[.]?\\\\d*)\"}, {\"Name\": \"ValidationF1BinaryScore\", \"Regex\": \"###score: val_ResultScorerF1Binary_score### (\\\\d*[.]?\\\\d*)\"}]}, \"OutputDataConfig\": {\"S3OutputPath\": \"s3://aegovan-data/selfsupervised_results/\"}, \"StoppingCondition\": {\"MaxRuntimeInSeconds\": 432000}, \"ResourceConfig\": {\"VolumeSizeInGB\": 30, \"InstanceCount\": 1, \"InstanceType\": \"ml.p3.2xlarge\"}, \"RoleArn\": \"arn:aws:iam::324346001917:role/service-role/AmazonSageMaker-ExecutionRole-20190118T115449\", \"InputDataConfig\": [{\"DataSource\": {\"S3DataSource\": {\"S3DataType\": \"S3Prefix\", \"S3Uri\": \"s3://aegovan-data/self-supervised-fake-vary-size/202212231927/affablesposnegs/train_8000_2000_6000.json\", \"S3DataDistributionType\": \"FullyReplicated\"}}, \"ChannelName\": \"train\"}, {\"DataSource\": {\"S3DataSource\": {\"S3DataType\": \"S3Prefix\", \"S3Uri\": \"s3://aegovan-data/self-supervised-fake-vary-size/202212161212/val.json\", \"S3DataDistributionType\": \"FullyReplicated\"}}, \"ChannelName\": \"val\"}, {\"DataSource\": {\"S3DataSource\": {\"S3DataType\": \"S3Prefix\", \"S3Uri\": \"s3://aegovan-data/embeddings/bert/\", \"S3DataDistributionType\": \"FullyReplicated\"}}, \"ChannelName\": \"PRETRAINED_MODEL\"}], \"HyperParameters\": {\"datasetfactory\": \"\\\"datasets.chemprot_selfsupervised_dataset_factory.ChemprotSelfsupervisedDatasetFactory\\\"\", \"modelfactory\": \"\\\"models.bert_model_factory.BertModelFactory\\\"\", \"tokenisor_lower_case\": \"0\", \"uselosseval\": \"0\", \"batch\": \"\\\"8\\\"\", \"gradientaccumulationsteps\": \"\\\"8\\\"\", \"epochs\": \"\\\"200\\\"\", \"log-level\": \"\\\"INFO\\\"\", \"learningrate\": \"1e-05\", \"earlystoppingpatience\": \"50\", \"checkpointdir\": \"\\\"/opt/ml/checkpoints/\\\"\", \"checkpointfreq\": \"2\", \"weight_decay\": \"0.01\", \"commit_id\": \"\\\"a6211b46f5940b9ac48fd3bde9274734ec3605a5\\\"\", \"sagemaker_submit_directory\": \"\\\"s3://aegovan-data/selfsupervised_code/selfsup-affablesposnegs-8000-2000-6000-bert-f1-04-202212231935/source/sourcedir.tar.gz\\\"\", \"sagemaker_program\": \"\\\"main_train_pipeline.py\\\"\", \"sagemaker_container_log_level\": \"20\", \"sagemaker_job_name\": \"\\\"selfsup-affablesposnegs-8000-2000-6000-bert-f1-04-202212231935\\\"\", \"sagemaker_region\": \"\\\"us-east-2\\\"\"}, \"TrainingJobName\": \"selfsup-affablesposnegs-8000-2000-6000-bert-f1-04-202212231935\"}, \"Type\": \"Task\", \"End\": true}}}]}, \"train-p-5\": {\"Type\": \"Parallel\", \"Next\": \"train-p-10\", \"Branches\": [{\"StartAt\": \"wait-5-30\", \"States\": {\"wait-5-30\": {\"Seconds\": 30, \"Type\": \"Wait\", \"Next\": \"Train-selfsup-affablesposnegs-6000-1500-4000-bert-f1-00-202212231935\"}, \"Train-selfsup-affablesposnegs-6000-1500-4000-bert-f1-00-202212231935\": {\"Resource\": \"arn:aws:states:::sagemaker:createTrainingJob.sync\", \"Parameters\": {\"AlgorithmSpecification\": {\"TrainingImage\": \"763104351884.dkr.ecr.us-east-2.amazonaws.com/pytorch-training:1.4.0-gpu-py3\", \"TrainingInputMode\": \"File\", \"MetricDefinitions\": [{\"Name\": \"TrainLoss\", \"Regex\": \"###score: train_loss### (\\\\d*[.]?\\\\d*)\"}, {\"Name\": \"ValidationLoss\", \"Regex\": \"###score: val_loss### (\\\\d*[.]?\\\\d*)\"}, {\"Name\": \"TrainF1BinaryScore\", \"Regex\": \"###score: train_ResultScorerF1Binary_score### (\\\\d*[.]?\\\\d*)\"}, {\"Name\": \"ValidationF1BinaryScore\", \"Regex\": \"###score: val_ResultScorerF1Binary_score### (\\\\d*[.]?\\\\d*)\"}]}, \"OutputDataConfig\": {\"S3OutputPath\": \"s3://aegovan-data/selfsupervised_results/\"}, \"StoppingCondition\": {\"MaxRuntimeInSeconds\": 432000}, \"ResourceConfig\": {\"VolumeSizeInGB\": 30, \"InstanceCount\": 1, \"InstanceType\": \"ml.p3.2xlarge\"}, \"RoleArn\": \"arn:aws:iam::324346001917:role/service-role/AmazonSageMaker-ExecutionRole-20190118T115449\", \"InputDataConfig\": [{\"DataSource\": {\"S3DataSource\": {\"S3DataType\": \"S3Prefix\", \"S3Uri\": \"s3://aegovan-data/self-supervised-fake-vary-size/202212231927/affablesposnegs/train_6000_1500_4000.json\", \"S3DataDistributionType\": \"FullyReplicated\"}}, \"ChannelName\": \"train\"}, {\"DataSource\": {\"S3DataSource\": {\"S3DataType\": \"S3Prefix\", \"S3Uri\": \"s3://aegovan-data/self-supervised-fake-vary-size/202212161212/val.json\", \"S3DataDistributionType\": \"FullyReplicated\"}}, \"ChannelName\": \"val\"}, {\"DataSource\": {\"S3DataSource\": {\"S3DataType\": \"S3Prefix\", \"S3Uri\": \"s3://aegovan-data/embeddings/bert/\", \"S3DataDistributionType\": \"FullyReplicated\"}}, \"ChannelName\": \"PRETRAINED_MODEL\"}], \"HyperParameters\": {\"datasetfactory\": \"\\\"datasets.chemprot_selfsupervised_dataset_factory.ChemprotSelfsupervisedDatasetFactory\\\"\", \"modelfactory\": \"\\\"models.bert_model_factory.BertModelFactory\\\"\", \"tokenisor_lower_case\": \"0\", \"uselosseval\": \"0\", \"batch\": \"\\\"8\\\"\", \"gradientaccumulationsteps\": \"\\\"8\\\"\", \"epochs\": \"\\\"200\\\"\", \"log-level\": \"\\\"INFO\\\"\", \"learningrate\": \"1e-05\", \"earlystoppingpatience\": \"50\", \"checkpointdir\": \"\\\"/opt/ml/checkpoints/\\\"\", \"checkpointfreq\": \"2\", \"weight_decay\": \"0.01\", \"commit_id\": \"\\\"a6211b46f5940b9ac48fd3bde9274734ec3605a5\\\"\", \"sagemaker_submit_directory\": \"\\\"s3://aegovan-data/selfsupervised_code/selfsup-affablesposnegs-6000-1500-4000-bert-f1-00-202212231935/source/sourcedir.tar.gz\\\"\", \"sagemaker_program\": \"\\\"main_train_pipeline.py\\\"\", \"sagemaker_container_log_level\": \"20\", \"sagemaker_job_name\": \"\\\"selfsup-affablesposnegs-6000-1500-4000-bert-f1-00-202212231935\\\"\", \"sagemaker_region\": \"\\\"us-east-2\\\"\"}, \"TrainingJobName\": \"selfsup-affablesposnegs-6000-1500-4000-bert-f1-00-202212231935\"}, \"Type\": \"Task\", \"End\": true}}}, {\"StartAt\": \"wait-5-60\", \"States\": {\"wait-5-60\": {\"Seconds\": 60, \"Type\": \"Wait\", \"Next\": \"Train-selfsup-affablesposnegs-6000-1500-4000-bert-f1-01-202212231935\"}, \"Train-selfsup-affablesposnegs-6000-1500-4000-bert-f1-01-202212231935\": {\"Resource\": \"arn:aws:states:::sagemaker:createTrainingJob.sync\", \"Parameters\": {\"AlgorithmSpecification\": {\"TrainingImage\": \"763104351884.dkr.ecr.us-east-2.amazonaws.com/pytorch-training:1.4.0-gpu-py3\", \"TrainingInputMode\": \"File\", \"MetricDefinitions\": [{\"Name\": \"TrainLoss\", \"Regex\": \"###score: train_loss### (\\\\d*[.]?\\\\d*)\"}, {\"Name\": \"ValidationLoss\", \"Regex\": \"###score: val_loss### (\\\\d*[.]?\\\\d*)\"}, {\"Name\": \"TrainF1BinaryScore\", \"Regex\": \"###score: train_ResultScorerF1Binary_score### (\\\\d*[.]?\\\\d*)\"}, {\"Name\": \"ValidationF1BinaryScore\", \"Regex\": \"###score: val_ResultScorerF1Binary_score### (\\\\d*[.]?\\\\d*)\"}]}, \"OutputDataConfig\": {\"S3OutputPath\": \"s3://aegovan-data/selfsupervised_results/\"}, \"StoppingCondition\": {\"MaxRuntimeInSeconds\": 432000}, \"ResourceConfig\": {\"VolumeSizeInGB\": 30, \"InstanceCount\": 1, \"InstanceType\": \"ml.p3.2xlarge\"}, \"RoleArn\": \"arn:aws:iam::324346001917:role/service-role/AmazonSageMaker-ExecutionRole-20190118T115449\", \"InputDataConfig\": [{\"DataSource\": {\"S3DataSource\": {\"S3DataType\": \"S3Prefix\", \"S3Uri\": \"s3://aegovan-data/self-supervised-fake-vary-size/202212231927/affablesposnegs/train_6000_1500_4000.json\", \"S3DataDistributionType\": \"FullyReplicated\"}}, \"ChannelName\": \"train\"}, {\"DataSource\": {\"S3DataSource\": {\"S3DataType\": \"S3Prefix\", \"S3Uri\": \"s3://aegovan-data/self-supervised-fake-vary-size/202212161212/val.json\", \"S3DataDistributionType\": \"FullyReplicated\"}}, \"ChannelName\": \"val\"}, {\"DataSource\": {\"S3DataSource\": {\"S3DataType\": \"S3Prefix\", \"S3Uri\": \"s3://aegovan-data/embeddings/bert/\", \"S3DataDistributionType\": \"FullyReplicated\"}}, \"ChannelName\": \"PRETRAINED_MODEL\"}], \"HyperParameters\": {\"datasetfactory\": \"\\\"datasets.chemprot_selfsupervised_dataset_factory.ChemprotSelfsupervisedDatasetFactory\\\"\", \"modelfactory\": \"\\\"models.bert_model_factory.BertModelFactory\\\"\", \"tokenisor_lower_case\": \"0\", \"uselosseval\": \"0\", \"batch\": \"\\\"8\\\"\", \"gradientaccumulationsteps\": \"\\\"8\\\"\", \"epochs\": \"\\\"200\\\"\", \"log-level\": \"\\\"INFO\\\"\", \"learningrate\": \"1e-05\", \"earlystoppingpatience\": \"50\", \"checkpointdir\": \"\\\"/opt/ml/checkpoints/\\\"\", \"checkpointfreq\": \"2\", \"weight_decay\": \"0.01\", \"commit_id\": \"\\\"a6211b46f5940b9ac48fd3bde9274734ec3605a5\\\"\", \"sagemaker_submit_directory\": \"\\\"s3://aegovan-data/selfsupervised_code/selfsup-affablesposnegs-6000-1500-4000-bert-f1-01-202212231935/source/sourcedir.tar.gz\\\"\", \"sagemaker_program\": \"\\\"main_train_pipeline.py\\\"\", \"sagemaker_container_log_level\": \"20\", \"sagemaker_job_name\": \"\\\"selfsup-affablesposnegs-6000-1500-4000-bert-f1-01-202212231935\\\"\", \"sagemaker_region\": \"\\\"us-east-2\\\"\"}, \"TrainingJobName\": \"selfsup-affablesposnegs-6000-1500-4000-bert-f1-01-202212231935\"}, \"Type\": \"Task\", \"End\": true}}}, {\"StartAt\": \"wait-5-90\", \"States\": {\"wait-5-90\": {\"Seconds\": 90, \"Type\": \"Wait\", \"Next\": \"Train-selfsup-affablesposnegs-6000-1500-4000-bert-f1-02-202212231935\"}, \"Train-selfsup-affablesposnegs-6000-1500-4000-bert-f1-02-202212231935\": {\"Resource\": \"arn:aws:states:::sagemaker:createTrainingJob.sync\", \"Parameters\": {\"AlgorithmSpecification\": {\"TrainingImage\": \"763104351884.dkr.ecr.us-east-2.amazonaws.com/pytorch-training:1.4.0-gpu-py3\", \"TrainingInputMode\": \"File\", \"MetricDefinitions\": [{\"Name\": \"TrainLoss\", \"Regex\": \"###score: train_loss### (\\\\d*[.]?\\\\d*)\"}, {\"Name\": \"ValidationLoss\", \"Regex\": \"###score: val_loss### (\\\\d*[.]?\\\\d*)\"}, {\"Name\": \"TrainF1BinaryScore\", \"Regex\": \"###score: train_ResultScorerF1Binary_score### (\\\\d*[.]?\\\\d*)\"}, {\"Name\": \"ValidationF1BinaryScore\", \"Regex\": \"###score: val_ResultScorerF1Binary_score### (\\\\d*[.]?\\\\d*)\"}]}, \"OutputDataConfig\": {\"S3OutputPath\": \"s3://aegovan-data/selfsupervised_results/\"}, \"StoppingCondition\": {\"MaxRuntimeInSeconds\": 432000}, \"ResourceConfig\": {\"VolumeSizeInGB\": 30, \"InstanceCount\": 1, \"InstanceType\": \"ml.p3.2xlarge\"}, \"RoleArn\": \"arn:aws:iam::324346001917:role/service-role/AmazonSageMaker-ExecutionRole-20190118T115449\", \"InputDataConfig\": [{\"DataSource\": {\"S3DataSource\": {\"S3DataType\": \"S3Prefix\", \"S3Uri\": \"s3://aegovan-data/self-supervised-fake-vary-size/202212231927/affablesposnegs/train_6000_1500_4000.json\", \"S3DataDistributionType\": \"FullyReplicated\"}}, \"ChannelName\": \"train\"}, {\"DataSource\": {\"S3DataSource\": {\"S3DataType\": \"S3Prefix\", \"S3Uri\": \"s3://aegovan-data/self-supervised-fake-vary-size/202212161212/val.json\", \"S3DataDistributionType\": \"FullyReplicated\"}}, \"ChannelName\": \"val\"}, {\"DataSource\": {\"S3DataSource\": {\"S3DataType\": \"S3Prefix\", \"S3Uri\": \"s3://aegovan-data/embeddings/bert/\", \"S3DataDistributionType\": \"FullyReplicated\"}}, \"ChannelName\": \"PRETRAINED_MODEL\"}], \"HyperParameters\": {\"datasetfactory\": \"\\\"datasets.chemprot_selfsupervised_dataset_factory.ChemprotSelfsupervisedDatasetFactory\\\"\", \"modelfactory\": \"\\\"models.bert_model_factory.BertModelFactory\\\"\", \"tokenisor_lower_case\": \"0\", \"uselosseval\": \"0\", \"batch\": \"\\\"8\\\"\", \"gradientaccumulationsteps\": \"\\\"8\\\"\", \"epochs\": \"\\\"200\\\"\", \"log-level\": \"\\\"INFO\\\"\", \"learningrate\": \"1e-05\", \"earlystoppingpatience\": \"50\", \"checkpointdir\": \"\\\"/opt/ml/checkpoints/\\\"\", \"checkpointfreq\": \"2\", \"weight_decay\": \"0.01\", \"commit_id\": \"\\\"a6211b46f5940b9ac48fd3bde9274734ec3605a5\\\"\", \"sagemaker_submit_directory\": \"\\\"s3://aegovan-data/selfsupervised_code/selfsup-affablesposnegs-6000-1500-4000-bert-f1-02-202212231935/source/sourcedir.tar.gz\\\"\", \"sagemaker_program\": \"\\\"main_train_pipeline.py\\\"\", \"sagemaker_container_log_level\": \"20\", \"sagemaker_job_name\": \"\\\"selfsup-affablesposnegs-6000-1500-4000-bert-f1-02-202212231935\\\"\", \"sagemaker_region\": \"\\\"us-east-2\\\"\"}, \"TrainingJobName\": \"selfsup-affablesposnegs-6000-1500-4000-bert-f1-02-202212231935\"}, \"Type\": \"Task\", \"End\": true}}}, {\"StartAt\": \"wait-5-120\", \"States\": {\"wait-5-120\": {\"Seconds\": 120, \"Type\": \"Wait\", \"Next\": \"Train-selfsup-affablesposnegs-6000-1500-4000-bert-f1-03-202212231935\"}, \"Train-selfsup-affablesposnegs-6000-1500-4000-bert-f1-03-202212231935\": {\"Resource\": \"arn:aws:states:::sagemaker:createTrainingJob.sync\", \"Parameters\": {\"AlgorithmSpecification\": {\"TrainingImage\": \"763104351884.dkr.ecr.us-east-2.amazonaws.com/pytorch-training:1.4.0-gpu-py3\", \"TrainingInputMode\": \"File\", \"MetricDefinitions\": [{\"Name\": \"TrainLoss\", \"Regex\": \"###score: train_loss### (\\\\d*[.]?\\\\d*)\"}, {\"Name\": \"ValidationLoss\", \"Regex\": \"###score: val_loss### (\\\\d*[.]?\\\\d*)\"}, {\"Name\": \"TrainF1BinaryScore\", \"Regex\": \"###score: train_ResultScorerF1Binary_score### (\\\\d*[.]?\\\\d*)\"}, {\"Name\": \"ValidationF1BinaryScore\", \"Regex\": \"###score: val_ResultScorerF1Binary_score### (\\\\d*[.]?\\\\d*)\"}]}, \"OutputDataConfig\": {\"S3OutputPath\": \"s3://aegovan-data/selfsupervised_results/\"}, \"StoppingCondition\": {\"MaxRuntimeInSeconds\": 432000}, \"ResourceConfig\": {\"VolumeSizeInGB\": 30, \"InstanceCount\": 1, \"InstanceType\": \"ml.p3.2xlarge\"}, \"RoleArn\": \"arn:aws:iam::324346001917:role/service-role/AmazonSageMaker-ExecutionRole-20190118T115449\", \"InputDataConfig\": [{\"DataSource\": {\"S3DataSource\": {\"S3DataType\": \"S3Prefix\", \"S3Uri\": \"s3://aegovan-data/self-supervised-fake-vary-size/202212231927/affablesposnegs/train_6000_1500_4000.json\", \"S3DataDistributionType\": \"FullyReplicated\"}}, \"ChannelName\": \"train\"}, {\"DataSource\": {\"S3DataSource\": {\"S3DataType\": \"S3Prefix\", \"S3Uri\": \"s3://aegovan-data/self-supervised-fake-vary-size/202212161212/val.json\", \"S3DataDistributionType\": \"FullyReplicated\"}}, \"ChannelName\": \"val\"}, {\"DataSource\": {\"S3DataSource\": {\"S3DataType\": \"S3Prefix\", \"S3Uri\": \"s3://aegovan-data/embeddings/bert/\", \"S3DataDistributionType\": \"FullyReplicated\"}}, \"ChannelName\": \"PRETRAINED_MODEL\"}], \"HyperParameters\": {\"datasetfactory\": \"\\\"datasets.chemprot_selfsupervised_dataset_factory.ChemprotSelfsupervisedDatasetFactory\\\"\", \"modelfactory\": \"\\\"models.bert_model_factory.BertModelFactory\\\"\", \"tokenisor_lower_case\": \"0\", \"uselosseval\": \"0\", \"batch\": \"\\\"8\\\"\", \"gradientaccumulationsteps\": \"\\\"8\\\"\", \"epochs\": \"\\\"200\\\"\", \"log-level\": \"\\\"INFO\\\"\", \"learningrate\": \"1e-05\", \"earlystoppingpatience\": \"50\", \"checkpointdir\": \"\\\"/opt/ml/checkpoints/\\\"\", \"checkpointfreq\": \"2\", \"weight_decay\": \"0.01\", \"commit_id\": \"\\\"a6211b46f5940b9ac48fd3bde9274734ec3605a5\\\"\", \"sagemaker_submit_directory\": \"\\\"s3://aegovan-data/selfsupervised_code/selfsup-affablesposnegs-6000-1500-4000-bert-f1-03-202212231935/source/sourcedir.tar.gz\\\"\", \"sagemaker_program\": \"\\\"main_train_pipeline.py\\\"\", \"sagemaker_container_log_level\": \"20\", \"sagemaker_job_name\": \"\\\"selfsup-affablesposnegs-6000-1500-4000-bert-f1-03-202212231935\\\"\", \"sagemaker_region\": \"\\\"us-east-2\\\"\"}, \"TrainingJobName\": \"selfsup-affablesposnegs-6000-1500-4000-bert-f1-03-202212231935\"}, \"Type\": \"Task\", \"End\": true}}}, {\"StartAt\": \"wait-5-150\", \"States\": {\"wait-5-150\": {\"Seconds\": 150, \"Type\": \"Wait\", \"Next\": \"Train-selfsup-affablesposnegs-6000-1500-4000-bert-f1-04-202212231935\"}, \"Train-selfsup-affablesposnegs-6000-1500-4000-bert-f1-04-202212231935\": {\"Resource\": \"arn:aws:states:::sagemaker:createTrainingJob.sync\", \"Parameters\": {\"AlgorithmSpecification\": {\"TrainingImage\": \"763104351884.dkr.ecr.us-east-2.amazonaws.com/pytorch-training:1.4.0-gpu-py3\", \"TrainingInputMode\": \"File\", \"MetricDefinitions\": [{\"Name\": \"TrainLoss\", \"Regex\": \"###score: train_loss### (\\\\d*[.]?\\\\d*)\"}, {\"Name\": \"ValidationLoss\", \"Regex\": \"###score: val_loss### (\\\\d*[.]?\\\\d*)\"}, {\"Name\": \"TrainF1BinaryScore\", \"Regex\": \"###score: train_ResultScorerF1Binary_score### (\\\\d*[.]?\\\\d*)\"}, {\"Name\": \"ValidationF1BinaryScore\", \"Regex\": \"###score: val_ResultScorerF1Binary_score### (\\\\d*[.]?\\\\d*)\"}]}, \"OutputDataConfig\": {\"S3OutputPath\": \"s3://aegovan-data/selfsupervised_results/\"}, \"StoppingCondition\": {\"MaxRuntimeInSeconds\": 432000}, \"ResourceConfig\": {\"VolumeSizeInGB\": 30, \"InstanceCount\": 1, \"InstanceType\": \"ml.p3.2xlarge\"}, \"RoleArn\": \"arn:aws:iam::324346001917:role/service-role/AmazonSageMaker-ExecutionRole-20190118T115449\", \"InputDataConfig\": [{\"DataSource\": {\"S3DataSource\": {\"S3DataType\": \"S3Prefix\", \"S3Uri\": \"s3://aegovan-data/self-supervised-fake-vary-size/202212231927/affablesposnegs/train_6000_1500_4000.json\", \"S3DataDistributionType\": \"FullyReplicated\"}}, \"ChannelName\": \"train\"}, {\"DataSource\": {\"S3DataSource\": {\"S3DataType\": \"S3Prefix\", \"S3Uri\": \"s3://aegovan-data/self-supervised-fake-vary-size/202212161212/val.json\", \"S3DataDistributionType\": \"FullyReplicated\"}}, \"ChannelName\": \"val\"}, {\"DataSource\": {\"S3DataSource\": {\"S3DataType\": \"S3Prefix\", \"S3Uri\": \"s3://aegovan-data/embeddings/bert/\", \"S3DataDistributionType\": \"FullyReplicated\"}}, \"ChannelName\": \"PRETRAINED_MODEL\"}], \"HyperParameters\": {\"datasetfactory\": \"\\\"datasets.chemprot_selfsupervised_dataset_factory.ChemprotSelfsupervisedDatasetFactory\\\"\", \"modelfactory\": \"\\\"models.bert_model_factory.BertModelFactory\\\"\", \"tokenisor_lower_case\": \"0\", \"uselosseval\": \"0\", \"batch\": \"\\\"8\\\"\", \"gradientaccumulationsteps\": \"\\\"8\\\"\", \"epochs\": \"\\\"200\\\"\", \"log-level\": \"\\\"INFO\\\"\", \"learningrate\": \"1e-05\", \"earlystoppingpatience\": \"50\", \"checkpointdir\": \"\\\"/opt/ml/checkpoints/\\\"\", \"checkpointfreq\": \"2\", \"weight_decay\": \"0.01\", \"commit_id\": \"\\\"a6211b46f5940b9ac48fd3bde9274734ec3605a5\\\"\", \"sagemaker_submit_directory\": \"\\\"s3://aegovan-data/selfsupervised_code/selfsup-affablesposnegs-6000-1500-4000-bert-f1-04-202212231935/source/sourcedir.tar.gz\\\"\", \"sagemaker_program\": \"\\\"main_train_pipeline.py\\\"\", \"sagemaker_container_log_level\": \"20\", \"sagemaker_job_name\": \"\\\"selfsup-affablesposnegs-6000-1500-4000-bert-f1-04-202212231935\\\"\", \"sagemaker_region\": \"\\\"us-east-2\\\"\"}, \"TrainingJobName\": \"selfsup-affablesposnegs-6000-1500-4000-bert-f1-04-202212231935\"}, \"Type\": \"Task\", \"End\": true}}}]}, \"train-p-10\": {\"Type\": \"Parallel\", \"Next\": \"train-p-15\", \"Branches\": [{\"StartAt\": \"wait-10-30\", \"States\": {\"wait-10-30\": {\"Seconds\": 30, \"Type\": \"Wait\", \"Next\": \"Train-selfsup-affablesposnegs-4000-1000-2000-bert-f1-00-202212231935\"}, \"Train-selfsup-affablesposnegs-4000-1000-2000-bert-f1-00-202212231935\": {\"Resource\": \"arn:aws:states:::sagemaker:createTrainingJob.sync\", \"Parameters\": {\"AlgorithmSpecification\": {\"TrainingImage\": \"763104351884.dkr.ecr.us-east-2.amazonaws.com/pytorch-training:1.4.0-gpu-py3\", \"TrainingInputMode\": \"File\", \"MetricDefinitions\": [{\"Name\": \"TrainLoss\", \"Regex\": \"###score: train_loss### (\\\\d*[.]?\\\\d*)\"}, {\"Name\": \"ValidationLoss\", \"Regex\": \"###score: val_loss### (\\\\d*[.]?\\\\d*)\"}, {\"Name\": \"TrainF1BinaryScore\", \"Regex\": \"###score: train_ResultScorerF1Binary_score### (\\\\d*[.]?\\\\d*)\"}, {\"Name\": \"ValidationF1BinaryScore\", \"Regex\": \"###score: val_ResultScorerF1Binary_score### (\\\\d*[.]?\\\\d*)\"}]}, \"OutputDataConfig\": {\"S3OutputPath\": \"s3://aegovan-data/selfsupervised_results/\"}, \"StoppingCondition\": {\"MaxRuntimeInSeconds\": 432000}, \"ResourceConfig\": {\"VolumeSizeInGB\": 30, \"InstanceCount\": 1, \"InstanceType\": \"ml.p3.2xlarge\"}, \"RoleArn\": \"arn:aws:iam::324346001917:role/service-role/AmazonSageMaker-ExecutionRole-20190118T115449\", \"InputDataConfig\": [{\"DataSource\": {\"S3DataSource\": {\"S3DataType\": \"S3Prefix\", \"S3Uri\": \"s3://aegovan-data/self-supervised-fake-vary-size/202212231927/affablesposnegs/train_4000_1000_2000.json\", \"S3DataDistributionType\": \"FullyReplicated\"}}, \"ChannelName\": \"train\"}, {\"DataSource\": {\"S3DataSource\": {\"S3DataType\": \"S3Prefix\", \"S3Uri\": \"s3://aegovan-data/self-supervised-fake-vary-size/202212161212/val.json\", \"S3DataDistributionType\": \"FullyReplicated\"}}, \"ChannelName\": \"val\"}, {\"DataSource\": {\"S3DataSource\": {\"S3DataType\": \"S3Prefix\", \"S3Uri\": \"s3://aegovan-data/embeddings/bert/\", \"S3DataDistributionType\": \"FullyReplicated\"}}, \"ChannelName\": \"PRETRAINED_MODEL\"}], \"HyperParameters\": {\"datasetfactory\": \"\\\"datasets.chemprot_selfsupervised_dataset_factory.ChemprotSelfsupervisedDatasetFactory\\\"\", \"modelfactory\": \"\\\"models.bert_model_factory.BertModelFactory\\\"\", \"tokenisor_lower_case\": \"0\", \"uselosseval\": \"0\", \"batch\": \"\\\"8\\\"\", \"gradientaccumulationsteps\": \"\\\"8\\\"\", \"epochs\": \"\\\"200\\\"\", \"log-level\": \"\\\"INFO\\\"\", \"learningrate\": \"1e-05\", \"earlystoppingpatience\": \"50\", \"checkpointdir\": \"\\\"/opt/ml/checkpoints/\\\"\", \"checkpointfreq\": \"2\", \"weight_decay\": \"0.01\", \"commit_id\": \"\\\"a6211b46f5940b9ac48fd3bde9274734ec3605a5\\\"\", \"sagemaker_submit_directory\": \"\\\"s3://aegovan-data/selfsupervised_code/selfsup-affablesposnegs-4000-1000-2000-bert-f1-00-202212231935/source/sourcedir.tar.gz\\\"\", \"sagemaker_program\": \"\\\"main_train_pipeline.py\\\"\", \"sagemaker_container_log_level\": \"20\", \"sagemaker_job_name\": \"\\\"selfsup-affablesposnegs-4000-1000-2000-bert-f1-00-202212231935\\\"\", \"sagemaker_region\": \"\\\"us-east-2\\\"\"}, \"TrainingJobName\": \"selfsup-affablesposnegs-4000-1000-2000-bert-f1-00-202212231935\"}, \"Type\": \"Task\", \"End\": true}}}, {\"StartAt\": \"wait-10-60\", \"States\": {\"wait-10-60\": {\"Seconds\": 60, \"Type\": \"Wait\", \"Next\": \"Train-selfsup-affablesposnegs-4000-1000-2000-bert-f1-01-202212231935\"}, \"Train-selfsup-affablesposnegs-4000-1000-2000-bert-f1-01-202212231935\": {\"Resource\": \"arn:aws:states:::sagemaker:createTrainingJob.sync\", \"Parameters\": {\"AlgorithmSpecification\": {\"TrainingImage\": \"763104351884.dkr.ecr.us-east-2.amazonaws.com/pytorch-training:1.4.0-gpu-py3\", \"TrainingInputMode\": \"File\", \"MetricDefinitions\": [{\"Name\": \"TrainLoss\", \"Regex\": \"###score: train_loss### (\\\\d*[.]?\\\\d*)\"}, {\"Name\": \"ValidationLoss\", \"Regex\": \"###score: val_loss### (\\\\d*[.]?\\\\d*)\"}, {\"Name\": \"TrainF1BinaryScore\", \"Regex\": \"###score: train_ResultScorerF1Binary_score### (\\\\d*[.]?\\\\d*)\"}, {\"Name\": \"ValidationF1BinaryScore\", \"Regex\": \"###score: val_ResultScorerF1Binary_score### (\\\\d*[.]?\\\\d*)\"}]}, \"OutputDataConfig\": {\"S3OutputPath\": \"s3://aegovan-data/selfsupervised_results/\"}, \"StoppingCondition\": {\"MaxRuntimeInSeconds\": 432000}, \"ResourceConfig\": {\"VolumeSizeInGB\": 30, \"InstanceCount\": 1, \"InstanceType\": \"ml.p3.2xlarge\"}, \"RoleArn\": \"arn:aws:iam::324346001917:role/service-role/AmazonSageMaker-ExecutionRole-20190118T115449\", \"InputDataConfig\": [{\"DataSource\": {\"S3DataSource\": {\"S3DataType\": \"S3Prefix\", \"S3Uri\": \"s3://aegovan-data/self-supervised-fake-vary-size/202212231927/affablesposnegs/train_4000_1000_2000.json\", \"S3DataDistributionType\": \"FullyReplicated\"}}, \"ChannelName\": \"train\"}, {\"DataSource\": {\"S3DataSource\": {\"S3DataType\": \"S3Prefix\", \"S3Uri\": \"s3://aegovan-data/self-supervised-fake-vary-size/202212161212/val.json\", \"S3DataDistributionType\": \"FullyReplicated\"}}, \"ChannelName\": \"val\"}, {\"DataSource\": {\"S3DataSource\": {\"S3DataType\": \"S3Prefix\", \"S3Uri\": \"s3://aegovan-data/embeddings/bert/\", \"S3DataDistributionType\": \"FullyReplicated\"}}, \"ChannelName\": \"PRETRAINED_MODEL\"}], \"HyperParameters\": {\"datasetfactory\": \"\\\"datasets.chemprot_selfsupervised_dataset_factory.ChemprotSelfsupervisedDatasetFactory\\\"\", \"modelfactory\": \"\\\"models.bert_model_factory.BertModelFactory\\\"\", \"tokenisor_lower_case\": \"0\", \"uselosseval\": \"0\", \"batch\": \"\\\"8\\\"\", \"gradientaccumulationsteps\": \"\\\"8\\\"\", \"epochs\": \"\\\"200\\\"\", \"log-level\": \"\\\"INFO\\\"\", \"learningrate\": \"1e-05\", \"earlystoppingpatience\": \"50\", \"checkpointdir\": \"\\\"/opt/ml/checkpoints/\\\"\", \"checkpointfreq\": \"2\", \"weight_decay\": \"0.01\", \"commit_id\": \"\\\"a6211b46f5940b9ac48fd3bde9274734ec3605a5\\\"\", \"sagemaker_submit_directory\": \"\\\"s3://aegovan-data/selfsupervised_code/selfsup-affablesposnegs-4000-1000-2000-bert-f1-01-202212231935/source/sourcedir.tar.gz\\\"\", \"sagemaker_program\": \"\\\"main_train_pipeline.py\\\"\", \"sagemaker_container_log_level\": \"20\", \"sagemaker_job_name\": \"\\\"selfsup-affablesposnegs-4000-1000-2000-bert-f1-01-202212231935\\\"\", \"sagemaker_region\": \"\\\"us-east-2\\\"\"}, \"TrainingJobName\": \"selfsup-affablesposnegs-4000-1000-2000-bert-f1-01-202212231935\"}, \"Type\": \"Task\", \"End\": true}}}, {\"StartAt\": \"wait-10-90\", \"States\": {\"wait-10-90\": {\"Seconds\": 90, \"Type\": \"Wait\", \"Next\": \"Train-selfsup-affablesposnegs-4000-1000-2000-bert-f1-02-202212231935\"}, \"Train-selfsup-affablesposnegs-4000-1000-2000-bert-f1-02-202212231935\": {\"Resource\": \"arn:aws:states:::sagemaker:createTrainingJob.sync\", \"Parameters\": {\"AlgorithmSpecification\": {\"TrainingImage\": \"763104351884.dkr.ecr.us-east-2.amazonaws.com/pytorch-training:1.4.0-gpu-py3\", \"TrainingInputMode\": \"File\", \"MetricDefinitions\": [{\"Name\": \"TrainLoss\", \"Regex\": \"###score: train_loss### (\\\\d*[.]?\\\\d*)\"}, {\"Name\": \"ValidationLoss\", \"Regex\": \"###score: val_loss### (\\\\d*[.]?\\\\d*)\"}, {\"Name\": \"TrainF1BinaryScore\", \"Regex\": \"###score: train_ResultScorerF1Binary_score### (\\\\d*[.]?\\\\d*)\"}, {\"Name\": \"ValidationF1BinaryScore\", \"Regex\": \"###score: val_ResultScorerF1Binary_score### (\\\\d*[.]?\\\\d*)\"}]}, \"OutputDataConfig\": {\"S3OutputPath\": \"s3://aegovan-data/selfsupervised_results/\"}, \"StoppingCondition\": {\"MaxRuntimeInSeconds\": 432000}, \"ResourceConfig\": {\"VolumeSizeInGB\": 30, \"InstanceCount\": 1, \"InstanceType\": \"ml.p3.2xlarge\"}, \"RoleArn\": \"arn:aws:iam::324346001917:role/service-role/AmazonSageMaker-ExecutionRole-20190118T115449\", \"InputDataConfig\": [{\"DataSource\": {\"S3DataSource\": {\"S3DataType\": \"S3Prefix\", \"S3Uri\": \"s3://aegovan-data/self-supervised-fake-vary-size/202212231927/affablesposnegs/train_4000_1000_2000.json\", \"S3DataDistributionType\": \"FullyReplicated\"}}, \"ChannelName\": \"train\"}, {\"DataSource\": {\"S3DataSource\": {\"S3DataType\": \"S3Prefix\", \"S3Uri\": \"s3://aegovan-data/self-supervised-fake-vary-size/202212161212/val.json\", \"S3DataDistributionType\": \"FullyReplicated\"}}, \"ChannelName\": \"val\"}, {\"DataSource\": {\"S3DataSource\": {\"S3DataType\": \"S3Prefix\", \"S3Uri\": \"s3://aegovan-data/embeddings/bert/\", \"S3DataDistributionType\": \"FullyReplicated\"}}, \"ChannelName\": \"PRETRAINED_MODEL\"}], \"HyperParameters\": {\"datasetfactory\": \"\\\"datasets.chemprot_selfsupervised_dataset_factory.ChemprotSelfsupervisedDatasetFactory\\\"\", \"modelfactory\": \"\\\"models.bert_model_factory.BertModelFactory\\\"\", \"tokenisor_lower_case\": \"0\", \"uselosseval\": \"0\", \"batch\": \"\\\"8\\\"\", \"gradientaccumulationsteps\": \"\\\"8\\\"\", \"epochs\": \"\\\"200\\\"\", \"log-level\": \"\\\"INFO\\\"\", \"learningrate\": \"1e-05\", \"earlystoppingpatience\": \"50\", \"checkpointdir\": \"\\\"/opt/ml/checkpoints/\\\"\", \"checkpointfreq\": \"2\", \"weight_decay\": \"0.01\", \"commit_id\": \"\\\"a6211b46f5940b9ac48fd3bde9274734ec3605a5\\\"\", \"sagemaker_submit_directory\": \"\\\"s3://aegovan-data/selfsupervised_code/selfsup-affablesposnegs-4000-1000-2000-bert-f1-02-202212231935/source/sourcedir.tar.gz\\\"\", \"sagemaker_program\": \"\\\"main_train_pipeline.py\\\"\", \"sagemaker_container_log_level\": \"20\", \"sagemaker_job_name\": \"\\\"selfsup-affablesposnegs-4000-1000-2000-bert-f1-02-202212231935\\\"\", \"sagemaker_region\": \"\\\"us-east-2\\\"\"}, \"TrainingJobName\": \"selfsup-affablesposnegs-4000-1000-2000-bert-f1-02-202212231935\"}, \"Type\": \"Task\", \"End\": true}}}, {\"StartAt\": \"wait-10-120\", \"States\": {\"wait-10-120\": {\"Seconds\": 120, \"Type\": \"Wait\", \"Next\": \"Train-selfsup-affablesposnegs-4000-1000-2000-bert-f1-03-202212231935\"}, \"Train-selfsup-affablesposnegs-4000-1000-2000-bert-f1-03-202212231935\": {\"Resource\": \"arn:aws:states:::sagemaker:createTrainingJob.sync\", \"Parameters\": {\"AlgorithmSpecification\": {\"TrainingImage\": \"763104351884.dkr.ecr.us-east-2.amazonaws.com/pytorch-training:1.4.0-gpu-py3\", \"TrainingInputMode\": \"File\", \"MetricDefinitions\": [{\"Name\": \"TrainLoss\", \"Regex\": \"###score: train_loss### (\\\\d*[.]?\\\\d*)\"}, {\"Name\": \"ValidationLoss\", \"Regex\": \"###score: val_loss### (\\\\d*[.]?\\\\d*)\"}, {\"Name\": \"TrainF1BinaryScore\", \"Regex\": \"###score: train_ResultScorerF1Binary_score### (\\\\d*[.]?\\\\d*)\"}, {\"Name\": \"ValidationF1BinaryScore\", \"Regex\": \"###score: val_ResultScorerF1Binary_score### (\\\\d*[.]?\\\\d*)\"}]}, \"OutputDataConfig\": {\"S3OutputPath\": \"s3://aegovan-data/selfsupervised_results/\"}, \"StoppingCondition\": {\"MaxRuntimeInSeconds\": 432000}, \"ResourceConfig\": {\"VolumeSizeInGB\": 30, \"InstanceCount\": 1, \"InstanceType\": \"ml.p3.2xlarge\"}, \"RoleArn\": \"arn:aws:iam::324346001917:role/service-role/AmazonSageMaker-ExecutionRole-20190118T115449\", \"InputDataConfig\": [{\"DataSource\": {\"S3DataSource\": {\"S3DataType\": \"S3Prefix\", \"S3Uri\": \"s3://aegovan-data/self-supervised-fake-vary-size/202212231927/affablesposnegs/train_4000_1000_2000.json\", \"S3DataDistributionType\": \"FullyReplicated\"}}, \"ChannelName\": \"train\"}, {\"DataSource\": {\"S3DataSource\": {\"S3DataType\": \"S3Prefix\", \"S3Uri\": \"s3://aegovan-data/self-supervised-fake-vary-size/202212161212/val.json\", \"S3DataDistributionType\": \"FullyReplicated\"}}, \"ChannelName\": \"val\"}, {\"DataSource\": {\"S3DataSource\": {\"S3DataType\": \"S3Prefix\", \"S3Uri\": \"s3://aegovan-data/embeddings/bert/\", \"S3DataDistributionType\": \"FullyReplicated\"}}, \"ChannelName\": \"PRETRAINED_MODEL\"}], \"HyperParameters\": {\"datasetfactory\": \"\\\"datasets.chemprot_selfsupervised_dataset_factory.ChemprotSelfsupervisedDatasetFactory\\\"\", \"modelfactory\": \"\\\"models.bert_model_factory.BertModelFactory\\\"\", \"tokenisor_lower_case\": \"0\", \"uselosseval\": \"0\", \"batch\": \"\\\"8\\\"\", \"gradientaccumulationsteps\": \"\\\"8\\\"\", \"epochs\": \"\\\"200\\\"\", \"log-level\": \"\\\"INFO\\\"\", \"learningrate\": \"1e-05\", \"earlystoppingpatience\": \"50\", \"checkpointdir\": \"\\\"/opt/ml/checkpoints/\\\"\", \"checkpointfreq\": \"2\", \"weight_decay\": \"0.01\", \"commit_id\": \"\\\"a6211b46f5940b9ac48fd3bde9274734ec3605a5\\\"\", \"sagemaker_submit_directory\": \"\\\"s3://aegovan-data/selfsupervised_code/selfsup-affablesposnegs-4000-1000-2000-bert-f1-03-202212231935/source/sourcedir.tar.gz\\\"\", \"sagemaker_program\": \"\\\"main_train_pipeline.py\\\"\", \"sagemaker_container_log_level\": \"20\", \"sagemaker_job_name\": \"\\\"selfsup-affablesposnegs-4000-1000-2000-bert-f1-03-202212231935\\\"\", \"sagemaker_region\": \"\\\"us-east-2\\\"\"}, \"TrainingJobName\": \"selfsup-affablesposnegs-4000-1000-2000-bert-f1-03-202212231935\"}, \"Type\": \"Task\", \"End\": true}}}, {\"StartAt\": \"wait-10-150\", \"States\": {\"wait-10-150\": {\"Seconds\": 150, \"Type\": \"Wait\", \"Next\": \"Train-selfsup-affablesposnegs-4000-1000-2000-bert-f1-04-202212231935\"}, \"Train-selfsup-affablesposnegs-4000-1000-2000-bert-f1-04-202212231935\": {\"Resource\": \"arn:aws:states:::sagemaker:createTrainingJob.sync\", \"Parameters\": {\"AlgorithmSpecification\": {\"TrainingImage\": \"763104351884.dkr.ecr.us-east-2.amazonaws.com/pytorch-training:1.4.0-gpu-py3\", \"TrainingInputMode\": \"File\", \"MetricDefinitions\": [{\"Name\": \"TrainLoss\", \"Regex\": \"###score: train_loss### (\\\\d*[.]?\\\\d*)\"}, {\"Name\": \"ValidationLoss\", \"Regex\": \"###score: val_loss### (\\\\d*[.]?\\\\d*)\"}, {\"Name\": \"TrainF1BinaryScore\", \"Regex\": \"###score: train_ResultScorerF1Binary_score### (\\\\d*[.]?\\\\d*)\"}, {\"Name\": \"ValidationF1BinaryScore\", \"Regex\": \"###score: val_ResultScorerF1Binary_score### (\\\\d*[.]?\\\\d*)\"}]}, \"OutputDataConfig\": {\"S3OutputPath\": \"s3://aegovan-data/selfsupervised_results/\"}, \"StoppingCondition\": {\"MaxRuntimeInSeconds\": 432000}, \"ResourceConfig\": {\"VolumeSizeInGB\": 30, \"InstanceCount\": 1, \"InstanceType\": \"ml.p3.2xlarge\"}, \"RoleArn\": \"arn:aws:iam::324346001917:role/service-role/AmazonSageMaker-ExecutionRole-20190118T115449\", \"InputDataConfig\": [{\"DataSource\": {\"S3DataSource\": {\"S3DataType\": \"S3Prefix\", \"S3Uri\": \"s3://aegovan-data/self-supervised-fake-vary-size/202212231927/affablesposnegs/train_4000_1000_2000.json\", \"S3DataDistributionType\": \"FullyReplicated\"}}, \"ChannelName\": \"train\"}, {\"DataSource\": {\"S3DataSource\": {\"S3DataType\": \"S3Prefix\", \"S3Uri\": \"s3://aegovan-data/self-supervised-fake-vary-size/202212161212/val.json\", \"S3DataDistributionType\": \"FullyReplicated\"}}, \"ChannelName\": \"val\"}, {\"DataSource\": {\"S3DataSource\": {\"S3DataType\": \"S3Prefix\", \"S3Uri\": \"s3://aegovan-data/embeddings/bert/\", \"S3DataDistributionType\": \"FullyReplicated\"}}, \"ChannelName\": \"PRETRAINED_MODEL\"}], \"HyperParameters\": {\"datasetfactory\": \"\\\"datasets.chemprot_selfsupervised_dataset_factory.ChemprotSelfsupervisedDatasetFactory\\\"\", \"modelfactory\": \"\\\"models.bert_model_factory.BertModelFactory\\\"\", \"tokenisor_lower_case\": \"0\", \"uselosseval\": \"0\", \"batch\": \"\\\"8\\\"\", \"gradientaccumulationsteps\": \"\\\"8\\\"\", \"epochs\": \"\\\"200\\\"\", \"log-level\": \"\\\"INFO\\\"\", \"learningrate\": \"1e-05\", \"earlystoppingpatience\": \"50\", \"checkpointdir\": \"\\\"/opt/ml/checkpoints/\\\"\", \"checkpointfreq\": \"2\", \"weight_decay\": \"0.01\", \"commit_id\": \"\\\"a6211b46f5940b9ac48fd3bde9274734ec3605a5\\\"\", \"sagemaker_submit_directory\": \"\\\"s3://aegovan-data/selfsupervised_code/selfsup-affablesposnegs-4000-1000-2000-bert-f1-04-202212231935/source/sourcedir.tar.gz\\\"\", \"sagemaker_program\": \"\\\"main_train_pipeline.py\\\"\", \"sagemaker_container_log_level\": \"20\", \"sagemaker_job_name\": \"\\\"selfsup-affablesposnegs-4000-1000-2000-bert-f1-04-202212231935\\\"\", \"sagemaker_region\": \"\\\"us-east-2\\\"\"}, \"TrainingJobName\": \"selfsup-affablesposnegs-4000-1000-2000-bert-f1-04-202212231935\"}, \"Type\": \"Task\", \"End\": true}}}]}, \"train-p-15\": {\"Type\": \"Parallel\", \"Next\": \"train-p-20\", \"Branches\": [{\"StartAt\": \"wait-15-30\", \"States\": {\"wait-15-30\": {\"Seconds\": 30, \"Type\": \"Wait\", \"Next\": \"Train-selfsup-affablesposnegs-2000-500-0-bert-f1-00-202212231935\"}, \"Train-selfsup-affablesposnegs-2000-500-0-bert-f1-00-202212231935\": {\"Resource\": \"arn:aws:states:::sagemaker:createTrainingJob.sync\", \"Parameters\": {\"AlgorithmSpecification\": {\"TrainingImage\": \"763104351884.dkr.ecr.us-east-2.amazonaws.com/pytorch-training:1.4.0-gpu-py3\", \"TrainingInputMode\": \"File\", \"MetricDefinitions\": [{\"Name\": \"TrainLoss\", \"Regex\": \"###score: train_loss### (\\\\d*[.]?\\\\d*)\"}, {\"Name\": \"ValidationLoss\", \"Regex\": \"###score: val_loss### (\\\\d*[.]?\\\\d*)\"}, {\"Name\": \"TrainF1BinaryScore\", \"Regex\": \"###score: train_ResultScorerF1Binary_score### (\\\\d*[.]?\\\\d*)\"}, {\"Name\": \"ValidationF1BinaryScore\", \"Regex\": \"###score: val_ResultScorerF1Binary_score### (\\\\d*[.]?\\\\d*)\"}]}, \"OutputDataConfig\": {\"S3OutputPath\": \"s3://aegovan-data/selfsupervised_results/\"}, \"StoppingCondition\": {\"MaxRuntimeInSeconds\": 432000}, \"ResourceConfig\": {\"VolumeSizeInGB\": 30, \"InstanceCount\": 1, \"InstanceType\": \"ml.p3.2xlarge\"}, \"RoleArn\": \"arn:aws:iam::324346001917:role/service-role/AmazonSageMaker-ExecutionRole-20190118T115449\", \"InputDataConfig\": [{\"DataSource\": {\"S3DataSource\": {\"S3DataType\": \"S3Prefix\", \"S3Uri\": \"s3://aegovan-data/self-supervised-fake-vary-size/202212231927/affablesposnegs/train_2000_500_0.json\", \"S3DataDistributionType\": \"FullyReplicated\"}}, \"ChannelName\": \"train\"}, {\"DataSource\": {\"S3DataSource\": {\"S3DataType\": \"S3Prefix\", \"S3Uri\": \"s3://aegovan-data/self-supervised-fake-vary-size/202212161212/val.json\", \"S3DataDistributionType\": \"FullyReplicated\"}}, \"ChannelName\": \"val\"}, {\"DataSource\": {\"S3DataSource\": {\"S3DataType\": \"S3Prefix\", \"S3Uri\": \"s3://aegovan-data/embeddings/bert/\", \"S3DataDistributionType\": \"FullyReplicated\"}}, \"ChannelName\": \"PRETRAINED_MODEL\"}], \"HyperParameters\": {\"datasetfactory\": \"\\\"datasets.chemprot_selfsupervised_dataset_factory.ChemprotSelfsupervisedDatasetFactory\\\"\", \"modelfactory\": \"\\\"models.bert_model_factory.BertModelFactory\\\"\", \"tokenisor_lower_case\": \"0\", \"uselosseval\": \"0\", \"batch\": \"\\\"8\\\"\", \"gradientaccumulationsteps\": \"\\\"8\\\"\", \"epochs\": \"\\\"200\\\"\", \"log-level\": \"\\\"INFO\\\"\", \"learningrate\": \"1e-05\", \"earlystoppingpatience\": \"50\", \"checkpointdir\": \"\\\"/opt/ml/checkpoints/\\\"\", \"checkpointfreq\": \"2\", \"weight_decay\": \"0.01\", \"commit_id\": \"\\\"a6211b46f5940b9ac48fd3bde9274734ec3605a5\\\"\", \"sagemaker_submit_directory\": \"\\\"s3://aegovan-data/selfsupervised_code/selfsup-affablesposnegs-2000-500-0-bert-f1-00-202212231935/source/sourcedir.tar.gz\\\"\", \"sagemaker_program\": \"\\\"main_train_pipeline.py\\\"\", \"sagemaker_container_log_level\": \"20\", \"sagemaker_job_name\": \"\\\"selfsup-affablesposnegs-2000-500-0-bert-f1-00-202212231935\\\"\", \"sagemaker_region\": \"\\\"us-east-2\\\"\"}, \"TrainingJobName\": \"selfsup-affablesposnegs-2000-500-0-bert-f1-00-202212231935\"}, \"Type\": \"Task\", \"End\": true}}}, {\"StartAt\": \"wait-15-60\", \"States\": {\"wait-15-60\": {\"Seconds\": 60, \"Type\": \"Wait\", \"Next\": \"Train-selfsup-affablesposnegs-2000-500-0-bert-f1-01-202212231935\"}, \"Train-selfsup-affablesposnegs-2000-500-0-bert-f1-01-202212231935\": {\"Resource\": \"arn:aws:states:::sagemaker:createTrainingJob.sync\", \"Parameters\": {\"AlgorithmSpecification\": {\"TrainingImage\": \"763104351884.dkr.ecr.us-east-2.amazonaws.com/pytorch-training:1.4.0-gpu-py3\", \"TrainingInputMode\": \"File\", \"MetricDefinitions\": [{\"Name\": \"TrainLoss\", \"Regex\": \"###score: train_loss### (\\\\d*[.]?\\\\d*)\"}, {\"Name\": \"ValidationLoss\", \"Regex\": \"###score: val_loss### (\\\\d*[.]?\\\\d*)\"}, {\"Name\": \"TrainF1BinaryScore\", \"Regex\": \"###score: train_ResultScorerF1Binary_score### (\\\\d*[.]?\\\\d*)\"}, {\"Name\": \"ValidationF1BinaryScore\", \"Regex\": \"###score: val_ResultScorerF1Binary_score### (\\\\d*[.]?\\\\d*)\"}]}, \"OutputDataConfig\": {\"S3OutputPath\": \"s3://aegovan-data/selfsupervised_results/\"}, \"StoppingCondition\": {\"MaxRuntimeInSeconds\": 432000}, \"ResourceConfig\": {\"VolumeSizeInGB\": 30, \"InstanceCount\": 1, \"InstanceType\": \"ml.p3.2xlarge\"}, \"RoleArn\": \"arn:aws:iam::324346001917:role/service-role/AmazonSageMaker-ExecutionRole-20190118T115449\", \"InputDataConfig\": [{\"DataSource\": {\"S3DataSource\": {\"S3DataType\": \"S3Prefix\", \"S3Uri\": \"s3://aegovan-data/self-supervised-fake-vary-size/202212231927/affablesposnegs/train_2000_500_0.json\", \"S3DataDistributionType\": \"FullyReplicated\"}}, \"ChannelName\": \"train\"}, {\"DataSource\": {\"S3DataSource\": {\"S3DataType\": \"S3Prefix\", \"S3Uri\": \"s3://aegovan-data/self-supervised-fake-vary-size/202212161212/val.json\", \"S3DataDistributionType\": \"FullyReplicated\"}}, \"ChannelName\": \"val\"}, {\"DataSource\": {\"S3DataSource\": {\"S3DataType\": \"S3Prefix\", \"S3Uri\": \"s3://aegovan-data/embeddings/bert/\", \"S3DataDistributionType\": \"FullyReplicated\"}}, \"ChannelName\": \"PRETRAINED_MODEL\"}], \"HyperParameters\": {\"datasetfactory\": \"\\\"datasets.chemprot_selfsupervised_dataset_factory.ChemprotSelfsupervisedDatasetFactory\\\"\", \"modelfactory\": \"\\\"models.bert_model_factory.BertModelFactory\\\"\", \"tokenisor_lower_case\": \"0\", \"uselosseval\": \"0\", \"batch\": \"\\\"8\\\"\", \"gradientaccumulationsteps\": \"\\\"8\\\"\", \"epochs\": \"\\\"200\\\"\", \"log-level\": \"\\\"INFO\\\"\", \"learningrate\": \"1e-05\", \"earlystoppingpatience\": \"50\", \"checkpointdir\": \"\\\"/opt/ml/checkpoints/\\\"\", \"checkpointfreq\": \"2\", \"weight_decay\": \"0.01\", \"commit_id\": \"\\\"a6211b46f5940b9ac48fd3bde9274734ec3605a5\\\"\", \"sagemaker_submit_directory\": \"\\\"s3://aegovan-data/selfsupervised_code/selfsup-affablesposnegs-2000-500-0-bert-f1-01-202212231935/source/sourcedir.tar.gz\\\"\", \"sagemaker_program\": \"\\\"main_train_pipeline.py\\\"\", \"sagemaker_container_log_level\": \"20\", \"sagemaker_job_name\": \"\\\"selfsup-affablesposnegs-2000-500-0-bert-f1-01-202212231935\\\"\", \"sagemaker_region\": \"\\\"us-east-2\\\"\"}, \"TrainingJobName\": \"selfsup-affablesposnegs-2000-500-0-bert-f1-01-202212231935\"}, \"Type\": \"Task\", \"End\": true}}}, {\"StartAt\": \"wait-15-90\", \"States\": {\"wait-15-90\": {\"Seconds\": 90, \"Type\": \"Wait\", \"Next\": \"Train-selfsup-affablesposnegs-2000-500-0-bert-f1-02-202212231935\"}, \"Train-selfsup-affablesposnegs-2000-500-0-bert-f1-02-202212231935\": {\"Resource\": \"arn:aws:states:::sagemaker:createTrainingJob.sync\", \"Parameters\": {\"AlgorithmSpecification\": {\"TrainingImage\": \"763104351884.dkr.ecr.us-east-2.amazonaws.com/pytorch-training:1.4.0-gpu-py3\", \"TrainingInputMode\": \"File\", \"MetricDefinitions\": [{\"Name\": \"TrainLoss\", \"Regex\": \"###score: train_loss### (\\\\d*[.]?\\\\d*)\"}, {\"Name\": \"ValidationLoss\", \"Regex\": \"###score: val_loss### (\\\\d*[.]?\\\\d*)\"}, {\"Name\": \"TrainF1BinaryScore\", \"Regex\": \"###score: train_ResultScorerF1Binary_score### (\\\\d*[.]?\\\\d*)\"}, {\"Name\": \"ValidationF1BinaryScore\", \"Regex\": \"###score: val_ResultScorerF1Binary_score### (\\\\d*[.]?\\\\d*)\"}]}, \"OutputDataConfig\": {\"S3OutputPath\": \"s3://aegovan-data/selfsupervised_results/\"}, \"StoppingCondition\": {\"MaxRuntimeInSeconds\": 432000}, \"ResourceConfig\": {\"VolumeSizeInGB\": 30, \"InstanceCount\": 1, \"InstanceType\": \"ml.p3.2xlarge\"}, \"RoleArn\": \"arn:aws:iam::324346001917:role/service-role/AmazonSageMaker-ExecutionRole-20190118T115449\", \"InputDataConfig\": [{\"DataSource\": {\"S3DataSource\": {\"S3DataType\": \"S3Prefix\", \"S3Uri\": \"s3://aegovan-data/self-supervised-fake-vary-size/202212231927/affablesposnegs/train_2000_500_0.json\", \"S3DataDistributionType\": \"FullyReplicated\"}}, \"ChannelName\": \"train\"}, {\"DataSource\": {\"S3DataSource\": {\"S3DataType\": \"S3Prefix\", \"S3Uri\": \"s3://aegovan-data/self-supervised-fake-vary-size/202212161212/val.json\", \"S3DataDistributionType\": \"FullyReplicated\"}}, \"ChannelName\": \"val\"}, {\"DataSource\": {\"S3DataSource\": {\"S3DataType\": \"S3Prefix\", \"S3Uri\": \"s3://aegovan-data/embeddings/bert/\", \"S3DataDistributionType\": \"FullyReplicated\"}}, \"ChannelName\": \"PRETRAINED_MODEL\"}], \"HyperParameters\": {\"datasetfactory\": \"\\\"datasets.chemprot_selfsupervised_dataset_factory.ChemprotSelfsupervisedDatasetFactory\\\"\", \"modelfactory\": \"\\\"models.bert_model_factory.BertModelFactory\\\"\", \"tokenisor_lower_case\": \"0\", \"uselosseval\": \"0\", \"batch\": \"\\\"8\\\"\", \"gradientaccumulationsteps\": \"\\\"8\\\"\", \"epochs\": \"\\\"200\\\"\", \"log-level\": \"\\\"INFO\\\"\", \"learningrate\": \"1e-05\", \"earlystoppingpatience\": \"50\", \"checkpointdir\": \"\\\"/opt/ml/checkpoints/\\\"\", \"checkpointfreq\": \"2\", \"weight_decay\": \"0.01\", \"commit_id\": \"\\\"a6211b46f5940b9ac48fd3bde9274734ec3605a5\\\"\", \"sagemaker_submit_directory\": \"\\\"s3://aegovan-data/selfsupervised_code/selfsup-affablesposnegs-2000-500-0-bert-f1-02-202212231935/source/sourcedir.tar.gz\\\"\", \"sagemaker_program\": \"\\\"main_train_pipeline.py\\\"\", \"sagemaker_container_log_level\": \"20\", \"sagemaker_job_name\": \"\\\"selfsup-affablesposnegs-2000-500-0-bert-f1-02-202212231935\\\"\", \"sagemaker_region\": \"\\\"us-east-2\\\"\"}, \"TrainingJobName\": \"selfsup-affablesposnegs-2000-500-0-bert-f1-02-202212231935\"}, \"Type\": \"Task\", \"End\": true}}}, {\"StartAt\": \"wait-15-120\", \"States\": {\"wait-15-120\": {\"Seconds\": 120, \"Type\": \"Wait\", \"Next\": \"Train-selfsup-affablesposnegs-2000-500-0-bert-f1-03-202212231935\"}, \"Train-selfsup-affablesposnegs-2000-500-0-bert-f1-03-202212231935\": {\"Resource\": \"arn:aws:states:::sagemaker:createTrainingJob.sync\", \"Parameters\": {\"AlgorithmSpecification\": {\"TrainingImage\": \"763104351884.dkr.ecr.us-east-2.amazonaws.com/pytorch-training:1.4.0-gpu-py3\", \"TrainingInputMode\": \"File\", \"MetricDefinitions\": [{\"Name\": \"TrainLoss\", \"Regex\": \"###score: train_loss### (\\\\d*[.]?\\\\d*)\"}, {\"Name\": \"ValidationLoss\", \"Regex\": \"###score: val_loss### (\\\\d*[.]?\\\\d*)\"}, {\"Name\": \"TrainF1BinaryScore\", \"Regex\": \"###score: train_ResultScorerF1Binary_score### (\\\\d*[.]?\\\\d*)\"}, {\"Name\": \"ValidationF1BinaryScore\", \"Regex\": \"###score: val_ResultScorerF1Binary_score### (\\\\d*[.]?\\\\d*)\"}]}, \"OutputDataConfig\": {\"S3OutputPath\": \"s3://aegovan-data/selfsupervised_results/\"}, \"StoppingCondition\": {\"MaxRuntimeInSeconds\": 432000}, \"ResourceConfig\": {\"VolumeSizeInGB\": 30, \"InstanceCount\": 1, \"InstanceType\": \"ml.p3.2xlarge\"}, \"RoleArn\": \"arn:aws:iam::324346001917:role/service-role/AmazonSageMaker-ExecutionRole-20190118T115449\", \"InputDataConfig\": [{\"DataSource\": {\"S3DataSource\": {\"S3DataType\": \"S3Prefix\", \"S3Uri\": \"s3://aegovan-data/self-supervised-fake-vary-size/202212231927/affablesposnegs/train_2000_500_0.json\", \"S3DataDistributionType\": \"FullyReplicated\"}}, \"ChannelName\": \"train\"}, {\"DataSource\": {\"S3DataSource\": {\"S3DataType\": \"S3Prefix\", \"S3Uri\": \"s3://aegovan-data/self-supervised-fake-vary-size/202212161212/val.json\", \"S3DataDistributionType\": \"FullyReplicated\"}}, \"ChannelName\": \"val\"}, {\"DataSource\": {\"S3DataSource\": {\"S3DataType\": \"S3Prefix\", \"S3Uri\": \"s3://aegovan-data/embeddings/bert/\", \"S3DataDistributionType\": \"FullyReplicated\"}}, \"ChannelName\": \"PRETRAINED_MODEL\"}], \"HyperParameters\": {\"datasetfactory\": \"\\\"datasets.chemprot_selfsupervised_dataset_factory.ChemprotSelfsupervisedDatasetFactory\\\"\", \"modelfactory\": \"\\\"models.bert_model_factory.BertModelFactory\\\"\", \"tokenisor_lower_case\": \"0\", \"uselosseval\": \"0\", \"batch\": \"\\\"8\\\"\", \"gradientaccumulationsteps\": \"\\\"8\\\"\", \"epochs\": \"\\\"200\\\"\", \"log-level\": \"\\\"INFO\\\"\", \"learningrate\": \"1e-05\", \"earlystoppingpatience\": \"50\", \"checkpointdir\": \"\\\"/opt/ml/checkpoints/\\\"\", \"checkpointfreq\": \"2\", \"weight_decay\": \"0.01\", \"commit_id\": \"\\\"a6211b46f5940b9ac48fd3bde9274734ec3605a5\\\"\", \"sagemaker_submit_directory\": \"\\\"s3://aegovan-data/selfsupervised_code/selfsup-affablesposnegs-2000-500-0-bert-f1-03-202212231935/source/sourcedir.tar.gz\\\"\", \"sagemaker_program\": \"\\\"main_train_pipeline.py\\\"\", \"sagemaker_container_log_level\": \"20\", \"sagemaker_job_name\": \"\\\"selfsup-affablesposnegs-2000-500-0-bert-f1-03-202212231935\\\"\", \"sagemaker_region\": \"\\\"us-east-2\\\"\"}, \"TrainingJobName\": \"selfsup-affablesposnegs-2000-500-0-bert-f1-03-202212231935\"}, \"Type\": \"Task\", \"End\": true}}}, {\"StartAt\": \"wait-15-150\", \"States\": {\"wait-15-150\": {\"Seconds\": 150, \"Type\": \"Wait\", \"Next\": \"Train-selfsup-affablesposnegs-2000-500-0-bert-f1-04-202212231935\"}, \"Train-selfsup-affablesposnegs-2000-500-0-bert-f1-04-202212231935\": {\"Resource\": \"arn:aws:states:::sagemaker:createTrainingJob.sync\", \"Parameters\": {\"AlgorithmSpecification\": {\"TrainingImage\": \"763104351884.dkr.ecr.us-east-2.amazonaws.com/pytorch-training:1.4.0-gpu-py3\", \"TrainingInputMode\": \"File\", \"MetricDefinitions\": [{\"Name\": \"TrainLoss\", \"Regex\": \"###score: train_loss### (\\\\d*[.]?\\\\d*)\"}, {\"Name\": \"ValidationLoss\", \"Regex\": \"###score: val_loss### (\\\\d*[.]?\\\\d*)\"}, {\"Name\": \"TrainF1BinaryScore\", \"Regex\": \"###score: train_ResultScorerF1Binary_score### (\\\\d*[.]?\\\\d*)\"}, {\"Name\": \"ValidationF1BinaryScore\", \"Regex\": \"###score: val_ResultScorerF1Binary_score### (\\\\d*[.]?\\\\d*)\"}]}, \"OutputDataConfig\": {\"S3OutputPath\": \"s3://aegovan-data/selfsupervised_results/\"}, \"StoppingCondition\": {\"MaxRuntimeInSeconds\": 432000}, \"ResourceConfig\": {\"VolumeSizeInGB\": 30, \"InstanceCount\": 1, \"InstanceType\": \"ml.p3.2xlarge\"}, \"RoleArn\": \"arn:aws:iam::324346001917:role/service-role/AmazonSageMaker-ExecutionRole-20190118T115449\", \"InputDataConfig\": [{\"DataSource\": {\"S3DataSource\": {\"S3DataType\": \"S3Prefix\", \"S3Uri\": \"s3://aegovan-data/self-supervised-fake-vary-size/202212231927/affablesposnegs/train_2000_500_0.json\", \"S3DataDistributionType\": \"FullyReplicated\"}}, \"ChannelName\": \"train\"}, {\"DataSource\": {\"S3DataSource\": {\"S3DataType\": \"S3Prefix\", \"S3Uri\": \"s3://aegovan-data/self-supervised-fake-vary-size/202212161212/val.json\", \"S3DataDistributionType\": \"FullyReplicated\"}}, \"ChannelName\": \"val\"}, {\"DataSource\": {\"S3DataSource\": {\"S3DataType\": \"S3Prefix\", \"S3Uri\": \"s3://aegovan-data/embeddings/bert/\", \"S3DataDistributionType\": \"FullyReplicated\"}}, \"ChannelName\": \"PRETRAINED_MODEL\"}], \"HyperParameters\": {\"datasetfactory\": \"\\\"datasets.chemprot_selfsupervised_dataset_factory.ChemprotSelfsupervisedDatasetFactory\\\"\", \"modelfactory\": \"\\\"models.bert_model_factory.BertModelFactory\\\"\", \"tokenisor_lower_case\": \"0\", \"uselosseval\": \"0\", \"batch\": \"\\\"8\\\"\", \"gradientaccumulationsteps\": \"\\\"8\\\"\", \"epochs\": \"\\\"200\\\"\", \"log-level\": \"\\\"INFO\\\"\", \"learningrate\": \"1e-05\", \"earlystoppingpatience\": \"50\", \"checkpointdir\": \"\\\"/opt/ml/checkpoints/\\\"\", \"checkpointfreq\": \"2\", \"weight_decay\": \"0.01\", \"commit_id\": \"\\\"a6211b46f5940b9ac48fd3bde9274734ec3605a5\\\"\", \"sagemaker_submit_directory\": \"\\\"s3://aegovan-data/selfsupervised_code/selfsup-affablesposnegs-2000-500-0-bert-f1-04-202212231935/source/sourcedir.tar.gz\\\"\", \"sagemaker_program\": \"\\\"main_train_pipeline.py\\\"\", \"sagemaker_container_log_level\": \"20\", \"sagemaker_job_name\": \"\\\"selfsup-affablesposnegs-2000-500-0-bert-f1-04-202212231935\\\"\", \"sagemaker_region\": \"\\\"us-east-2\\\"\"}, \"TrainingJobName\": \"selfsup-affablesposnegs-2000-500-0-bert-f1-04-202212231935\"}, \"Type\": \"Task\", \"End\": true}}}]}, \"train-p-20\": {\"Type\": \"Parallel\", \"End\": true, \"Branches\": [{\"StartAt\": \"wait-20-30\", \"States\": {\"wait-20-30\": {\"Seconds\": 30, \"Type\": \"Wait\", \"Next\": \"Train-selfsup-affablesposnegs-10000-2500-8000-bert-f1-00-202212231935\"}, \"Train-selfsup-affablesposnegs-10000-2500-8000-bert-f1-00-202212231935\": {\"Resource\": \"arn:aws:states:::sagemaker:createTrainingJob.sync\", \"Parameters\": {\"AlgorithmSpecification\": {\"TrainingImage\": \"763104351884.dkr.ecr.us-east-2.amazonaws.com/pytorch-training:1.4.0-gpu-py3\", \"TrainingInputMode\": \"File\", \"MetricDefinitions\": [{\"Name\": \"TrainLoss\", \"Regex\": \"###score: train_loss### (\\\\d*[.]?\\\\d*)\"}, {\"Name\": \"ValidationLoss\", \"Regex\": \"###score: val_loss### (\\\\d*[.]?\\\\d*)\"}, {\"Name\": \"TrainF1BinaryScore\", \"Regex\": \"###score: train_ResultScorerF1Binary_score### (\\\\d*[.]?\\\\d*)\"}, {\"Name\": \"ValidationF1BinaryScore\", \"Regex\": \"###score: val_ResultScorerF1Binary_score### (\\\\d*[.]?\\\\d*)\"}]}, \"OutputDataConfig\": {\"S3OutputPath\": \"s3://aegovan-data/selfsupervised_results/\"}, \"StoppingCondition\": {\"MaxRuntimeInSeconds\": 432000}, \"ResourceConfig\": {\"VolumeSizeInGB\": 30, \"InstanceCount\": 1, \"InstanceType\": \"ml.p3.2xlarge\"}, \"RoleArn\": \"arn:aws:iam::324346001917:role/service-role/AmazonSageMaker-ExecutionRole-20190118T115449\", \"InputDataConfig\": [{\"DataSource\": {\"S3DataSource\": {\"S3DataType\": \"S3Prefix\", \"S3Uri\": \"s3://aegovan-data/self-supervised-fake-vary-size/202212231927/affablesposnegs/train_10000_2500_8000.json\", \"S3DataDistributionType\": \"FullyReplicated\"}}, \"ChannelName\": \"train\"}, {\"DataSource\": {\"S3DataSource\": {\"S3DataType\": \"S3Prefix\", \"S3Uri\": \"s3://aegovan-data/self-supervised-fake-vary-size/202212161212/val.json\", \"S3DataDistributionType\": \"FullyReplicated\"}}, \"ChannelName\": \"val\"}, {\"DataSource\": {\"S3DataSource\": {\"S3DataType\": \"S3Prefix\", \"S3Uri\": \"s3://aegovan-data/embeddings/bert/\", \"S3DataDistributionType\": \"FullyReplicated\"}}, \"ChannelName\": \"PRETRAINED_MODEL\"}], \"HyperParameters\": {\"datasetfactory\": \"\\\"datasets.chemprot_selfsupervised_dataset_factory.ChemprotSelfsupervisedDatasetFactory\\\"\", \"modelfactory\": \"\\\"models.bert_model_factory.BertModelFactory\\\"\", \"tokenisor_lower_case\": \"0\", \"uselosseval\": \"0\", \"batch\": \"\\\"8\\\"\", \"gradientaccumulationsteps\": \"\\\"8\\\"\", \"epochs\": \"\\\"200\\\"\", \"log-level\": \"\\\"INFO\\\"\", \"learningrate\": \"1e-05\", \"earlystoppingpatience\": \"50\", \"checkpointdir\": \"\\\"/opt/ml/checkpoints/\\\"\", \"checkpointfreq\": \"2\", \"weight_decay\": \"0.01\", \"commit_id\": \"\\\"a6211b46f5940b9ac48fd3bde9274734ec3605a5\\\"\", \"sagemaker_submit_directory\": \"\\\"s3://aegovan-data/selfsupervised_code/selfsup-affablesposnegs-10000-2500-8000-bert-f1-00-202212231935/source/sourcedir.tar.gz\\\"\", \"sagemaker_program\": \"\\\"main_train_pipeline.py\\\"\", \"sagemaker_container_log_level\": \"20\", \"sagemaker_job_name\": \"\\\"selfsup-affablesposnegs-10000-2500-8000-bert-f1-00-202212231935\\\"\", \"sagemaker_region\": \"\\\"us-east-2\\\"\"}, \"TrainingJobName\": \"selfsup-affablesposnegs-10000-2500-8000-bert-f1-00-202212231935\"}, \"Type\": \"Task\", \"End\": true}}}, {\"StartAt\": \"wait-20-60\", \"States\": {\"wait-20-60\": {\"Seconds\": 60, \"Type\": \"Wait\", \"Next\": \"Train-selfsup-affablesposnegs-10000-2500-8000-bert-f1-01-202212231935\"}, \"Train-selfsup-affablesposnegs-10000-2500-8000-bert-f1-01-202212231935\": {\"Resource\": \"arn:aws:states:::sagemaker:createTrainingJob.sync\", \"Parameters\": {\"AlgorithmSpecification\": {\"TrainingImage\": \"763104351884.dkr.ecr.us-east-2.amazonaws.com/pytorch-training:1.4.0-gpu-py3\", \"TrainingInputMode\": \"File\", \"MetricDefinitions\": [{\"Name\": \"TrainLoss\", \"Regex\": \"###score: train_loss### (\\\\d*[.]?\\\\d*)\"}, {\"Name\": \"ValidationLoss\", \"Regex\": \"###score: val_loss### (\\\\d*[.]?\\\\d*)\"}, {\"Name\": \"TrainF1BinaryScore\", \"Regex\": \"###score: train_ResultScorerF1Binary_score### (\\\\d*[.]?\\\\d*)\"}, {\"Name\": \"ValidationF1BinaryScore\", \"Regex\": \"###score: val_ResultScorerF1Binary_score### (\\\\d*[.]?\\\\d*)\"}]}, \"OutputDataConfig\": {\"S3OutputPath\": \"s3://aegovan-data/selfsupervised_results/\"}, \"StoppingCondition\": {\"MaxRuntimeInSeconds\": 432000}, \"ResourceConfig\": {\"VolumeSizeInGB\": 30, \"InstanceCount\": 1, \"InstanceType\": \"ml.p3.2xlarge\"}, \"RoleArn\": \"arn:aws:iam::324346001917:role/service-role/AmazonSageMaker-ExecutionRole-20190118T115449\", \"InputDataConfig\": [{\"DataSource\": {\"S3DataSource\": {\"S3DataType\": \"S3Prefix\", \"S3Uri\": \"s3://aegovan-data/self-supervised-fake-vary-size/202212231927/affablesposnegs/train_10000_2500_8000.json\", \"S3DataDistributionType\": \"FullyReplicated\"}}, \"ChannelName\": \"train\"}, {\"DataSource\": {\"S3DataSource\": {\"S3DataType\": \"S3Prefix\", \"S3Uri\": \"s3://aegovan-data/self-supervised-fake-vary-size/202212161212/val.json\", \"S3DataDistributionType\": \"FullyReplicated\"}}, \"ChannelName\": \"val\"}, {\"DataSource\": {\"S3DataSource\": {\"S3DataType\": \"S3Prefix\", \"S3Uri\": \"s3://aegovan-data/embeddings/bert/\", \"S3DataDistributionType\": \"FullyReplicated\"}}, \"ChannelName\": \"PRETRAINED_MODEL\"}], \"HyperParameters\": {\"datasetfactory\": \"\\\"datasets.chemprot_selfsupervised_dataset_factory.ChemprotSelfsupervisedDatasetFactory\\\"\", \"modelfactory\": \"\\\"models.bert_model_factory.BertModelFactory\\\"\", \"tokenisor_lower_case\": \"0\", \"uselosseval\": \"0\", \"batch\": \"\\\"8\\\"\", \"gradientaccumulationsteps\": \"\\\"8\\\"\", \"epochs\": \"\\\"200\\\"\", \"log-level\": \"\\\"INFO\\\"\", \"learningrate\": \"1e-05\", \"earlystoppingpatience\": \"50\", \"checkpointdir\": \"\\\"/opt/ml/checkpoints/\\\"\", \"checkpointfreq\": \"2\", \"weight_decay\": \"0.01\", \"commit_id\": \"\\\"a6211b46f5940b9ac48fd3bde9274734ec3605a5\\\"\", \"sagemaker_submit_directory\": \"\\\"s3://aegovan-data/selfsupervised_code/selfsup-affablesposnegs-10000-2500-8000-bert-f1-01-202212231935/source/sourcedir.tar.gz\\\"\", \"sagemaker_program\": \"\\\"main_train_pipeline.py\\\"\", \"sagemaker_container_log_level\": \"20\", \"sagemaker_job_name\": \"\\\"selfsup-affablesposnegs-10000-2500-8000-bert-f1-01-202212231935\\\"\", \"sagemaker_region\": \"\\\"us-east-2\\\"\"}, \"TrainingJobName\": \"selfsup-affablesposnegs-10000-2500-8000-bert-f1-01-202212231935\"}, \"Type\": \"Task\", \"End\": true}}}, {\"StartAt\": \"wait-20-90\", \"States\": {\"wait-20-90\": {\"Seconds\": 90, \"Type\": \"Wait\", \"Next\": \"Train-selfsup-affablesposnegs-10000-2500-8000-bert-f1-02-202212231935\"}, \"Train-selfsup-affablesposnegs-10000-2500-8000-bert-f1-02-202212231935\": {\"Resource\": \"arn:aws:states:::sagemaker:createTrainingJob.sync\", \"Parameters\": {\"AlgorithmSpecification\": {\"TrainingImage\": \"763104351884.dkr.ecr.us-east-2.amazonaws.com/pytorch-training:1.4.0-gpu-py3\", \"TrainingInputMode\": \"File\", \"MetricDefinitions\": [{\"Name\": \"TrainLoss\", \"Regex\": \"###score: train_loss### (\\\\d*[.]?\\\\d*)\"}, {\"Name\": \"ValidationLoss\", \"Regex\": \"###score: val_loss### (\\\\d*[.]?\\\\d*)\"}, {\"Name\": \"TrainF1BinaryScore\", \"Regex\": \"###score: train_ResultScorerF1Binary_score### (\\\\d*[.]?\\\\d*)\"}, {\"Name\": \"ValidationF1BinaryScore\", \"Regex\": \"###score: val_ResultScorerF1Binary_score### (\\\\d*[.]?\\\\d*)\"}]}, \"OutputDataConfig\": {\"S3OutputPath\": \"s3://aegovan-data/selfsupervised_results/\"}, \"StoppingCondition\": {\"MaxRuntimeInSeconds\": 432000}, \"ResourceConfig\": {\"VolumeSizeInGB\": 30, \"InstanceCount\": 1, \"InstanceType\": \"ml.p3.2xlarge\"}, \"RoleArn\": \"arn:aws:iam::324346001917:role/service-role/AmazonSageMaker-ExecutionRole-20190118T115449\", \"InputDataConfig\": [{\"DataSource\": {\"S3DataSource\": {\"S3DataType\": \"S3Prefix\", \"S3Uri\": \"s3://aegovan-data/self-supervised-fake-vary-size/202212231927/affablesposnegs/train_10000_2500_8000.json\", \"S3DataDistributionType\": \"FullyReplicated\"}}, \"ChannelName\": \"train\"}, {\"DataSource\": {\"S3DataSource\": {\"S3DataType\": \"S3Prefix\", \"S3Uri\": \"s3://aegovan-data/self-supervised-fake-vary-size/202212161212/val.json\", \"S3DataDistributionType\": \"FullyReplicated\"}}, \"ChannelName\": \"val\"}, {\"DataSource\": {\"S3DataSource\": {\"S3DataType\": \"S3Prefix\", \"S3Uri\": \"s3://aegovan-data/embeddings/bert/\", \"S3DataDistributionType\": \"FullyReplicated\"}}, \"ChannelName\": \"PRETRAINED_MODEL\"}], \"HyperParameters\": {\"datasetfactory\": \"\\\"datasets.chemprot_selfsupervised_dataset_factory.ChemprotSelfsupervisedDatasetFactory\\\"\", \"modelfactory\": \"\\\"models.bert_model_factory.BertModelFactory\\\"\", \"tokenisor_lower_case\": \"0\", \"uselosseval\": \"0\", \"batch\": \"\\\"8\\\"\", \"gradientaccumulationsteps\": \"\\\"8\\\"\", \"epochs\": \"\\\"200\\\"\", \"log-level\": \"\\\"INFO\\\"\", \"learningrate\": \"1e-05\", \"earlystoppingpatience\": \"50\", \"checkpointdir\": \"\\\"/opt/ml/checkpoints/\\\"\", \"checkpointfreq\": \"2\", \"weight_decay\": \"0.01\", \"commit_id\": \"\\\"a6211b46f5940b9ac48fd3bde9274734ec3605a5\\\"\", \"sagemaker_submit_directory\": \"\\\"s3://aegovan-data/selfsupervised_code/selfsup-affablesposnegs-10000-2500-8000-bert-f1-02-202212231935/source/sourcedir.tar.gz\\\"\", \"sagemaker_program\": \"\\\"main_train_pipeline.py\\\"\", \"sagemaker_container_log_level\": \"20\", \"sagemaker_job_name\": \"\\\"selfsup-affablesposnegs-10000-2500-8000-bert-f1-02-202212231935\\\"\", \"sagemaker_region\": \"\\\"us-east-2\\\"\"}, \"TrainingJobName\": \"selfsup-affablesposnegs-10000-2500-8000-bert-f1-02-202212231935\"}, \"Type\": \"Task\", \"End\": true}}}, {\"StartAt\": \"wait-20-120\", \"States\": {\"wait-20-120\": {\"Seconds\": 120, \"Type\": \"Wait\", \"Next\": \"Train-selfsup-affablesposnegs-10000-2500-8000-bert-f1-03-202212231935\"}, \"Train-selfsup-affablesposnegs-10000-2500-8000-bert-f1-03-202212231935\": {\"Resource\": \"arn:aws:states:::sagemaker:createTrainingJob.sync\", \"Parameters\": {\"AlgorithmSpecification\": {\"TrainingImage\": \"763104351884.dkr.ecr.us-east-2.amazonaws.com/pytorch-training:1.4.0-gpu-py3\", \"TrainingInputMode\": \"File\", \"MetricDefinitions\": [{\"Name\": \"TrainLoss\", \"Regex\": \"###score: train_loss### (\\\\d*[.]?\\\\d*)\"}, {\"Name\": \"ValidationLoss\", \"Regex\": \"###score: val_loss### (\\\\d*[.]?\\\\d*)\"}, {\"Name\": \"TrainF1BinaryScore\", \"Regex\": \"###score: train_ResultScorerF1Binary_score### (\\\\d*[.]?\\\\d*)\"}, {\"Name\": \"ValidationF1BinaryScore\", \"Regex\": \"###score: val_ResultScorerF1Binary_score### (\\\\d*[.]?\\\\d*)\"}]}, \"OutputDataConfig\": {\"S3OutputPath\": \"s3://aegovan-data/selfsupervised_results/\"}, \"StoppingCondition\": {\"MaxRuntimeInSeconds\": 432000}, \"ResourceConfig\": {\"VolumeSizeInGB\": 30, \"InstanceCount\": 1, \"InstanceType\": \"ml.p3.2xlarge\"}, \"RoleArn\": \"arn:aws:iam::324346001917:role/service-role/AmazonSageMaker-ExecutionRole-20190118T115449\", \"InputDataConfig\": [{\"DataSource\": {\"S3DataSource\": {\"S3DataType\": \"S3Prefix\", \"S3Uri\": \"s3://aegovan-data/self-supervised-fake-vary-size/202212231927/affablesposnegs/train_10000_2500_8000.json\", \"S3DataDistributionType\": \"FullyReplicated\"}}, \"ChannelName\": \"train\"}, {\"DataSource\": {\"S3DataSource\": {\"S3DataType\": \"S3Prefix\", \"S3Uri\": \"s3://aegovan-data/self-supervised-fake-vary-size/202212161212/val.json\", \"S3DataDistributionType\": \"FullyReplicated\"}}, \"ChannelName\": \"val\"}, {\"DataSource\": {\"S3DataSource\": {\"S3DataType\": \"S3Prefix\", \"S3Uri\": \"s3://aegovan-data/embeddings/bert/\", \"S3DataDistributionType\": \"FullyReplicated\"}}, \"ChannelName\": \"PRETRAINED_MODEL\"}], \"HyperParameters\": {\"datasetfactory\": \"\\\"datasets.chemprot_selfsupervised_dataset_factory.ChemprotSelfsupervisedDatasetFactory\\\"\", \"modelfactory\": \"\\\"models.bert_model_factory.BertModelFactory\\\"\", \"tokenisor_lower_case\": \"0\", \"uselosseval\": \"0\", \"batch\": \"\\\"8\\\"\", \"gradientaccumulationsteps\": \"\\\"8\\\"\", \"epochs\": \"\\\"200\\\"\", \"log-level\": \"\\\"INFO\\\"\", \"learningrate\": \"1e-05\", \"earlystoppingpatience\": \"50\", \"checkpointdir\": \"\\\"/opt/ml/checkpoints/\\\"\", \"checkpointfreq\": \"2\", \"weight_decay\": \"0.01\", \"commit_id\": \"\\\"a6211b46f5940b9ac48fd3bde9274734ec3605a5\\\"\", \"sagemaker_submit_directory\": \"\\\"s3://aegovan-data/selfsupervised_code/selfsup-affablesposnegs-10000-2500-8000-bert-f1-03-202212231935/source/sourcedir.tar.gz\\\"\", \"sagemaker_program\": \"\\\"main_train_pipeline.py\\\"\", \"sagemaker_container_log_level\": \"20\", \"sagemaker_job_name\": \"\\\"selfsup-affablesposnegs-10000-2500-8000-bert-f1-03-202212231935\\\"\", \"sagemaker_region\": \"\\\"us-east-2\\\"\"}, \"TrainingJobName\": \"selfsup-affablesposnegs-10000-2500-8000-bert-f1-03-202212231935\"}, \"Type\": \"Task\", \"End\": true}}}, {\"StartAt\": \"wait-20-150\", \"States\": {\"wait-20-150\": {\"Seconds\": 150, \"Type\": \"Wait\", \"Next\": \"Train-selfsup-affablesposnegs-10000-2500-8000-bert-f1-04-202212231935\"}, \"Train-selfsup-affablesposnegs-10000-2500-8000-bert-f1-04-202212231935\": {\"Resource\": \"arn:aws:states:::sagemaker:createTrainingJob.sync\", \"Parameters\": {\"AlgorithmSpecification\": {\"TrainingImage\": \"763104351884.dkr.ecr.us-east-2.amazonaws.com/pytorch-training:1.4.0-gpu-py3\", \"TrainingInputMode\": \"File\", \"MetricDefinitions\": [{\"Name\": \"TrainLoss\", \"Regex\": \"###score: train_loss### (\\\\d*[.]?\\\\d*)\"}, {\"Name\": \"ValidationLoss\", \"Regex\": \"###score: val_loss### (\\\\d*[.]?\\\\d*)\"}, {\"Name\": \"TrainF1BinaryScore\", \"Regex\": \"###score: train_ResultScorerF1Binary_score### (\\\\d*[.]?\\\\d*)\"}, {\"Name\": \"ValidationF1BinaryScore\", \"Regex\": \"###score: val_ResultScorerF1Binary_score### (\\\\d*[.]?\\\\d*)\"}]}, \"OutputDataConfig\": {\"S3OutputPath\": \"s3://aegovan-data/selfsupervised_results/\"}, \"StoppingCondition\": {\"MaxRuntimeInSeconds\": 432000}, \"ResourceConfig\": {\"VolumeSizeInGB\": 30, \"InstanceCount\": 1, \"InstanceType\": \"ml.p3.2xlarge\"}, \"RoleArn\": \"arn:aws:iam::324346001917:role/service-role/AmazonSageMaker-ExecutionRole-20190118T115449\", \"InputDataConfig\": [{\"DataSource\": {\"S3DataSource\": {\"S3DataType\": \"S3Prefix\", \"S3Uri\": \"s3://aegovan-data/self-supervised-fake-vary-size/202212231927/affablesposnegs/train_10000_2500_8000.json\", \"S3DataDistributionType\": \"FullyReplicated\"}}, \"ChannelName\": \"train\"}, {\"DataSource\": {\"S3DataSource\": {\"S3DataType\": \"S3Prefix\", \"S3Uri\": \"s3://aegovan-data/self-supervised-fake-vary-size/202212161212/val.json\", \"S3DataDistributionType\": \"FullyReplicated\"}}, \"ChannelName\": \"val\"}, {\"DataSource\": {\"S3DataSource\": {\"S3DataType\": \"S3Prefix\", \"S3Uri\": \"s3://aegovan-data/embeddings/bert/\", \"S3DataDistributionType\": \"FullyReplicated\"}}, \"ChannelName\": \"PRETRAINED_MODEL\"}], \"HyperParameters\": {\"datasetfactory\": \"\\\"datasets.chemprot_selfsupervised_dataset_factory.ChemprotSelfsupervisedDatasetFactory\\\"\", \"modelfactory\": \"\\\"models.bert_model_factory.BertModelFactory\\\"\", \"tokenisor_lower_case\": \"0\", \"uselosseval\": \"0\", \"batch\": \"\\\"8\\\"\", \"gradientaccumulationsteps\": \"\\\"8\\\"\", \"epochs\": \"\\\"200\\\"\", \"log-level\": \"\\\"INFO\\\"\", \"learningrate\": \"1e-05\", \"earlystoppingpatience\": \"50\", \"checkpointdir\": \"\\\"/opt/ml/checkpoints/\\\"\", \"checkpointfreq\": \"2\", \"weight_decay\": \"0.01\", \"commit_id\": \"\\\"a6211b46f5940b9ac48fd3bde9274734ec3605a5\\\"\", \"sagemaker_submit_directory\": \"\\\"s3://aegovan-data/selfsupervised_code/selfsup-affablesposnegs-10000-2500-8000-bert-f1-04-202212231935/source/sourcedir.tar.gz\\\"\", \"sagemaker_program\": \"\\\"main_train_pipeline.py\\\"\", \"sagemaker_container_log_level\": \"20\", \"sagemaker_job_name\": \"\\\"selfsup-affablesposnegs-10000-2500-8000-bert-f1-04-202212231935\\\"\", \"sagemaker_region\": \"\\\"us-east-2\\\"\"}, \"TrainingJobName\": \"selfsup-affablesposnegs-10000-2500-8000-bert-f1-04-202212231935\"}, \"Type\": \"Task\", \"End\": true}}}]}}};\n",
       "    var elementId = '#graph-696';\n",
       "\n",
       "    var graph = new sfn.StateMachineGraph(definition, elementId, options);\n",
       "    graph.render();\n",
       "});\n",
       "\n",
       "</script>\n"
      ],
      "text/plain": [
       "<IPython.core.display.HTML object>"
      ]
     },
     "execution_count": 18,
     "metadata": {},
     "output_type": "execute_result"
    }
   ],
   "source": [
    "# Render the workflow\n",
    "basic_workflow.render_graph()\n",
    "\n",
    "\n"
   ]
  },
  {
   "cell_type": "code",
   "execution_count": 19,
   "metadata": {},
   "outputs": [
    {
     "data": {
      "text/plain": [
       "'arn:aws:states:us-east-2:324346001917:stateMachine:selfsup-aff-train-202212231935'"
      ]
     },
     "execution_count": 19,
     "metadata": {},
     "output_type": "execute_result"
    }
   ],
   "source": [
    "basic_workflow.create()"
   ]
  },
  {
   "cell_type": "code",
   "execution_count": 20,
   "metadata": {},
   "outputs": [
    {
     "data": {
      "text/html": [
       "Execution: <a target=\"_blank\" href=\"https://console.aws.amazon.com/states/home?region=us-east-2#/executions/details/arn:aws:states:us-east-2:324346001917:execution:selfsup-aff-train-202212231935:59b602f4-e6e4-4cf6-8090-9171bf522800\">arn:aws:states:us-east-2:324346001917:execution:selfsup-aff-train-202212231935:59b602f4-e6e4-4cf6-8090-9171bf522800</a>"
      ],
      "text/plain": [
       "Execution(execution_arn='arn:aws:states:us-east-2:324346001917:execution:selfsup-aff-train-202212231935:59b602f4-e6e4-4cf6-8090-9171bf522800', name=None, status=<ExecutionStatus.Running: 'RUNNING'>, start_date=datetime.datetime(2022, 12, 23, 19, 35, 33, 238000, tzinfo=tzlocal()))"
      ]
     },
     "execution_count": 20,
     "metadata": {},
     "output_type": "execute_result"
    }
   ],
   "source": [
    "basic_workflow.execute()"
   ]
  }
 ],
 "metadata": {
  "kernelspec": {
   "display_name": "Python 3 (ipykernel)",
   "language": "python",
   "name": "python3"
  },
  "language_info": {
   "codemirror_mode": {
    "name": "ipython",
    "version": 3
   },
   "file_extension": ".py",
   "mimetype": "text/x-python",
   "name": "python",
   "nbconvert_exporter": "python",
   "pygments_lexer": "ipython3",
   "version": "3.7.9"
  }
 },
 "nbformat": 4,
 "nbformat_minor": 1
}