{
 "cells": [
  {
   "cell_type": "markdown",
   "metadata": {},
   "source": [
    "### Set up"
   ]
  },
  {
   "cell_type": "markdown",
   "metadata": {},
   "source": [
    "#### 1. Set  up  accounts and role"
   ]
  },
  {
   "cell_type": "code",
   "execution_count": 1,
   "metadata": {},
   "outputs": [],
   "source": [
    "import sagemaker\n",
    "import boto3\n",
    "from datetime import datetime\n",
    "\n",
    "sagemaker_session = sagemaker.Session()\n",
    "account_id =  boto3.client('sts').get_caller_identity().get('Account')\n",
    "region = boto3.session.Session().region_name\n",
    "\n",
    "\n",
    "#role = sagemaker.get_execution_role()\n",
    "role=\"arn:aws:iam::{}:role/service-role/AmazonSageMaker-ExecutionRole-20190118T115449\".format(account_id)\n",
    "max_runs=1"
   ]
  },
  {
   "cell_type": "markdown",
   "metadata": {},
   "source": [
    "#### 2. Setup image and instance type"
   ]
  },
  {
   "cell_type": "code",
   "execution_count": 2,
   "metadata": {},
   "outputs": [],
   "source": [
    "# pytorch_custom_image_name=\"ppi-extractor:gpu-1.0.0-201910130520\"\n",
    "instance_type = \"ml.p3.2xlarge\" "
   ]
  },
  {
   "cell_type": "code",
   "execution_count": 3,
   "metadata": {},
   "outputs": [],
   "source": [
    "# docker_repo = \"{}.dkr.ecr.{}.amazonaws.com/{}\".format(account_id, region, pytorch_custom_image_name)"
   ]
  },
  {
   "cell_type": "markdown",
   "metadata": {},
   "source": [
    "#### 3. Configure train/ test and validation datasets"
   ]
  },
  {
   "cell_type": "code",
   "execution_count": 4,
   "metadata": {},
   "outputs": [],
   "source": [
    "bucket = \"aegovan-data\""
   ]
  },
  {
   "cell_type": "code",
   "execution_count": 5,
   "metadata": {},
   "outputs": [],
   "source": [
    "# train = \"s3://{}/counterfactuals/imdb/202304021657/24_0_0/train.json\".format(bucket)\n",
    "# val = \"s3://{}/counterfactuals/imdb/202304021657/24_0_0/val.json\".format(bucket)\n",
    "\n",
    "# train = \"s3://aegovan-data/counterfactuals/imdb/202304081856/9_0_0/train.json\"\n",
    "# val = \"s3://aegovan-data/counterfactuals/imdb/202304081856/9_0_0/val.json\"\n",
    "\n",
    "# train = \"s3://aegovan-data/counterfactuals/imdb/202304091143/original/train.json\"\n",
    "# val = \"s3://aegovan-data/counterfactuals/imdb/202304091143/original/val.json\"\n",
    "\n",
    "# train = \"s3://aegovan-data/counterfactuals/imdb/202304091342/0_0_0/train.json\"\n",
    "# val = \"s3://aegovan-data/counterfactuals/imdb/202304091342/0_0_0/val.json\"\n",
    "\n",
    "# train = \"s3://aegovan-data/counterfactuals/imdb/202304091853/9_0_0/train.json\"\n",
    "# val = \"s3://aegovan-data/counterfactuals/imdb/202304091853/9_0_0/val.json\"\n",
    "\n",
    "\n",
    "# train = \"s3://aegovan-data/counterfactuals/imdb/202304091926/0_0_0/train.json\"\n",
    "# val = \"s3://aegovan-data/counterfactuals/imdb/202304091926/0_0_0/val.json\"\n",
    "\n",
    "train = \"s3://aegovan-data/counterfactuals/imdb/202304092106/23_0_0/train.json\"\n",
    "val = \"s3://aegovan-data/counterfactuals/imdb/202304092106/23_0_0/val.json\"\n",
    "\n",
    "\n",
    "\n",
    "pretrained_bert=\"s3://{}/pretrained_models/bert-base-uncased/\".format(bucket)\n",
    "\n",
    "\n",
    "\n",
    "s3_output_path= \"s3://{}/sagemakerresults/\".format(bucket)\n",
    "s3_code_path= \"s3://{}/counterfactuals_imdb_bert_code\".format(bucket)\n",
    "s3_checkpoint = \"s3://{}/counterfactuals_imdb_checkpoint/{}\".format(bucket, datetime.now().strftime(\"%m%d%Y%H%M%S\"))"
   ]
  },
  {
   "cell_type": "markdown",
   "metadata": {},
   "source": [
    "### Start training"
   ]
  },
  {
   "cell_type": "code",
   "execution_count": 6,
   "metadata": {},
   "outputs": [],
   "source": [
    "inputs = {\n",
    "    \"train\" : train,\n",
    "    \"val\" : val,\n",
    "    \"PRETRAINED_MODEL\" : pretrained_bert\n",
    "}"
   ]
  },
  {
   "cell_type": "code",
   "execution_count": 7,
   "metadata": {},
   "outputs": [],
   "source": [
    "sm_localcheckpoint_dir=\"/opt/ml/checkpoints/\"\n"
   ]
  },
  {
   "cell_type": "code",
   "execution_count": 8,
   "metadata": {},
   "outputs": [],
   "source": [
    "BertNetworkFactoryhyperparameters = {\n",
    "    \"datasetfactory\":\"datasets.counterfact_imbd_dataset_factory.CounterfactImdbDatasetFactory\",\n",
    "    \"modelfactory\" :\"models.bert_model_factory.BertModelFactory\",\n",
    "    \"tokenisor_lower_case\":1,\n",
    "    \"batch\": \"8\",\n",
    "    \"gradientaccumulationsteps\" : \"8\",\n",
    "    \"epochs\" : \"100\",   \n",
    "    \"log-level\" : \"INFO\",\n",
    "    \"learningrate\":.00001,\n",
    "    \"earlystoppingpatience\":9,\n",
    "    \"checkpointdir\" : sm_localcheckpoint_dir,\n",
    "    # Checkpoints once every n epochs\n",
    "    \"checkpointfreq\": 2\n",
    "\n",
    "\n",
    "\n",
    "}"
   ]
  },
  {
   "cell_type": "code",
   "execution_count": 9,
   "metadata": {},
   "outputs": [],
   "source": [
    "metric_definitions = [{\"Name\": \"TrainLoss\",\n",
    "                     \"Regex\": \"###score: train_loss### (\\d*[.]?\\d*)\"}\n",
    "                    ,{\"Name\": \"ValidationLoss\",\n",
    "                     \"Regex\": \"###score: val_loss### (\\d*[.]?\\d*)\"}\n",
    "                \n",
    "                    ,{\"Name\": \"TrainAccuracyScore\",\n",
    "                     \"Regex\": \"###score: train_ResultScorerAccuracy_score### (\\d*[.]?\\d*)\"}\n",
    "                   ,{\"Name\": \"ValidationAccuracyScore\",\n",
    "                     \"Regex\": \"###score: val_ResultScorerAccuracy_score### (\\d*[.]?\\d*)\"}\n",
    "                  \n",
    "                    ]"
   ]
  },
  {
   "cell_type": "code",
   "execution_count": 10,
   "metadata": {},
   "outputs": [
    {
     "name": "stdout",
     "output_type": "stream",
     "text": [
      "commit bdd410f4107aea31ab3ecb6c916190b4306be5ec\n",
      "    Update notebook - repeat adv 0.10\n"
     ]
    }
   ],
   "source": [
    "!git log -1 | head -1\n",
    "!git log -1 | head -5 | tail -1"
   ]
  },
  {
   "cell_type": "code",
   "execution_count": 11,
   "metadata": {},
   "outputs": [],
   "source": [
    "# set True if you need spot instance\n",
    "use_spot = False\n",
    "train_max_run_secs =   5 *24 * 60 * 60\n",
    "spot_wait_sec =  5 * 60\n",
    "max_wait_time_secs = train_max_run_secs +  spot_wait_sec\n",
    "\n",
    "if not use_spot:\n",
    "    max_wait_time_secs = None\n",
    "    \n",
    "# During local mode, no spot.., use smaller dataset\n",
    "if instance_type == 'local':\n",
    "    use_spot = False\n",
    "    max_wait_time_secs = 0\n",
    "    wait = True\n",
    "    # Use smaller dataset to run locally\n",
    "    inputs = inputs_sample"
   ]
  },
  {
   "cell_type": "code",
   "execution_count": 12,
   "metadata": {},
   "outputs": [],
   "source": [
    "experiments = {\n",
    " \n",
    "      \"counterfact-imdb\" : {\n",
    "        \"hp\" :BertNetworkFactoryhyperparameters,\n",
    "        \"inputs\" : inputs\n",
    "    }\n",
    "}"
   ]
  },
  {
   "cell_type": "code",
   "execution_count": 13,
   "metadata": {},
   "outputs": [],
   "source": [
    "\n",
    "base_name = \"counterfact-imdb\"\n",
    "\n",
    "hyperparameters = experiments[base_name][\"hp\"]\n",
    "inputs = experiments[base_name][\"inputs\"] "
   ]
  },
  {
   "cell_type": "code",
   "execution_count": 14,
   "metadata": {},
   "outputs": [
    {
     "data": {
      "text/plain": [
       "{'datasetfactory': 'datasets.counterfact_imbd_dataset_factory.CounterfactImdbDatasetFactory',\n",
       " 'modelfactory': 'models.bert_model_factory.BertModelFactory',\n",
       " 'tokenisor_lower_case': 1,\n",
       " 'batch': '8',\n",
       " 'gradientaccumulationsteps': '8',\n",
       " 'epochs': '100',\n",
       " 'log-level': 'INFO',\n",
       " 'learningrate': 1e-05,\n",
       " 'earlystoppingpatience': 9,\n",
       " 'checkpointdir': '/opt/ml/checkpoints/',\n",
       " 'checkpointfreq': 2}"
      ]
     },
     "execution_count": 14,
     "metadata": {},
     "output_type": "execute_result"
    }
   ],
   "source": [
    "hyperparameters"
   ]
  },
  {
   "cell_type": "code",
   "execution_count": 15,
   "metadata": {},
   "outputs": [
    {
     "data": {
      "text/plain": [
       "{'train': 's3://aegovan-data/counterfactuals/imdb/202304092106/23_0_0/train.json',\n",
       " 'val': 's3://aegovan-data/counterfactuals/imdb/202304092106/23_0_0/val.json',\n",
       " 'PRETRAINED_MODEL': 's3://aegovan-data/pretrained_models/bert-base-uncased/'}"
      ]
     },
     "execution_count": 15,
     "metadata": {},
     "output_type": "execute_result"
    }
   ],
   "source": [
    "inputs"
   ]
  },
  {
   "cell_type": "code",
   "execution_count": 16,
   "metadata": {},
   "outputs": [],
   "source": [
    "job_base_name = f\"{base_name}-{inputs['train'].split('/')[-2]}\".replace(\"_\", \"-\")"
   ]
  },
  {
   "cell_type": "code",
   "execution_count": 17,
   "metadata": {},
   "outputs": [],
   "source": [
    "\n",
    "\n",
    "from sagemaker.pytorch import PyTorch\n",
    "\n",
    "estimator = PyTorch(\n",
    "    entry_point='main_train_pipeline.py',\n",
    "                    source_dir = '../src',\n",
    "                    dependencies =['../src/datasets', '../src/models','../src/utils', '../src/scorers'],\n",
    "#                      git_config= git_config,\n",
    "#                     image_name= docker_repo,\n",
    "                    role=role,\n",
    "                    framework_version =\"1.4.0\",\n",
    "                    py_version='py3',\n",
    "                    instance_count=1,\n",
    "                    instance_type=instance_type,\n",
    "                    hyperparameters = hyperparameters,\n",
    "                    output_path=s3_output_path,\n",
    "                    metric_definitions=metric_definitions,\n",
    "                    volume_size=30,\n",
    "                    code_location=s3_code_path,\n",
    "                    debugger_hook_config=False,\n",
    "                    base_job_name = job_base_name,  \n",
    "                    use_spot_instances = use_spot,\n",
    "                    max_run =  train_max_run_secs,\n",
    "                    max_wait = max_wait_time_secs,   \n",
    "                    checkpoint_s3_uri=s3_checkpoint,\n",
    "                    checkpoint_local_path=sm_localcheckpoint_dir)\n",
    "\n",
    "estimator.fit(inputs, wait=False)"
   ]
  }
 ],
 "metadata": {
  "kernelspec": {
   "display_name": "Python 3 (ipykernel)",
   "language": "python",
   "name": "python3"
  },
  "language_info": {
   "codemirror_mode": {
    "name": "ipython",
    "version": 3
   },
   "file_extension": ".py",
   "mimetype": "text/x-python",
   "name": "python",
   "nbconvert_exporter": "python",
   "pygments_lexer": "ipython3",
   "version": "3.7.9"
  }
 },
 "nbformat": 4,
 "nbformat_minor": 1
}