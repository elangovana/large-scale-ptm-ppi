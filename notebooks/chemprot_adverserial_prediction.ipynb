{
 "cells": [
  {
   "cell_type": "markdown",
   "metadata": {},
   "source": [
    "### SageMaker chemprot prediction"
   ]
  },
  {
   "cell_type": "code",
   "execution_count": 1,
   "metadata": {},
   "outputs": [],
   "source": [
    "import sagemaker\n",
    "import boto3\n",
    "\n",
    "sagemaker_session = sagemaker.Session()\n",
    "account_id =  boto3.client('sts').get_caller_identity().get('Account')\n",
    "region = boto3.session.Session().region_name\n",
    "\n",
    "\n",
    "#role = sagemaker.get_execution_role()\n",
    "role=\"arn:aws:iam::{}:role/service-role/AmazonSageMaker-ExecutionRole-20190118T115449\".format(account_id)\n",
    "step_func_role = \"arn:aws:iam::{}:role/AmazonSageMaker-StepFunctionsWorkflowExecutionRole\".format(account_id)"
   ]
  },
  {
   "cell_type": "code",
   "execution_count": 2,
   "metadata": {},
   "outputs": [],
   "source": [
    "version_tag=\"202211100421\"\n",
    "pytorch_custom_image_name=f\"large-scale-ptm-ppi:gpu-{version_tag}\"\n",
    "instance_type = \"ml.g4dn.2xlarge\"  #ml.g4dn.2xlarge\n",
    "instance_count = 1\n",
    "\n"
   ]
  },
  {
   "cell_type": "code",
   "execution_count": 3,
   "metadata": {},
   "outputs": [],
   "source": [
    "docker_repo = \"{}.dkr.ecr.{}.amazonaws.com/{}\".format(account_id, region, pytorch_custom_image_name)"
   ]
  },
  {
   "cell_type": "code",
   "execution_count": 4,
   "metadata": {},
   "outputs": [],
   "source": [
    "bucket = \"aegovan-data\""
   ]
  },
  {
   "cell_type": "code",
   "execution_count": 5,
   "metadata": {},
   "outputs": [],
   "source": [
    "\n",
    "abstract_testfile= \"s3://{}/chemprot_adversarial/chemprot_abstract_test.json\".format(bucket)\n",
    "abstract_valfile= \"s3://{}/chemprot_adversarial/chemprot_abstract_val.json\".format(bucket)\n",
    "\n",
    "\n",
    "eval_file = abstract_testfile"
   ]
  },
  {
   "cell_type": "code",
   "execution_count": 6,
   "metadata": {},
   "outputs": [],
   "source": [
    "import datetime\n",
    "date_fmt = datetime.datetime.today().strftime(\"%Y%m%d%H%M\")"
   ]
  },
  {
   "cell_type": "code",
   "execution_count": 7,
   "metadata": {},
   "outputs": [],
   "source": [
    "#training_job = \"chemprot-bert-f1-2022-05-22-23-18-21-560\"\n",
    "training_jobs=[\"chemprot-adverserial-train-767-210-0\",\n",
    "\"chemprot-adverserial-train-767-210-105\",\n",
    "\"chemprot-adverserial-train-767-210-126\",\n",
    "\"chemprot-adverserial-train-767-210-168\",\n",
    "\"chemprot-adverserial-train-767-210-147\",\n",
    "\"chemprot-adverserial-train-767-210-42\",\n",
    "\"chemprot-adverserial-train-767-210-21\",\n",
    "\"chemprot-adverserial-train-767-210-84\",\n",
    "\"chemprot-adverserial-train-767-210-63\"\n",
    "]"
   ]
  },
  {
   "cell_type": "markdown",
   "metadata": {},
   "source": [
    "### Run  prediction"
   ]
  },
  {
   "cell_type": "code",
   "execution_count": 8,
   "metadata": {},
   "outputs": [],
   "source": [
    "#s3_output_predictions = \"s3://aegovan-data/pubmed_asbtract/predictions_largescale_{}_{}/\".format(job_prefix,date_fmt)\n",
    "s3_input_data = eval_file\n",
    "s3_data_type=\"S3Prefix\"\n",
    "usefilter=0\n",
    "filter_threshold_std=1.0\n",
    "\n",
    "s3_input_vocab = \"s3://{}/embeddings/bert/\".format(bucket)"
   ]
  },
  {
   "cell_type": "code",
   "execution_count": 9,
   "metadata": {},
   "outputs": [
    {
     "data": {
      "text/plain": [
       "('s3://aegovan-data/chemprot_adversarial/chemprot_abstract_test.json',\n",
       " 'S3Prefix')"
      ]
     },
     "execution_count": 9,
     "metadata": {},
     "output_type": "execute_result"
    }
   ],
   "source": [
    "s3_input_data, s3_data_type"
   ]
  },
  {
   "cell_type": "code",
   "execution_count": 10,
   "metadata": {},
   "outputs": [
    {
     "data": {
      "text/html": [
       "\n",
       "<link rel=\"stylesheet\" type=\"text/css\" href=\"https://do0of8uwbahzz.cloudfront.net/graph.css\">\n",
       "<div id=\"graph-310\" class=\"workflowgraph\">\n",
       "    \n",
       "    <svg></svg>\n",
       "    \n",
       "</div>\n",
       "\n",
       "<script type=\"text/javascript\">\n",
       "\n",
       "require.config({\n",
       "    paths: {\n",
       "        sfn: \"https://do0of8uwbahzz.cloudfront.net/sfn\",\n",
       "    }\n",
       "});\n",
       "\n",
       "require(['sfn'], function(sfn) {\n",
       "    var element = document.getElementById('graph-310')\n",
       "\n",
       "    var options = {\n",
       "        width: parseFloat(getComputedStyle(element, null).width.replace(\"px\", \"\")),\n",
       "        height: 600,\n",
       "        layout: 'LR',\n",
       "        resizeHeight: true\n",
       "    };\n",
       "\n",
       "    var definition = {\"StartAt\": \"infer-p-0\", \"States\": {\"infer-p-0\": {\"Type\": \"Parallel\", \"Next\": \"infer-p-1\", \"Branches\": [{\"StartAt\": \"infer-job-chemprot-adverserial-train-767-210-0\", \"States\": {\"infer-job-chemprot-adverserial-train-767-210-0\": {\"Resource\": \"arn:aws:states:::sagemaker:createProcessingJob.sync\", \"Parameters\": {\"ProcessingJobName\": \"infer-job-chemprot-adverserial-train-767-210-0-202211131246\", \"ProcessingInputs\": [{\"InputName\": \"input-1\", \"AppManaged\": false, \"S3Input\": {\"S3Uri\": \"s3://aegovan-data/chemprot_adversarial/chemprot_abstract_test.json\", \"LocalPath\": \"/opt/ml/processing/input/data/jsondata\", \"S3DataType\": \"S3Prefix\", \"S3InputMode\": \"File\", \"S3DataDistributionType\": \"ShardedByS3Key\", \"S3CompressionType\": \"None\"}}, {\"InputName\": \"modelname\", \"AppManaged\": false, \"S3Input\": {\"S3Uri\": \"s3://aegovan-data/chemprot_sagemakerresults/chemprot-adverserial-train-767-210-0/output/model.tar.gz\", \"LocalPath\": \"/opt/ml/processing/input/data/models\", \"S3DataType\": \"S3Prefix\", \"S3InputMode\": \"File\", \"S3DataDistributionType\": \"FullyReplicated\", \"S3CompressionType\": \"None\"}}, {\"InputName\": \"code\", \"AppManaged\": false, \"S3Input\": {\"S3Uri\": \"s3://sagemaker-us-east-2-324346001917/code/chemprot-adverserial/code/chemprot_batch_predict.py\", \"LocalPath\": \"/opt/ml/processing/input/code\", \"S3DataType\": \"S3Prefix\", \"S3InputMode\": \"File\", \"S3DataDistributionType\": \"FullyReplicated\", \"S3CompressionType\": \"None\"}}, {\"InputName\": \"vocab\", \"AppManaged\": false, \"S3Input\": {\"S3Uri\": \"s3://aegovan-data/embeddings/bert/\", \"LocalPath\": \"/opt/ml/processing/input/data/vocab\", \"S3DataType\": \"S3Prefix\", \"S3InputMode\": \"File\", \"S3DataDistributionType\": \"FullyReplicated\", \"S3CompressionType\": \"None\"}}], \"ProcessingOutputConfig\": {\"Outputs\": [{\"OutputName\": \"predictions\", \"AppManaged\": false, \"S3Output\": {\"S3Uri\": \"s3://aegovan-data/chemprot_adverserial/predictions_chemprot-adverserial-train-767-210-0/202211131246\", \"LocalPath\": \"/opt/ml/processing/output\", \"S3UploadMode\": \"EndOfJob\"}}]}, \"AppSpecification\": {\"ImageUri\": \"324346001917.dkr.ecr.us-east-2.amazonaws.com/large-scale-ptm-ppi:gpu-202211100421\", \"ContainerArguments\": [\"/opt/ml/processing/input/data/jsondata\", \"/opt/ml/processing/input/data/models\", \"/opt/ml/processing/output\", \"--ensemble\", \"0\", \"--tokenisor_data_dir\", \"/opt/ml/processing/input/data/vocab\", \"--filter\", \"0\", \"--batch\", \"32\", \"--filterstdthreshold\", \"1.0\"], \"ContainerEntrypoint\": [\"python\", \"/opt/ml/processing/input/code/chemprot_batch_predict.py\"]}, \"RoleArn\": \"arn:aws:iam::324346001917:role/service-role/AmazonSageMaker-ExecutionRole-20190118T115449\", \"Environment\": {\"mode\": \"python\", \"PYTHONPATH\": \"/opt/ml/code\"}, \"NetworkConfig\": {\"EnableNetworkIsolation\": false}, \"ProcessingResources\": {\"ClusterConfig\": {\"InstanceCount\": 1, \"InstanceType\": \"ml.g4dn.2xlarge\", \"VolumeSizeInGB\": 200}}, \"StoppingCondition\": {\"MaxRuntimeInSeconds\": 432000}}, \"Type\": \"Task\", \"End\": true}}}]}, \"infer-p-1\": {\"Type\": \"Parallel\", \"Next\": \"infer-p-2\", \"Branches\": [{\"StartAt\": \"infer-job-chemprot-adverserial-train-767-210-105\", \"States\": {\"infer-job-chemprot-adverserial-train-767-210-105\": {\"Resource\": \"arn:aws:states:::sagemaker:createProcessingJob.sync\", \"Parameters\": {\"ProcessingJobName\": \"infer-job-chemprot-adverserial-train-767-210-105-202211131246\", \"ProcessingInputs\": [{\"InputName\": \"input-1\", \"AppManaged\": false, \"S3Input\": {\"S3Uri\": \"s3://aegovan-data/chemprot_adversarial/chemprot_abstract_test.json\", \"LocalPath\": \"/opt/ml/processing/input/data/jsondata\", \"S3DataType\": \"S3Prefix\", \"S3InputMode\": \"File\", \"S3DataDistributionType\": \"ShardedByS3Key\", \"S3CompressionType\": \"None\"}}, {\"InputName\": \"modelname\", \"AppManaged\": false, \"S3Input\": {\"S3Uri\": \"s3://aegovan-data/chemprot_sagemakerresults/chemprot-adverserial-train-767-210-105/output/model.tar.gz\", \"LocalPath\": \"/opt/ml/processing/input/data/models\", \"S3DataType\": \"S3Prefix\", \"S3InputMode\": \"File\", \"S3DataDistributionType\": \"FullyReplicated\", \"S3CompressionType\": \"None\"}}, {\"InputName\": \"code\", \"AppManaged\": false, \"S3Input\": {\"S3Uri\": \"s3://sagemaker-us-east-2-324346001917/code/chemprot-adverserial/code/chemprot_batch_predict.py\", \"LocalPath\": \"/opt/ml/processing/input/code\", \"S3DataType\": \"S3Prefix\", \"S3InputMode\": \"File\", \"S3DataDistributionType\": \"FullyReplicated\", \"S3CompressionType\": \"None\"}}, {\"InputName\": \"vocab\", \"AppManaged\": false, \"S3Input\": {\"S3Uri\": \"s3://aegovan-data/embeddings/bert/\", \"LocalPath\": \"/opt/ml/processing/input/data/vocab\", \"S3DataType\": \"S3Prefix\", \"S3InputMode\": \"File\", \"S3DataDistributionType\": \"FullyReplicated\", \"S3CompressionType\": \"None\"}}], \"ProcessingOutputConfig\": {\"Outputs\": [{\"OutputName\": \"predictions\", \"AppManaged\": false, \"S3Output\": {\"S3Uri\": \"s3://aegovan-data/chemprot_adverserial/predictions_chemprot-adverserial-train-767-210-105/202211131246\", \"LocalPath\": \"/opt/ml/processing/output\", \"S3UploadMode\": \"EndOfJob\"}}]}, \"AppSpecification\": {\"ImageUri\": \"324346001917.dkr.ecr.us-east-2.amazonaws.com/large-scale-ptm-ppi:gpu-202211100421\", \"ContainerArguments\": [\"/opt/ml/processing/input/data/jsondata\", \"/opt/ml/processing/input/data/models\", \"/opt/ml/processing/output\", \"--ensemble\", \"0\", \"--tokenisor_data_dir\", \"/opt/ml/processing/input/data/vocab\", \"--filter\", \"0\", \"--batch\", \"32\", \"--filterstdthreshold\", \"1.0\"], \"ContainerEntrypoint\": [\"python\", \"/opt/ml/processing/input/code/chemprot_batch_predict.py\"]}, \"RoleArn\": \"arn:aws:iam::324346001917:role/service-role/AmazonSageMaker-ExecutionRole-20190118T115449\", \"Environment\": {\"mode\": \"python\", \"PYTHONPATH\": \"/opt/ml/code\"}, \"NetworkConfig\": {\"EnableNetworkIsolation\": false}, \"ProcessingResources\": {\"ClusterConfig\": {\"InstanceCount\": 1, \"InstanceType\": \"ml.g4dn.2xlarge\", \"VolumeSizeInGB\": 200}}, \"StoppingCondition\": {\"MaxRuntimeInSeconds\": 432000}}, \"Type\": \"Task\", \"End\": true}}}]}, \"infer-p-2\": {\"Type\": \"Parallel\", \"Next\": \"infer-p-3\", \"Branches\": [{\"StartAt\": \"infer-job-chemprot-adverserial-train-767-210-126\", \"States\": {\"infer-job-chemprot-adverserial-train-767-210-126\": {\"Resource\": \"arn:aws:states:::sagemaker:createProcessingJob.sync\", \"Parameters\": {\"ProcessingJobName\": \"infer-job-chemprot-adverserial-train-767-210-126-202211131246\", \"ProcessingInputs\": [{\"InputName\": \"input-1\", \"AppManaged\": false, \"S3Input\": {\"S3Uri\": \"s3://aegovan-data/chemprot_adversarial/chemprot_abstract_test.json\", \"LocalPath\": \"/opt/ml/processing/input/data/jsondata\", \"S3DataType\": \"S3Prefix\", \"S3InputMode\": \"File\", \"S3DataDistributionType\": \"ShardedByS3Key\", \"S3CompressionType\": \"None\"}}, {\"InputName\": \"modelname\", \"AppManaged\": false, \"S3Input\": {\"S3Uri\": \"s3://aegovan-data/chemprot_sagemakerresults/chemprot-adverserial-train-767-210-126/output/model.tar.gz\", \"LocalPath\": \"/opt/ml/processing/input/data/models\", \"S3DataType\": \"S3Prefix\", \"S3InputMode\": \"File\", \"S3DataDistributionType\": \"FullyReplicated\", \"S3CompressionType\": \"None\"}}, {\"InputName\": \"code\", \"AppManaged\": false, \"S3Input\": {\"S3Uri\": \"s3://sagemaker-us-east-2-324346001917/code/chemprot-adverserial/code/chemprot_batch_predict.py\", \"LocalPath\": \"/opt/ml/processing/input/code\", \"S3DataType\": \"S3Prefix\", \"S3InputMode\": \"File\", \"S3DataDistributionType\": \"FullyReplicated\", \"S3CompressionType\": \"None\"}}, {\"InputName\": \"vocab\", \"AppManaged\": false, \"S3Input\": {\"S3Uri\": \"s3://aegovan-data/embeddings/bert/\", \"LocalPath\": \"/opt/ml/processing/input/data/vocab\", \"S3DataType\": \"S3Prefix\", \"S3InputMode\": \"File\", \"S3DataDistributionType\": \"FullyReplicated\", \"S3CompressionType\": \"None\"}}], \"ProcessingOutputConfig\": {\"Outputs\": [{\"OutputName\": \"predictions\", \"AppManaged\": false, \"S3Output\": {\"S3Uri\": \"s3://aegovan-data/chemprot_adverserial/predictions_chemprot-adverserial-train-767-210-126/202211131246\", \"LocalPath\": \"/opt/ml/processing/output\", \"S3UploadMode\": \"EndOfJob\"}}]}, \"AppSpecification\": {\"ImageUri\": \"324346001917.dkr.ecr.us-east-2.amazonaws.com/large-scale-ptm-ppi:gpu-202211100421\", \"ContainerArguments\": [\"/opt/ml/processing/input/data/jsondata\", \"/opt/ml/processing/input/data/models\", \"/opt/ml/processing/output\", \"--ensemble\", \"0\", \"--tokenisor_data_dir\", \"/opt/ml/processing/input/data/vocab\", \"--filter\", \"0\", \"--batch\", \"32\", \"--filterstdthreshold\", \"1.0\"], \"ContainerEntrypoint\": [\"python\", \"/opt/ml/processing/input/code/chemprot_batch_predict.py\"]}, \"RoleArn\": \"arn:aws:iam::324346001917:role/service-role/AmazonSageMaker-ExecutionRole-20190118T115449\", \"Environment\": {\"mode\": \"python\", \"PYTHONPATH\": \"/opt/ml/code\"}, \"NetworkConfig\": {\"EnableNetworkIsolation\": false}, \"ProcessingResources\": {\"ClusterConfig\": {\"InstanceCount\": 1, \"InstanceType\": \"ml.g4dn.2xlarge\", \"VolumeSizeInGB\": 200}}, \"StoppingCondition\": {\"MaxRuntimeInSeconds\": 432000}}, \"Type\": \"Task\", \"End\": true}}}]}, \"infer-p-3\": {\"Type\": \"Parallel\", \"Next\": \"infer-p-4\", \"Branches\": [{\"StartAt\": \"infer-job-chemprot-adverserial-train-767-210-168\", \"States\": {\"infer-job-chemprot-adverserial-train-767-210-168\": {\"Resource\": \"arn:aws:states:::sagemaker:createProcessingJob.sync\", \"Parameters\": {\"ProcessingJobName\": \"infer-job-chemprot-adverserial-train-767-210-168-202211131246\", \"ProcessingInputs\": [{\"InputName\": \"input-1\", \"AppManaged\": false, \"S3Input\": {\"S3Uri\": \"s3://aegovan-data/chemprot_adversarial/chemprot_abstract_test.json\", \"LocalPath\": \"/opt/ml/processing/input/data/jsondata\", \"S3DataType\": \"S3Prefix\", \"S3InputMode\": \"File\", \"S3DataDistributionType\": \"ShardedByS3Key\", \"S3CompressionType\": \"None\"}}, {\"InputName\": \"modelname\", \"AppManaged\": false, \"S3Input\": {\"S3Uri\": \"s3://aegovan-data/chemprot_sagemakerresults/chemprot-adverserial-train-767-210-168/output/model.tar.gz\", \"LocalPath\": \"/opt/ml/processing/input/data/models\", \"S3DataType\": \"S3Prefix\", \"S3InputMode\": \"File\", \"S3DataDistributionType\": \"FullyReplicated\", \"S3CompressionType\": \"None\"}}, {\"InputName\": \"code\", \"AppManaged\": false, \"S3Input\": {\"S3Uri\": \"s3://sagemaker-us-east-2-324346001917/code/chemprot-adverserial/code/chemprot_batch_predict.py\", \"LocalPath\": \"/opt/ml/processing/input/code\", \"S3DataType\": \"S3Prefix\", \"S3InputMode\": \"File\", \"S3DataDistributionType\": \"FullyReplicated\", \"S3CompressionType\": \"None\"}}, {\"InputName\": \"vocab\", \"AppManaged\": false, \"S3Input\": {\"S3Uri\": \"s3://aegovan-data/embeddings/bert/\", \"LocalPath\": \"/opt/ml/processing/input/data/vocab\", \"S3DataType\": \"S3Prefix\", \"S3InputMode\": \"File\", \"S3DataDistributionType\": \"FullyReplicated\", \"S3CompressionType\": \"None\"}}], \"ProcessingOutputConfig\": {\"Outputs\": [{\"OutputName\": \"predictions\", \"AppManaged\": false, \"S3Output\": {\"S3Uri\": \"s3://aegovan-data/chemprot_adverserial/predictions_chemprot-adverserial-train-767-210-168/202211131246\", \"LocalPath\": \"/opt/ml/processing/output\", \"S3UploadMode\": \"EndOfJob\"}}]}, \"AppSpecification\": {\"ImageUri\": \"324346001917.dkr.ecr.us-east-2.amazonaws.com/large-scale-ptm-ppi:gpu-202211100421\", \"ContainerArguments\": [\"/opt/ml/processing/input/data/jsondata\", \"/opt/ml/processing/input/data/models\", \"/opt/ml/processing/output\", \"--ensemble\", \"0\", \"--tokenisor_data_dir\", \"/opt/ml/processing/input/data/vocab\", \"--filter\", \"0\", \"--batch\", \"32\", \"--filterstdthreshold\", \"1.0\"], \"ContainerEntrypoint\": [\"python\", \"/opt/ml/processing/input/code/chemprot_batch_predict.py\"]}, \"RoleArn\": \"arn:aws:iam::324346001917:role/service-role/AmazonSageMaker-ExecutionRole-20190118T115449\", \"Environment\": {\"mode\": \"python\", \"PYTHONPATH\": \"/opt/ml/code\"}, \"NetworkConfig\": {\"EnableNetworkIsolation\": false}, \"ProcessingResources\": {\"ClusterConfig\": {\"InstanceCount\": 1, \"InstanceType\": \"ml.g4dn.2xlarge\", \"VolumeSizeInGB\": 200}}, \"StoppingCondition\": {\"MaxRuntimeInSeconds\": 432000}}, \"Type\": \"Task\", \"End\": true}}}]}, \"infer-p-4\": {\"Type\": \"Parallel\", \"Next\": \"infer-p-5\", \"Branches\": [{\"StartAt\": \"infer-job-chemprot-adverserial-train-767-210-147\", \"States\": {\"infer-job-chemprot-adverserial-train-767-210-147\": {\"Resource\": \"arn:aws:states:::sagemaker:createProcessingJob.sync\", \"Parameters\": {\"ProcessingJobName\": \"infer-job-chemprot-adverserial-train-767-210-147-202211131246\", \"ProcessingInputs\": [{\"InputName\": \"input-1\", \"AppManaged\": false, \"S3Input\": {\"S3Uri\": \"s3://aegovan-data/chemprot_adversarial/chemprot_abstract_test.json\", \"LocalPath\": \"/opt/ml/processing/input/data/jsondata\", \"S3DataType\": \"S3Prefix\", \"S3InputMode\": \"File\", \"S3DataDistributionType\": \"ShardedByS3Key\", \"S3CompressionType\": \"None\"}}, {\"InputName\": \"modelname\", \"AppManaged\": false, \"S3Input\": {\"S3Uri\": \"s3://aegovan-data/chemprot_sagemakerresults/chemprot-adverserial-train-767-210-147/output/model.tar.gz\", \"LocalPath\": \"/opt/ml/processing/input/data/models\", \"S3DataType\": \"S3Prefix\", \"S3InputMode\": \"File\", \"S3DataDistributionType\": \"FullyReplicated\", \"S3CompressionType\": \"None\"}}, {\"InputName\": \"code\", \"AppManaged\": false, \"S3Input\": {\"S3Uri\": \"s3://sagemaker-us-east-2-324346001917/code/chemprot-adverserial/code/chemprot_batch_predict.py\", \"LocalPath\": \"/opt/ml/processing/input/code\", \"S3DataType\": \"S3Prefix\", \"S3InputMode\": \"File\", \"S3DataDistributionType\": \"FullyReplicated\", \"S3CompressionType\": \"None\"}}, {\"InputName\": \"vocab\", \"AppManaged\": false, \"S3Input\": {\"S3Uri\": \"s3://aegovan-data/embeddings/bert/\", \"LocalPath\": \"/opt/ml/processing/input/data/vocab\", \"S3DataType\": \"S3Prefix\", \"S3InputMode\": \"File\", \"S3DataDistributionType\": \"FullyReplicated\", \"S3CompressionType\": \"None\"}}], \"ProcessingOutputConfig\": {\"Outputs\": [{\"OutputName\": \"predictions\", \"AppManaged\": false, \"S3Output\": {\"S3Uri\": \"s3://aegovan-data/chemprot_adverserial/predictions_chemprot-adverserial-train-767-210-147/202211131246\", \"LocalPath\": \"/opt/ml/processing/output\", \"S3UploadMode\": \"EndOfJob\"}}]}, \"AppSpecification\": {\"ImageUri\": \"324346001917.dkr.ecr.us-east-2.amazonaws.com/large-scale-ptm-ppi:gpu-202211100421\", \"ContainerArguments\": [\"/opt/ml/processing/input/data/jsondata\", \"/opt/ml/processing/input/data/models\", \"/opt/ml/processing/output\", \"--ensemble\", \"0\", \"--tokenisor_data_dir\", \"/opt/ml/processing/input/data/vocab\", \"--filter\", \"0\", \"--batch\", \"32\", \"--filterstdthreshold\", \"1.0\"], \"ContainerEntrypoint\": [\"python\", \"/opt/ml/processing/input/code/chemprot_batch_predict.py\"]}, \"RoleArn\": \"arn:aws:iam::324346001917:role/service-role/AmazonSageMaker-ExecutionRole-20190118T115449\", \"Environment\": {\"mode\": \"python\", \"PYTHONPATH\": \"/opt/ml/code\"}, \"NetworkConfig\": {\"EnableNetworkIsolation\": false}, \"ProcessingResources\": {\"ClusterConfig\": {\"InstanceCount\": 1, \"InstanceType\": \"ml.g4dn.2xlarge\", \"VolumeSizeInGB\": 200}}, \"StoppingCondition\": {\"MaxRuntimeInSeconds\": 432000}}, \"Type\": \"Task\", \"End\": true}}}]}, \"infer-p-5\": {\"Type\": \"Parallel\", \"Next\": \"infer-p-6\", \"Branches\": [{\"StartAt\": \"infer-job-chemprot-adverserial-train-767-210-42\", \"States\": {\"infer-job-chemprot-adverserial-train-767-210-42\": {\"Resource\": \"arn:aws:states:::sagemaker:createProcessingJob.sync\", \"Parameters\": {\"ProcessingJobName\": \"infer-job-chemprot-adverserial-train-767-210-42-202211131246\", \"ProcessingInputs\": [{\"InputName\": \"input-1\", \"AppManaged\": false, \"S3Input\": {\"S3Uri\": \"s3://aegovan-data/chemprot_adversarial/chemprot_abstract_test.json\", \"LocalPath\": \"/opt/ml/processing/input/data/jsondata\", \"S3DataType\": \"S3Prefix\", \"S3InputMode\": \"File\", \"S3DataDistributionType\": \"ShardedByS3Key\", \"S3CompressionType\": \"None\"}}, {\"InputName\": \"modelname\", \"AppManaged\": false, \"S3Input\": {\"S3Uri\": \"s3://aegovan-data/chemprot_sagemakerresults/chemprot-adverserial-train-767-210-42/output/model.tar.gz\", \"LocalPath\": \"/opt/ml/processing/input/data/models\", \"S3DataType\": \"S3Prefix\", \"S3InputMode\": \"File\", \"S3DataDistributionType\": \"FullyReplicated\", \"S3CompressionType\": \"None\"}}, {\"InputName\": \"code\", \"AppManaged\": false, \"S3Input\": {\"S3Uri\": \"s3://sagemaker-us-east-2-324346001917/code/chemprot-adverserial/code/chemprot_batch_predict.py\", \"LocalPath\": \"/opt/ml/processing/input/code\", \"S3DataType\": \"S3Prefix\", \"S3InputMode\": \"File\", \"S3DataDistributionType\": \"FullyReplicated\", \"S3CompressionType\": \"None\"}}, {\"InputName\": \"vocab\", \"AppManaged\": false, \"S3Input\": {\"S3Uri\": \"s3://aegovan-data/embeddings/bert/\", \"LocalPath\": \"/opt/ml/processing/input/data/vocab\", \"S3DataType\": \"S3Prefix\", \"S3InputMode\": \"File\", \"S3DataDistributionType\": \"FullyReplicated\", \"S3CompressionType\": \"None\"}}], \"ProcessingOutputConfig\": {\"Outputs\": [{\"OutputName\": \"predictions\", \"AppManaged\": false, \"S3Output\": {\"S3Uri\": \"s3://aegovan-data/chemprot_adverserial/predictions_chemprot-adverserial-train-767-210-42/202211131246\", \"LocalPath\": \"/opt/ml/processing/output\", \"S3UploadMode\": \"EndOfJob\"}}]}, \"AppSpecification\": {\"ImageUri\": \"324346001917.dkr.ecr.us-east-2.amazonaws.com/large-scale-ptm-ppi:gpu-202211100421\", \"ContainerArguments\": [\"/opt/ml/processing/input/data/jsondata\", \"/opt/ml/processing/input/data/models\", \"/opt/ml/processing/output\", \"--ensemble\", \"0\", \"--tokenisor_data_dir\", \"/opt/ml/processing/input/data/vocab\", \"--filter\", \"0\", \"--batch\", \"32\", \"--filterstdthreshold\", \"1.0\"], \"ContainerEntrypoint\": [\"python\", \"/opt/ml/processing/input/code/chemprot_batch_predict.py\"]}, \"RoleArn\": \"arn:aws:iam::324346001917:role/service-role/AmazonSageMaker-ExecutionRole-20190118T115449\", \"Environment\": {\"mode\": \"python\", \"PYTHONPATH\": \"/opt/ml/code\"}, \"NetworkConfig\": {\"EnableNetworkIsolation\": false}, \"ProcessingResources\": {\"ClusterConfig\": {\"InstanceCount\": 1, \"InstanceType\": \"ml.g4dn.2xlarge\", \"VolumeSizeInGB\": 200}}, \"StoppingCondition\": {\"MaxRuntimeInSeconds\": 432000}}, \"Type\": \"Task\", \"End\": true}}}]}, \"infer-p-6\": {\"Type\": \"Parallel\", \"Next\": \"infer-p-7\", \"Branches\": [{\"StartAt\": \"infer-job-chemprot-adverserial-train-767-210-21\", \"States\": {\"infer-job-chemprot-adverserial-train-767-210-21\": {\"Resource\": \"arn:aws:states:::sagemaker:createProcessingJob.sync\", \"Parameters\": {\"ProcessingJobName\": \"infer-job-chemprot-adverserial-train-767-210-21-202211131246\", \"ProcessingInputs\": [{\"InputName\": \"input-1\", \"AppManaged\": false, \"S3Input\": {\"S3Uri\": \"s3://aegovan-data/chemprot_adversarial/chemprot_abstract_test.json\", \"LocalPath\": \"/opt/ml/processing/input/data/jsondata\", \"S3DataType\": \"S3Prefix\", \"S3InputMode\": \"File\", \"S3DataDistributionType\": \"ShardedByS3Key\", \"S3CompressionType\": \"None\"}}, {\"InputName\": \"modelname\", \"AppManaged\": false, \"S3Input\": {\"S3Uri\": \"s3://aegovan-data/chemprot_sagemakerresults/chemprot-adverserial-train-767-210-21/output/model.tar.gz\", \"LocalPath\": \"/opt/ml/processing/input/data/models\", \"S3DataType\": \"S3Prefix\", \"S3InputMode\": \"File\", \"S3DataDistributionType\": \"FullyReplicated\", \"S3CompressionType\": \"None\"}}, {\"InputName\": \"code\", \"AppManaged\": false, \"S3Input\": {\"S3Uri\": \"s3://sagemaker-us-east-2-324346001917/code/chemprot-adverserial/code/chemprot_batch_predict.py\", \"LocalPath\": \"/opt/ml/processing/input/code\", \"S3DataType\": \"S3Prefix\", \"S3InputMode\": \"File\", \"S3DataDistributionType\": \"FullyReplicated\", \"S3CompressionType\": \"None\"}}, {\"InputName\": \"vocab\", \"AppManaged\": false, \"S3Input\": {\"S3Uri\": \"s3://aegovan-data/embeddings/bert/\", \"LocalPath\": \"/opt/ml/processing/input/data/vocab\", \"S3DataType\": \"S3Prefix\", \"S3InputMode\": \"File\", \"S3DataDistributionType\": \"FullyReplicated\", \"S3CompressionType\": \"None\"}}], \"ProcessingOutputConfig\": {\"Outputs\": [{\"OutputName\": \"predictions\", \"AppManaged\": false, \"S3Output\": {\"S3Uri\": \"s3://aegovan-data/chemprot_adverserial/predictions_chemprot-adverserial-train-767-210-21/202211131246\", \"LocalPath\": \"/opt/ml/processing/output\", \"S3UploadMode\": \"EndOfJob\"}}]}, \"AppSpecification\": {\"ImageUri\": \"324346001917.dkr.ecr.us-east-2.amazonaws.com/large-scale-ptm-ppi:gpu-202211100421\", \"ContainerArguments\": [\"/opt/ml/processing/input/data/jsondata\", \"/opt/ml/processing/input/data/models\", \"/opt/ml/processing/output\", \"--ensemble\", \"0\", \"--tokenisor_data_dir\", \"/opt/ml/processing/input/data/vocab\", \"--filter\", \"0\", \"--batch\", \"32\", \"--filterstdthreshold\", \"1.0\"], \"ContainerEntrypoint\": [\"python\", \"/opt/ml/processing/input/code/chemprot_batch_predict.py\"]}, \"RoleArn\": \"arn:aws:iam::324346001917:role/service-role/AmazonSageMaker-ExecutionRole-20190118T115449\", \"Environment\": {\"mode\": \"python\", \"PYTHONPATH\": \"/opt/ml/code\"}, \"NetworkConfig\": {\"EnableNetworkIsolation\": false}, \"ProcessingResources\": {\"ClusterConfig\": {\"InstanceCount\": 1, \"InstanceType\": \"ml.g4dn.2xlarge\", \"VolumeSizeInGB\": 200}}, \"StoppingCondition\": {\"MaxRuntimeInSeconds\": 432000}}, \"Type\": \"Task\", \"End\": true}}}]}, \"infer-p-7\": {\"Type\": \"Parallel\", \"Next\": \"infer-p-8\", \"Branches\": [{\"StartAt\": \"infer-job-chemprot-adverserial-train-767-210-84\", \"States\": {\"infer-job-chemprot-adverserial-train-767-210-84\": {\"Resource\": \"arn:aws:states:::sagemaker:createProcessingJob.sync\", \"Parameters\": {\"ProcessingJobName\": \"infer-job-chemprot-adverserial-train-767-210-84-202211131246\", \"ProcessingInputs\": [{\"InputName\": \"input-1\", \"AppManaged\": false, \"S3Input\": {\"S3Uri\": \"s3://aegovan-data/chemprot_adversarial/chemprot_abstract_test.json\", \"LocalPath\": \"/opt/ml/processing/input/data/jsondata\", \"S3DataType\": \"S3Prefix\", \"S3InputMode\": \"File\", \"S3DataDistributionType\": \"ShardedByS3Key\", \"S3CompressionType\": \"None\"}}, {\"InputName\": \"modelname\", \"AppManaged\": false, \"S3Input\": {\"S3Uri\": \"s3://aegovan-data/chemprot_sagemakerresults/chemprot-adverserial-train-767-210-84/output/model.tar.gz\", \"LocalPath\": \"/opt/ml/processing/input/data/models\", \"S3DataType\": \"S3Prefix\", \"S3InputMode\": \"File\", \"S3DataDistributionType\": \"FullyReplicated\", \"S3CompressionType\": \"None\"}}, {\"InputName\": \"code\", \"AppManaged\": false, \"S3Input\": {\"S3Uri\": \"s3://sagemaker-us-east-2-324346001917/code/chemprot-adverserial/code/chemprot_batch_predict.py\", \"LocalPath\": \"/opt/ml/processing/input/code\", \"S3DataType\": \"S3Prefix\", \"S3InputMode\": \"File\", \"S3DataDistributionType\": \"FullyReplicated\", \"S3CompressionType\": \"None\"}}, {\"InputName\": \"vocab\", \"AppManaged\": false, \"S3Input\": {\"S3Uri\": \"s3://aegovan-data/embeddings/bert/\", \"LocalPath\": \"/opt/ml/processing/input/data/vocab\", \"S3DataType\": \"S3Prefix\", \"S3InputMode\": \"File\", \"S3DataDistributionType\": \"FullyReplicated\", \"S3CompressionType\": \"None\"}}], \"ProcessingOutputConfig\": {\"Outputs\": [{\"OutputName\": \"predictions\", \"AppManaged\": false, \"S3Output\": {\"S3Uri\": \"s3://aegovan-data/chemprot_adverserial/predictions_chemprot-adverserial-train-767-210-84/202211131246\", \"LocalPath\": \"/opt/ml/processing/output\", \"S3UploadMode\": \"EndOfJob\"}}]}, \"AppSpecification\": {\"ImageUri\": \"324346001917.dkr.ecr.us-east-2.amazonaws.com/large-scale-ptm-ppi:gpu-202211100421\", \"ContainerArguments\": [\"/opt/ml/processing/input/data/jsondata\", \"/opt/ml/processing/input/data/models\", \"/opt/ml/processing/output\", \"--ensemble\", \"0\", \"--tokenisor_data_dir\", \"/opt/ml/processing/input/data/vocab\", \"--filter\", \"0\", \"--batch\", \"32\", \"--filterstdthreshold\", \"1.0\"], \"ContainerEntrypoint\": [\"python\", \"/opt/ml/processing/input/code/chemprot_batch_predict.py\"]}, \"RoleArn\": \"arn:aws:iam::324346001917:role/service-role/AmazonSageMaker-ExecutionRole-20190118T115449\", \"Environment\": {\"mode\": \"python\", \"PYTHONPATH\": \"/opt/ml/code\"}, \"NetworkConfig\": {\"EnableNetworkIsolation\": false}, \"ProcessingResources\": {\"ClusterConfig\": {\"InstanceCount\": 1, \"InstanceType\": \"ml.g4dn.2xlarge\", \"VolumeSizeInGB\": 200}}, \"StoppingCondition\": {\"MaxRuntimeInSeconds\": 432000}}, \"Type\": \"Task\", \"End\": true}}}]}, \"infer-p-8\": {\"Type\": \"Parallel\", \"End\": true, \"Branches\": [{\"StartAt\": \"infer-job-chemprot-adverserial-train-767-210-63\", \"States\": {\"infer-job-chemprot-adverserial-train-767-210-63\": {\"Resource\": \"arn:aws:states:::sagemaker:createProcessingJob.sync\", \"Parameters\": {\"ProcessingJobName\": \"infer-job-chemprot-adverserial-train-767-210-63-202211131246\", \"ProcessingInputs\": [{\"InputName\": \"input-1\", \"AppManaged\": false, \"S3Input\": {\"S3Uri\": \"s3://aegovan-data/chemprot_adversarial/chemprot_abstract_test.json\", \"LocalPath\": \"/opt/ml/processing/input/data/jsondata\", \"S3DataType\": \"S3Prefix\", \"S3InputMode\": \"File\", \"S3DataDistributionType\": \"ShardedByS3Key\", \"S3CompressionType\": \"None\"}}, {\"InputName\": \"modelname\", \"AppManaged\": false, \"S3Input\": {\"S3Uri\": \"s3://aegovan-data/chemprot_sagemakerresults/chemprot-adverserial-train-767-210-63/output/model.tar.gz\", \"LocalPath\": \"/opt/ml/processing/input/data/models\", \"S3DataType\": \"S3Prefix\", \"S3InputMode\": \"File\", \"S3DataDistributionType\": \"FullyReplicated\", \"S3CompressionType\": \"None\"}}, {\"InputName\": \"code\", \"AppManaged\": false, \"S3Input\": {\"S3Uri\": \"s3://sagemaker-us-east-2-324346001917/code/chemprot-adverserial/code/chemprot_batch_predict.py\", \"LocalPath\": \"/opt/ml/processing/input/code\", \"S3DataType\": \"S3Prefix\", \"S3InputMode\": \"File\", \"S3DataDistributionType\": \"FullyReplicated\", \"S3CompressionType\": \"None\"}}, {\"InputName\": \"vocab\", \"AppManaged\": false, \"S3Input\": {\"S3Uri\": \"s3://aegovan-data/embeddings/bert/\", \"LocalPath\": \"/opt/ml/processing/input/data/vocab\", \"S3DataType\": \"S3Prefix\", \"S3InputMode\": \"File\", \"S3DataDistributionType\": \"FullyReplicated\", \"S3CompressionType\": \"None\"}}], \"ProcessingOutputConfig\": {\"Outputs\": [{\"OutputName\": \"predictions\", \"AppManaged\": false, \"S3Output\": {\"S3Uri\": \"s3://aegovan-data/chemprot_adverserial/predictions_chemprot-adverserial-train-767-210-63/202211131246\", \"LocalPath\": \"/opt/ml/processing/output\", \"S3UploadMode\": \"EndOfJob\"}}]}, \"AppSpecification\": {\"ImageUri\": \"324346001917.dkr.ecr.us-east-2.amazonaws.com/large-scale-ptm-ppi:gpu-202211100421\", \"ContainerArguments\": [\"/opt/ml/processing/input/data/jsondata\", \"/opt/ml/processing/input/data/models\", \"/opt/ml/processing/output\", \"--ensemble\", \"0\", \"--tokenisor_data_dir\", \"/opt/ml/processing/input/data/vocab\", \"--filter\", \"0\", \"--batch\", \"32\", \"--filterstdthreshold\", \"1.0\"], \"ContainerEntrypoint\": [\"python\", \"/opt/ml/processing/input/code/chemprot_batch_predict.py\"]}, \"RoleArn\": \"arn:aws:iam::324346001917:role/service-role/AmazonSageMaker-ExecutionRole-20190118T115449\", \"Environment\": {\"mode\": \"python\", \"PYTHONPATH\": \"/opt/ml/code\"}, \"NetworkConfig\": {\"EnableNetworkIsolation\": false}, \"ProcessingResources\": {\"ClusterConfig\": {\"InstanceCount\": 1, \"InstanceType\": \"ml.g4dn.2xlarge\", \"VolumeSizeInGB\": 200}}, \"StoppingCondition\": {\"MaxRuntimeInSeconds\": 432000}}, \"Type\": \"Task\", \"End\": true}}}]}}};\n",
       "    var elementId = '#graph-310';\n",
       "\n",
       "    var graph = new sfn.StateMachineGraph(definition, elementId, options);\n",
       "    graph.render();\n",
       "});\n",
       "\n",
       "</script>\n"
      ],
      "text/plain": [
       "<IPython.core.display.HTML object>"
      ]
     },
     "execution_count": 10,
     "metadata": {},
     "output_type": "execute_result"
    }
   ],
   "source": [
    "from sagemaker.network import NetworkConfig\n",
    "from sagemaker.processing import ProcessingInput, ProcessingOutput\n",
    "from sagemaker.processing import ScriptProcessor\n",
    "from stepfunctions.steps import *\n",
    "from stepfunctions.workflow import Workflow\n",
    "\n",
    "processing_steps = []\n",
    "\n",
    "PREPROCESSING_SCRIPT_LOCATION = \"../src/inference/chemprot_batch_predict.py\"\n",
    "\n",
    "input_code = sagemaker_session.upload_data(\n",
    "    PREPROCESSING_SCRIPT_LOCATION,\n",
    "    bucket=sagemaker_session.default_bucket(),\n",
    "    key_prefix=\"code/chemprot-adverserial/code\",\n",
    ")\n",
    "\n",
    "for training_job in training_jobs:\n",
    "\n",
    "\n",
    "    s3_model_path = f\"s3://aegovan-data/chemprot_sagemakerresults/{training_job}/output/model.tar.gz\"\n",
    "\n",
    "    s3_output_predictions = \"s3://aegovan-data/chemprot_adverserial/predictions_{}/{}\".format(training_job,date_fmt)\n",
    "\n",
    "    s3_input_models = s3_model_path\n",
    "\n",
    "\n",
    "    script_processor = ScriptProcessor(image_uri=docker_repo,\n",
    "                                           command=[\"python\"],\n",
    "                                           env={'mode': 'python', 'PYTHONPATH':'/opt/ml/code'},\n",
    "                                           role=role,\n",
    "                                           instance_type=instance_type,\n",
    "                                           instance_count=instance_count,\n",
    "                                           max_runtime_in_seconds= 5 * 24 * 60 * 60,\n",
    "                                           volume_size_in_gb = 200,\n",
    "                                           network_config=NetworkConfig(enable_network_isolation=False),\n",
    "                                           base_job_name =\"chemprot-inference\"\n",
    "                                           )\n",
    "\n",
    "\n",
    "    sm_local_input_models = \"/opt/ml/processing/input/data/models\"\n",
    "    sm_local_input_data = \"/opt/ml/processing/input/data/jsondata\"\n",
    "    sm_local_input_vocab = \"/opt/ml/processing/input/data/vocab\"\n",
    "\n",
    "\n",
    "    sm_local_output = \"/opt/ml/processing/output\"\n",
    "\n",
    "    input_file_name = s3_input_data.split(\"/\")[-1]\n",
    "\n",
    "\n",
    "\n",
    "    step_processing = sagemaker.ProcessingStep(f\"infer-job-{training_job}\", \n",
    "                                               script_processor, \n",
    "                                               f\"infer-job-{training_job}-{date_fmt}\", \n",
    "                                               container_entrypoint=['python', '/opt/ml/processing/input/code/chemprot_batch_predict.py'],\n",
    "   \n",
    "                                            container_arguments=[\n",
    "                                                sm_local_input_data,\n",
    "                                                sm_local_input_models,\n",
    "                                                sm_local_output,\n",
    "                                                \"--ensemble\", \"0\",\n",
    "                                                \"--tokenisor_data_dir\", sm_local_input_vocab,           \n",
    "                                                \"--filter\", str(usefilter),\n",
    "                                                \"--batch\", \"32\",\n",
    "                                                \"--filterstdthreshold\", str(filter_threshold_std)\n",
    "                                            ],\n",
    "\n",
    "                                            inputs=[\n",
    "                                                    ProcessingInput(\n",
    "                                                        source=s3_input_data,\n",
    "                                                        input_name=\"input-1\",\n",
    "                                                        destination=sm_local_input_data,\n",
    "                                                        s3_data_distribution_type=\"ShardedByS3Key\"),\n",
    "\n",
    "                                                ProcessingInput(\n",
    "                                                        source=s3_input_models,\n",
    "                                                        input_name=\"modelname\",\n",
    "                                                        destination=sm_local_input_models,\n",
    "                                                        s3_data_distribution_type=\"FullyReplicated\"),\n",
    "                                                 ProcessingInput(\n",
    "                                                        source=input_code,\n",
    "                                                        destination=\"/opt/ml/processing/input/code\",\n",
    "                                                        input_name=\"code\",\n",
    "                                                    ),\n",
    "\n",
    "\n",
    "\n",
    "                                                ProcessingInput(\n",
    "                                                        source=s3_input_vocab,\n",
    "                                                        input_name=\"vocab\",\n",
    "                                                        destination=sm_local_input_vocab,\n",
    "                                                        s3_data_distribution_type=\"FullyReplicated\"),\n",
    "                                                \n",
    "                                                \n",
    "                                                ],\n",
    "\n",
    "\n",
    "                                            outputs=[ProcessingOutput(\n",
    "                                                    source=sm_local_output, \n",
    "                                                    \n",
    "                                                    destination=s3_output_predictions,\n",
    "                                                    output_name='predictions')]\n",
    "                                              \n",
    "                                              \n",
    "                                              \n",
    "                                              \n",
    "                                              )\n",
    "\n",
    "    processing_steps.append(step_processing)\n",
    "    \n",
    "\n",
    "\n",
    "parallel_steps = []\n",
    "max_parallel = 1\n",
    "for i in range(0, len(processing_steps), max_parallel):\n",
    "    p = states.Parallel(f\"infer-p-{i}\")\n",
    "    for s in processing_steps[i: i+max_parallel]:\n",
    "        p.add_branch(s)\n",
    "    parallel_steps.append(p)\n",
    "\n",
    "    \n",
    "basic_path = Chain(parallel_steps)\n",
    "\n",
    "basic_workflow = Workflow(\n",
    "    name=f\"chemprot-adverserial-infer-{date_fmt}\", definition=basic_path, role=step_func_role\n",
    ")\n",
    "\n",
    "# Render the workflow\n",
    "basic_workflow.render_graph()\n",
    "\n"
   ]
  },
  {
   "cell_type": "code",
   "execution_count": 11,
   "metadata": {},
   "outputs": [
    {
     "data": {
      "text/plain": [
       "'arn:aws:states:us-east-2:324346001917:stateMachine:chemprot-adverserial-infer-202211131246'"
      ]
     },
     "execution_count": 11,
     "metadata": {},
     "output_type": "execute_result"
    }
   ],
   "source": [
    "basic_workflow.create()"
   ]
  },
  {
   "cell_type": "code",
   "execution_count": 12,
   "metadata": {},
   "outputs": [
    {
     "data": {
      "text/html": [
       "Execution: <a target=\"_blank\" href=\"https://console.aws.amazon.com/states/home?region=us-east-2#/executions/details/arn:aws:states:us-east-2:324346001917:execution:chemprot-adverserial-infer-202211131246:9e2d11ef-6830-42fa-8910-20c80e3117d2\">arn:aws:states:us-east-2:324346001917:execution:chemprot-adverserial-infer-202211131246:9e2d11ef-6830-42fa-8910-20c80e3117d2</a>"
      ],
      "text/plain": [
       "Execution(execution_arn='arn:aws:states:us-east-2:324346001917:execution:chemprot-adverserial-infer-202211131246:9e2d11ef-6830-42fa-8910-20c80e3117d2', name=None, status=<ExecutionStatus.Running: 'RUNNING'>, start_date=datetime.datetime(2022, 11, 13, 12, 46, 53, 791000, tzinfo=tzlocal()))"
      ]
     },
     "execution_count": 12,
     "metadata": {},
     "output_type": "execute_result"
    }
   ],
   "source": [
    "basic_workflow.execute()"
   ]
  }
 ],
 "metadata": {
  "kernelspec": {
   "display_name": "Python 3 (ipykernel)",
   "language": "python",
   "name": "python3"
  },
  "language_info": {
   "codemirror_mode": {
    "name": "ipython",
    "version": 3
   },
   "file_extension": ".py",
   "mimetype": "text/x-python",
   "name": "python",
   "nbconvert_exporter": "python",
   "pygments_lexer": "ipython3",
   "version": "3.7.9"
  }
 },
 "nbformat": 4,
 "nbformat_minor": 1
}