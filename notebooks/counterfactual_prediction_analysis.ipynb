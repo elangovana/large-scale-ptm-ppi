{
 "cells": [
  {
   "cell_type": "code",
   "execution_count": 1,
   "metadata": {},
   "outputs": [],
   "source": [
    "#s3_prediction = \"s3://aegovan-data/chemprot/predictions_chemprot-bert-f1-2022-05-22-23-18-21-560/prediction_chemprot_test.json\"\n",
    "s3_test=\"s3://aegovan-data/counterfactual_yelp/predictions_counterfact-imdb-simple-2023-04-03-01-35-49-441/2023040817/yelp_test.csv.json\"\n",
    "\n",
    "\n"
   ]
  },
  {
   "cell_type": "code",
   "execution_count": 2,
   "metadata": {},
   "outputs": [],
   "source": [
    "import sys, os, pandas as pd\n",
    "sys.path.append(\"../src\")\n",
    "\n",
    "import utils"
   ]
  },
  {
   "cell_type": "code",
   "execution_count": 3,
   "metadata": {},
   "outputs": [],
   "source": [
    "from utils.s3_utils import download_file as download_s3_file\n"
   ]
  },
  {
   "cell_type": "code",
   "execution_count": 4,
   "metadata": {},
   "outputs": [],
   "source": [
    "local_temp =\"./temp\""
   ]
  },
  {
   "cell_type": "code",
   "execution_count": 5,
   "metadata": {},
   "outputs": [],
   "source": [
    "local_prediction_dir = os.path.join(local_temp, \"prediction\")\n",
    "os.makedirs(local_prediction_dir, exist_ok=True)\n",
    "local_test_file  = download_s3_file( s3_test, local_prediction_dir)"
   ]
  },
  {
   "cell_type": "code",
   "execution_count": 6,
   "metadata": {},
   "outputs": [
    {
     "data": {
      "text/html": [
       "<div>\n",
       "<style scoped>\n",
       "    .dataframe tbody tr th:only-of-type {\n",
       "        vertical-align: middle;\n",
       "    }\n",
       "\n",
       "    .dataframe tbody tr th {\n",
       "        vertical-align: top;\n",
       "    }\n",
       "\n",
       "    .dataframe thead th {\n",
       "        text-align: right;\n",
       "    }\n",
       "</style>\n",
       "<table border=\"1\" class=\"dataframe\">\n",
       "  <thead>\n",
       "    <tr style=\"text-align: right;\">\n",
       "      <th></th>\n",
       "      <th>Sentiment</th>\n",
       "      <th>Text</th>\n",
       "      <th>Negative</th>\n",
       "      <th>Positive</th>\n",
       "      <th>prediction</th>\n",
       "      <th>confidence</th>\n",
       "    </tr>\n",
       "  </thead>\n",
       "  <tbody>\n",
       "    <tr>\n",
       "      <th>0</th>\n",
       "      <td>Positive</td>\n",
       "      <td>Contrary to other reviews, I have zero complai...</td>\n",
       "      <td>0.020631</td>\n",
       "      <td>0.979369</td>\n",
       "      <td>Positive</td>\n",
       "      <td>0.979369</td>\n",
       "    </tr>\n",
       "    <tr>\n",
       "      <th>1</th>\n",
       "      <td>Negative</td>\n",
       "      <td>Last summer I had an appointment to get new ti...</td>\n",
       "      <td>0.276431</td>\n",
       "      <td>0.723569</td>\n",
       "      <td>Positive</td>\n",
       "      <td>0.723569</td>\n",
       "    </tr>\n",
       "    <tr>\n",
       "      <th>2</th>\n",
       "      <td>Positive</td>\n",
       "      <td>Friendly staff, same starbucks fair you get an...</td>\n",
       "      <td>0.060069</td>\n",
       "      <td>0.939931</td>\n",
       "      <td>Positive</td>\n",
       "      <td>0.939931</td>\n",
       "    </tr>\n",
       "    <tr>\n",
       "      <th>3</th>\n",
       "      <td>Negative</td>\n",
       "      <td>The food is good. Unfortunately the service is...</td>\n",
       "      <td>0.992037</td>\n",
       "      <td>0.007963</td>\n",
       "      <td>Negative</td>\n",
       "      <td>0.992037</td>\n",
       "    </tr>\n",
       "    <tr>\n",
       "      <th>4</th>\n",
       "      <td>Positive</td>\n",
       "      <td>Even when we didn't have a car Filene's Baseme...</td>\n",
       "      <td>0.014551</td>\n",
       "      <td>0.985449</td>\n",
       "      <td>Positive</td>\n",
       "      <td>0.985449</td>\n",
       "    </tr>\n",
       "  </tbody>\n",
       "</table>\n",
       "</div>"
      ],
      "text/plain": [
       "  Sentiment                                               Text  Negative  \\\n",
       "0  Positive  Contrary to other reviews, I have zero complai...  0.020631   \n",
       "1  Negative  Last summer I had an appointment to get new ti...  0.276431   \n",
       "2  Positive  Friendly staff, same starbucks fair you get an...  0.060069   \n",
       "3  Negative  The food is good. Unfortunately the service is...  0.992037   \n",
       "4  Positive  Even when we didn't have a car Filene's Baseme...  0.014551   \n",
       "\n",
       "   Positive prediction  confidence  \n",
       "0  0.979369   Positive    0.979369  \n",
       "1  0.723569   Positive    0.723569  \n",
       "2  0.939931   Positive    0.939931  \n",
       "3  0.007963   Negative    0.992037  \n",
       "4  0.985449   Positive    0.985449  "
      ]
     },
     "execution_count": 6,
     "metadata": {},
     "output_type": "execute_result"
    }
   ],
   "source": [
    "df_test = pd.read_json(local_test_file)\n",
    "df_test.head()"
   ]
  },
  {
   "cell_type": "code",
   "execution_count": 8,
   "metadata": {},
   "outputs": [
    {
     "data": {
      "text/plain": [
       "0.9018849049649871"
      ]
     },
     "execution_count": 8,
     "metadata": {},
     "output_type": "execute_result"
    }
   ],
   "source": [
    "from sklearn.metrics import accuracy_score\n",
    "\n",
    "accuracy_score(df_test[\"Sentiment\"], df_test[\"prediction\"])"
   ]
  }
 ],
 "metadata": {
  "kernelspec": {
   "display_name": "Python 3 (ipykernel)",
   "language": "python",
   "name": "python3"
  },
  "language_info": {
   "codemirror_mode": {
    "name": "ipython",
    "version": 3
   },
   "file_extension": ".py",
   "mimetype": "text/x-python",
   "name": "python",
   "nbconvert_exporter": "python",
   "pygments_lexer": "ipython3",
   "version": "3.7.9"
  }
 },
 "nbformat": 4,
 "nbformat_minor": 1
}
