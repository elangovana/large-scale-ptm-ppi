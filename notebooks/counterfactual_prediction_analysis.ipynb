{
 "cells": [
  {
   "cell_type": "code",
   "execution_count": 9,
   "metadata": {},
   "outputs": [],
   "source": [
    "#s3_prediction = \"s3://aegovan-data/chemprot/predictions_chemprot-bert-f1-2022-05-22-23-18-21-560/prediction_chemprot_test.json\"\n",
    "s3_test=[\n",
    "\"s3://aegovan-data/counterfactual_yelp/predictions_counterfact-imdb-simple-2023-04-03-01-35-49-441/2023040817/yelp_test.csv.json\" # .25\n",
    ", \"s3://aegovan-data/counterfactual_amazon/predictions_counterfact-imdb-simple-2023-04-03-01-35-49-441/2023040817/amazon_test.csv.json\" # .25\n",
    ", \"s3://aegovan-data/counterfactual_semeval/predictions_counterfact-imdb-simple-2023-04-03-01-35-49-441/2023040913/semeval_SemEval2017-task4-test.subtask-BD.english.txt.json\"  # .25\n",
    "    \n",
    ", \"s3://aegovan-data/counterfactual_yelp/predictions_counterfact-imdb-simple-2023-04-09-02-17-57-367/2023040911/yelp_test.csv.json\" # .1,\n",
    ", \"s3://aegovan-data/counterfactual_semeval/predictions_counterfact-imdb-simple-2023-04-09-02-17-57-367/2023040912/semeval_SemEval2017-task4-test.subtask-BD.english.txt.json\" #.1\n",
    ", \"s3://aegovan-data/counterfactual_amazon/predictions_counterfact-imdb-simple-2023-04-09-02-17-57-367/2023040911/amazon_test.csv.json\" #.1\n",
    "    \n",
    ", \"s3://aegovan-data/counterfactual_semeval/predictions_counterfact-imdb-original-2023-04-09-19-03-45-522/2023040913/semeval_SemEval2017-task4-test.subtask-BD.english.txt.json\" # 0.9 original\n",
    ", \"s3://aegovan-data/counterfactual_yelp/predictions_counterfact-imdb-original-2023-04-09-19-03-45-522/2023040913/yelp_test.csv.json\"    # 0.9 original\n",
    ", \"s3://aegovan-data/counterfactual_amazon/predictions_counterfact-imdb-original-2023-04-09-19-03-45-522/2023040913/amazon_test.csv.json\"\n",
    "]\n",
    "\n",
    "train_key_adv_map = {\n",
    "    \"predictions_counterfact-imdb-simple-2023-04-03-01-35-49-441\" :.25\n",
    "    ,\"predictions_counterfact-imdb-simple-2023-04-09-02-17-57-367\" : .1\n",
    "   ,  \"predictions_counterfact-imdb-original-2023-04-09-19-03-45-522\" : 0.9\n",
    "\n",
    "}"
   ]
  },
  {
   "cell_type": "code",
   "execution_count": 2,
   "metadata": {},
   "outputs": [],
   "source": [
    "import sys, os, pandas as pd\n",
    "sys.path.append(\"../src\")\n",
    "\n",
    "import utils"
   ]
  },
  {
   "cell_type": "code",
   "execution_count": 3,
   "metadata": {},
   "outputs": [],
   "source": [
    "from utils.s3_utils import download_file as download_s3_file\n"
   ]
  },
  {
   "cell_type": "code",
   "execution_count": 4,
   "metadata": {},
   "outputs": [],
   "source": [
    "local_temp =\"./temp\""
   ]
  },
  {
   "cell_type": "code",
   "execution_count": 5,
   "metadata": {},
   "outputs": [],
   "source": [
    "local_prediction_dir = os.path.join(local_temp, \"prediction\")\n",
    "os.makedirs(local_prediction_dir, exist_ok=True)\n",
    "\n",
    "def load(s3_test):\n",
    "    result = []\n",
    "    for uri in s3_test:\n",
    "        local_test_file  = download_s3_file( uri, local_prediction_dir)\n",
    "        df_test = pd.read_json(local_test_file)\n",
    "        df_test[\"uri\"] = uri\n",
    "        result.append(df_test)\n",
    "    \n",
    "    return result\n",
    "\n",
    "result = load(s3_test)"
   ]
  },
  {
   "cell_type": "code",
   "execution_count": 6,
   "metadata": {},
   "outputs": [
    {
     "data": {
      "text/html": [
       "<div>\n",
       "<style scoped>\n",
       "    .dataframe tbody tr th:only-of-type {\n",
       "        vertical-align: middle;\n",
       "    }\n",
       "\n",
       "    .dataframe tbody tr th {\n",
       "        vertical-align: top;\n",
       "    }\n",
       "\n",
       "    .dataframe thead th {\n",
       "        text-align: right;\n",
       "    }\n",
       "</style>\n",
       "<table border=\"1\" class=\"dataframe\">\n",
       "  <thead>\n",
       "    <tr style=\"text-align: right;\">\n",
       "      <th></th>\n",
       "      <th>Sentiment</th>\n",
       "      <th>Text</th>\n",
       "      <th>Negative</th>\n",
       "      <th>Positive</th>\n",
       "      <th>prediction</th>\n",
       "      <th>confidence</th>\n",
       "      <th>uri</th>\n",
       "    </tr>\n",
       "  </thead>\n",
       "  <tbody>\n",
       "    <tr>\n",
       "      <th>0</th>\n",
       "      <td>Positive</td>\n",
       "      <td>Contrary to other reviews, I have zero complai...</td>\n",
       "      <td>0.020631</td>\n",
       "      <td>0.979369</td>\n",
       "      <td>Positive</td>\n",
       "      <td>0.979369</td>\n",
       "      <td>s3://aegovan-data/counterfactual_yelp/predicti...</td>\n",
       "    </tr>\n",
       "    <tr>\n",
       "      <th>1</th>\n",
       "      <td>Negative</td>\n",
       "      <td>Last summer I had an appointment to get new ti...</td>\n",
       "      <td>0.276431</td>\n",
       "      <td>0.723569</td>\n",
       "      <td>Positive</td>\n",
       "      <td>0.723569</td>\n",
       "      <td>s3://aegovan-data/counterfactual_yelp/predicti...</td>\n",
       "    </tr>\n",
       "    <tr>\n",
       "      <th>2</th>\n",
       "      <td>Positive</td>\n",
       "      <td>Friendly staff, same starbucks fair you get an...</td>\n",
       "      <td>0.060069</td>\n",
       "      <td>0.939931</td>\n",
       "      <td>Positive</td>\n",
       "      <td>0.939931</td>\n",
       "      <td>s3://aegovan-data/counterfactual_yelp/predicti...</td>\n",
       "    </tr>\n",
       "    <tr>\n",
       "      <th>3</th>\n",
       "      <td>Negative</td>\n",
       "      <td>The food is good. Unfortunately the service is...</td>\n",
       "      <td>0.992037</td>\n",
       "      <td>0.007963</td>\n",
       "      <td>Negative</td>\n",
       "      <td>0.992037</td>\n",
       "      <td>s3://aegovan-data/counterfactual_yelp/predicti...</td>\n",
       "    </tr>\n",
       "    <tr>\n",
       "      <th>4</th>\n",
       "      <td>Positive</td>\n",
       "      <td>Even when we didn't have a car Filene's Baseme...</td>\n",
       "      <td>0.014551</td>\n",
       "      <td>0.985449</td>\n",
       "      <td>Positive</td>\n",
       "      <td>0.985449</td>\n",
       "      <td>s3://aegovan-data/counterfactual_yelp/predicti...</td>\n",
       "    </tr>\n",
       "  </tbody>\n",
       "</table>\n",
       "</div>"
      ],
      "text/plain": [
       "  Sentiment                                               Text  Negative  \\\n",
       "0  Positive  Contrary to other reviews, I have zero complai...  0.020631   \n",
       "1  Negative  Last summer I had an appointment to get new ti...  0.276431   \n",
       "2  Positive  Friendly staff, same starbucks fair you get an...  0.060069   \n",
       "3  Negative  The food is good. Unfortunately the service is...  0.992037   \n",
       "4  Positive  Even when we didn't have a car Filene's Baseme...  0.014551   \n",
       "\n",
       "   Positive prediction  confidence  \\\n",
       "0  0.979369   Positive    0.979369   \n",
       "1  0.723569   Positive    0.723569   \n",
       "2  0.939931   Positive    0.939931   \n",
       "3  0.007963   Negative    0.992037   \n",
       "4  0.985449   Positive    0.985449   \n",
       "\n",
       "                                                 uri  \n",
       "0  s3://aegovan-data/counterfactual_yelp/predicti...  \n",
       "1  s3://aegovan-data/counterfactual_yelp/predicti...  \n",
       "2  s3://aegovan-data/counterfactual_yelp/predicti...  \n",
       "3  s3://aegovan-data/counterfactual_yelp/predicti...  \n",
       "4  s3://aegovan-data/counterfactual_yelp/predicti...  "
      ]
     },
     "execution_count": 6,
     "metadata": {},
     "output_type": "execute_result"
    }
   ],
   "source": [
    "result[0].head()"
   ]
  },
  {
   "cell_type": "code",
   "execution_count": 17,
   "metadata": {},
   "outputs": [],
   "source": [
    "from sklearn.metrics import accuracy_score\n",
    "def consolidate_result(df_list): \n",
    "    result = []\n",
    "    for df in df_list:\n",
    "\n",
    "        score = accuracy_score(df[\"Sentiment\"], df[\"prediction\"])\n",
    "        result.append({\n",
    "            \"Train\" : \"IMDB-C\",\n",
    "            \"TrainSize\" : \"3.4K\",\n",
    "            \"Test\" : df[\"uri\"].iloc[0].split(\"/\")[3],\n",
    "            \"TestSize\": len(df),\n",
    "            \"h_adv_p_n\" : train_key_adv_map[ df[\"uri\"].iloc[0].split(\"/\")[4]],\n",
    "            \"Score\" : round(score*100, 1),\n",
    "            \"Uri\" : df[\"uri\"].iloc[0]\n",
    "\n",
    "\n",
    "        })\n",
    "    return pd.DataFrame(result).sort_values(by=[\"Test\", \"h_adv_p_n\"])\n",
    "\n",
    "df_scores = consolidate_result(result)"
   ]
  },
  {
   "cell_type": "code",
   "execution_count": 20,
   "metadata": {},
   "outputs": [
    {
     "name": "stdout",
     "output_type": "stream",
     "text": [
      "\\begin{tabular}{lllrrr}\n",
      "\\toprule\n",
      "Train & TrainSize &                    Test &  TestSize &  h\\_adv\\_p\\_n &  Score \\\\\n",
      "\\midrule\n",
      " IMDB &      3.4K &   counterfactual\\_amazon &    400000 &       0.10 &   87.1 \\\\\n",
      " IMDB &      3.4K &   counterfactual\\_amazon &    400000 &       0.25 &   89.9 \\\\\n",
      " IMDB &      3.4K &   counterfactual\\_amazon &    400000 &       0.90 &   88.6 \\\\\n",
      " IMDB &      3.4K &  counterfactual\\_semeval &      6069 &       0.10 &   62.7 \\\\\n",
      " IMDB &      3.4K &  counterfactual\\_semeval &      6069 &       0.25 &   78.3 \\\\\n",
      " IMDB &      3.4K &  counterfactual\\_semeval &      6069 &       0.90 &   70.2 \\\\\n",
      " IMDB &      3.4K &     counterfactual\\_yelp &     37986 &       0.10 &   88.3 \\\\\n",
      " IMDB &      3.4K &     counterfactual\\_yelp &     37986 &       0.25 &   90.2 \\\\\n",
      " IMDB &      3.4K &     counterfactual\\_yelp &     37986 &       0.90 &   89.4 \\\\\n",
      "\\bottomrule\n",
      "\\end{tabular}\n",
      "\n"
     ]
    }
   ],
   "source": [
    "print(df_scores[[ \"Train\",\"TrainSize\", \"Test\", \"TestSize\", \"h_adv_p_n\", \"Score\"]].to_latex(index = False))"
   ]
  }
 ],
 "metadata": {
  "kernelspec": {
   "display_name": "Python 3 (ipykernel)",
   "language": "python",
   "name": "python3"
  },
  "language_info": {
   "codemirror_mode": {
    "name": "ipython",
    "version": 3
   },
   "file_extension": ".py",
   "mimetype": "text/x-python",
   "name": "python",
   "nbconvert_exporter": "python",
   "pygments_lexer": "ipython3",
   "version": "3.7.9"
  }
 },
 "nbformat": 4,
 "nbformat_minor": 1
}
