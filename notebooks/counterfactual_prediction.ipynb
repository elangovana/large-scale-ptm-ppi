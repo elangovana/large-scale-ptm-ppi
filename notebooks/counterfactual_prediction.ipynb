{
 "cells": [
  {
   "cell_type": "markdown",
   "metadata": {},
   "source": [
    "### SageMaker Counterfactual prediction"
   ]
  },
  {
   "cell_type": "code",
   "execution_count": 1,
   "metadata": {},
   "outputs": [],
   "source": [
    "import sagemaker\n",
    "import boto3\n",
    "\n",
    "sagemaker_session = sagemaker.Session()\n",
    "account_id =  boto3.client('sts').get_caller_identity().get('Account')\n",
    "region = boto3.session.Session().region_name\n",
    "\n",
    "\n",
    "#role = sagemaker.get_execution_role()\n",
    "role=\"arn:aws:iam::{}:role/service-role/AmazonSageMaker-ExecutionRole-20190118T115449\".format(account_id)\n"
   ]
  },
  {
   "cell_type": "code",
   "execution_count": 2,
   "metadata": {},
   "outputs": [],
   "source": [
    "version_tag=\"202304091951\"\n",
    "pytorch_custom_image_name=f\"large-scale-ptm-ppi:gpu-{version_tag}\"\n",
    "instance_type = \"ml.g4dn.2xlarge\"  #ml.g4dn.2xlarge\n",
    "instance_count = 1\n",
    "\n"
   ]
  },
  {
   "cell_type": "code",
   "execution_count": 3,
   "metadata": {},
   "outputs": [],
   "source": [
    "docker_repo = \"{}.dkr.ecr.{}.amazonaws.com/{}\".format(account_id, region, pytorch_custom_image_name)"
   ]
  },
  {
   "cell_type": "code",
   "execution_count": 4,
   "metadata": {},
   "outputs": [],
   "source": [
    "bucket = \"aegovan-data\""
   ]
  },
  {
   "cell_type": "code",
   "execution_count": 5,
   "metadata": {},
   "outputs": [],
   "source": [
    "\n",
    "dataset = { \n",
    "    \"yelp\" :  \"s3://aegovan-data/yelp_polarity/test.csv\",\n",
    "    \"amazon\":  \"s3://aegovan-data/amazon_reviews_polarity/test.csv\",\n",
    "    \"semeval\": \"s3://aegovan-data/semeval2017taskb/SemEval2017-task4-test.subtask-BD.english.txt\"\n",
    "}\n",
    "\n",
    "\n",
    "dataset_type=\"amazon\"\n",
    "eval_file = dataset[dataset_type]\n",
    "\n"
   ]
  },
  {
   "cell_type": "code",
   "execution_count": 6,
   "metadata": {},
   "outputs": [],
   "source": [
    "import datetime\n",
    "date_fmt = datetime.datetime.today().strftime(\"%Y%m%d%H\")"
   ]
  },
  {
   "cell_type": "code",
   "execution_count": 7,
   "metadata": {},
   "outputs": [],
   "source": [
    "training_job  = \"counterfact-imdb-9-0-0-2023-04-10-02-21-27-455\"\n",
    "#training_job = \"counterfact-imdb-0-0-0-2023-04-09-21-10-10-142\"\n",
    "#training_job =  \"counterfact-imdb-original-2023-04-09-19-03-45-522\" # .90 adv\n",
    "#training_job = \"counterfact-imdb-simple-2023-04-03-01-35-49-441\" # .25 adv\n",
    "#training_job = \"counterfact-imdb-simple-2023-04-09-02-17-57-367\"  # .10 adv\n",
    "s3_model_path = f\"s3://aegovan-data/sagemakerresults/{training_job}/output/model.tar.gz\"\n",
    "s3_output_predictions = \"s3://aegovan-data/counterfactual_{}/predictions_{}/{}\".format(dataset_type,training_job,date_fmt)\n",
    "\n"
   ]
  },
  {
   "cell_type": "markdown",
   "metadata": {},
   "source": [
    "### Run  prediction"
   ]
  },
  {
   "cell_type": "code",
   "execution_count": 8,
   "metadata": {},
   "outputs": [],
   "source": [
    "#s3_output_predictions = \"s3://aegovan-data/pubmed_asbtract/predictions_largescale_{}_{}/\".format(job_prefix,date_fmt)\n",
    "s3_input_data = eval_file\n",
    "s3_data_type=\"S3Prefix\"\n",
    "usefilter=0\n",
    "filter_threshold_std=1.0\n",
    "\n",
    "s3_input_models = s3_model_path\n",
    "s3_input_vocab = \"s3://aegovan-data/pretrained_models/bert-base-uncased/\""
   ]
  },
  {
   "cell_type": "code",
   "execution_count": 9,
   "metadata": {},
   "outputs": [
    {
     "data": {
      "text/plain": [
       "('s3://aegovan-data/amazon_reviews_polarity/test.csv', 'S3Prefix')"
      ]
     },
     "execution_count": 9,
     "metadata": {},
     "output_type": "execute_result"
    }
   ],
   "source": [
    "s3_input_data, s3_data_type"
   ]
  },
  {
   "cell_type": "code",
   "execution_count": null,
   "metadata": {},
   "outputs": [
    {
     "name": "stdout",
     "output_type": "stream",
     "text": [
      "\n",
      "Job Name:  amazon-inference-2023-04-10-03-51-53-173\n",
      "Inputs:  [{'InputName': 'input-1', 'AppManaged': False, 'S3Input': {'S3Uri': 's3://aegovan-data/amazon_reviews_polarity/test.csv', 'LocalPath': '/opt/ml/processing/input/data/jsondata', 'S3DataType': 'S3Prefix', 'S3InputMode': 'File', 'S3DataDistributionType': 'ShardedByS3Key', 'S3CompressionType': 'None'}}, {'InputName': 'input-2', 'AppManaged': False, 'S3Input': {'S3Uri': 's3://aegovan-data/sagemakerresults/counterfact-imdb-9-0-0-2023-04-10-02-21-27-455/output/model.tar.gz', 'LocalPath': '/opt/ml/processing/input/data/models', 'S3DataType': 'S3Prefix', 'S3InputMode': 'File', 'S3DataDistributionType': 'FullyReplicated', 'S3CompressionType': 'None'}}, {'InputName': 'input-3', 'AppManaged': False, 'S3Input': {'S3Uri': 's3://aegovan-data/pretrained_models/bert-base-uncased/', 'LocalPath': '/opt/ml/processing/input/data/vocab', 'S3DataType': 'S3Prefix', 'S3InputMode': 'File', 'S3DataDistributionType': 'FullyReplicated', 'S3CompressionType': 'None'}}, {'InputName': 'code', 'AppManaged': False, 'S3Input': {'S3Uri': 's3://sagemaker-us-east-2-324346001917/amazon-inference-2023-04-10-03-51-53-173/input/code/main_predict_sentiment_polarity.py', 'LocalPath': '/opt/ml/processing/input/code', 'S3DataType': 'S3Prefix', 'S3InputMode': 'File', 'S3DataDistributionType': 'FullyReplicated', 'S3CompressionType': 'None'}}]\n",
      "Outputs:  [{'OutputName': 'predictions', 'AppManaged': False, 'S3Output': {'S3Uri': 's3://aegovan-data/counterfactual_amazon/predictions_counterfact-imdb-9-0-0-2023-04-10-02-21-27-455/2023040920', 'LocalPath': '/opt/ml/processing/output', 'S3UploadMode': 'EndOfJob'}}]\n",
      "...."
     ]
    }
   ],
   "source": [
    "from sagemaker.network import NetworkConfig\n",
    "from sagemaker.processing import ProcessingInput, ProcessingOutput\n",
    "from sagemaker.processing import ScriptProcessor\n",
    "\n",
    "script_processor = ScriptProcessor(image_uri=docker_repo,\n",
    "                                       command=[\"python\"],\n",
    "                                       env={'mode': 'python', 'PYTHONPATH':'/opt/ml/code'},\n",
    "                                       role=role,\n",
    "                                       instance_type=instance_type,\n",
    "                                       instance_count=instance_count,\n",
    "                                       max_runtime_in_seconds= 5 * 24 * 60 * 60,\n",
    "                                       volume_size_in_gb = 200,\n",
    "                                       network_config=NetworkConfig(enable_network_isolation=False),\n",
    "                                       base_job_name =f\"{dataset_type}-inference\"\n",
    "                                       )\n",
    "\n",
    "\n",
    "sm_local_input_models = \"/opt/ml/processing/input/data/models\"\n",
    "sm_local_input_data = \"/opt/ml/processing/input/data/jsondata\"\n",
    "sm_local_input_vocab = \"/opt/ml/processing/input/data/vocab\"\n",
    "\n",
    "\n",
    "sm_local_output = \"/opt/ml/processing/output\"\n",
    "\n",
    "input_file_name = s3_input_data.split(\"/\")[-1]\n",
    "\n",
    "script_processor.run(\n",
    "        code='../src/inference/main_predict_sentiment_polarity.py',\n",
    "\n",
    "        arguments=[\n",
    "            f\"{sm_local_input_data}/{eval_file.split('/')[-1]}\",\n",
    "            sm_local_input_models,\n",
    "            sm_local_output,\n",
    "            dataset_type,\n",
    "            \"--tokenisor_data_dir\", sm_local_input_vocab,           \n",
    "            \"--batch\", \"32\"\n",
    "        ],\n",
    "\n",
    "        inputs=[\n",
    "                ProcessingInput(\n",
    "                    source=s3_input_data,\n",
    "                    s3_data_type = s3_data_type,\n",
    "                    destination=sm_local_input_data,\n",
    "                    s3_data_distribution_type=\"ShardedByS3Key\"),\n",
    "\n",
    "            ProcessingInput(\n",
    "                    source=s3_input_models,\n",
    "                    destination=sm_local_input_models,\n",
    "                    s3_data_distribution_type=\"FullyReplicated\"),\n",
    "            \n",
    "            ProcessingInput(\n",
    "                    source=s3_input_vocab,\n",
    "                    destination=sm_local_input_vocab,\n",
    "                    s3_data_distribution_type=\"FullyReplicated\")\n",
    "            ],\n",
    "\n",
    "\n",
    "        outputs=[ProcessingOutput(\n",
    "                source=sm_local_output, \n",
    "                destination=s3_output_predictions,\n",
    "                output_name='predictions')]\n",
    "    )\n",
    "\n",
    "\n"
   ]
  }
 ],
 "metadata": {
  "kernelspec": {
   "display_name": "Python 3 (ipykernel)",
   "language": "python",
   "name": "python3"
  },
  "language_info": {
   "codemirror_mode": {
    "name": "ipython",
    "version": 3
   },
   "file_extension": ".py",
   "mimetype": "text/x-python",
   "name": "python",
   "nbconvert_exporter": "python",
   "pygments_lexer": "ipython3",
   "version": "3.7.9"
  }
 },
 "nbformat": 4,
 "nbformat_minor": 1
}