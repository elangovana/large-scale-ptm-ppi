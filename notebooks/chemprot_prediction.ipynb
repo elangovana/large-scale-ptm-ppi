{
 "cells": [
  {
   "cell_type": "markdown",
   "metadata": {},
   "source": [
    "### SageMaker chemprot prediction"
   ]
  },
  {
   "cell_type": "code",
   "execution_count": 1,
   "metadata": {},
   "outputs": [],
   "source": [
    "import sagemaker\n",
    "import boto3\n",
    "\n",
    "sagemaker_session = sagemaker.Session()\n",
    "account_id =  boto3.client('sts').get_caller_identity().get('Account')\n",
    "region = boto3.session.Session().region_name\n",
    "\n",
    "\n",
    "#role = sagemaker.get_execution_role()\n",
    "role=\"arn:aws:iam::{}:role/service-role/AmazonSageMaker-ExecutionRole-20190118T115449\".format(account_id)\n"
   ]
  },
  {
   "cell_type": "code",
   "execution_count": 2,
   "metadata": {},
   "outputs": [],
   "source": [
    "version_tag=\"202207311958\"\n",
    "pytorch_custom_image_name=f\"large-scale-ptm-ppi:gpu-{version_tag}\"\n",
    "instance_type = \"ml.g4dn.2xlarge\"  #ml.g4dn.2xlarge\n",
    "instance_count = 3\n",
    "\n"
   ]
  },
  {
   "cell_type": "code",
   "execution_count": 3,
   "metadata": {},
   "outputs": [],
   "source": [
    "docker_repo = \"{}.dkr.ecr.{}.amazonaws.com/{}\".format(account_id, region, pytorch_custom_image_name)"
   ]
  },
  {
   "cell_type": "code",
   "execution_count": 4,
   "metadata": {},
   "outputs": [],
   "source": [
    "bucket = \"aegovan-data\""
   ]
  },
  {
   "cell_type": "code",
   "execution_count": 5,
   "metadata": {},
   "outputs": [],
   "source": [
    "\n",
    "sentence_trainfile = \"s3://{}/chemprot/chemprot_train.json\".format(bucket)\n",
    "sentence_testfile= \"s3://{}/chemprot/chemprot_test.json\".format(bucket)\n",
    "sentence_valfile=\"s3://{}/chemprot/chemprot_dev.json\".format(bucket)\n",
    "\n",
    "abstract_testfile= \"s3://{}/chemprot/chemprot_abstract_test.json\".format(bucket)\n",
    "abstract_trainfile= \"s3://{}/chemprot/chemprot_abstract_train.json\".format(bucket)\n",
    "abstract_valfile= \"s3://{}/chemprot/chemprot_abstract_val.json\".format(bucket)\n",
    "\n",
    "abstract_largescale = \"s3://{}/chemprotlargescale/input/data_2022080620\".format(bucket)\n",
    "\n",
    "eval_file = abstract_largescale"
   ]
  },
  {
   "cell_type": "code",
   "execution_count": 6,
   "metadata": {},
   "outputs": [],
   "source": [
    "import datetime\n",
    "date_fmt = datetime.datetime.today().strftime(\"%Y%m%d%H\")"
   ]
  },
  {
   "cell_type": "code",
   "execution_count": 7,
   "metadata": {},
   "outputs": [],
   "source": [
    "#training_job = \"chemprot-bert-f1-2022-05-22-23-18-21-560\"\n",
    "training_job=\"chemprot-abstract-bert-f1-2022-07-30-22-34-07-969\""
   ]
  },
  {
   "cell_type": "code",
   "execution_count": 8,
   "metadata": {},
   "outputs": [],
   "source": [
    "s3_model_path = f\"s3://aegovan-data/chemprot_sagemakerresults/{training_job}/output/model.tar.gz\"\n"
   ]
  },
  {
   "cell_type": "markdown",
   "metadata": {},
   "source": [
    "### Run  prediction"
   ]
  },
  {
   "cell_type": "code",
   "execution_count": null,
   "metadata": {},
   "outputs": [],
   "source": [
    "#s3_output_predictions = \"s3://aegovan-data/pubmed_asbtract/predictions_largescale_{}_{}/\".format(job_prefix,date_fmt)\n",
    "s3_output_predictions = \"s3://aegovan-data/chemprot/predictions_{}/{}\".format(training_job,date_fmt)\n",
    "s3_input_data = eval_file\n",
    "s3_data_type=\"S3Prefix\"\n",
    "usefilter=0\n",
    "filter_threshold_std=1.0\n",
    "\n",
    "s3_input_models = s3_model_path\n",
    "s3_input_vocab = \"s3://{}/embeddings/bert/\".format(bucket)"
   ]
  },
  {
   "cell_type": "code",
   "execution_count": null,
   "metadata": {},
   "outputs": [],
   "source": [
    "s3_input_data, s3_data_type"
   ]
  },
  {
   "cell_type": "code",
   "execution_count": null,
   "metadata": {},
   "outputs": [],
   "source": [
    "from sagemaker.network import NetworkConfig\n",
    "from sagemaker.processing import ProcessingInput, ProcessingOutput\n",
    "from sagemaker.processing import ScriptProcessor\n",
    "\n",
    "script_processor = ScriptProcessor(image_uri=docker_repo,\n",
    "                                       command=[\"python\"],\n",
    "                                       env={'mode': 'python', 'PYTHONPATH':'/opt/ml/code'},\n",
    "                                       role=role,\n",
    "                                       instance_type=instance_type,\n",
    "                                       instance_count=instance_count,\n",
    "                                       max_runtime_in_seconds= 5 * 24 * 60 * 60,\n",
    "                                       volume_size_in_gb = 200,\n",
    "                                       network_config=NetworkConfig(enable_network_isolation=False),\n",
    "                                       base_job_name =\"chemprot-inference\"\n",
    "                                       )\n",
    "\n",
    "\n",
    "sm_local_input_models = \"/opt/ml/processing/input/data/models\"\n",
    "sm_local_input_data = \"/opt/ml/processing/input/data/jsondata\"\n",
    "sm_local_input_vocab = \"/opt/ml/processing/input/data/vocab\"\n",
    "\n",
    "\n",
    "sm_local_output = \"/opt/ml/processing/output\"\n",
    "\n",
    "input_file_name = s3_input_data.split(\"/\")[-1]\n",
    "\n",
    "script_processor.run(\n",
    "        code='../src/inference/chemprot_batch_predict.py',\n",
    "\n",
    "        arguments=[\n",
    "            sm_local_input_data,\n",
    "            sm_local_input_models,\n",
    "            sm_local_output,\n",
    "            \"--ensemble\", \"0\",\n",
    "            \"--tokenisor_data_dir\", sm_local_input_vocab,           \n",
    "            \"--filter\", str(usefilter),\n",
    "            \"--batch\", \"32\",\n",
    "            \"--filterstdthreshold\", str(filter_threshold_std)\n",
    "        ],\n",
    "\n",
    "        inputs=[\n",
    "                ProcessingInput(\n",
    "                    source=s3_input_data,\n",
    "                    s3_data_type = s3_data_type,\n",
    "                    destination=sm_local_input_data,\n",
    "                    s3_data_distribution_type=\"ShardedByS3Key\"),\n",
    "\n",
    "            ProcessingInput(\n",
    "                    source=s3_input_models,\n",
    "                    destination=sm_local_input_models,\n",
    "                    s3_data_distribution_type=\"FullyReplicated\"),\n",
    "            \n",
    "            ProcessingInput(\n",
    "                    source=s3_input_vocab,\n",
    "                    destination=sm_local_input_vocab,\n",
    "                    s3_data_distribution_type=\"FullyReplicated\")\n",
    "            ],\n",
    "\n",
    "\n",
    "        outputs=[ProcessingOutput(\n",
    "                source=sm_local_output, \n",
    "                destination=s3_output_predictions,\n",
    "                output_name='predictions')]\n",
    "    )\n",
    "\n",
    "\n"
   ]
  },
  {
   "cell_type": "markdown",
   "metadata": {},
   "source": [
    "## Multimodel run "
   ]
  },
  {
   "cell_type": "code",
   "execution_count": 9,
   "metadata": {},
   "outputs": [],
   "source": [
    "\n",
    "\n",
    "trainingjobs =  [\"chemprot-abstract-bert-f1-2022-12-25-09-01-04-544\",\n",
    "          \"chemprot-abstract-bert-f1-2022-12-25-09-01-03-154\",\n",
    "          \"chemprot-abstract-bert-f1-2022-12-25-09-01-01-712\",\n",
    "          \"chemprot-abstract-bert-f1-2022-12-25-09-01-00-176\", \n",
    "          \"chemprot-abstract-bert-f1-2022-12-25-09-00-58-577\"]\n",
    "\n",
    "\n",
    "trainingjobs =  [\"chemprot-abstract-bert-min-f1-2022-12-25-03-37-47-264\",\n",
    "          \"chemprot-abstract-bert-min-f1-2022-12-25-03-37-45-624\",\n",
    "          \"chemprot-abstract-bert-min-f1-2022-12-25-03-37-44-084\",\n",
    "          \"chemprot-abstract-bert-min-f1-2022-12-25-03-37-42-553\", \n",
    "          \"chemprot-abstract-bert-min-f1-2022-12-25-03-37-40-991\"]\n"
   ]
  },
  {
   "cell_type": "code",
   "execution_count": 10,
   "metadata": {},
   "outputs": [],
   "source": [
    "#s3_output_predictions = \"s3://aegovan-data/pubmed_asbtract/predictions_largescale_{}_{}/\".format(job_prefix,date_fmt)\n",
    "s3_input_data = abstract_testfile\n",
    "s3_data_type=\"S3Prefix\"\n",
    "\n",
    "usefilter=0\n",
    "filter_threshold_std=1.0\n",
    "\n",
    "s3_input_vocab = \"s3://{}/embeddings/bert/\".format(bucket)\n",
    "\n",
    "instance_type = \"ml.g4dn.2xlarge\"  #ml.g4dn.2xlarge\n",
    "instance_count = 1"
   ]
  },
  {
   "cell_type": "code",
   "execution_count": 11,
   "metadata": {},
   "outputs": [
    {
     "name": "stdout",
     "output_type": "stream",
     "text": [
      "\n",
      "Job Name:  chemprot-inference-2022-12-25-18-48-43-798\n",
      "Inputs:  [{'InputName': 'input-1', 'AppManaged': False, 'S3Input': {'S3Uri': 's3://aegovan-data/chemprot/chemprot_abstract_test.json', 'LocalPath': '/opt/ml/processing/input/data/jsondata', 'S3DataType': 'S3Prefix', 'S3InputMode': 'File', 'S3DataDistributionType': 'ShardedByS3Key', 'S3CompressionType': 'None'}}, {'InputName': 'input-2', 'AppManaged': False, 'S3Input': {'S3Uri': 's3://aegovan-data/chemprot_sagemakerresults/chemprot-abstract-bert-min-f1-2022-12-25-03-37-47-264/output/model.tar.gz', 'LocalPath': '/opt/ml/processing/input/data/models', 'S3DataType': 'S3Prefix', 'S3InputMode': 'File', 'S3DataDistributionType': 'FullyReplicated', 'S3CompressionType': 'None'}}, {'InputName': 'input-3', 'AppManaged': False, 'S3Input': {'S3Uri': 's3://aegovan-data/embeddings/bert/', 'LocalPath': '/opt/ml/processing/input/data/vocab', 'S3DataType': 'S3Prefix', 'S3InputMode': 'File', 'S3DataDistributionType': 'FullyReplicated', 'S3CompressionType': 'None'}}, {'InputName': 'code', 'AppManaged': False, 'S3Input': {'S3Uri': 's3://sagemaker-us-east-2-324346001917/chemprot-inference-2022-12-25-18-48-43-798/input/code/chemprot_batch_predict.py', 'LocalPath': '/opt/ml/processing/input/code', 'S3DataType': 'S3Prefix', 'S3InputMode': 'File', 'S3DataDistributionType': 'FullyReplicated', 'S3CompressionType': 'None'}}]\n",
      "Outputs:  [{'OutputName': 'predictions', 'AppManaged': False, 'S3Output': {'S3Uri': 's3://aegovan-data/chemprot/predictions_chemprot-abstract-bert-min-f1-2022-12-25-03-37-47-264/2022122510', 'LocalPath': '/opt/ml/processing/output', 'S3UploadMode': 'EndOfJob'}}]\n",
      "\n",
      "Job Name:  chemprot-inference-2022-12-25-18-48-46-664\n",
      "Inputs:  [{'InputName': 'input-1', 'AppManaged': False, 'S3Input': {'S3Uri': 's3://aegovan-data/chemprot/chemprot_abstract_test.json', 'LocalPath': '/opt/ml/processing/input/data/jsondata', 'S3DataType': 'S3Prefix', 'S3InputMode': 'File', 'S3DataDistributionType': 'ShardedByS3Key', 'S3CompressionType': 'None'}}, {'InputName': 'input-2', 'AppManaged': False, 'S3Input': {'S3Uri': 's3://aegovan-data/chemprot_sagemakerresults/chemprot-abstract-bert-min-f1-2022-12-25-03-37-45-624/output/model.tar.gz', 'LocalPath': '/opt/ml/processing/input/data/models', 'S3DataType': 'S3Prefix', 'S3InputMode': 'File', 'S3DataDistributionType': 'FullyReplicated', 'S3CompressionType': 'None'}}, {'InputName': 'input-3', 'AppManaged': False, 'S3Input': {'S3Uri': 's3://aegovan-data/embeddings/bert/', 'LocalPath': '/opt/ml/processing/input/data/vocab', 'S3DataType': 'S3Prefix', 'S3InputMode': 'File', 'S3DataDistributionType': 'FullyReplicated', 'S3CompressionType': 'None'}}, {'InputName': 'code', 'AppManaged': False, 'S3Input': {'S3Uri': 's3://sagemaker-us-east-2-324346001917/chemprot-inference-2022-12-25-18-48-46-664/input/code/chemprot_batch_predict.py', 'LocalPath': '/opt/ml/processing/input/code', 'S3DataType': 'S3Prefix', 'S3InputMode': 'File', 'S3DataDistributionType': 'FullyReplicated', 'S3CompressionType': 'None'}}]\n",
      "Outputs:  [{'OutputName': 'predictions', 'AppManaged': False, 'S3Output': {'S3Uri': 's3://aegovan-data/chemprot/predictions_chemprot-abstract-bert-min-f1-2022-12-25-03-37-45-624/2022122510', 'LocalPath': '/opt/ml/processing/output', 'S3UploadMode': 'EndOfJob'}}]\n",
      "\n",
      "Job Name:  chemprot-inference-2022-12-25-18-48-48-530\n",
      "Inputs:  [{'InputName': 'input-1', 'AppManaged': False, 'S3Input': {'S3Uri': 's3://aegovan-data/chemprot/chemprot_abstract_test.json', 'LocalPath': '/opt/ml/processing/input/data/jsondata', 'S3DataType': 'S3Prefix', 'S3InputMode': 'File', 'S3DataDistributionType': 'ShardedByS3Key', 'S3CompressionType': 'None'}}, {'InputName': 'input-2', 'AppManaged': False, 'S3Input': {'S3Uri': 's3://aegovan-data/chemprot_sagemakerresults/chemprot-abstract-bert-min-f1-2022-12-25-03-37-44-084/output/model.tar.gz', 'LocalPath': '/opt/ml/processing/input/data/models', 'S3DataType': 'S3Prefix', 'S3InputMode': 'File', 'S3DataDistributionType': 'FullyReplicated', 'S3CompressionType': 'None'}}, {'InputName': 'input-3', 'AppManaged': False, 'S3Input': {'S3Uri': 's3://aegovan-data/embeddings/bert/', 'LocalPath': '/opt/ml/processing/input/data/vocab', 'S3DataType': 'S3Prefix', 'S3InputMode': 'File', 'S3DataDistributionType': 'FullyReplicated', 'S3CompressionType': 'None'}}, {'InputName': 'code', 'AppManaged': False, 'S3Input': {'S3Uri': 's3://sagemaker-us-east-2-324346001917/chemprot-inference-2022-12-25-18-48-48-530/input/code/chemprot_batch_predict.py', 'LocalPath': '/opt/ml/processing/input/code', 'S3DataType': 'S3Prefix', 'S3InputMode': 'File', 'S3DataDistributionType': 'FullyReplicated', 'S3CompressionType': 'None'}}]\n",
      "Outputs:  [{'OutputName': 'predictions', 'AppManaged': False, 'S3Output': {'S3Uri': 's3://aegovan-data/chemprot/predictions_chemprot-abstract-bert-min-f1-2022-12-25-03-37-44-084/2022122510', 'LocalPath': '/opt/ml/processing/output', 'S3UploadMode': 'EndOfJob'}}]\n",
      "\n",
      "Job Name:  chemprot-inference-2022-12-25-18-48-50-450\n",
      "Inputs:  [{'InputName': 'input-1', 'AppManaged': False, 'S3Input': {'S3Uri': 's3://aegovan-data/chemprot/chemprot_abstract_test.json', 'LocalPath': '/opt/ml/processing/input/data/jsondata', 'S3DataType': 'S3Prefix', 'S3InputMode': 'File', 'S3DataDistributionType': 'ShardedByS3Key', 'S3CompressionType': 'None'}}, {'InputName': 'input-2', 'AppManaged': False, 'S3Input': {'S3Uri': 's3://aegovan-data/chemprot_sagemakerresults/chemprot-abstract-bert-min-f1-2022-12-25-03-37-42-553/output/model.tar.gz', 'LocalPath': '/opt/ml/processing/input/data/models', 'S3DataType': 'S3Prefix', 'S3InputMode': 'File', 'S3DataDistributionType': 'FullyReplicated', 'S3CompressionType': 'None'}}, {'InputName': 'input-3', 'AppManaged': False, 'S3Input': {'S3Uri': 's3://aegovan-data/embeddings/bert/', 'LocalPath': '/opt/ml/processing/input/data/vocab', 'S3DataType': 'S3Prefix', 'S3InputMode': 'File', 'S3DataDistributionType': 'FullyReplicated', 'S3CompressionType': 'None'}}, {'InputName': 'code', 'AppManaged': False, 'S3Input': {'S3Uri': 's3://sagemaker-us-east-2-324346001917/chemprot-inference-2022-12-25-18-48-50-450/input/code/chemprot_batch_predict.py', 'LocalPath': '/opt/ml/processing/input/code', 'S3DataType': 'S3Prefix', 'S3InputMode': 'File', 'S3DataDistributionType': 'FullyReplicated', 'S3CompressionType': 'None'}}]\n",
      "Outputs:  [{'OutputName': 'predictions', 'AppManaged': False, 'S3Output': {'S3Uri': 's3://aegovan-data/chemprot/predictions_chemprot-abstract-bert-min-f1-2022-12-25-03-37-42-553/2022122510', 'LocalPath': '/opt/ml/processing/output', 'S3UploadMode': 'EndOfJob'}}]\n",
      "\n",
      "Job Name:  chemprot-inference-2022-12-25-18-48-52-317\n",
      "Inputs:  [{'InputName': 'input-1', 'AppManaged': False, 'S3Input': {'S3Uri': 's3://aegovan-data/chemprot/chemprot_abstract_test.json', 'LocalPath': '/opt/ml/processing/input/data/jsondata', 'S3DataType': 'S3Prefix', 'S3InputMode': 'File', 'S3DataDistributionType': 'ShardedByS3Key', 'S3CompressionType': 'None'}}, {'InputName': 'input-2', 'AppManaged': False, 'S3Input': {'S3Uri': 's3://aegovan-data/chemprot_sagemakerresults/chemprot-abstract-bert-min-f1-2022-12-25-03-37-40-991/output/model.tar.gz', 'LocalPath': '/opt/ml/processing/input/data/models', 'S3DataType': 'S3Prefix', 'S3InputMode': 'File', 'S3DataDistributionType': 'FullyReplicated', 'S3CompressionType': 'None'}}, {'InputName': 'input-3', 'AppManaged': False, 'S3Input': {'S3Uri': 's3://aegovan-data/embeddings/bert/', 'LocalPath': '/opt/ml/processing/input/data/vocab', 'S3DataType': 'S3Prefix', 'S3InputMode': 'File', 'S3DataDistributionType': 'FullyReplicated', 'S3CompressionType': 'None'}}, {'InputName': 'code', 'AppManaged': False, 'S3Input': {'S3Uri': 's3://sagemaker-us-east-2-324346001917/chemprot-inference-2022-12-25-18-48-52-317/input/code/chemprot_batch_predict.py', 'LocalPath': '/opt/ml/processing/input/code', 'S3DataType': 'S3Prefix', 'S3InputMode': 'File', 'S3DataDistributionType': 'FullyReplicated', 'S3CompressionType': 'None'}}]\n",
      "Outputs:  [{'OutputName': 'predictions', 'AppManaged': False, 'S3Output': {'S3Uri': 's3://aegovan-data/chemprot/predictions_chemprot-abstract-bert-min-f1-2022-12-25-03-37-40-991/2022122510', 'LocalPath': '/opt/ml/processing/output', 'S3UploadMode': 'EndOfJob'}}]\n"
     ]
    }
   ],
   "source": [
    "from sagemaker.network import NetworkConfig\n",
    "from sagemaker.processing import ProcessingInput, ProcessingOutput\n",
    "from sagemaker.processing import ScriptProcessor\n",
    "\n",
    "for trainingjob in trainingjobs:\n",
    "\n",
    "    s3_output_predictions = \"s3://aegovan-data/chemprot/predictions_{}/{}\".format(trainingjob,date_fmt)\n",
    "    s3_model_path = f\"s3://aegovan-data/chemprot_sagemakerresults/{trainingjob}/output/model.tar.gz\"\n",
    "\n",
    "    script_processor = ScriptProcessor(image_uri=docker_repo,\n",
    "                                           command=[\"python\"],\n",
    "                                           env={'mode': 'python', 'PYTHONPATH':'/opt/ml/code'},\n",
    "                                           role=role,\n",
    "                                           instance_type=instance_type,\n",
    "                                           instance_count=instance_count,\n",
    "                                           max_runtime_in_seconds= 5 * 24 * 60 * 60,\n",
    "                                           volume_size_in_gb = 200,\n",
    "                                           network_config=NetworkConfig(enable_network_isolation=False),\n",
    "                                           base_job_name =\"chemprot-inference\"\n",
    "                                           )\n",
    "\n",
    "\n",
    "    sm_local_input_models = \"/opt/ml/processing/input/data/models\"\n",
    "    sm_local_input_data = \"/opt/ml/processing/input/data/jsondata\"\n",
    "    sm_local_input_vocab = \"/opt/ml/processing/input/data/vocab\"\n",
    "\n",
    "\n",
    "    sm_local_output = \"/opt/ml/processing/output\"\n",
    "\n",
    "    input_file_name = s3_input_data.split(\"/\")[-1]\n",
    "\n",
    "    script_processor.run(\n",
    "            code='../src/inference/chemprot_batch_predict.py',\n",
    "\n",
    "            arguments=[\n",
    "                sm_local_input_data,\n",
    "                sm_local_input_models,\n",
    "                sm_local_output,\n",
    "                \"--ensemble\", \"0\",\n",
    "                \"--tokenisor_data_dir\", sm_local_input_vocab,           \n",
    "                \"--filter\", str(usefilter),\n",
    "                \"--batch\", \"32\",\n",
    "                \"--filterstdthreshold\", str(filter_threshold_std)\n",
    "            ],\n",
    "\n",
    "            inputs=[\n",
    "                    ProcessingInput(\n",
    "                        source=s3_input_data,\n",
    "                        s3_data_type = s3_data_type,\n",
    "                        destination=sm_local_input_data,\n",
    "                        s3_data_distribution_type=\"ShardedByS3Key\"),\n",
    "\n",
    "                ProcessingInput(\n",
    "                        source=s3_model_path,\n",
    "                        destination=sm_local_input_models,\n",
    "                        s3_data_distribution_type=\"FullyReplicated\"),\n",
    "\n",
    "                ProcessingInput(\n",
    "                        source=s3_input_vocab,\n",
    "                        destination=sm_local_input_vocab,\n",
    "                        s3_data_distribution_type=\"FullyReplicated\")\n",
    "                ],\n",
    "\n",
    "\n",
    "            outputs=[ProcessingOutput(\n",
    "                    source=sm_local_output, \n",
    "                    destination=s3_output_predictions,\n",
    "                    output_name='predictions')],\n",
    "            wait = False\n",
    "           \n",
    "        )\n",
    "\n"
   ]
  }
 ],
 "metadata": {
  "kernelspec": {
   "display_name": "Python 3 (ipykernel)",
   "language": "python",
   "name": "python3"
  },
  "language_info": {
   "codemirror_mode": {
    "name": "ipython",
    "version": 3
   },
   "file_extension": ".py",
   "mimetype": "text/x-python",
   "name": "python",
   "nbconvert_exporter": "python",
   "pygments_lexer": "ipython3",
   "version": "3.7.9"
  }
 },
 "nbformat": 4,
 "nbformat_minor": 1
}