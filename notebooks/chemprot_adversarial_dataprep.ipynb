{
 "cells": [
  {
   "cell_type": "markdown",
   "id": "c8d94a80",
   "metadata": {},
   "source": [
    "# Create adversarial samples "
   ]
  },
  {
   "cell_type": "code",
   "execution_count": 1,
   "id": "cae87805",
   "metadata": {},
   "outputs": [],
   "source": [
    "bucket=\"aegovan-data\"\n",
    "\n",
    "train_data = f\"s3://{bucket}/chemprot/chemprot_abstract_train.json\"\n",
    "test_data = f\"s3://{bucket}/chemprot/chemprot_abstract_test.json\"\n",
    "val_data = f\"s3://{bucket}/chemprot/chemprot_abstract_val.json\"\n",
    "\n",
    "\n",
    "\n",
    "output_data = f\"s3://{bucket}/chemprot_adversarial\"\n",
    "\n"
   ]
  },
  {
   "cell_type": "code",
   "execution_count": 2,
   "id": "4b51a0d3",
   "metadata": {},
   "outputs": [],
   "source": [
    "\n",
    "from datetime import datetime\n",
    "\n",
    "datefmt = datetime.now().strftime(\"%Y%m%d%H%M\")\n",
    "\n",
    "output_data = f\"{output_data}/{datefmt}\""
   ]
  },
  {
   "cell_type": "code",
   "execution_count": 3,
   "id": "7af74d2f",
   "metadata": {},
   "outputs": [],
   "source": [
    "import pandas as pd\n",
    "import sagemaker, io"
   ]
  },
  {
   "cell_type": "code",
   "execution_count": 4,
   "id": "6a899a63",
   "metadata": {},
   "outputs": [
    {
     "data": {
      "text/html": [
       "<div>\n",
       "<style scoped>\n",
       "    .dataframe tbody tr th:only-of-type {\n",
       "        vertical-align: middle;\n",
       "    }\n",
       "\n",
       "    .dataframe tbody tr th {\n",
       "        vertical-align: top;\n",
       "    }\n",
       "\n",
       "    .dataframe thead th {\n",
       "        text-align: right;\n",
       "    }\n",
       "</style>\n",
       "<table border=\"1\" class=\"dataframe\">\n",
       "  <thead>\n",
       "    <tr style=\"text-align: right;\">\n",
       "      <th></th>\n",
       "      <th>abstract_id</th>\n",
       "      <th>abstract</th>\n",
       "      <th>participant1_id</th>\n",
       "      <th>participant1</th>\n",
       "      <th>participant2_id</th>\n",
       "      <th>participant2</th>\n",
       "      <th>annotations</th>\n",
       "      <th>relationship_type</th>\n",
       "      <th>relationship_group</th>\n",
       "      <th>is_eval</th>\n",
       "      <th>label</th>\n",
       "    </tr>\n",
       "  </thead>\n",
       "  <tbody>\n",
       "    <tr>\n",
       "      <th>1697</th>\n",
       "      <td>15562257</td>\n",
       "      <td>State-dependent mibefradil block of Na+ channe...</td>\n",
       "      <td>T1</td>\n",
       "      <td>{'abstract_id': '15562257', 'id': 'T1', 'entit...</td>\n",
       "      <td>T24</td>\n",
       "      <td>{'abstract_id': '15562257', 'id': 'T24', 'enti...</td>\n",
       "      <td>[{'abstract_id': '15562257', 'id': 'T1', 'enti...</td>\n",
       "      <td>ANTAGONIST</td>\n",
       "      <td>CPR:6</td>\n",
       "      <td>Y</td>\n",
       "      <td>CPR:6</td>\n",
       "    </tr>\n",
       "    <tr>\n",
       "      <th>4338</th>\n",
       "      <td>23301897</td>\n",
       "      <td>Bioactive flavaglines and other constituents i...</td>\n",
       "      <td>T2</td>\n",
       "      <td>{'abstract_id': '23301897', 'id': 'T2', 'entit...</td>\n",
       "      <td>T17</td>\n",
       "      <td>{'abstract_id': '23301897', 'id': 'T17', 'enti...</td>\n",
       "      <td>[{'abstract_id': '23301897', 'id': 'T1', 'enti...</td>\n",
       "      <td>INHIBITOR</td>\n",
       "      <td>CPR:4</td>\n",
       "      <td>Y</td>\n",
       "      <td>CPR:4</td>\n",
       "    </tr>\n",
       "    <tr>\n",
       "      <th>1587</th>\n",
       "      <td>15132128</td>\n",
       "      <td>Enzyme expression profiles suggest the novel t...</td>\n",
       "      <td>T3</td>\n",
       "      <td>{'abstract_id': '15132128', 'id': 'T3', 'entit...</td>\n",
       "      <td>T26</td>\n",
       "      <td>{'abstract_id': '15132128', 'id': 'T26', 'enti...</td>\n",
       "      <td>[{'abstract_id': '15132128', 'id': 'T1', 'enti...</td>\n",
       "      <td>INHIBITOR</td>\n",
       "      <td>CPR:4</td>\n",
       "      <td>Y</td>\n",
       "      <td>CPR:4</td>\n",
       "    </tr>\n",
       "  </tbody>\n",
       "</table>\n",
       "</div>"
      ],
      "text/plain": [
       "      abstract_id                                           abstract  \\\n",
       "1697     15562257  State-dependent mibefradil block of Na+ channe...   \n",
       "4338     23301897  Bioactive flavaglines and other constituents i...   \n",
       "1587     15132128  Enzyme expression profiles suggest the novel t...   \n",
       "\n",
       "     participant1_id                                       participant1  \\\n",
       "1697              T1  {'abstract_id': '15562257', 'id': 'T1', 'entit...   \n",
       "4338              T2  {'abstract_id': '23301897', 'id': 'T2', 'entit...   \n",
       "1587              T3  {'abstract_id': '15132128', 'id': 'T3', 'entit...   \n",
       "\n",
       "     participant2_id                                       participant2  \\\n",
       "1697             T24  {'abstract_id': '15562257', 'id': 'T24', 'enti...   \n",
       "4338             T17  {'abstract_id': '23301897', 'id': 'T17', 'enti...   \n",
       "1587             T26  {'abstract_id': '15132128', 'id': 'T26', 'enti...   \n",
       "\n",
       "                                            annotations relationship_type  \\\n",
       "1697  [{'abstract_id': '15562257', 'id': 'T1', 'enti...        ANTAGONIST   \n",
       "4338  [{'abstract_id': '23301897', 'id': 'T1', 'enti...         INHIBITOR   \n",
       "1587  [{'abstract_id': '15132128', 'id': 'T1', 'enti...         INHIBITOR   \n",
       "\n",
       "     relationship_group is_eval  label  \n",
       "1697              CPR:6       Y  CPR:6  \n",
       "4338              CPR:4       Y  CPR:4  \n",
       "1587              CPR:4       Y  CPR:4  "
      ]
     },
     "execution_count": 4,
     "metadata": {},
     "output_type": "execute_result"
    }
   ],
   "source": [
    "df = pd.read_json( io.StringIO(sagemaker.s3.S3Downloader.read_file(train_data)))\n",
    "df.sample(n=3)"
   ]
  },
  {
   "cell_type": "code",
   "execution_count": 5,
   "id": "5f3eb88f",
   "metadata": {},
   "outputs": [
    {
     "data": {
      "text/plain": [
       "<AxesSubplot:ylabel='Frequency'>"
      ]
     },
     "execution_count": 5,
     "metadata": {},
     "output_type": "execute_result"
    },
    {
     "data": {
      "image/png": "[encoded data removed]",
      "text/plain": [
       "<Figure size 432x288 with 1 Axes>"
      ]
     },
     "metadata": {
      "needs_background": "light"
     },
     "output_type": "display_data"
    }
   ],
   "source": [
    "df.groupby([\"abstract_id\"]).size().plot.hist()"
   ]
  },
  {
   "cell_type": "code",
   "execution_count": 6,
   "id": "d6cf8c43",
   "metadata": {},
   "outputs": [
    {
     "data": {
      "text/plain": [
       "count    767.000000\n",
       "mean       8.392438\n",
       "std        7.643567\n",
       "min        1.000000\n",
       "25%        3.000000\n",
       "50%        6.000000\n",
       "75%       11.000000\n",
       "max       59.000000\n",
       "dtype: float64"
      ]
     },
     "execution_count": 6,
     "metadata": {},
     "output_type": "execute_result"
    }
   ],
   "source": [
    "df.groupby([\"abstract_id\"]).size().describe()"
   ]
  },
  {
   "cell_type": "code",
   "execution_count": 7,
   "id": "26512680",
   "metadata": {},
   "outputs": [
    {
     "data": {
      "text/plain": [
       "label\n",
       "CPR:3        777\n",
       "CPR:4       2260\n",
       "CPR:5        173\n",
       "CPR:6        235\n",
       "CPR:9        727\n",
       "NEGATIVE    2265\n",
       "dtype: int64"
      ]
     },
     "execution_count": 7,
     "metadata": {},
     "output_type": "execute_result"
    }
   ],
   "source": [
    "df.groupby([\"label\"]).size()"
   ]
  },
  {
   "cell_type": "code",
   "execution_count": 8,
   "id": "c5b158c5",
   "metadata": {},
   "outputs": [
    {
     "data": {
      "text/plain": [
       "count    1382.000000\n",
       "mean        4.657742\n",
       "std         4.838381\n",
       "min         1.000000\n",
       "25%         2.000000\n",
       "50%         3.000000\n",
       "75%         6.000000\n",
       "max        58.000000\n",
       "dtype: float64"
      ]
     },
     "execution_count": 8,
     "metadata": {},
     "output_type": "execute_result"
    }
   ],
   "source": [
    "df.groupby([\"abstract_id\", \"label\"]).size().describe()"
   ]
  },
  {
   "cell_type": "code",
   "execution_count": 9,
   "id": "365400bc",
   "metadata": {},
   "outputs": [
    {
     "data": {
      "text/plain": [
       "(4525, 11)"
      ]
     },
     "execution_count": 9,
     "metadata": {},
     "output_type": "execute_result"
    }
   ],
   "source": [
    "df.query(\"label == 'NEGATIVE' or label == 'CPR:4'\").shape"
   ]
  },
  {
   "cell_type": "code",
   "execution_count": 10,
   "id": "8d0ac28c",
   "metadata": {},
   "outputs": [
    {
     "data": {
      "text/plain": [
       "<AxesSubplot:ylabel='Frequency'>"
      ]
     },
     "execution_count": 10,
     "metadata": {},
     "output_type": "execute_result"
    },
    {
     "data": {
      "image/png": "[encoded data removed]",
      "text/plain": [
       "<Figure size 432x288 with 1 Axes>"
      ]
     },
     "metadata": {
      "needs_background": "light"
     },
     "output_type": "display_data"
    }
   ],
   "source": [
    "df.query(\"label == 'NEGATIVE' or label == 'CPR:4'\").groupby([\"abstract_id\", \"label\"]).size().plot.hist()"
   ]
  },
  {
   "cell_type": "code",
   "execution_count": 11,
   "id": "9ea3d153",
   "metadata": {},
   "outputs": [
    {
     "data": {
      "text/plain": [
       "<AxesSubplot:ylabel='Frequency'>"
      ]
     },
     "execution_count": 11,
     "metadata": {},
     "output_type": "execute_result"
    },
    {
     "data": {
      "image/png": "[encoded data removed]",
      "text/plain": [
       "<Figure size 432x288 with 1 Axes>"
      ]
     },
     "metadata": {
      "needs_background": "light"
     },
     "output_type": "display_data"
    }
   ],
   "source": [
    "df.query(\"label != 'CPR:3'\").groupby([\"abstract_id\"]).size().plot.hist()"
   ]
  },
  {
   "cell_type": "code",
   "execution_count": 12,
   "id": "f14a8fcf",
   "metadata": {},
   "outputs": [
    {
     "data": {
      "text/plain": [
       "count    740.000000\n",
       "mean       7.648649\n",
       "std        7.110252\n",
       "min        1.000000\n",
       "25%        3.000000\n",
       "50%        6.000000\n",
       "75%       10.000000\n",
       "max       59.000000\n",
       "dtype: float64"
      ]
     },
     "execution_count": 12,
     "metadata": {},
     "output_type": "execute_result"
    }
   ],
   "source": [
    "df.query(\"label != 'CPR:3'\").groupby([\"abstract_id\"]).size().describe()"
   ]
  },
  {
   "cell_type": "code",
   "execution_count": 13,
   "id": "1318d7ba",
   "metadata": {},
   "outputs": [
    {
     "data": {
      "text/plain": [
       "count    210.000000\n",
       "mean       3.700000\n",
       "std        3.397227\n",
       "min        1.000000\n",
       "25%        1.000000\n",
       "50%        2.000000\n",
       "75%        5.000000\n",
       "max       20.000000\n",
       "dtype: float64"
      ]
     },
     "execution_count": 13,
     "metadata": {},
     "output_type": "execute_result"
    }
   ],
   "source": [
    "df.query(\"label == 'CPR:3'\").groupby([\"abstract_id\"]).size().describe()"
   ]
  },
  {
   "cell_type": "code",
   "execution_count": 14,
   "id": "6314e56a",
   "metadata": {},
   "outputs": [
    {
     "data": {
      "text/plain": [
       "(777, 11)"
      ]
     },
     "execution_count": 14,
     "metadata": {},
     "output_type": "execute_result"
    }
   ],
   "source": [
    "df.query(\"label == 'CPR:3'\").shape"
   ]
  },
  {
   "cell_type": "code",
   "execution_count": 15,
   "id": "0814efb6",
   "metadata": {},
   "outputs": [],
   "source": [
    "def upload_to_s3(df, s3_uri):\n",
    "    json_data = io.StringIO() \n",
    "    df.to_json( json_data )\n",
    "\n",
    "\n",
    "    sagemaker.s3.S3Uploader.upload_string_as_file_body(json_data.getvalue(), s3_uri)"
   ]
  },
  {
   "cell_type": "code",
   "execution_count": 16,
   "id": "4944e8ce",
   "metadata": {},
   "outputs": [],
   "source": [
    "def update_label(df, pos_label):\n",
    "    df[\"label\"] = df[\"label\"].apply(lambda x: 1 if x == pos_label else 0)\n",
    "    return df\n",
    "    \n",
    "def update_label_upload_s3(df, s3_uri_base, pos_label, filename):\n",
    "    df = update_label(df, pos_label)\n",
    "    \n",
    "    s3_uri = \"{}/{}\".format( s3_uri_base.rstrip(\"/\"), filename)\n",
    "    \n",
    "    upload_to_s3(df, s3_uri)"
   ]
  },
  {
   "cell_type": "code",
   "execution_count": 17,
   "id": "0bea725b",
   "metadata": {},
   "outputs": [
    {
     "name": "stdout",
     "output_type": "stream",
     "text": [
      "{'UniquePositives': 210, 'AllPositives': 777, 'AffablePositives': 567, 'AffablePositiveRate': 0.7297297297297297, 'UniquePositiveSampleRate': 0.03262389311791207, 'PositiveSampleRate': 0.12070840453627467, 'UniqueNegatives': 740, 'AllNegatives': 5660, 'AffableNegatives': 4920, 'AffableNegativeRate': 0.8692579505300353, 'UniqueNonAdversarialNegatives': 557, 'AllNonAdversarialNegatives': 4145, 'UniqueAdversarialNegatives': 183, 'AllAdversarialNegatives': 1515, 'AdversarialRate': 1.94980694980695, 'UniqueAdversarialRate': 0.23552123552123552, 'TotalSize': 6437, 'UniqueAbstracts': 767}\n",
      "s3://aegovan-data/chemprot_adversarial/202212271345/adversarial/train_767_210_0.json {'UniquePositives': 210, 'AllPositives': 210, 'AffablePositives': 0, 'AffablePositiveRate': 0.0, 'UniquePositiveSampleRate': 0.2737940026075619, 'PositiveSampleRate': 0.2737940026075619, 'UniqueNegatives': 557, 'AllNegatives': 557, 'AffableNegatives': 0, 'AffableNegativeRate': 0.0, 'UniqueNonAdversarialNegatives': 557, 'AllNonAdversarialNegatives': 557, 'UniqueAdversarialNegatives': 0, 'AllAdversarialNegatives': 0, 'AdversarialRate': 0.0, 'UniqueAdversarialRate': 0.0, 'TotalSize': 767, 'UniqueAbstracts': 767}\n",
      "s3://aegovan-data/chemprot_adversarial/202212271345/adversarial/train_767_210_21.json {'UniquePositives': 210, 'AllPositives': 210, 'AffablePositives': 0, 'AffablePositiveRate': 0.0, 'UniquePositiveSampleRate': 0.2737940026075619, 'PositiveSampleRate': 0.2737940026075619, 'UniqueNegatives': 557, 'AllNegatives': 557, 'AffableNegatives': 0, 'AffableNegativeRate': 0.0, 'UniqueNonAdversarialNegatives': 536, 'AllNonAdversarialNegatives': 536, 'UniqueAdversarialNegatives': 21, 'AllAdversarialNegatives': 21, 'AdversarialRate': 0.1, 'UniqueAdversarialRate': 0.1, 'TotalSize': 767, 'UniqueAbstracts': 746}\n",
      "s3://aegovan-data/chemprot_adversarial/202212271345/adversarial/train_767_210_42.json {'UniquePositives': 210, 'AllPositives': 210, 'AffablePositives': 0, 'AffablePositiveRate': 0.0, 'UniquePositiveSampleRate': 0.2737940026075619, 'PositiveSampleRate': 0.2737940026075619, 'UniqueNegatives': 557, 'AllNegatives': 557, 'AffableNegatives': 0, 'AffableNegativeRate': 0.0, 'UniqueNonAdversarialNegatives': 515, 'AllNonAdversarialNegatives': 515, 'UniqueAdversarialNegatives': 42, 'AllAdversarialNegatives': 42, 'AdversarialRate': 0.2, 'UniqueAdversarialRate': 0.2, 'TotalSize': 767, 'UniqueAbstracts': 725}\n",
      "s3://aegovan-data/chemprot_adversarial/202212271345/adversarial/train_767_210_63.json {'UniquePositives': 210, 'AllPositives': 210, 'AffablePositives': 0, 'AffablePositiveRate': 0.0, 'UniquePositiveSampleRate': 0.2737940026075619, 'PositiveSampleRate': 0.2737940026075619, 'UniqueNegatives': 557, 'AllNegatives': 557, 'AffableNegatives': 0, 'AffableNegativeRate': 0.0, 'UniqueNonAdversarialNegatives': 494, 'AllNonAdversarialNegatives': 494, 'UniqueAdversarialNegatives': 63, 'AllAdversarialNegatives': 63, 'AdversarialRate': 0.3, 'UniqueAdversarialRate': 0.3, 'TotalSize': 767, 'UniqueAbstracts': 704}\n",
      "s3://aegovan-data/chemprot_adversarial/202212271345/adversarial/train_767_210_84.json {'UniquePositives': 210, 'AllPositives': 210, 'AffablePositives': 0, 'AffablePositiveRate': 0.0, 'UniquePositiveSampleRate': 0.2737940026075619, 'PositiveSampleRate': 0.2737940026075619, 'UniqueNegatives': 557, 'AllNegatives': 557, 'AffableNegatives': 0, 'AffableNegativeRate': 0.0, 'UniqueNonAdversarialNegatives': 473, 'AllNonAdversarialNegatives': 473, 'UniqueAdversarialNegatives': 84, 'AllAdversarialNegatives': 84, 'AdversarialRate': 0.4, 'UniqueAdversarialRate': 0.4, 'TotalSize': 767, 'UniqueAbstracts': 683}\n",
      "s3://aegovan-data/chemprot_adversarial/202212271345/adversarial/train_767_210_105.json {'UniquePositives': 210, 'AllPositives': 210, 'AffablePositives': 0, 'AffablePositiveRate': 0.0, 'UniquePositiveSampleRate': 0.2737940026075619, 'PositiveSampleRate': 0.2737940026075619, 'UniqueNegatives': 557, 'AllNegatives': 557, 'AffableNegatives': 0, 'AffableNegativeRate': 0.0, 'UniqueNonAdversarialNegatives': 452, 'AllNonAdversarialNegatives': 452, 'UniqueAdversarialNegatives': 105, 'AllAdversarialNegatives': 105, 'AdversarialRate': 0.5, 'UniqueAdversarialRate': 0.5, 'TotalSize': 767, 'UniqueAbstracts': 662}\n",
      "s3://aegovan-data/chemprot_adversarial/202212271345/adversarial/train_767_210_126.json {'UniquePositives': 210, 'AllPositives': 210, 'AffablePositives': 0, 'AffablePositiveRate': 0.0, 'UniquePositiveSampleRate': 0.2737940026075619, 'PositiveSampleRate': 0.2737940026075619, 'UniqueNegatives': 557, 'AllNegatives': 557, 'AffableNegatives': 0, 'AffableNegativeRate': 0.0, 'UniqueNonAdversarialNegatives': 431, 'AllNonAdversarialNegatives': 431, 'UniqueAdversarialNegatives': 126, 'AllAdversarialNegatives': 126, 'AdversarialRate': 0.6, 'UniqueAdversarialRate': 0.6, 'TotalSize': 767, 'UniqueAbstracts': 641}\n",
      "s3://aegovan-data/chemprot_adversarial/202212271345/adversarial/train_767_210_147.json {'UniquePositives': 210, 'AllPositives': 210, 'AffablePositives': 0, 'AffablePositiveRate': 0.0, 'UniquePositiveSampleRate': 0.2737940026075619, 'PositiveSampleRate': 0.2737940026075619, 'UniqueNegatives': 557, 'AllNegatives': 557, 'AffableNegatives': 0, 'AffableNegativeRate': 0.0, 'UniqueNonAdversarialNegatives': 410, 'AllNonAdversarialNegatives': 410, 'UniqueAdversarialNegatives': 147, 'AllAdversarialNegatives': 147, 'AdversarialRate': 0.7, 'UniqueAdversarialRate': 0.7, 'TotalSize': 767, 'UniqueAbstracts': 620}\n",
      "s3://aegovan-data/chemprot_adversarial/202212271345/adversarial/train_767_210_168.json {'UniquePositives': 210, 'AllPositives': 210, 'AffablePositives': 0, 'AffablePositiveRate': 0.0, 'UniquePositiveSampleRate': 0.2737940026075619, 'PositiveSampleRate': 0.2737940026075619, 'UniqueNegatives': 557, 'AllNegatives': 557, 'AffableNegatives': 0, 'AffableNegativeRate': 0.0, 'UniqueNonAdversarialNegatives': 389, 'AllNonAdversarialNegatives': 389, 'UniqueAdversarialNegatives': 168, 'AllAdversarialNegatives': 168, 'AdversarialRate': 0.8, 'UniqueAdversarialRate': 0.8, 'TotalSize': 767, 'UniqueAbstracts': 599}\n"
     ]
    },
    {
     "data": {
      "image/png": "[encoded data removed]",
      "text/plain": [
       "<Figure size 432x288 with 1 Axes>"
      ]
     },
     "metadata": {
      "needs_background": "light"
     },
     "output_type": "display_data"
    },
    {
     "data": {
      "image/png": "[encoded data removed]",
      "text/plain": [
       "<Figure size 432x288 with 1 Axes>"
      ]
     },
     "metadata": {
      "needs_background": "light"
     },
     "output_type": "display_data"
    }
   ],
   "source": [
    "import numpy as np\n",
    "\n",
    "def get_stats(df, pos_label):\n",
    "    stats ={}\n",
    "    \n",
    "    # Positive samples\n",
    "    df_positive = df.query(f\"label == '{pos_label}'\")\n",
    "    df_positive_unique = df_positive.drop_duplicates('abstract_id')\n",
    "    stats[\"UniquePositives\"] = len(df_positive_unique)\n",
    "    stats[\"AllPositives\"] = len(df_positive)\n",
    "    stats[\"AffablePositives\"] = len(df_positive) - len(df_positive_unique)\n",
    "    stats[\"AffablePositiveRate\"] = stats[\"AffablePositives\"]/len(df_positive)\n",
    "\n",
    "\n",
    "\n",
    "    stats[\"UniquePositiveSampleRate\"] = stats[\"UniquePositives\"]/(len(df))\n",
    "    stats[\"PositiveSampleRate\"] = stats[\"AllPositives\"]/(len(df))\n",
    "    \n",
    "    \n",
    "    # Negative samples\n",
    "    df_negative = df.query(f\"label != '{pos_label}'\")\n",
    "    df_negative_unique = df_negative.drop_duplicates('abstract_id')\n",
    "\n",
    "\n",
    "    stats[\"UniqueNegatives\"] = len(df_negative_unique)\n",
    "    stats[\"AllNegatives\"] = len(df_negative)\n",
    "    stats[\"AffableNegatives\"] = len(df_negative) - len(df_negative_unique)\n",
    "    stats[\"AffableNegativeRate\"] = stats[\"AffableNegatives\"]/stats[\"AllNegatives\"] \n",
    "\n",
    "\n",
    "    \n",
    "    # Abstract ids with corresponding positive samples\n",
    "    abstracts_id_with_positive = df[\"abstract_id\"].isin( df.query(f\"label == '{pos_label}'\")[\"abstract_id\"])\n",
    "    \n",
    "    # Non-Adversarial Negative: Unique negative samples unrelated to positive samples\n",
    "    df_negative_non_adverseries = df[~abstracts_id_with_positive]\n",
    "    df_negative_non_adverseries_unique =df_negative_non_adverseries.drop_duplicates('abstract_id')\n",
    "    stats[\"UniqueNonAdversarialNegatives\"] = len(df_negative_non_adverseries_unique)\n",
    "    stats[\"AllNonAdversarialNegatives\"] = len(df_negative_non_adverseries)\n",
    "\n",
    "    # Adversarial  Negative: Unique negative samples with matching positive samples\n",
    "    df_negative_adverseries = df[abstracts_id_with_positive].query(f\"label != '{pos_label}'\")\n",
    "    df_negative_adverseries_unique = df_negative_adverseries.drop_duplicates('abstract_id')\n",
    "    stats[\"UniqueAdversarialNegatives\"] = len(df_negative_adverseries_unique)\n",
    "    stats[\"AllAdversarialNegatives\"] = len(df_negative_adverseries)\n",
    "    \n",
    "    # TODO: Check if unique positive is appropriate\n",
    "    stats[\"AdversarialRate\"] = stats[\"AllAdversarialNegatives\"]/len(df_positive)\n",
    "    stats[\"UniqueAdversarialRate\"] = stats[\"UniqueAdversarialNegatives\"]/len(df_positive)\n",
    "\n",
    "\n",
    "    stats[\"TotalSize\"] = len(df)\n",
    "    stats[\"UniqueAbstracts\"] = df[\"abstract\"].nunique()\n",
    "\n",
    "\n",
    "    return stats\n",
    "\n",
    "\n",
    "def mixmatch_training_data_discriminatory(df, discriminitory_rate, pos_label):\n",
    "    \n",
    "    stats = {}\n",
    "    \n",
    "    # Positive samples\n",
    "    df_positive_unique = df.query(f\"label == '{pos_label}'\").drop_duplicates('abstract_id')\n",
    "    df_positive_unique_sim = df.query(f\"label == '{pos_label}'\")\n",
    "    \n",
    "    # Abstract ids with corresponding positive samples\n",
    "    abstracts_id_with_positive = df[\"abstract_id\"].isin( df.query(f\"label == '{pos_label}'\")[\"abstract_id\"])\n",
    "    \n",
    "    # Non-Adversarial Negative: Unique negative samples unrelated to positive samples\n",
    "    df_negative_non_adverseries_unique = df[~abstracts_id_with_positive].drop_duplicates('abstract_id')\n",
    "    \n",
    "    # Adversarial  Negative: Unique negative samples with matching positive samples\n",
    "    df_negative_adverseries_unique = df[abstracts_id_with_positive].query(f\"label != '{pos_label}'\").drop_duplicates('abstract_id')\n",
    "    \n",
    "    df_negative_adverseries_simi = df[abstracts_id_with_positive].query(f\"label != '{pos_label}'\")\n",
    "    \n",
    "    \n",
    "    discriminitory_size = int(len(df_positive_unique)  * discriminitory_rate)\n",
    "    if discriminitory_size > 0:\n",
    "        drop_indices = np.random.choice(df_negative_non_adverseries_unique.index, discriminitory_size, replace=False)\n",
    "      \n",
    "        df_negative_non_adverseries_unique = df_negative_non_adverseries_unique.drop(drop_indices).copy()\n",
    "        \n",
    "        df_negative_adverseries_unique = df_negative_adverseries_unique.sample(n=discriminitory_size).copy()\n",
    "        \n",
    "        df_negative_adverseries_unique[\"label\"] = 'NEGATIVE'\n",
    "        df_negative_non_adverseries_unique[\"label\"] =  'NEGATIVE'\n",
    "    else:\n",
    "        # Empty adversarial unique\n",
    "        df_negative_adverseries_unique = pd.DataFrame()\n",
    "     \n",
    "    \n",
    "    final_data = pd.concat([df_positive_unique, \n",
    "                            df_negative_non_adverseries_unique, \n",
    "                            df_negative_adverseries_unique]).reset_index()\n",
    "    \n",
    "    final_data[\"label\"] = final_data[\"label\"].apply(lambda x: 1 if x == pos_label else 0)\n",
    "    return final_data\n",
    "\n",
    "\n",
    "\n",
    "def create_discriminatory_samples_and_upload_to_s3(df, s3_uri_base, pos_label):\n",
    "    \n",
    "\n",
    "    stats = []\n",
    "    for i in range(0, 9):\n",
    "\n",
    "        df_train_data = mixmatch_training_data_discriminatory(df, discriminitory_rate=i/10, pos_label=pos_label)  \n",
    "        stat = get_stats(df_train_data, pos_label=1)\n",
    "        stats.append(stat )\n",
    "        \n",
    "        \n",
    "        \n",
    "        s3_uri = \"{}/adversarial/{}\".format( s3_uri_base.rstrip(\"/\"), f'train_{stat[\"TotalSize\"]}_{stat[\"AllPositives\"]}_{stat[\"UniqueAdversarialNegatives\"]}.json')\n",
    "        print(s3_uri, stat )\n",
    "        \n",
    "        upload_to_s3(df_train_data, s3_uri)\n",
    "        \n",
    "\n",
    "    \n",
    "    pd.DataFrame(stats)[[ \"TotalSize\", \"UniquePositives\", \"AllPositives\",\n",
    "                         \"UniqueNonAdversarialNegatives\", \"AllNonAdversarialNegatives\",\n",
    "                          \"UniqueAdversarialNegatives\", \"AllAdversarialNegatives\"\n",
    "                        ]].plot.line()\n",
    "    pd.DataFrame(stats)[[\"PositiveSampleRate\", \"AdversarialRate\"]].plot.line()\n",
    "    \n",
    "\n",
    "\n",
    "\n",
    "\n",
    "\n",
    "\n",
    "\n",
    "print(get_stats(df, \"CPR:3\"))\n",
    "create_discriminatory_samples_and_upload_to_s3(df, output_data,  \"CPR:3\")\n",
    "\n"
   ]
  },
  {
   "cell_type": "code",
   "execution_count": 18,
   "id": "a30153e1",
   "metadata": {},
   "outputs": [
    {
     "name": "stdout",
     "output_type": "stream",
     "text": [
      "s3://aegovan-data/chemprot_adversarial/202212271345/affablenegatives/train_767_210_0.json {'UniquePositives': 210, 'AllPositives': 210, 'AffablePositives': 0, 'AffablePositiveRate': 0.0, 'UniquePositiveSampleRate': 0.2737940026075619, 'PositiveSampleRate': 0.2737940026075619, 'UniqueNegatives': 557, 'AllNegatives': 557, 'AffableNegatives': 0, 'AffableNegativeRate': 0.0, 'UniqueNonAdversarialNegatives': 557, 'AllNonAdversarialNegatives': 557, 'UniqueAdversarialNegatives': 0, 'AllAdversarialNegatives': 0, 'AdversarialRate': 0.0, 'UniqueAdversarialRate': 0.0, 'TotalSize': 767, 'UniqueAbstracts': 767}\n",
      "s3://aegovan-data/chemprot_adversarial/202212271345/affablenegatives/train_767_210_55.json {'UniquePositives': 210, 'AllPositives': 210, 'AffablePositives': 0, 'AffablePositiveRate': 0.0, 'UniquePositiveSampleRate': 0.2737940026075619, 'PositiveSampleRate': 0.2737940026075619, 'UniqueNegatives': 502, 'AllNegatives': 557, 'AffableNegatives': 55, 'AffableNegativeRate': 0.09874326750448834, 'UniqueNonAdversarialNegatives': 502, 'AllNonAdversarialNegatives': 557, 'UniqueAdversarialNegatives': 0, 'AllAdversarialNegatives': 0, 'AdversarialRate': 0.0, 'UniqueAdversarialRate': 0.0, 'TotalSize': 767, 'UniqueAbstracts': 712}\n",
      "s3://aegovan-data/chemprot_adversarial/202212271345/affablenegatives/train_767_210_111.json {'UniquePositives': 210, 'AllPositives': 210, 'AffablePositives': 0, 'AffablePositiveRate': 0.0, 'UniquePositiveSampleRate': 0.2737940026075619, 'PositiveSampleRate': 0.2737940026075619, 'UniqueNegatives': 446, 'AllNegatives': 557, 'AffableNegatives': 111, 'AffableNegativeRate': 0.1992818671454219, 'UniqueNonAdversarialNegatives': 446, 'AllNonAdversarialNegatives': 557, 'UniqueAdversarialNegatives': 0, 'AllAdversarialNegatives': 0, 'AdversarialRate': 0.0, 'UniqueAdversarialRate': 0.0, 'TotalSize': 767, 'UniqueAbstracts': 656}\n",
      "s3://aegovan-data/chemprot_adversarial/202212271345/affablenegatives/train_767_210_167.json {'UniquePositives': 210, 'AllPositives': 210, 'AffablePositives': 0, 'AffablePositiveRate': 0.0, 'UniquePositiveSampleRate': 0.2737940026075619, 'PositiveSampleRate': 0.2737940026075619, 'UniqueNegatives': 390, 'AllNegatives': 557, 'AffableNegatives': 167, 'AffableNegativeRate': 0.2998204667863555, 'UniqueNonAdversarialNegatives': 390, 'AllNonAdversarialNegatives': 557, 'UniqueAdversarialNegatives': 0, 'AllAdversarialNegatives': 0, 'AdversarialRate': 0.0, 'UniqueAdversarialRate': 0.0, 'TotalSize': 767, 'UniqueAbstracts': 600}\n",
      "s3://aegovan-data/chemprot_adversarial/202212271345/affablenegatives/train_767_210_222.json {'UniquePositives': 210, 'AllPositives': 210, 'AffablePositives': 0, 'AffablePositiveRate': 0.0, 'UniquePositiveSampleRate': 0.2737940026075619, 'PositiveSampleRate': 0.2737940026075619, 'UniqueNegatives': 335, 'AllNegatives': 557, 'AffableNegatives': 222, 'AffableNegativeRate': 0.3985637342908438, 'UniqueNonAdversarialNegatives': 335, 'AllNonAdversarialNegatives': 557, 'UniqueAdversarialNegatives': 0, 'AllAdversarialNegatives': 0, 'AdversarialRate': 0.0, 'UniqueAdversarialRate': 0.0, 'TotalSize': 767, 'UniqueAbstracts': 545}\n",
      "s3://aegovan-data/chemprot_adversarial/202212271345/affablenegatives/train_767_210_278.json {'UniquePositives': 210, 'AllPositives': 210, 'AffablePositives': 0, 'AffablePositiveRate': 0.0, 'UniquePositiveSampleRate': 0.2737940026075619, 'PositiveSampleRate': 0.2737940026075619, 'UniqueNegatives': 279, 'AllNegatives': 557, 'AffableNegatives': 278, 'AffableNegativeRate': 0.4991023339317774, 'UniqueNonAdversarialNegatives': 279, 'AllNonAdversarialNegatives': 557, 'UniqueAdversarialNegatives': 0, 'AllAdversarialNegatives': 0, 'AdversarialRate': 0.0, 'UniqueAdversarialRate': 0.0, 'TotalSize': 767, 'UniqueAbstracts': 489}\n",
      "s3://aegovan-data/chemprot_adversarial/202212271345/affablenegatives/train_767_210_334.json {'UniquePositives': 210, 'AllPositives': 210, 'AffablePositives': 0, 'AffablePositiveRate': 0.0, 'UniquePositiveSampleRate': 0.2737940026075619, 'PositiveSampleRate': 0.2737940026075619, 'UniqueNegatives': 223, 'AllNegatives': 557, 'AffableNegatives': 334, 'AffableNegativeRate': 0.599640933572711, 'UniqueNonAdversarialNegatives': 223, 'AllNonAdversarialNegatives': 557, 'UniqueAdversarialNegatives': 0, 'AllAdversarialNegatives': 0, 'AdversarialRate': 0.0, 'UniqueAdversarialRate': 0.0, 'TotalSize': 767, 'UniqueAbstracts': 433}\n",
      "s3://aegovan-data/chemprot_adversarial/202212271345/affablenegatives/train_767_210_389.json {'UniquePositives': 210, 'AllPositives': 210, 'AffablePositives': 0, 'AffablePositiveRate': 0.0, 'UniquePositiveSampleRate': 0.2737940026075619, 'PositiveSampleRate': 0.2737940026075619, 'UniqueNegatives': 168, 'AllNegatives': 557, 'AffableNegatives': 389, 'AffableNegativeRate': 0.6983842010771992, 'UniqueNonAdversarialNegatives': 168, 'AllNonAdversarialNegatives': 557, 'UniqueAdversarialNegatives': 0, 'AllAdversarialNegatives': 0, 'AdversarialRate': 0.0, 'UniqueAdversarialRate': 0.0, 'TotalSize': 767, 'UniqueAbstracts': 378}\n",
      "s3://aegovan-data/chemprot_adversarial/202212271345/affablenegatives/train_767_210_445.json {'UniquePositives': 210, 'AllPositives': 210, 'AffablePositives': 0, 'AffablePositiveRate': 0.0, 'UniquePositiveSampleRate': 0.2737940026075619, 'PositiveSampleRate': 0.2737940026075619, 'UniqueNegatives': 112, 'AllNegatives': 557, 'AffableNegatives': 445, 'AffableNegativeRate': 0.7989228007181328, 'UniqueNonAdversarialNegatives': 112, 'AllNonAdversarialNegatives': 557, 'UniqueAdversarialNegatives': 0, 'AllAdversarialNegatives': 0, 'AdversarialRate': 0.0, 'UniqueAdversarialRate': 0.0, 'TotalSize': 767, 'UniqueAbstracts': 322}\n"
     ]
    },
    {
     "data": {
      "image/png": "[encoded data removed]",
      "text/plain": [
       "<Figure size 432x288 with 1 Axes>"
      ]
     },
     "metadata": {
      "needs_background": "light"
     },
     "output_type": "display_data"
    },
    {
     "data": {
      "image/png": "[encoded data removed]",
      "text/plain": [
       "<Figure size 432x288 with 1 Axes>"
      ]
     },
     "metadata": {
      "needs_background": "light"
     },
     "output_type": "display_data"
    }
   ],
   "source": [
    "def mixmatch_training_data_affable_negatives(df, affability_rate, pos_label):\n",
    "    \n",
    "    assert df.index.nunique() == len(df), \"Expect unique indices\"\n",
    "    \n",
    "    stats = {}\n",
    "    \n",
    "    # Positive samples\n",
    "    df_positive_unique = df.query(f\"label == '{pos_label}'\").drop_duplicates('abstract_id')\n",
    "    df_positive_unique_all = df.query(f\"label == '{pos_label}'\")\n",
    "    \n",
    "    # Abstract ids with corresponding positive samples\n",
    "    abstracts_id_with_positive = df[\"abstract_id\"].isin( df.query(f\"label == '{pos_label}'\")[\"abstract_id\"])\n",
    "    \n",
    "    # Non-Adversarial Negative: Unique negative samples unrelated to positive samples\n",
    "    df_negative_non_adverseries_unique = df[~abstracts_id_with_positive].drop_duplicates('abstract_id')\n",
    "    \n",
    "    df_negative_non_adverseries_all = df[~abstracts_id_with_positive]\n",
    "    \n",
    "    \n",
    "    df_negative_non_adverseries_affable = pd.DataFrame()\n",
    "    \n",
    "    affability_size = int(len(df_negative_non_adverseries_unique)  * affability_rate)\n",
    "    if affability_rate > 0:\n",
    "        drop_indices = np.random.choice(df_negative_non_adverseries_unique.index, affability_size, replace=False)\n",
    "      \n",
    "        df_negative_non_adverseries_unique = df_negative_non_adverseries_unique.drop(drop_indices).copy()\n",
    "        \n",
    "        # Remove the ones that are in non-unique, i.e. affable\n",
    "        df_negative_non_adverseries_affable_all = df_negative_non_adverseries_all[~df_negative_non_adverseries_all.index.isin(df_negative_non_adverseries_unique.index)]\n",
    "        df_negative_non_adverseries_affable = df_negative_non_adverseries_affable_all[df_negative_non_adverseries_affable_all[\"abstract_id\"]\\\n",
    "                                                                              .isin(df_negative_non_adverseries_unique[\"abstract_id\"]\n",
    "                                                                                   \n",
    "                                                                                   )]\n",
    "\n",
    "\n",
    "        \n",
    "        df_negative_non_adverseries_affable = df_negative_non_adverseries_affable.sample(n=affability_size).copy()\n",
    "        \n",
    "        df_negative_non_adverseries_unique[\"label\"] = 'NEGATIVE'\n",
    "        df_negative_non_adverseries_affable[\"label\"] =  'NEGATIVE'\n",
    "    else:\n",
    "        # Empty adversarial unique\n",
    "        df_negative_adverseries_unique = pd.DataFrame()\n",
    "     \n",
    "    \n",
    "    final_data = pd.concat([df_positive_unique, \n",
    "                            df_negative_non_adverseries_unique, \n",
    "                            df_negative_non_adverseries_affable]).reset_index()\n",
    "    \n",
    "    final_data[\"label\"] = final_data[\"label\"].apply(lambda x: 1 if x == pos_label else 0)\n",
    "    return final_data\n",
    "\n",
    "\n",
    "def create_affable_negatives_and_upload_to_s3(df, s3_uri_base, pos_label):\n",
    "    \n",
    "\n",
    "    stats = []\n",
    "    for i in range(0, 9):\n",
    "\n",
    "        df_train_data = mixmatch_training_data_affable_negatives(df, affability_rate=i/10, pos_label=pos_label)  \n",
    "        stat = get_stats(df_train_data, pos_label=1)\n",
    "        stats.append(stat )\n",
    "        \n",
    "      \n",
    "        \n",
    "        s3_uri = \"{}/affablenegatives/{}\".format( s3_uri_base.rstrip(\"/\"), f'train_{stat[\"TotalSize\"]}_{stat[\"AllPositives\"]}_{stat[\"AffableNegatives\"]}.json')\n",
    "        print(s3_uri, stat )\n",
    "        \n",
    "        upload_to_s3(df_train_data, s3_uri)\n",
    "        \n",
    "\n",
    "    \n",
    "    pd.DataFrame(stats)[[ \"TotalSize\", \"UniquePositives\", \"AllPositives\",\n",
    "                         \"UniqueNonAdversarialNegatives\", \"AllNonAdversarialNegatives\",\n",
    "                          \"UniqueAdversarialNegatives\", \"AllAdversarialNegatives\", \"AffableNegatives\", \"AffablePositives\"\n",
    "                       ,\"UniqueAbstracts\" ]].plot.line()\n",
    "    pd.DataFrame(stats)[[\"PositiveSampleRate\", \"AdversarialRate\", \"AffableNegativeRate\"]].plot.line()\n",
    "    \n",
    "create_affable_negatives_and_upload_to_s3(df, output_data,  \"CPR:3\")\n",
    "\n"
   ]
  },
  {
   "cell_type": "code",
   "execution_count": 19,
   "id": "792b29b0",
   "metadata": {},
   "outputs": [
    {
     "name": "stdout",
     "output_type": "stream",
     "text": [
      "s3://aegovan-data/chemprot_adversarial/202212271345/affablepositives/train_767_210_0.json {'UniquePositives': 210, 'AllPositives': 210, 'AffablePositives': 0, 'AffablePositiveRate': 0.0, 'UniquePositiveSampleRate': 0.2737940026075619, 'PositiveSampleRate': 0.2737940026075619, 'UniqueNegatives': 557, 'AllNegatives': 557, 'AffableNegatives': 0, 'AffableNegativeRate': 0.0, 'UniqueNonAdversarialNegatives': 557, 'AllNonAdversarialNegatives': 557, 'UniqueAdversarialNegatives': 0, 'AllAdversarialNegatives': 0, 'AdversarialRate': 0.0, 'UniqueAdversarialRate': 0.0, 'TotalSize': 767, 'UniqueAbstracts': 767}\n",
      "s3://aegovan-data/chemprot_adversarial/202212271345/affablepositives/train_767_210_21.json {'UniquePositives': 189, 'AllPositives': 210, 'AffablePositives': 21, 'AffablePositiveRate': 0.1, 'UniquePositiveSampleRate': 0.24641460234680573, 'PositiveSampleRate': 0.2737940026075619, 'UniqueNegatives': 557, 'AllNegatives': 557, 'AffableNegatives': 0, 'AffableNegativeRate': 0.0, 'UniqueNonAdversarialNegatives': 557, 'AllNonAdversarialNegatives': 557, 'UniqueAdversarialNegatives': 0, 'AllAdversarialNegatives': 0, 'AdversarialRate': 0.0, 'UniqueAdversarialRate': 0.0, 'TotalSize': 767, 'UniqueAbstracts': 746}\n",
      "s3://aegovan-data/chemprot_adversarial/202212271345/affablepositives/train_767_210_42.json {'UniquePositives': 168, 'AllPositives': 210, 'AffablePositives': 42, 'AffablePositiveRate': 0.2, 'UniquePositiveSampleRate': 0.21903520208604954, 'PositiveSampleRate': 0.2737940026075619, 'UniqueNegatives': 557, 'AllNegatives': 557, 'AffableNegatives': 0, 'AffableNegativeRate': 0.0, 'UniqueNonAdversarialNegatives': 557, 'AllNonAdversarialNegatives': 557, 'UniqueAdversarialNegatives': 0, 'AllAdversarialNegatives': 0, 'AdversarialRate': 0.0, 'UniqueAdversarialRate': 0.0, 'TotalSize': 767, 'UniqueAbstracts': 725}\n",
      "s3://aegovan-data/chemprot_adversarial/202212271345/affablepositives/train_767_210_63.json {'UniquePositives': 147, 'AllPositives': 210, 'AffablePositives': 63, 'AffablePositiveRate': 0.3, 'UniquePositiveSampleRate': 0.19165580182529335, 'PositiveSampleRate': 0.2737940026075619, 'UniqueNegatives': 557, 'AllNegatives': 557, 'AffableNegatives': 0, 'AffableNegativeRate': 0.0, 'UniqueNonAdversarialNegatives': 557, 'AllNonAdversarialNegatives': 557, 'UniqueAdversarialNegatives': 0, 'AllAdversarialNegatives': 0, 'AdversarialRate': 0.0, 'UniqueAdversarialRate': 0.0, 'TotalSize': 767, 'UniqueAbstracts': 704}\n",
      "s3://aegovan-data/chemprot_adversarial/202212271345/affablepositives/train_767_210_84.json {'UniquePositives': 126, 'AllPositives': 210, 'AffablePositives': 84, 'AffablePositiveRate': 0.4, 'UniquePositiveSampleRate': 0.16427640156453716, 'PositiveSampleRate': 0.2737940026075619, 'UniqueNegatives': 557, 'AllNegatives': 557, 'AffableNegatives': 0, 'AffableNegativeRate': 0.0, 'UniqueNonAdversarialNegatives': 557, 'AllNonAdversarialNegatives': 557, 'UniqueAdversarialNegatives': 0, 'AllAdversarialNegatives': 0, 'AdversarialRate': 0.0, 'UniqueAdversarialRate': 0.0, 'TotalSize': 767, 'UniqueAbstracts': 683}\n",
      "s3://aegovan-data/chemprot_adversarial/202212271345/affablepositives/train_767_210_105.json {'UniquePositives': 105, 'AllPositives': 210, 'AffablePositives': 105, 'AffablePositiveRate': 0.5, 'UniquePositiveSampleRate': 0.13689700130378096, 'PositiveSampleRate': 0.2737940026075619, 'UniqueNegatives': 557, 'AllNegatives': 557, 'AffableNegatives': 0, 'AffableNegativeRate': 0.0, 'UniqueNonAdversarialNegatives': 557, 'AllNonAdversarialNegatives': 557, 'UniqueAdversarialNegatives': 0, 'AllAdversarialNegatives': 0, 'AdversarialRate': 0.0, 'UniqueAdversarialRate': 0.0, 'TotalSize': 767, 'UniqueAbstracts': 662}\n",
      "s3://aegovan-data/chemprot_adversarial/202212271345/affablepositives/train_767_210_126.json {'UniquePositives': 84, 'AllPositives': 210, 'AffablePositives': 126, 'AffablePositiveRate': 0.6, 'UniquePositiveSampleRate': 0.10951760104302477, 'PositiveSampleRate': 0.2737940026075619, 'UniqueNegatives': 557, 'AllNegatives': 557, 'AffableNegatives': 0, 'AffableNegativeRate': 0.0, 'UniqueNonAdversarialNegatives': 557, 'AllNonAdversarialNegatives': 557, 'UniqueAdversarialNegatives': 0, 'AllAdversarialNegatives': 0, 'AdversarialRate': 0.0, 'UniqueAdversarialRate': 0.0, 'TotalSize': 767, 'UniqueAbstracts': 641}\n",
      "s3://aegovan-data/chemprot_adversarial/202212271345/affablepositives/train_767_210_147.json {'UniquePositives': 63, 'AllPositives': 210, 'AffablePositives': 147, 'AffablePositiveRate': 0.7, 'UniquePositiveSampleRate': 0.08213820078226858, 'PositiveSampleRate': 0.2737940026075619, 'UniqueNegatives': 557, 'AllNegatives': 557, 'AffableNegatives': 0, 'AffableNegativeRate': 0.0, 'UniqueNonAdversarialNegatives': 557, 'AllNonAdversarialNegatives': 557, 'UniqueAdversarialNegatives': 0, 'AllAdversarialNegatives': 0, 'AdversarialRate': 0.0, 'UniqueAdversarialRate': 0.0, 'TotalSize': 767, 'UniqueAbstracts': 620}\n"
     ]
    },
    {
     "data": {
      "image/png": "[encoded data removed]",
      "text/plain": [
       "<Figure size 432x288 with 1 Axes>"
      ]
     },
     "metadata": {
      "needs_background": "light"
     },
     "output_type": "display_data"
    },
    {
     "data": {
      "image/png": "[encoded data removed]",
      "text/plain": [
       "<Figure size 432x288 with 1 Axes>"
      ]
     },
     "metadata": {
      "needs_background": "light"
     },
     "output_type": "display_data"
    }
   ],
   "source": [
    "def mixmatch_training_data_affable_positives(df, affability_rate, pos_label):\n",
    "    \n",
    "    assert df.index.nunique() == len(df), \"Expect unique indices\"\n",
    "    \n",
    "    stats = {}\n",
    "    \n",
    "    # Positive samples\n",
    "    df_positive_unique = df.query(f\"label == '{pos_label}'\").drop_duplicates('abstract_id')\n",
    "    df_positive_unique_all = df.query(f\"label == '{pos_label}'\")\n",
    "    \n",
    "    # Abstract ids with corresponding positive samples\n",
    "    abstracts_id_with_positive = df[\"abstract_id\"].isin( df.query(f\"label == '{pos_label}'\")[\"abstract_id\"])\n",
    "    \n",
    "    # Non-Adversarial Negative: Unique negative samples unrelated to positive samples\n",
    "    df_negative_non_adverseries_unique = df[~abstracts_id_with_positive].drop_duplicates('abstract_id')\n",
    "    \n",
    "    df_negative_non_adverseries_all = df[~abstracts_id_with_positive]\n",
    "    \n",
    "    \n",
    "    df_negative_non_adverseries_affable = pd.DataFrame()\n",
    "    \n",
    "    affability_size = int(len(df_positive_unique)  * affability_rate)\n",
    "    if affability_rate > 0:\n",
    "        drop_indices = np.random.choice(df_positive_unique.index, affability_size, replace=False)\n",
    "      \n",
    "        df_positive_unique = df_positive_unique.drop(drop_indices).copy()\n",
    "        \n",
    "        # Remove the ones that are in non-unique, i.e. affable\n",
    "        df_positive_affable_not_in_unique = df_positive_unique_all[~df_positive_unique_all.index.isin(df_positive_unique.index)]\n",
    "        df_positive_affable = df_positive_affable_not_in_unique[df_positive_affable_not_in_unique[\"abstract_id\"]\\\n",
    "                                                                              .isin(df_positive_unique[\"abstract_id\"]\n",
    "                                                                                   \n",
    "                                                                                   )]\n",
    "\n",
    "\n",
    "        \n",
    "        df_positive_affable = df_positive_affable.sample(n=affability_size).copy()\n",
    "        \n",
    "       \n",
    "    else:\n",
    "        # Empty adversarial unique\n",
    "        df_positive_affable = pd.DataFrame()\n",
    "     \n",
    "    \n",
    "    final_data = pd.concat([df_positive_unique, \n",
    "                            df_negative_non_adverseries_unique, \n",
    "                            df_positive_affable]).reset_index()\n",
    "    \n",
    "    final_data = final_data.pipe( update_label, pos_label)\n",
    "    return final_data\n",
    "\n",
    "\n",
    "def create_affable_positives_and_upload_to_s3(df, s3_uri_base, pos_label):\n",
    "    \n",
    "\n",
    "    stats = []\n",
    "    for i in range(0, 8):\n",
    "\n",
    "        df_train_data = mixmatch_training_data_affable_positives(df, affability_rate=i/10, pos_label=pos_label)  \n",
    "        stat = get_stats(df_train_data, pos_label=1)\n",
    "        stats.append(stat )\n",
    "        \n",
    "        \n",
    "        s3_uri = \"{}/affablepositives/{}\".format( s3_uri_base.rstrip(\"/\"), f'train_{stat[\"TotalSize\"]}_{stat[\"AllPositives\"]}_{stat[\"AffablePositives\"]}.json')\n",
    "        print(s3_uri, stat )\n",
    "        \n",
    "        upload_to_s3(df_train_data, s3_uri)\n",
    "\n",
    "        \n",
    "\n",
    "    \n",
    "    pd.DataFrame(stats)[[ \"TotalSize\", \"UniquePositives\", \"AllPositives\",\n",
    "                         \"UniqueNonAdversarialNegatives\", \"AllNonAdversarialNegatives\",\n",
    "                          \"UniqueAdversarialNegatives\", \"AllAdversarialNegatives\", \"AffableNegatives\", \"AffablePositives\"\n",
    "                       ,\"UniqueAbstracts\" ]].plot.line()\n",
    "    pd.DataFrame(stats)[[\"PositiveSampleRate\", \"AdversarialRate\", \"AffablePositiveRate\"]].plot.line()\n",
    "    \n",
    "\n",
    "\n",
    "\n",
    "create_affable_positives_and_upload_to_s3(df, output_data,  \"CPR:3\")\n",
    "\n"
   ]
  },
  {
   "cell_type": "code",
   "execution_count": 20,
   "id": "8b780edd",
   "metadata": {},
   "outputs": [
    {
     "data": {
      "text/html": [
       "<div>\n",
       "<style scoped>\n",
       "    .dataframe tbody tr th:only-of-type {\n",
       "        vertical-align: middle;\n",
       "    }\n",
       "\n",
       "    .dataframe tbody tr th {\n",
       "        vertical-align: top;\n",
       "    }\n",
       "\n",
       "    .dataframe thead th {\n",
       "        text-align: right;\n",
       "    }\n",
       "</style>\n",
       "<table border=\"1\" class=\"dataframe\">\n",
       "  <thead>\n",
       "    <tr style=\"text-align: right;\">\n",
       "      <th></th>\n",
       "      <th>abstract_id</th>\n",
       "      <th>abstract</th>\n",
       "      <th>participant1_id</th>\n",
       "      <th>participant1</th>\n",
       "      <th>participant2_id</th>\n",
       "      <th>participant2</th>\n",
       "      <th>annotations</th>\n",
       "      <th>relationship_type</th>\n",
       "      <th>relationship_group</th>\n",
       "      <th>is_eval</th>\n",
       "      <th>label</th>\n",
       "    </tr>\n",
       "  </thead>\n",
       "  <tbody>\n",
       "    <tr>\n",
       "      <th>0</th>\n",
       "      <td>10076535</td>\n",
       "      <td>Androgen antagonistic effect of estramustine p...</td>\n",
       "      <td>T23</td>\n",
       "      <td>{'abstract_id': '10076535', 'id': 'T23', 'enti...</td>\n",
       "      <td>T55</td>\n",
       "      <td>{'abstract_id': '10076535', 'id': 'T55', 'enti...</td>\n",
       "      <td>[{'abstract_id': '10076535', 'id': 'T10', 'ent...</td>\n",
       "      <td>DIRECT-REGULATOR</td>\n",
       "      <td>CPR:2</td>\n",
       "      <td>N</td>\n",
       "      <td>NEGATIVE</td>\n",
       "    </tr>\n",
       "    <tr>\n",
       "      <th>1</th>\n",
       "      <td>10076535</td>\n",
       "      <td>Androgen antagonistic effect of estramustine p...</td>\n",
       "      <td>T2</td>\n",
       "      <td>{'abstract_id': '10076535', 'id': 'T2', 'entit...</td>\n",
       "      <td>T48</td>\n",
       "      <td>{'abstract_id': '10076535', 'id': 'T48', 'enti...</td>\n",
       "      <td>[{'abstract_id': '10076535', 'id': 'T10', 'ent...</td>\n",
       "      <td>DIRECT-REGULATOR</td>\n",
       "      <td>CPR:2</td>\n",
       "      <td>N</td>\n",
       "      <td>NEGATIVE</td>\n",
       "    </tr>\n",
       "    <tr>\n",
       "      <th>2</th>\n",
       "      <td>10076535</td>\n",
       "      <td>Androgen antagonistic effect of estramustine p...</td>\n",
       "      <td>T3</td>\n",
       "      <td>{'abstract_id': '10076535', 'id': 'T3', 'entit...</td>\n",
       "      <td>T48</td>\n",
       "      <td>{'abstract_id': '10076535', 'id': 'T48', 'enti...</td>\n",
       "      <td>[{'abstract_id': '10076535', 'id': 'T10', 'ent...</td>\n",
       "      <td>DIRECT-REGULATOR</td>\n",
       "      <td>CPR:2</td>\n",
       "      <td>N</td>\n",
       "      <td>NEGATIVE</td>\n",
       "    </tr>\n",
       "    <tr>\n",
       "      <th>3</th>\n",
       "      <td>10076535</td>\n",
       "      <td>Androgen antagonistic effect of estramustine p...</td>\n",
       "      <td>T4</td>\n",
       "      <td>{'abstract_id': '10076535', 'id': 'T4', 'entit...</td>\n",
       "      <td>T48</td>\n",
       "      <td>{'abstract_id': '10076535', 'id': 'T48', 'enti...</td>\n",
       "      <td>[{'abstract_id': '10076535', 'id': 'T10', 'ent...</td>\n",
       "      <td>DIRECT-REGULATOR</td>\n",
       "      <td>CPR:2</td>\n",
       "      <td>N</td>\n",
       "      <td>NEGATIVE</td>\n",
       "    </tr>\n",
       "    <tr>\n",
       "      <th>4</th>\n",
       "      <td>10076535</td>\n",
       "      <td>Androgen antagonistic effect of estramustine p...</td>\n",
       "      <td>T23</td>\n",
       "      <td>{'abstract_id': '10076535', 'id': 'T23', 'enti...</td>\n",
       "      <td>T56</td>\n",
       "      <td>{'abstract_id': '10076535', 'id': 'T56', 'enti...</td>\n",
       "      <td>[{'abstract_id': '10076535', 'id': 'T10', 'ent...</td>\n",
       "      <td>INDIRECT-UPREGULATOR</td>\n",
       "      <td>CPR:3</td>\n",
       "      <td>Y</td>\n",
       "      <td>CPR:3</td>\n",
       "    </tr>\n",
       "  </tbody>\n",
       "</table>\n",
       "</div>"
      ],
      "text/plain": [
       "   abstract_id                                           abstract  \\\n",
       "0     10076535  Androgen antagonistic effect of estramustine p...   \n",
       "1     10076535  Androgen antagonistic effect of estramustine p...   \n",
       "2     10076535  Androgen antagonistic effect of estramustine p...   \n",
       "3     10076535  Androgen antagonistic effect of estramustine p...   \n",
       "4     10076535  Androgen antagonistic effect of estramustine p...   \n",
       "\n",
       "  participant1_id                                       participant1  \\\n",
       "0             T23  {'abstract_id': '10076535', 'id': 'T23', 'enti...   \n",
       "1              T2  {'abstract_id': '10076535', 'id': 'T2', 'entit...   \n",
       "2              T3  {'abstract_id': '10076535', 'id': 'T3', 'entit...   \n",
       "3              T4  {'abstract_id': '10076535', 'id': 'T4', 'entit...   \n",
       "4             T23  {'abstract_id': '10076535', 'id': 'T23', 'enti...   \n",
       "\n",
       "  participant2_id                                       participant2  \\\n",
       "0             T55  {'abstract_id': '10076535', 'id': 'T55', 'enti...   \n",
       "1             T48  {'abstract_id': '10076535', 'id': 'T48', 'enti...   \n",
       "2             T48  {'abstract_id': '10076535', 'id': 'T48', 'enti...   \n",
       "3             T48  {'abstract_id': '10076535', 'id': 'T48', 'enti...   \n",
       "4             T56  {'abstract_id': '10076535', 'id': 'T56', 'enti...   \n",
       "\n",
       "                                         annotations     relationship_type  \\\n",
       "0  [{'abstract_id': '10076535', 'id': 'T10', 'ent...      DIRECT-REGULATOR   \n",
       "1  [{'abstract_id': '10076535', 'id': 'T10', 'ent...      DIRECT-REGULATOR   \n",
       "2  [{'abstract_id': '10076535', 'id': 'T10', 'ent...      DIRECT-REGULATOR   \n",
       "3  [{'abstract_id': '10076535', 'id': 'T10', 'ent...      DIRECT-REGULATOR   \n",
       "4  [{'abstract_id': '10076535', 'id': 'T10', 'ent...  INDIRECT-UPREGULATOR   \n",
       "\n",
       "  relationship_group is_eval     label  \n",
       "0              CPR:2       N  NEGATIVE  \n",
       "1              CPR:2       N  NEGATIVE  \n",
       "2              CPR:2       N  NEGATIVE  \n",
       "3              CPR:2       N  NEGATIVE  \n",
       "4              CPR:3       Y     CPR:3  "
      ]
     },
     "execution_count": 20,
     "metadata": {},
     "output_type": "execute_result"
    }
   ],
   "source": [
    "pd.read_json( io.StringIO(sagemaker.s3.S3Downloader.read_file(test_data))).head()"
   ]
  },
  {
   "cell_type": "code",
   "execution_count": 21,
   "id": "7fda4f18",
   "metadata": {},
   "outputs": [
    {
     "data": {
      "text/plain": [
       "0    5077\n",
       "1     667\n",
       "Name: label, dtype: int64"
      ]
     },
     "execution_count": 21,
     "metadata": {},
     "output_type": "execute_result"
    }
   ],
   "source": [
    "update_label(pd.read_json( io.StringIO(sagemaker.s3.S3Downloader.read_file(test_data)))\n",
    "            , \"CPR:3\"\n",
    "            )[\"label\"].value_counts()"
   ]
  },
  {
   "cell_type": "code",
   "execution_count": 22,
   "id": "66700de6",
   "metadata": {},
   "outputs": [
    {
     "data": {
      "text/plain": [
       "0    3006\n",
       "1     552\n",
       "Name: label, dtype: int64"
      ]
     },
     "execution_count": 22,
     "metadata": {},
     "output_type": "execute_result"
    }
   ],
   "source": [
    "update_label(pd.read_json( io.StringIO(sagemaker.s3.S3Downloader.read_file(val_data)))\n",
    "            , \"CPR:3\"\n",
    "            )[\"label\"].value_counts()"
   ]
  },
  {
   "cell_type": "code",
   "execution_count": 23,
   "id": "5b2109e2",
   "metadata": {},
   "outputs": [],
   "source": [
    "update_label_upload_s3( pd.read_json( io.StringIO(sagemaker.s3.S3Downloader.read_file(test_data))),output_data, \"CPR:3\", test_data.split(\"/\")[-1])\n",
    "update_label_upload_s3( pd.read_json( io.StringIO(sagemaker.s3.S3Downloader.read_file(val_data))), output_data, \"CPR:3\", val_data.split(\"/\")[-1] )\n",
    "\n"
   ]
  },
  {
   "cell_type": "markdown",
   "id": "aadc3bbe",
   "metadata": {},
   "source": [
    " Start with random base sample pos = 1000\n",
    "  drate = 0\n",
    "= 1000 p + 2000 negative [3000, drate 0, 33% positive rate]\n",
    "\n",
    "= 1000 p + 1700 + 300 derived             [3000, .10, 33% positive rate]\n",
    "\n",
    "= 1000 p + 1400 + 600 dervied   [3000, .20, 33% positive rate]\n",
    "\n",
    "= 1000 p + 1100 + 900 dervied   [3000, .30, 33% positive rate]\n",
    "\n",
    "= 1000 p + 800 + 1200 dervied ,  [ .40]\n",
    "\n",
    "= 1000 p + 500 + 1500, dervied ,  [ .50]\n",
    "\n",
    "= 1000 p +  0 + 2000 dervied ,  [ 1]\n",
    "\n",
    "= "
   ]
  },
  {
   "cell_type": "markdown",
   "id": "8791bd88",
   "metadata": {},
   "source": [
    "\n",
    "\n",
    "Discrimintory strength rate for label p = derived samples  that change base label p / base labels for p\n",
    "\n",
    "similarity rate  = derived samples that do not change the label / total sample = 0\n"
   ]
  }
 ],
 "metadata": {
  "kernelspec": {
   "display_name": "Python 3 (ipykernel)",
   "language": "python",
   "name": "python3"
  },
  "language_info": {
   "codemirror_mode": {
    "name": "ipython",
    "version": 3
   },
   "file_extension": ".py",
   "mimetype": "text/x-python",
   "name": "python",
   "nbconvert_exporter": "python",
   "pygments_lexer": "ipython3",
   "version": "3.7.9"
  }
 },
 "nbformat": 4,
 "nbformat_minor": 5
}